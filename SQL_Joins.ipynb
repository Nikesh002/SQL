{
  "cells": [
    {
      "attachments": {},
      "cell_type": "markdown",
      "metadata": {
        "id": "JA048VlqdigI"
      },
      "source": [
        "<h1><center><u><b>Join Queries</h1></center></u></b>"
      ]
    },
    {
      "attachments": {},
      "cell_type": "markdown",
      "metadata": {
        "id": "_LnWX4SR_9eu"
      },
      "source": [
        "![](https://3.bp.blogspot.com/-T3AF_1dtm8o/We25HQL809I/AAAAAAAAA2E/tKsbZGd2Ev0woezzYxiKBUIGGNkXYKAlQCLcBGAs/s1600/sql-joins.png)"
      ]
    },
    {
      "attachments": {},
      "cell_type": "markdown",
      "metadata": {
        "id": "qAvj3GYv1HSh"
      },
      "source": [
        "### **DATABASE CREATION AND CONNECTING IT**\n",
        "\n",
        "#### **Just run next 4 cells**"
      ]
    },
    {
      "cell_type": "code",
      "execution_count": 1,
      "metadata": {
        "colab": {
          "base_uri": "https://localhost:8080/"
        },
        "id": "IeRz-Vm-A6-K",
        "outputId": "f102bc60-ea02-46a1-86c2-af68f533b84e"
      },
      "outputs": [
        {
          "name": "stdout",
          "output_type": "stream",
          "text": [
            "Looking in indexes: https://pypi.org/simple, https://us-python.pkg.dev/colab-wheels/public/simple/\n",
            "Collecting SQLAlchemy==1.4.46\n",
            "  Downloading SQLAlchemy-1.4.46-cp39-cp39-manylinux_2_5_x86_64.manylinux1_x86_64.manylinux_2_17_x86_64.manylinux2014_x86_64.whl (1.6 MB)\n",
            "\u001b[2K     \u001b[90m━━━━━━━━━━━━━━━━━━━━━━━━━━━━━━━━━━━━━━━━\u001b[0m \u001b[32m1.6/1.6 MB\u001b[0m \u001b[31m11.8 MB/s\u001b[0m eta \u001b[36m0:00:00\u001b[0m\n",
            "\u001b[?25hRequirement already satisfied: greenlet!=0.4.17 in /usr/local/lib/python3.9/dist-packages (from SQLAlchemy==1.4.46) (2.0.2)\n",
            "Installing collected packages: SQLAlchemy\n",
            "  Attempting uninstall: SQLAlchemy\n",
            "    Found existing installation: SQLAlchemy 2.0.9\n",
            "    Uninstalling SQLAlchemy-2.0.9:\n",
            "      Successfully uninstalled SQLAlchemy-2.0.9\n",
            "Successfully installed SQLAlchemy-1.4.46\n"
          ]
        }
      ],
      "source": [
        "!pip install SQLAlchemy==1.4.46"
      ]
    },
    {
      "cell_type": "code",
      "execution_count": 2,
      "metadata": {
        "id": "pSVR3XN50_Q5"
      },
      "outputs": [],
      "source": [
        "## JUST RUN THIS CELL\n",
        "import sqlite3\n",
        "import pandas as pd "
      ]
    },
    {
      "cell_type": "code",
      "execution_count": 3,
      "metadata": {
        "id": "Yc6zqeuo0_RB"
      },
      "outputs": [],
      "source": [
        "# run this to create and connect to database\n",
        "connection = sqlite3.connect('cloud1.db')"
      ]
    },
    {
      "cell_type": "code",
      "execution_count": 4,
      "metadata": {
        "id": "hTsXWV2E0_RC"
      },
      "outputs": [],
      "source": [
        "%load_ext sql"
      ]
    },
    {
      "cell_type": "code",
      "execution_count": 5,
      "metadata": {
        "id": "Bz9xo4du0_RD"
      },
      "outputs": [],
      "source": [
        "# connecting to cloud.db\n",
        "%%sql sqlite:///cloud1.db"
      ]
    },
    {
      "attachments": {},
      "cell_type": "markdown",
      "metadata": {
        "id": "2653q7v61Vlu"
      },
      "source": [
        "###**NOW WE WILL CREATE TABLES AND INSERT DATA**\n",
        "##### **RUN NEXT 8 CELLS TO CREATE TABLE AND INSERT DATA**\n"
      ]
    },
    {
      "cell_type": "code",
      "execution_count": 6,
      "metadata": {
        "colab": {
          "base_uri": "https://localhost:8080/"
        },
        "id": "ZaSOfNwF0_RD",
        "outputId": "b6551a11-e826-4ab3-e241-8bd4dcba4631",
        "scrolled": true
      },
      "outputs": [
        {
          "name": "stdout",
          "output_type": "stream",
          "text": [
            " * sqlite:///cloud1.db\n",
            "Done.\n"
          ]
        },
        {
          "data": {
            "text/plain": [
              "[]"
            ]
          },
          "execution_count": 6,
          "metadata": {},
          "output_type": "execute_result"
        }
      ],
      "source": [
        "%%sql\n",
        "\n",
        "CREATE table album (id int(16), artist_id int(25), name varchar(100), year int(10))"
      ]
    },
    {
      "cell_type": "code",
      "execution_count": 7,
      "metadata": {
        "colab": {
          "base_uri": "https://localhost:8080/"
        },
        "id": "dxFAHUCT0_RG",
        "outputId": "4ce72b4f-e136-4875-809d-eb364fa31cbd"
      },
      "outputs": [
        {
          "name": "stdout",
          "output_type": "stream",
          "text": [
            " * sqlite:///cloud1.db\n",
            "13 rows affected.\n"
          ]
        },
        {
          "data": {
            "text/plain": [
              "[]"
            ]
          },
          "execution_count": 7,
          "metadata": {},
          "output_type": "execute_result"
        }
      ],
      "source": [
        "%%sql\n",
        "INSERT INTO album (id, artist_id, name, year) VALUES(1,\t1, 'Devils got a new disguise', 2006),\n",
        "(2,1,'Keeps getting better',2008),(3,\t1,'Master of Puppets',1986),(4,\t2,'Endgame',2009),\n",
        "(5,\t2,'Icon',2012),(6,3,'Story',2000),(7,4,'Chapters',2003),\n",
        "(8,4,'Riding with the King',2000),(9,5,'Pieces of a Dream',2005),(10,6,'Greatest Hits',2004),\n",
        "(11,7,'All-Time Greatest Hits',1975),(12,8,'Greatest Hits',1983),(13,9,\"Ultimate Collection\",2015)\n"
      ]
    },
    {
      "cell_type": "code",
      "execution_count": 8,
      "metadata": {
        "colab": {
          "base_uri": "https://localhost:8080/"
        },
        "id": "4qvzrPlL3RQE",
        "outputId": "66d3281e-5336-4f26-9f68-1026d1a164a1"
      },
      "outputs": [
        {
          "name": "stdout",
          "output_type": "stream",
          "text": [
            " * sqlite:///cloud1.db\n",
            "Done.\n"
          ]
        },
        {
          "data": {
            "text/plain": [
              "[]"
            ]
          },
          "execution_count": 8,
          "metadata": {},
          "output_type": "execute_result"
        }
      ],
      "source": [
        "%%sql\n",
        "\n",
        "CREATE table song (id int(10), album_id int(50), name varchar(50), duration float(20))"
      ]
    },
    {
      "cell_type": "code",
      "execution_count": 9,
      "metadata": {
        "colab": {
          "base_uri": "https://localhost:8080/"
        },
        "id": "4JNXD3mr3xO9",
        "outputId": "c4ee845c-eec7-45b5-b63b-2c1112467666"
      },
      "outputs": [
        {
          "name": "stdout",
          "output_type": "stream",
          "text": [
            " * sqlite:///cloud1.db\n",
            "37 rows affected.\n"
          ]
        },
        {
          "data": {
            "text/plain": [
              "[]"
            ]
          },
          "execution_count": 9,
          "metadata": {},
          "output_type": "execute_result"
        }
      ],
      "source": [
        "%%sql\n",
        "INSERT INTO song (id, album_id, name, duration) VALUES(1,1,'Dream On',4.26),(2,1,'Back in the Saddle',4.40),\n",
        "(3,2,'Genie in a Bottle',5.3),(4,2,'Beautiful',5.29),(5,3,'Master of Puppets',8.35),\n",
        "(6,3,'Battery',5.13),(7,4,'Dialectic Chaos',2.26),(8,4,'Endgame',5.57),(9,5,'Watching Airplanes',4.03),\n",
        "(10,5,'Man to Man',3.41),(11,6,'Balck Winter Day',3.48),(12,6,'Against Widows',4.04),(13,7,'Reptile',3.36),\n",
        "(14,7,'Modern Girl',4.49),(15,8,'Riding with the King',4.23),(16,8,'Key to the Highway',3.39),\n",
        "(17,9,'Im Outta Love',4.02),(18,9,'Not That Kind',3.20),(19,10,'Eruption',1.43),(20,10,'Hot For Teacher',4.43),\n",
        "(21,11,'Sweet Home Alabama',4.45),(22,11,'Free Bird',14.23),(23,12,'Thunderstruck',4.52),(24,12,'T.N.T',3.35),\n",
        "(25,13,\"Sgt. Pepper's Lonely Hearts Club Band\",2.0333),(26,13,'With a Little Help from My Friends',2.7333),\n",
        "(27,13,'Lucy in the Sky with Diamonds',3.4666),(28,13,'Getting Better',2.8),(29,13,'Fixing a Hole',2.6),\n",
        "(30,13,\"She's Leaving Home\",3.5833),(31,13,'Being for the Benefit of Mr. Kite!',2.6166),\n",
        "(32,13,'Within You Without You',5.066),(33,13,\"When I'm Sixty-Four\",2.6166),(34,13,'Lovely Rita',2.7),\n",
        "(35,13,'Good Morning Good Morning',2.6833),(36,13,\"Sgt. Pepper's Lonely Hearts Club Band (Reprise)\",1.3166),(37,13,'A Day in the Life',5.65)\n"
      ]
    },
    {
      "cell_type": "code",
      "execution_count": 10,
      "metadata": {
        "colab": {
          "base_uri": "https://localhost:8080/"
        },
        "id": "iHmiCApdbo7v",
        "outputId": "a79d3df4-a857-4a11-bcde-bcda812d5848"
      },
      "outputs": [
        {
          "name": "stdout",
          "output_type": "stream",
          "text": [
            " * sqlite:///cloud1.db\n",
            "Done.\n"
          ]
        },
        {
          "data": {
            "text/plain": [
              "[]"
            ]
          },
          "execution_count": 10,
          "metadata": {},
          "output_type": "execute_result"
        }
      ],
      "source": [
        "%%sql\n",
        "\n",
        "CREATE table record_label (id int(10), name varchar(50))"
      ]
    },
    {
      "cell_type": "code",
      "execution_count": 11,
      "metadata": {
        "colab": {
          "base_uri": "https://localhost:8080/"
        },
        "id": "rCmwdRhgb3Iv",
        "outputId": "b3dea5b4-35ae-4048-d241-2508c60bd79d"
      },
      "outputs": [
        {
          "name": "stdout",
          "output_type": "stream",
          "text": [
            " * sqlite:///cloud1.db\n",
            "6 rows affected.\n"
          ]
        },
        {
          "data": {
            "text/plain": [
              "[]"
            ]
          },
          "execution_count": 11,
          "metadata": {},
          "output_type": "execute_result"
        }
      ],
      "source": [
        "%%sql\n",
        "INSERT INTO record_label (id, name) VALUES(1,'Blackened'),\n",
        "(6,'Capitol'),\n",
        "(5,'Elektra'),\n",
        "(4,'MCA'),\n",
        "(3,'Universal'),\n",
        "(2,'Warner Bros')\n"
      ]
    },
    {
      "cell_type": "code",
      "execution_count": 12,
      "metadata": {
        "colab": {
          "base_uri": "https://localhost:8080/"
        },
        "id": "fGAevredcY6q",
        "outputId": "8d40bb1c-fc60-4b87-ee46-cc35df2e3401"
      },
      "outputs": [
        {
          "name": "stdout",
          "output_type": "stream",
          "text": [
            " * sqlite:///cloud1.db\n",
            "Done.\n"
          ]
        },
        {
          "data": {
            "text/plain": [
              "[]"
            ]
          },
          "execution_count": 12,
          "metadata": {},
          "output_type": "execute_result"
        }
      ],
      "source": [
        "%%sql\n",
        "\n",
        "CREATE table artist (id int(10), record_label_id int(10), name varchar(50))"
      ]
    },
    {
      "cell_type": "code",
      "execution_count": 13,
      "metadata": {
        "colab": {
          "base_uri": "https://localhost:8080/"
        },
        "id": "QC17GQnXck0y",
        "outputId": "c53e5cfa-c437-443c-9255-7e762be85659"
      },
      "outputs": [
        {
          "name": "stdout",
          "output_type": "stream",
          "text": [
            " * sqlite:///cloud1.db\n",
            "9 rows affected.\n"
          ]
        },
        {
          "data": {
            "text/plain": [
              "[]"
            ]
          },
          "execution_count": 13,
          "metadata": {},
          "output_type": "execute_result"
        }
      ],
      "source": [
        "%%sql\n",
        "INSERT INTO artist (id, record_label_id, name) VALUES(3,1,'Anthrax'),\n",
        "(2,1,'Christina'),\n",
        "(1,1,'Aerosmith'),\n",
        "(4,2,'Eric Clapton'),\n",
        "(6,2,'Amorphis'),\n",
        "(5,2,'Gary Allan'),\n",
        "(8,3,'AC/DC'),\n",
        "(7,3,'Lynyrd Skynyrd'),\n",
        "(9,6,'Anastacia')\n",
        "\n"
      ]
    },
    {
      "attachments": {},
      "cell_type": "markdown",
      "metadata": {
        "id": "sYJg8z7R0_RR"
      },
      "source": [
        "### **`refer this link to know about joins:`**\n",
        "https://www.w3schools.com/sql/sql_join.asp\n",
        "\n",
        "### **`refer this link to know more on how to join 3 or more tables :`**\n",
        "https://learnsql.com/blog/how-to-join-3-tables-or-more-in-sql/\n",
        "\n",
        "\n",
        "### **`refer this link to know about inner join :`**\n",
        "https://www.w3schools.com/sql/sql_join_inner.asp\n",
        "\n",
        "### **`refer this link to know about left join :`**\n",
        "https://www.w3schools.com/sql/sql_join_left.asp\n",
        "\n",
        "### **`refer this link to know about right join :`**\n",
        "https://www.w3schools.com/sql/sql_join_right.asp\n",
        "\n",
        "### **`refer this link to know about full join :`**\n",
        "https://www.w3schools.com/sql/sql_join_full.asp\n",
        "\n",
        "### **`refer this link to know about self join :`**\n",
        "https://www.w3schools.com/sql/sql_join_self.asp"
      ]
    },
    {
      "attachments": {},
      "cell_type": "markdown",
      "metadata": {
        "id": "Cjz-hmPTT4Cf"
      },
      "source": [
        "## **Great.... Now You Are Ready To Apply Learnings On Tables We Created**"
      ]
    },
    {
      "attachments": {},
      "cell_type": "markdown",
      "metadata": {
        "id": "w5ts0yBG0_RS"
      },
      "source": [
        "<b>1.Show all the 4 tables(album, song, record label and artist)</b>"
      ]
    },
    {
      "cell_type": "code",
      "execution_count": 14,
      "metadata": {
        "colab": {
          "base_uri": "https://localhost:8080/",
          "height": 353
        },
        "id": "Fs28qJyg0_RS",
        "outputId": "4bf4500e-bd9b-48ac-e8f9-31ae2c7a834c"
      },
      "outputs": [
        {
          "name": "stdout",
          "output_type": "stream",
          "text": [
            " * sqlite:///cloud1.db\n",
            "Done.\n"
          ]
        },
        {
          "data": {
            "text/html": [
              "<table>\n",
              "    <tr>\n",
              "        <th>id</th>\n",
              "        <th>artist_id</th>\n",
              "        <th>name</th>\n",
              "        <th>year</th>\n",
              "    </tr>\n",
              "    <tr>\n",
              "        <td>1</td>\n",
              "        <td>1</td>\n",
              "        <td>Devils got a new disguise</td>\n",
              "        <td>2006</td>\n",
              "    </tr>\n",
              "    <tr>\n",
              "        <td>2</td>\n",
              "        <td>1</td>\n",
              "        <td>Keeps getting better</td>\n",
              "        <td>2008</td>\n",
              "    </tr>\n",
              "    <tr>\n",
              "        <td>3</td>\n",
              "        <td>1</td>\n",
              "        <td>Master of Puppets</td>\n",
              "        <td>1986</td>\n",
              "    </tr>\n",
              "    <tr>\n",
              "        <td>4</td>\n",
              "        <td>2</td>\n",
              "        <td>Endgame</td>\n",
              "        <td>2009</td>\n",
              "    </tr>\n",
              "    <tr>\n",
              "        <td>5</td>\n",
              "        <td>2</td>\n",
              "        <td>Icon</td>\n",
              "        <td>2012</td>\n",
              "    </tr>\n",
              "    <tr>\n",
              "        <td>6</td>\n",
              "        <td>3</td>\n",
              "        <td>Story</td>\n",
              "        <td>2000</td>\n",
              "    </tr>\n",
              "    <tr>\n",
              "        <td>7</td>\n",
              "        <td>4</td>\n",
              "        <td>Chapters</td>\n",
              "        <td>2003</td>\n",
              "    </tr>\n",
              "    <tr>\n",
              "        <td>8</td>\n",
              "        <td>4</td>\n",
              "        <td>Riding with the King</td>\n",
              "        <td>2000</td>\n",
              "    </tr>\n",
              "    <tr>\n",
              "        <td>9</td>\n",
              "        <td>5</td>\n",
              "        <td>Pieces of a Dream</td>\n",
              "        <td>2005</td>\n",
              "    </tr>\n",
              "    <tr>\n",
              "        <td>10</td>\n",
              "        <td>6</td>\n",
              "        <td>Greatest Hits</td>\n",
              "        <td>2004</td>\n",
              "    </tr>\n",
              "    <tr>\n",
              "        <td>11</td>\n",
              "        <td>7</td>\n",
              "        <td>All-Time Greatest Hits</td>\n",
              "        <td>1975</td>\n",
              "    </tr>\n",
              "    <tr>\n",
              "        <td>12</td>\n",
              "        <td>8</td>\n",
              "        <td>Greatest Hits</td>\n",
              "        <td>1983</td>\n",
              "    </tr>\n",
              "    <tr>\n",
              "        <td>13</td>\n",
              "        <td>9</td>\n",
              "        <td>Ultimate Collection</td>\n",
              "        <td>2015</td>\n",
              "    </tr>\n",
              "</table>"
            ],
            "text/plain": [
              "[(1, 1, 'Devils got a new disguise', 2006),\n",
              " (2, 1, 'Keeps getting better', 2008),\n",
              " (3, 1, 'Master of Puppets', 1986),\n",
              " (4, 2, 'Endgame', 2009),\n",
              " (5, 2, 'Icon', 2012),\n",
              " (6, 3, 'Story', 2000),\n",
              " (7, 4, 'Chapters', 2003),\n",
              " (8, 4, 'Riding with the King', 2000),\n",
              " (9, 5, 'Pieces of a Dream', 2005),\n",
              " (10, 6, 'Greatest Hits', 2004),\n",
              " (11, 7, 'All-Time Greatest Hits', 1975),\n",
              " (12, 8, 'Greatest Hits', 1983),\n",
              " (13, 9, 'Ultimate Collection', 2015)]"
            ]
          },
          "execution_count": 14,
          "metadata": {},
          "output_type": "execute_result"
        }
      ],
      "source": [
        "%%sql\n",
        "select * from album\n",
        "\n"
      ]
    },
    {
      "cell_type": "code",
      "execution_count": 15,
      "metadata": {
        "colab": {
          "base_uri": "https://localhost:8080/",
          "height": 866
        },
        "id": "wkZcgGCa0_RT",
        "outputId": "c8041be2-db09-4534-d65c-f37f0cebaeec",
        "scrolled": true
      },
      "outputs": [
        {
          "name": "stdout",
          "output_type": "stream",
          "text": [
            " * sqlite:///cloud1.db\n",
            "Done.\n"
          ]
        },
        {
          "data": {
            "text/html": [
              "<table>\n",
              "    <tr>\n",
              "        <th>id</th>\n",
              "        <th>album_id</th>\n",
              "        <th>name</th>\n",
              "        <th>duration</th>\n",
              "    </tr>\n",
              "    <tr>\n",
              "        <td>1</td>\n",
              "        <td>1</td>\n",
              "        <td>Dream On</td>\n",
              "        <td>4.26</td>\n",
              "    </tr>\n",
              "    <tr>\n",
              "        <td>2</td>\n",
              "        <td>1</td>\n",
              "        <td>Back in the Saddle</td>\n",
              "        <td>4.4</td>\n",
              "    </tr>\n",
              "    <tr>\n",
              "        <td>3</td>\n",
              "        <td>2</td>\n",
              "        <td>Genie in a Bottle</td>\n",
              "        <td>5.3</td>\n",
              "    </tr>\n",
              "    <tr>\n",
              "        <td>4</td>\n",
              "        <td>2</td>\n",
              "        <td>Beautiful</td>\n",
              "        <td>5.29</td>\n",
              "    </tr>\n",
              "    <tr>\n",
              "        <td>5</td>\n",
              "        <td>3</td>\n",
              "        <td>Master of Puppets</td>\n",
              "        <td>8.35</td>\n",
              "    </tr>\n",
              "    <tr>\n",
              "        <td>6</td>\n",
              "        <td>3</td>\n",
              "        <td>Battery</td>\n",
              "        <td>5.13</td>\n",
              "    </tr>\n",
              "    <tr>\n",
              "        <td>7</td>\n",
              "        <td>4</td>\n",
              "        <td>Dialectic Chaos</td>\n",
              "        <td>2.26</td>\n",
              "    </tr>\n",
              "    <tr>\n",
              "        <td>8</td>\n",
              "        <td>4</td>\n",
              "        <td>Endgame</td>\n",
              "        <td>5.57</td>\n",
              "    </tr>\n",
              "    <tr>\n",
              "        <td>9</td>\n",
              "        <td>5</td>\n",
              "        <td>Watching Airplanes</td>\n",
              "        <td>4.03</td>\n",
              "    </tr>\n",
              "    <tr>\n",
              "        <td>10</td>\n",
              "        <td>5</td>\n",
              "        <td>Man to Man</td>\n",
              "        <td>3.41</td>\n",
              "    </tr>\n",
              "    <tr>\n",
              "        <td>11</td>\n",
              "        <td>6</td>\n",
              "        <td>Balck Winter Day</td>\n",
              "        <td>3.48</td>\n",
              "    </tr>\n",
              "    <tr>\n",
              "        <td>12</td>\n",
              "        <td>6</td>\n",
              "        <td>Against Widows</td>\n",
              "        <td>4.04</td>\n",
              "    </tr>\n",
              "    <tr>\n",
              "        <td>13</td>\n",
              "        <td>7</td>\n",
              "        <td>Reptile</td>\n",
              "        <td>3.36</td>\n",
              "    </tr>\n",
              "    <tr>\n",
              "        <td>14</td>\n",
              "        <td>7</td>\n",
              "        <td>Modern Girl</td>\n",
              "        <td>4.49</td>\n",
              "    </tr>\n",
              "    <tr>\n",
              "        <td>15</td>\n",
              "        <td>8</td>\n",
              "        <td>Riding with the King</td>\n",
              "        <td>4.23</td>\n",
              "    </tr>\n",
              "    <tr>\n",
              "        <td>16</td>\n",
              "        <td>8</td>\n",
              "        <td>Key to the Highway</td>\n",
              "        <td>3.39</td>\n",
              "    </tr>\n",
              "    <tr>\n",
              "        <td>17</td>\n",
              "        <td>9</td>\n",
              "        <td>Im Outta Love</td>\n",
              "        <td>4.02</td>\n",
              "    </tr>\n",
              "    <tr>\n",
              "        <td>18</td>\n",
              "        <td>9</td>\n",
              "        <td>Not That Kind</td>\n",
              "        <td>3.2</td>\n",
              "    </tr>\n",
              "    <tr>\n",
              "        <td>19</td>\n",
              "        <td>10</td>\n",
              "        <td>Eruption</td>\n",
              "        <td>1.43</td>\n",
              "    </tr>\n",
              "    <tr>\n",
              "        <td>20</td>\n",
              "        <td>10</td>\n",
              "        <td>Hot For Teacher</td>\n",
              "        <td>4.43</td>\n",
              "    </tr>\n",
              "    <tr>\n",
              "        <td>21</td>\n",
              "        <td>11</td>\n",
              "        <td>Sweet Home Alabama</td>\n",
              "        <td>4.45</td>\n",
              "    </tr>\n",
              "    <tr>\n",
              "        <td>22</td>\n",
              "        <td>11</td>\n",
              "        <td>Free Bird</td>\n",
              "        <td>14.23</td>\n",
              "    </tr>\n",
              "    <tr>\n",
              "        <td>23</td>\n",
              "        <td>12</td>\n",
              "        <td>Thunderstruck</td>\n",
              "        <td>4.52</td>\n",
              "    </tr>\n",
              "    <tr>\n",
              "        <td>24</td>\n",
              "        <td>12</td>\n",
              "        <td>T.N.T</td>\n",
              "        <td>3.35</td>\n",
              "    </tr>\n",
              "    <tr>\n",
              "        <td>25</td>\n",
              "        <td>13</td>\n",
              "        <td>Sgt. Pepper&#x27;s Lonely Hearts Club Band</td>\n",
              "        <td>2.0333</td>\n",
              "    </tr>\n",
              "    <tr>\n",
              "        <td>26</td>\n",
              "        <td>13</td>\n",
              "        <td>With a Little Help from My Friends</td>\n",
              "        <td>2.7333</td>\n",
              "    </tr>\n",
              "    <tr>\n",
              "        <td>27</td>\n",
              "        <td>13</td>\n",
              "        <td>Lucy in the Sky with Diamonds</td>\n",
              "        <td>3.4666</td>\n",
              "    </tr>\n",
              "    <tr>\n",
              "        <td>28</td>\n",
              "        <td>13</td>\n",
              "        <td>Getting Better</td>\n",
              "        <td>2.8</td>\n",
              "    </tr>\n",
              "    <tr>\n",
              "        <td>29</td>\n",
              "        <td>13</td>\n",
              "        <td>Fixing a Hole</td>\n",
              "        <td>2.6</td>\n",
              "    </tr>\n",
              "    <tr>\n",
              "        <td>30</td>\n",
              "        <td>13</td>\n",
              "        <td>She&#x27;s Leaving Home</td>\n",
              "        <td>3.5833</td>\n",
              "    </tr>\n",
              "    <tr>\n",
              "        <td>31</td>\n",
              "        <td>13</td>\n",
              "        <td>Being for the Benefit of Mr. Kite!</td>\n",
              "        <td>2.6166</td>\n",
              "    </tr>\n",
              "    <tr>\n",
              "        <td>32</td>\n",
              "        <td>13</td>\n",
              "        <td>Within You Without You</td>\n",
              "        <td>5.066</td>\n",
              "    </tr>\n",
              "    <tr>\n",
              "        <td>33</td>\n",
              "        <td>13</td>\n",
              "        <td>When I&#x27;m Sixty-Four</td>\n",
              "        <td>2.6166</td>\n",
              "    </tr>\n",
              "    <tr>\n",
              "        <td>34</td>\n",
              "        <td>13</td>\n",
              "        <td>Lovely Rita</td>\n",
              "        <td>2.7</td>\n",
              "    </tr>\n",
              "    <tr>\n",
              "        <td>35</td>\n",
              "        <td>13</td>\n",
              "        <td>Good Morning Good Morning</td>\n",
              "        <td>2.6833</td>\n",
              "    </tr>\n",
              "    <tr>\n",
              "        <td>36</td>\n",
              "        <td>13</td>\n",
              "        <td>Sgt. Pepper&#x27;s Lonely Hearts Club Band (Reprise)</td>\n",
              "        <td>1.3166</td>\n",
              "    </tr>\n",
              "    <tr>\n",
              "        <td>37</td>\n",
              "        <td>13</td>\n",
              "        <td>A Day in the Life</td>\n",
              "        <td>5.65</td>\n",
              "    </tr>\n",
              "</table>"
            ],
            "text/plain": [
              "[(1, 1, 'Dream On', 4.26),\n",
              " (2, 1, 'Back in the Saddle', 4.4),\n",
              " (3, 2, 'Genie in a Bottle', 5.3),\n",
              " (4, 2, 'Beautiful', 5.29),\n",
              " (5, 3, 'Master of Puppets', 8.35),\n",
              " (6, 3, 'Battery', 5.13),\n",
              " (7, 4, 'Dialectic Chaos', 2.26),\n",
              " (8, 4, 'Endgame', 5.57),\n",
              " (9, 5, 'Watching Airplanes', 4.03),\n",
              " (10, 5, 'Man to Man', 3.41),\n",
              " (11, 6, 'Balck Winter Day', 3.48),\n",
              " (12, 6, 'Against Widows', 4.04),\n",
              " (13, 7, 'Reptile', 3.36),\n",
              " (14, 7, 'Modern Girl', 4.49),\n",
              " (15, 8, 'Riding with the King', 4.23),\n",
              " (16, 8, 'Key to the Highway', 3.39),\n",
              " (17, 9, 'Im Outta Love', 4.02),\n",
              " (18, 9, 'Not That Kind', 3.2),\n",
              " (19, 10, 'Eruption', 1.43),\n",
              " (20, 10, 'Hot For Teacher', 4.43),\n",
              " (21, 11, 'Sweet Home Alabama', 4.45),\n",
              " (22, 11, 'Free Bird', 14.23),\n",
              " (23, 12, 'Thunderstruck', 4.52),\n",
              " (24, 12, 'T.N.T', 3.35),\n",
              " (25, 13, \"Sgt. Pepper's Lonely Hearts Club Band\", 2.0333),\n",
              " (26, 13, 'With a Little Help from My Friends', 2.7333),\n",
              " (27, 13, 'Lucy in the Sky with Diamonds', 3.4666),\n",
              " (28, 13, 'Getting Better', 2.8),\n",
              " (29, 13, 'Fixing a Hole', 2.6),\n",
              " (30, 13, \"She's Leaving Home\", 3.5833),\n",
              " (31, 13, 'Being for the Benefit of Mr. Kite!', 2.6166),\n",
              " (32, 13, 'Within You Without You', 5.066),\n",
              " (33, 13, \"When I'm Sixty-Four\", 2.6166),\n",
              " (34, 13, 'Lovely Rita', 2.7),\n",
              " (35, 13, 'Good Morning Good Morning', 2.6833),\n",
              " (36, 13, \"Sgt. Pepper's Lonely Hearts Club Band (Reprise)\", 1.3166),\n",
              " (37, 13, 'A Day in the Life', 5.65)]"
            ]
          },
          "execution_count": 15,
          "metadata": {},
          "output_type": "execute_result"
        }
      ],
      "source": [
        "%%sql\n",
        "select * from song\n",
        "\n"
      ]
    },
    {
      "cell_type": "code",
      "execution_count": 16,
      "metadata": {
        "colab": {
          "base_uri": "https://localhost:8080/",
          "height": 203
        },
        "id": "uyIXBRqm0_RU",
        "outputId": "aca244ce-3f8b-49e3-b1c3-68b85a5503ef",
        "scrolled": true
      },
      "outputs": [
        {
          "name": "stdout",
          "output_type": "stream",
          "text": [
            " * sqlite:///cloud1.db\n",
            "Done.\n"
          ]
        },
        {
          "data": {
            "text/html": [
              "<table>\n",
              "    <tr>\n",
              "        <th>id</th>\n",
              "        <th>name</th>\n",
              "    </tr>\n",
              "    <tr>\n",
              "        <td>1</td>\n",
              "        <td>Blackened</td>\n",
              "    </tr>\n",
              "    <tr>\n",
              "        <td>6</td>\n",
              "        <td>Capitol</td>\n",
              "    </tr>\n",
              "    <tr>\n",
              "        <td>5</td>\n",
              "        <td>Elektra</td>\n",
              "    </tr>\n",
              "    <tr>\n",
              "        <td>4</td>\n",
              "        <td>MCA</td>\n",
              "    </tr>\n",
              "    <tr>\n",
              "        <td>3</td>\n",
              "        <td>Universal</td>\n",
              "    </tr>\n",
              "    <tr>\n",
              "        <td>2</td>\n",
              "        <td>Warner Bros</td>\n",
              "    </tr>\n",
              "</table>"
            ],
            "text/plain": [
              "[(1, 'Blackened'),\n",
              " (6, 'Capitol'),\n",
              " (5, 'Elektra'),\n",
              " (4, 'MCA'),\n",
              " (3, 'Universal'),\n",
              " (2, 'Warner Bros')]"
            ]
          },
          "execution_count": 16,
          "metadata": {},
          "output_type": "execute_result"
        }
      ],
      "source": [
        "%%sql\n",
        "select * from record_label\n",
        "\n"
      ]
    },
    {
      "cell_type": "code",
      "execution_count": 17,
      "metadata": {
        "colab": {
          "base_uri": "https://localhost:8080/",
          "height": 267
        },
        "id": "4TxqCQm_0_RV",
        "outputId": "e7f1ee6c-19be-4fbb-e19e-5ce0c189caff",
        "scrolled": true
      },
      "outputs": [
        {
          "name": "stdout",
          "output_type": "stream",
          "text": [
            " * sqlite:///cloud1.db\n",
            "Done.\n"
          ]
        },
        {
          "data": {
            "text/html": [
              "<table>\n",
              "    <tr>\n",
              "        <th>id</th>\n",
              "        <th>record_label_id</th>\n",
              "        <th>name</th>\n",
              "    </tr>\n",
              "    <tr>\n",
              "        <td>3</td>\n",
              "        <td>1</td>\n",
              "        <td>Anthrax</td>\n",
              "    </tr>\n",
              "    <tr>\n",
              "        <td>2</td>\n",
              "        <td>1</td>\n",
              "        <td>Christina</td>\n",
              "    </tr>\n",
              "    <tr>\n",
              "        <td>1</td>\n",
              "        <td>1</td>\n",
              "        <td>Aerosmith</td>\n",
              "    </tr>\n",
              "    <tr>\n",
              "        <td>4</td>\n",
              "        <td>2</td>\n",
              "        <td>Eric Clapton</td>\n",
              "    </tr>\n",
              "    <tr>\n",
              "        <td>6</td>\n",
              "        <td>2</td>\n",
              "        <td>Amorphis</td>\n",
              "    </tr>\n",
              "    <tr>\n",
              "        <td>5</td>\n",
              "        <td>2</td>\n",
              "        <td>Gary Allan</td>\n",
              "    </tr>\n",
              "    <tr>\n",
              "        <td>8</td>\n",
              "        <td>3</td>\n",
              "        <td>AC/DC</td>\n",
              "    </tr>\n",
              "    <tr>\n",
              "        <td>7</td>\n",
              "        <td>3</td>\n",
              "        <td>Lynyrd Skynyrd</td>\n",
              "    </tr>\n",
              "    <tr>\n",
              "        <td>9</td>\n",
              "        <td>6</td>\n",
              "        <td>Anastacia</td>\n",
              "    </tr>\n",
              "</table>"
            ],
            "text/plain": [
              "[(3, 1, 'Anthrax'),\n",
              " (2, 1, 'Christina'),\n",
              " (1, 1, 'Aerosmith'),\n",
              " (4, 2, 'Eric Clapton'),\n",
              " (6, 2, 'Amorphis'),\n",
              " (5, 2, 'Gary Allan'),\n",
              " (8, 3, 'AC/DC'),\n",
              " (7, 3, 'Lynyrd Skynyrd'),\n",
              " (9, 6, 'Anastacia')]"
            ]
          },
          "execution_count": 17,
          "metadata": {},
          "output_type": "execute_result"
        }
      ],
      "source": [
        "%%sql\n",
        "select * from artist\n",
        "\n"
      ]
    },
    {
      "attachments": {},
      "cell_type": "markdown",
      "metadata": {
        "id": "Rdm8Fxej0_RW"
      },
      "source": [
        "<b>2. List all artists for each record label sorted by artist name. </b>"
      ]
    },
    {
      "cell_type": "code",
      "execution_count": 18,
      "metadata": {
        "colab": {
          "base_uri": "https://localhost:8080/",
          "height": 267
        },
        "id": "FxTNxZTK0_RW",
        "outputId": "0d236f23-5803-4d88-ab37-3ba709e471c5"
      },
      "outputs": [
        {
          "name": "stdout",
          "output_type": "stream",
          "text": [
            " * sqlite:///cloud1.db\n",
            "Done.\n"
          ]
        },
        {
          "data": {
            "text/html": [
              "<table>\n",
              "    <tr>\n",
              "        <th>Artist Name</th>\n",
              "        <th>Record Label Name</th>\n",
              "    </tr>\n",
              "    <tr>\n",
              "        <td>AC/DC</td>\n",
              "        <td>Universal</td>\n",
              "    </tr>\n",
              "    <tr>\n",
              "        <td>Aerosmith</td>\n",
              "        <td>Blackened</td>\n",
              "    </tr>\n",
              "    <tr>\n",
              "        <td>Amorphis</td>\n",
              "        <td>Warner Bros</td>\n",
              "    </tr>\n",
              "    <tr>\n",
              "        <td>Anastacia</td>\n",
              "        <td>Capitol</td>\n",
              "    </tr>\n",
              "    <tr>\n",
              "        <td>Anthrax</td>\n",
              "        <td>Blackened</td>\n",
              "    </tr>\n",
              "    <tr>\n",
              "        <td>Christina</td>\n",
              "        <td>Blackened</td>\n",
              "    </tr>\n",
              "    <tr>\n",
              "        <td>Eric Clapton</td>\n",
              "        <td>Warner Bros</td>\n",
              "    </tr>\n",
              "    <tr>\n",
              "        <td>Gary Allan</td>\n",
              "        <td>Warner Bros</td>\n",
              "    </tr>\n",
              "    <tr>\n",
              "        <td>Lynyrd Skynyrd</td>\n",
              "        <td>Universal</td>\n",
              "    </tr>\n",
              "</table>"
            ],
            "text/plain": [
              "[('AC/DC', 'Universal'),\n",
              " ('Aerosmith', 'Blackened'),\n",
              " ('Amorphis', 'Warner Bros'),\n",
              " ('Anastacia', 'Capitol'),\n",
              " ('Anthrax', 'Blackened'),\n",
              " ('Christina', 'Blackened'),\n",
              " ('Eric Clapton', 'Warner Bros'),\n",
              " ('Gary Allan', 'Warner Bros'),\n",
              " ('Lynyrd Skynyrd', 'Universal')]"
            ]
          },
          "execution_count": 18,
          "metadata": {},
          "output_type": "execute_result"
        }
      ],
      "source": [
        "%%sql\n",
        "/* select ar.name as 'Artist Name', r.name as 'Record Label Name' from artist as ar, record_label as r where ar.record_label_id=r.id order by ar.name */\n",
        "\n",
        "select ar.name as 'Artist Name', r.name as 'Record Label Name' from artist as ar join record_label as r on ar.record_label_id=r.id order by ar.name"
      ]
    },
    {
      "attachments": {},
      "cell_type": "markdown",
      "metadata": {
        "id": "wCJlhA5e0_RX"
      },
      "source": [
        "<B>3.Which record labels have no artists?</b>"
      ]
    },
    {
      "cell_type": "code",
      "execution_count": 19,
      "metadata": {
        "colab": {
          "base_uri": "https://localhost:8080/",
          "height": 118
        },
        "id": "IUs0EKKh0_RY",
        "outputId": "f856c14b-c904-4b9f-a13f-5987ac200fa6"
      },
      "outputs": [
        {
          "name": "stdout",
          "output_type": "stream",
          "text": [
            " * sqlite:///cloud1.db\n",
            "Done.\n"
          ]
        },
        {
          "data": {
            "text/html": [
              "<table>\n",
              "    <tr>\n",
              "        <th>Record Label Name</th>\n",
              "    </tr>\n",
              "    <tr>\n",
              "        <td>Elektra</td>\n",
              "    </tr>\n",
              "    <tr>\n",
              "        <td>MCA</td>\n",
              "    </tr>\n",
              "</table>"
            ],
            "text/plain": [
              "[('Elektra',), ('MCA',)]"
            ]
          },
          "execution_count": 19,
          "metadata": {},
          "output_type": "execute_result"
        }
      ],
      "source": [
        "%%sql\n",
        "select r.name as 'Record Label Name' from record_label as r left join artist as ar on ar.record_label_id=r.id where ar.record_label_id is null\n",
        "\n"
      ]
    },
    {
      "attachments": {},
      "cell_type": "markdown",
      "metadata": {
        "id": "xFJEg_sZ0_RY"
      },
      "source": [
        "<b>4. List the number of songs per artist in descending order</b>"
      ]
    },
    {
      "cell_type": "code",
      "execution_count": 20,
      "metadata": {
        "colab": {
          "base_uri": "https://localhost:8080/",
          "height": 267
        },
        "id": "C-ys1BdA0_RZ",
        "outputId": "fc843feb-170a-4ec1-aa1c-6c117f1f7563",
        "scrolled": true
      },
      "outputs": [
        {
          "name": "stdout",
          "output_type": "stream",
          "text": [
            " * sqlite:///cloud1.db\n",
            "Done.\n"
          ]
        },
        {
          "data": {
            "text/html": [
              "<table>\n",
              "    <tr>\n",
              "        <th>Artist Name</th>\n",
              "        <th>Number of Songs</th>\n",
              "    </tr>\n",
              "    <tr>\n",
              "        <td>Anastacia</td>\n",
              "        <td>13</td>\n",
              "    </tr>\n",
              "    <tr>\n",
              "        <td>Aerosmith</td>\n",
              "        <td>6</td>\n",
              "    </tr>\n",
              "    <tr>\n",
              "        <td>Eric Clapton</td>\n",
              "        <td>4</td>\n",
              "    </tr>\n",
              "    <tr>\n",
              "        <td>Christina</td>\n",
              "        <td>4</td>\n",
              "    </tr>\n",
              "    <tr>\n",
              "        <td>Lynyrd Skynyrd</td>\n",
              "        <td>2</td>\n",
              "    </tr>\n",
              "    <tr>\n",
              "        <td>Gary Allan</td>\n",
              "        <td>2</td>\n",
              "    </tr>\n",
              "    <tr>\n",
              "        <td>Anthrax</td>\n",
              "        <td>2</td>\n",
              "    </tr>\n",
              "    <tr>\n",
              "        <td>Amorphis</td>\n",
              "        <td>2</td>\n",
              "    </tr>\n",
              "    <tr>\n",
              "        <td>AC/DC</td>\n",
              "        <td>2</td>\n",
              "    </tr>\n",
              "</table>"
            ],
            "text/plain": [
              "[('Anastacia', 13),\n",
              " ('Aerosmith', 6),\n",
              " ('Eric Clapton', 4),\n",
              " ('Christina', 4),\n",
              " ('Lynyrd Skynyrd', 2),\n",
              " ('Gary Allan', 2),\n",
              " ('Anthrax', 2),\n",
              " ('Amorphis', 2),\n",
              " ('AC/DC', 2)]"
            ]
          },
          "execution_count": 20,
          "metadata": {},
          "output_type": "execute_result"
        }
      ],
      "source": [
        "%%sql\n",
        "/* select ar.name as 'Artist Name', count(s.album_id) as 'Number of Songs' from artist as ar, song as s, album as al where s.album_id = al.id and al.artist_id = ar.id group by ar.name order by count(s.album_id) desc */\n",
        "\n",
        "select ar.name as 'Artist Name', count(*) as 'Number of Songs' \n",
        "      from song as s join album as al on s.album_id = al.id\n",
        "       join artist as ar on al.artist_id = ar.id\n",
        "      group by ar.name \n",
        "      order by count(*) desc\n"
      ]
    },
    {
      "attachments": {},
      "cell_type": "markdown",
      "metadata": {
        "id": "wVtWHJpe0_RZ"
      },
      "source": [
        "<B>5. Which artist or artists have recorded the most number of songs?</B>"
      ]
    },
    {
      "cell_type": "code",
      "execution_count": 21,
      "metadata": {
        "colab": {
          "base_uri": "https://localhost:8080/",
          "height": 96
        },
        "id": "95hlpoTo0_Ra",
        "outputId": "a36b2498-9eb5-466b-8853-029723eb8dd1"
      },
      "outputs": [
        {
          "name": "stdout",
          "output_type": "stream",
          "text": [
            " * sqlite:///cloud1.db\n",
            "Done.\n"
          ]
        },
        {
          "data": {
            "text/html": [
              "<table>\n",
              "    <tr>\n",
              "        <th>Artist Name</th>\n",
              "        <th>Number of Songs</th>\n",
              "    </tr>\n",
              "    <tr>\n",
              "        <td>Anastacia</td>\n",
              "        <td>13</td>\n",
              "    </tr>\n",
              "</table>"
            ],
            "text/plain": [
              "[('Anastacia', 13)]"
            ]
          },
          "execution_count": 21,
          "metadata": {},
          "output_type": "execute_result"
        }
      ],
      "source": [
        "%%sql\n",
        "/*select ar.name as 'Artist Name', count(s.album_id) as 'Number of Songs' from artist as ar, song as s, album as al where s.album_id = al.id and al.artist_id = ar.id group by ar.name order by count(s.album_id) desc limit 1*/\n",
        "\n",
        "select ar.name as 'Artist Name', count(*) as 'Number of Songs' \n",
        "      from song as s join album as al on s.album_id = al.id\n",
        "       join artist as ar on al.artist_id = ar.id\n",
        "      group by ar.name \n",
        "      order by count(*) desc\n",
        "      limit 1\n",
        "\n"
      ]
    },
    {
      "attachments": {},
      "cell_type": "markdown",
      "metadata": {
        "id": "X9qoMC_H0_Ra"
      },
      "source": [
        "<b>6.Which artist or artists have recorded the least number of songs?</b>"
      ]
    },
    {
      "cell_type": "code",
      "execution_count": 22,
      "metadata": {
        "colab": {
          "base_uri": "https://localhost:8080/",
          "height": 182
        },
        "id": "Cwifv6OwJrQf",
        "outputId": "ebdbfc63-16fc-4685-9744-b816ffb595c0"
      },
      "outputs": [
        {
          "name": "stdout",
          "output_type": "stream",
          "text": [
            " * sqlite:///cloud1.db\n",
            "Done.\n"
          ]
        },
        {
          "data": {
            "text/html": [
              "<table>\n",
              "    <tr>\n",
              "        <th>Artist Name</th>\n",
              "        <th>Number of Songs</th>\n",
              "    </tr>\n",
              "    <tr>\n",
              "        <td>AC/DC</td>\n",
              "        <td>2</td>\n",
              "    </tr>\n",
              "    <tr>\n",
              "        <td>Amorphis</td>\n",
              "        <td>2</td>\n",
              "    </tr>\n",
              "    <tr>\n",
              "        <td>Anthrax</td>\n",
              "        <td>2</td>\n",
              "    </tr>\n",
              "    <tr>\n",
              "        <td>Gary Allan</td>\n",
              "        <td>2</td>\n",
              "    </tr>\n",
              "    <tr>\n",
              "        <td>Lynyrd Skynyrd</td>\n",
              "        <td>2</td>\n",
              "    </tr>\n",
              "</table>"
            ],
            "text/plain": [
              "[('AC/DC', 2),\n",
              " ('Amorphis', 2),\n",
              " ('Anthrax', 2),\n",
              " ('Gary Allan', 2),\n",
              " ('Lynyrd Skynyrd', 2)]"
            ]
          },
          "execution_count": 22,
          "metadata": {},
          "output_type": "execute_result"
        }
      ],
      "source": [
        "%%sql\n",
        "SELECT ar.name AS 'Artist Name', COUNT(*) AS 'Number of Songs' \n",
        "      FROM \n",
        "\t\t\tsong AS s JOIN album AS al ON s.album_id = al.id\n",
        "\t\t\tJOIN artist AS ar ON al.artist_id = ar.id\n",
        "      GROUP BY\t  \n",
        "\t\t\tar.name\n",
        "      HAVING\n",
        "\t\t\tcount(*) = (SELECT MIN(n) \n",
        "\t\t\t\t\t\tFROM   (SELECT ar.name AS a, COUNT(*) AS n\n",
        "\t\t\t\t\t\t\t\tFROM\n",
        "\t\t\t\t\t\t\t\t\tsong AS s JOIN album AS al ON s.album_id = al.id\n",
        "\t\t\t\t\t\t\t\t\tJOIN artist AS ar ON al.artist_id = ar.id\n",
        "\t\t\t\t\t\t\t\tGROUP BY\t  \n",
        "\t\t\t\t\t\t\t\t\t\tar.name\n",
        "\t\t\t\t\t\t\t\t) AS temp\t\t\t\t\t\t\t\t\n",
        "\t\t\t\t\t\t)\n",
        "\n",
        "/* This was very difficult to uderstand & write as beginner level learner*/"
      ]
    },
    {
      "attachments": {},
      "cell_type": "markdown",
      "metadata": {
        "id": "qegkWJ4c0_Rc"
      },
      "source": [
        "<b>7.which artists have recorded songs longer than 5 minutes, and how many songs was that?</b>"
      ]
    },
    {
      "cell_type": "code",
      "execution_count": 23,
      "metadata": {
        "colab": {
          "base_uri": "https://localhost:8080/",
          "height": 161
        },
        "id": "zAv9qO750_Rc",
        "outputId": "3ebb695c-f36a-4f8f-a29d-c0d52fff9633"
      },
      "outputs": [
        {
          "name": "stdout",
          "output_type": "stream",
          "text": [
            " * sqlite:///cloud1.db\n",
            "Done.\n"
          ]
        },
        {
          "data": {
            "text/html": [
              "<table>\n",
              "    <tr>\n",
              "        <th>Artist Name</th>\n",
              "        <th>Number of Songs greater than 5 minutes</th>\n",
              "    </tr>\n",
              "    <tr>\n",
              "        <td>Aerosmith</td>\n",
              "        <td>4</td>\n",
              "    </tr>\n",
              "    <tr>\n",
              "        <td>Anastacia</td>\n",
              "        <td>2</td>\n",
              "    </tr>\n",
              "    <tr>\n",
              "        <td>Lynyrd Skynyrd</td>\n",
              "        <td>1</td>\n",
              "    </tr>\n",
              "    <tr>\n",
              "        <td>Christina</td>\n",
              "        <td>1</td>\n",
              "    </tr>\n",
              "</table>"
            ],
            "text/plain": [
              "[('Aerosmith', 4), ('Anastacia', 2), ('Lynyrd Skynyrd', 1), ('Christina', 1)]"
            ]
          },
          "execution_count": 23,
          "metadata": {},
          "output_type": "execute_result"
        }
      ],
      "source": [
        "%%sql\n",
        "SELECT ar.name AS 'Artist Name', COUNT(*) AS 'Number of Songs greater than 5 minutes' \n",
        "      FROM \n",
        "\t\t\t  song AS s JOIN album AS al ON s.album_id = al.id\n",
        "\t\t\t  JOIN artist AS ar ON al.artist_id = ar.id\n",
        "      where s.duration>5.0\n",
        "      GROUP BY\t  \n",
        "\t\t\t  ar.name\n",
        "      order by \n",
        "       COUNT(*) desc"
      ]
    },
    {
      "attachments": {},
      "cell_type": "markdown",
      "metadata": {
        "id": "gvfppdXs0_Rd"
      },
      "source": [
        "<b>8.for each artist and album how many songs were less than 5 minutes long?</b>"
      ]
    },
    {
      "cell_type": "code",
      "execution_count": 24,
      "metadata": {
        "colab": {
          "base_uri": "https://localhost:8080/",
          "height": 310
        },
        "id": "AQkwzPWXQeBt",
        "outputId": "95a1e26b-ca5a-4128-cddd-aeaaa5d7013a"
      },
      "outputs": [
        {
          "name": "stdout",
          "output_type": "stream",
          "text": [
            " * sqlite:///cloud1.db\n",
            "Done.\n"
          ]
        },
        {
          "data": {
            "text/html": [
              "<table>\n",
              "    <tr>\n",
              "        <th>Artist Name</th>\n",
              "        <th>Album Name</th>\n",
              "        <th>Number of Songs greater than 5 minutes</th>\n",
              "    </tr>\n",
              "    <tr>\n",
              "        <td>AC/DC</td>\n",
              "        <td>Greatest Hits</td>\n",
              "        <td>2</td>\n",
              "    </tr>\n",
              "    <tr>\n",
              "        <td>Aerosmith</td>\n",
              "        <td>Devils got a new disguise</td>\n",
              "        <td>2</td>\n",
              "    </tr>\n",
              "    <tr>\n",
              "        <td>Amorphis</td>\n",
              "        <td>Greatest Hits</td>\n",
              "        <td>2</td>\n",
              "    </tr>\n",
              "    <tr>\n",
              "        <td>Anastacia</td>\n",
              "        <td>Ultimate Collection</td>\n",
              "        <td>11</td>\n",
              "    </tr>\n",
              "    <tr>\n",
              "        <td>Anthrax</td>\n",
              "        <td>Story</td>\n",
              "        <td>2</td>\n",
              "    </tr>\n",
              "    <tr>\n",
              "        <td>Christina</td>\n",
              "        <td>Endgame</td>\n",
              "        <td>1</td>\n",
              "    </tr>\n",
              "    <tr>\n",
              "        <td>Christina</td>\n",
              "        <td>Icon</td>\n",
              "        <td>2</td>\n",
              "    </tr>\n",
              "    <tr>\n",
              "        <td>Eric Clapton</td>\n",
              "        <td>Chapters</td>\n",
              "        <td>2</td>\n",
              "    </tr>\n",
              "    <tr>\n",
              "        <td>Eric Clapton</td>\n",
              "        <td>Riding with the King</td>\n",
              "        <td>2</td>\n",
              "    </tr>\n",
              "    <tr>\n",
              "        <td>Gary Allan</td>\n",
              "        <td>Pieces of a Dream</td>\n",
              "        <td>2</td>\n",
              "    </tr>\n",
              "    <tr>\n",
              "        <td>Lynyrd Skynyrd</td>\n",
              "        <td>All-Time Greatest Hits</td>\n",
              "        <td>1</td>\n",
              "    </tr>\n",
              "</table>"
            ],
            "text/plain": [
              "[('AC/DC', 'Greatest Hits', 2),\n",
              " ('Aerosmith', 'Devils got a new disguise', 2),\n",
              " ('Amorphis', 'Greatest Hits', 2),\n",
              " ('Anastacia', 'Ultimate Collection', 11),\n",
              " ('Anthrax', 'Story', 2),\n",
              " ('Christina', 'Endgame', 1),\n",
              " ('Christina', 'Icon', 2),\n",
              " ('Eric Clapton', 'Chapters', 2),\n",
              " ('Eric Clapton', 'Riding with the King', 2),\n",
              " ('Gary Allan', 'Pieces of a Dream', 2),\n",
              " ('Lynyrd Skynyrd', 'All-Time Greatest Hits', 1)]"
            ]
          },
          "execution_count": 24,
          "metadata": {},
          "output_type": "execute_result"
        }
      ],
      "source": [
        "%%sql\n",
        "SELECT ar.name AS 'Artist Name', al.name as 'Album Name', COUNT(*) AS 'Number of Songs greater than 5 minutes' \n",
        "      FROM \n",
        "\t\t\t  song AS s JOIN album AS al ON s.album_id = al.id\n",
        "\t\t\t  JOIN artist AS ar ON al.artist_id = ar.id\n",
        "      where s.duration<5.0\n",
        "      GROUP BY\t  \n",
        "\t\t\t  ar.name,al.name"
      ]
    },
    {
      "attachments": {},
      "cell_type": "markdown",
      "metadata": {
        "id": "LWXW1bZB0_Re"
      },
      "source": [
        "<b>9.In which year or years were the most songs recorded?</b>"
      ]
    },
    {
      "cell_type": "code",
      "execution_count": 25,
      "metadata": {
        "colab": {
          "base_uri": "https://localhost:8080/",
          "height": 96
        },
        "id": "GH0mGP7f0_Rf",
        "outputId": "d1361b9a-d08a-4377-de85-7d748b17ece3"
      },
      "outputs": [
        {
          "name": "stdout",
          "output_type": "stream",
          "text": [
            " * sqlite:///cloud1.db\n",
            "Done.\n"
          ]
        },
        {
          "data": {
            "text/html": [
              "<table>\n",
              "    <tr>\n",
              "        <th>Year</th>\n",
              "        <th>Number of Songs Recorded</th>\n",
              "    </tr>\n",
              "    <tr>\n",
              "        <td>2015</td>\n",
              "        <td>13</td>\n",
              "    </tr>\n",
              "</table>"
            ],
            "text/plain": [
              "[(2015, 13)]"
            ]
          },
          "execution_count": 25,
          "metadata": {},
          "output_type": "execute_result"
        }
      ],
      "source": [
        "%%sql\n",
        "SELECT al.year as 'Year', COUNT(*) AS 'Number of Songs Recorded' \n",
        "      FROM \n",
        "\t\t\t  song AS s JOIN album AS al ON s.album_id = al.id\n",
        "      GROUP BY\t  \n",
        "\t\t\t  al.year\n",
        "      order by \n",
        "        COUNT(*) desc\n",
        "      limit 1\n"
      ]
    },
    {
      "attachments": {},
      "cell_type": "markdown",
      "metadata": {
        "id": "eLOI1o2q0_Rf"
      },
      "source": [
        "<b>10. list the artist, song and year of the top 5 longest recorded songs</b>"
      ]
    },
    {
      "cell_type": "code",
      "execution_count": 26,
      "metadata": {
        "colab": {
          "base_uri": "https://localhost:8080/",
          "height": 182
        },
        "id": "qW-FYHf9Sto5",
        "outputId": "95f311f3-c958-48e9-8f2f-c2332c1fb87c"
      },
      "outputs": [
        {
          "name": "stdout",
          "output_type": "stream",
          "text": [
            " * sqlite:///cloud1.db\n",
            "Done.\n"
          ]
        },
        {
          "data": {
            "text/html": [
              "<table>\n",
              "    <tr>\n",
              "        <th>Artist Name</th>\n",
              "        <th>Album Name</th>\n",
              "        <th>Song</th>\n",
              "        <th>Year Recorded</th>\n",
              "        <th>Duration</th>\n",
              "    </tr>\n",
              "    <tr>\n",
              "        <td>Lynyrd Skynyrd</td>\n",
              "        <td>All-Time Greatest Hits</td>\n",
              "        <td>Free Bird</td>\n",
              "        <td>1975</td>\n",
              "        <td>14.23</td>\n",
              "    </tr>\n",
              "    <tr>\n",
              "        <td>Aerosmith</td>\n",
              "        <td>Master of Puppets</td>\n",
              "        <td>Master of Puppets</td>\n",
              "        <td>1986</td>\n",
              "        <td>8.35</td>\n",
              "    </tr>\n",
              "    <tr>\n",
              "        <td>Anastacia</td>\n",
              "        <td>Ultimate Collection</td>\n",
              "        <td>A Day in the Life</td>\n",
              "        <td>2015</td>\n",
              "        <td>5.65</td>\n",
              "    </tr>\n",
              "    <tr>\n",
              "        <td>Christina</td>\n",
              "        <td>Endgame</td>\n",
              "        <td>Endgame</td>\n",
              "        <td>2009</td>\n",
              "        <td>5.57</td>\n",
              "    </tr>\n",
              "    <tr>\n",
              "        <td>Aerosmith</td>\n",
              "        <td>Keeps getting better</td>\n",
              "        <td>Genie in a Bottle</td>\n",
              "        <td>2008</td>\n",
              "        <td>5.3</td>\n",
              "    </tr>\n",
              "</table>"
            ],
            "text/plain": [
              "[('Lynyrd Skynyrd', 'All-Time Greatest Hits', 'Free Bird', 1975, 14.23),\n",
              " ('Aerosmith', 'Master of Puppets', 'Master of Puppets', 1986, 8.35),\n",
              " ('Anastacia', 'Ultimate Collection', 'A Day in the Life', 2015, 5.65),\n",
              " ('Christina', 'Endgame', 'Endgame', 2009, 5.57),\n",
              " ('Aerosmith', 'Keeps getting better', 'Genie in a Bottle', 2008, 5.3)]"
            ]
          },
          "execution_count": 26,
          "metadata": {},
          "output_type": "execute_result"
        }
      ],
      "source": [
        "%%sql\n",
        "SELECT ar.name AS 'Artist Name', al.name as 'Album Name', s.name as 'Song', al.year as 'Year Recorded',s.duration AS 'Duration' \n",
        "      FROM \n",
        "\t\t\t  song AS s JOIN album AS al ON s.album_id = al.id\n",
        "\t\t\t  JOIN artist AS ar ON al.artist_id = ar.id\n",
        "      order by s.duration desc\n",
        "      limit 5"
      ]
    },
    {
      "attachments": {},
      "cell_type": "markdown",
      "metadata": {
        "id": "0dRU3geH0_Rg"
      },
      "source": [
        "<b>11.Number of albums recorded for each year</b>"
      ]
    },
    {
      "cell_type": "code",
      "execution_count": 27,
      "metadata": {
        "colab": {
          "base_uri": "https://localhost:8080/",
          "height": 332
        },
        "id": "oLfUCCW2TNxK",
        "outputId": "fb09eb2e-27cb-4ac4-a002-14951533a5bd"
      },
      "outputs": [
        {
          "name": "stdout",
          "output_type": "stream",
          "text": [
            " * sqlite:///cloud1.db\n",
            "Done.\n"
          ]
        },
        {
          "data": {
            "text/html": [
              "<table>\n",
              "    <tr>\n",
              "        <th>Year</th>\n",
              "        <th>Number of Albums Recorded</th>\n",
              "    </tr>\n",
              "    <tr>\n",
              "        <td>1975</td>\n",
              "        <td>1</td>\n",
              "    </tr>\n",
              "    <tr>\n",
              "        <td>1983</td>\n",
              "        <td>1</td>\n",
              "    </tr>\n",
              "    <tr>\n",
              "        <td>1986</td>\n",
              "        <td>1</td>\n",
              "    </tr>\n",
              "    <tr>\n",
              "        <td>2000</td>\n",
              "        <td>2</td>\n",
              "    </tr>\n",
              "    <tr>\n",
              "        <td>2003</td>\n",
              "        <td>1</td>\n",
              "    </tr>\n",
              "    <tr>\n",
              "        <td>2004</td>\n",
              "        <td>1</td>\n",
              "    </tr>\n",
              "    <tr>\n",
              "        <td>2005</td>\n",
              "        <td>1</td>\n",
              "    </tr>\n",
              "    <tr>\n",
              "        <td>2006</td>\n",
              "        <td>1</td>\n",
              "    </tr>\n",
              "    <tr>\n",
              "        <td>2008</td>\n",
              "        <td>1</td>\n",
              "    </tr>\n",
              "    <tr>\n",
              "        <td>2009</td>\n",
              "        <td>1</td>\n",
              "    </tr>\n",
              "    <tr>\n",
              "        <td>2012</td>\n",
              "        <td>1</td>\n",
              "    </tr>\n",
              "    <tr>\n",
              "        <td>2015</td>\n",
              "        <td>1</td>\n",
              "    </tr>\n",
              "</table>"
            ],
            "text/plain": [
              "[(1975, 1),\n",
              " (1983, 1),\n",
              " (1986, 1),\n",
              " (2000, 2),\n",
              " (2003, 1),\n",
              " (2004, 1),\n",
              " (2005, 1),\n",
              " (2006, 1),\n",
              " (2008, 1),\n",
              " (2009, 1),\n",
              " (2012, 1),\n",
              " (2015, 1)]"
            ]
          },
          "execution_count": 27,
          "metadata": {},
          "output_type": "execute_result"
        }
      ],
      "source": [
        "%%sql\n",
        "select al.year as 'Year', count(*) as 'Number of Albums Recorded' from album as al\n",
        "group by al.year"
      ]
    },
    {
      "attachments": {},
      "cell_type": "markdown",
      "metadata": {
        "id": "0q0JEmwN0_Rh"
      },
      "source": [
        "<b>12. What is the max number of recorded albums across all the years?\n",
        "\n",
        "-- Hint:  using the above sql as a temp table</b>"
      ]
    },
    {
      "cell_type": "code",
      "execution_count": 28,
      "metadata": {
        "colab": {
          "base_uri": "https://localhost:8080/",
          "height": 96
        },
        "id": "cXKUY6BWXPEJ",
        "outputId": "0646067b-ab15-403c-d159-3099011c7f8a"
      },
      "outputs": [
        {
          "name": "stdout",
          "output_type": "stream",
          "text": [
            " * sqlite:///cloud1.db\n",
            "Done.\n"
          ]
        },
        {
          "data": {
            "text/html": [
              "<table>\n",
              "    <tr>\n",
              "        <th>Max Number of Albums Recorded per year for all Years</th>\n",
              "    </tr>\n",
              "    <tr>\n",
              "        <td>2</td>\n",
              "    </tr>\n",
              "</table>"
            ],
            "text/plain": [
              "[(2,)]"
            ]
          },
          "execution_count": 28,
          "metadata": {},
          "output_type": "execute_result"
        }
      ],
      "source": [
        "%%sql\n",
        "select max(n) as 'Max Number of Albums Recorded per year for all Years' \n",
        "from \n",
        "  (select count(*) as n \n",
        "   from album as al \n",
        "   group by al.year) as temp\n"
      ]
    },
    {
      "attachments": {},
      "cell_type": "markdown",
      "metadata": {
        "id": "V_gfXo9K0_Ri"
      },
      "source": [
        "<b>13. In which year (or years) were the most (max) number of albums recorded, and how many were recorded?\n",
        "\n",
        "-- Hint: using the above sql as a sub-select</b>"
      ]
    },
    {
      "cell_type": "code",
      "execution_count": 29,
      "metadata": {
        "colab": {
          "base_uri": "https://localhost:8080/",
          "height": 96
        },
        "id": "51OFTlbYaasj",
        "outputId": "3773db10-eee9-42a4-e2ad-b95a9bd890c5"
      },
      "outputs": [
        {
          "name": "stdout",
          "output_type": "stream",
          "text": [
            " * sqlite:///cloud1.db\n",
            "Done.\n"
          ]
        },
        {
          "data": {
            "text/html": [
              "<table>\n",
              "    <tr>\n",
              "        <th>Year</th>\n",
              "        <th>Max Number of Albums Recorded per year for all Years</th>\n",
              "    </tr>\n",
              "    <tr>\n",
              "        <td>2000</td>\n",
              "        <td>2</td>\n",
              "    </tr>\n",
              "</table>"
            ],
            "text/plain": [
              "[(2000, 2)]"
            ]
          },
          "execution_count": 29,
          "metadata": {},
          "output_type": "execute_result"
        }
      ],
      "source": [
        "%%sql\n",
        "select y as 'Year', max(n) as 'Max Number of Albums Recorded per year for all Years' \n",
        "from \n",
        "  (select al.year as y,count(*) as n \n",
        "   from album as al \n",
        "   group by al.year) as temp"
      ]
    },
    {
      "attachments": {},
      "cell_type": "markdown",
      "metadata": {
        "id": "PqL_QuJR0_Rj"
      },
      "source": [
        "<b>14. total duration of all songs recorded by each artist in descending order</b>"
      ]
    },
    {
      "cell_type": "code",
      "execution_count": 30,
      "metadata": {
        "colab": {
          "base_uri": "https://localhost:8080/",
          "height": 267
        },
        "id": "VZ3tgJa5d4sf",
        "outputId": "5f7f0374-eeee-455a-eaa1-32496b96e592"
      },
      "outputs": [
        {
          "name": "stdout",
          "output_type": "stream",
          "text": [
            " * sqlite:///cloud1.db\n",
            "Done.\n"
          ]
        },
        {
          "data": {
            "text/html": [
              "<table>\n",
              "    <tr>\n",
              "        <th>Artist Name</th>\n",
              "        <th>Total Duration of All Songs</th>\n",
              "    </tr>\n",
              "    <tr>\n",
              "        <td>Anastacia</td>\n",
              "        <td>39.87</td>\n",
              "    </tr>\n",
              "    <tr>\n",
              "        <td>Aerosmith</td>\n",
              "        <td>32.73</td>\n",
              "    </tr>\n",
              "    <tr>\n",
              "        <td>Lynyrd Skynyrd</td>\n",
              "        <td>18.68</td>\n",
              "    </tr>\n",
              "    <tr>\n",
              "        <td>Eric Clapton</td>\n",
              "        <td>15.47</td>\n",
              "    </tr>\n",
              "    <tr>\n",
              "        <td>Christina</td>\n",
              "        <td>15.27</td>\n",
              "    </tr>\n",
              "    <tr>\n",
              "        <td>AC/DC</td>\n",
              "        <td>7.87</td>\n",
              "    </tr>\n",
              "    <tr>\n",
              "        <td>Anthrax</td>\n",
              "        <td>7.52</td>\n",
              "    </tr>\n",
              "    <tr>\n",
              "        <td>Gary Allan</td>\n",
              "        <td>7.22</td>\n",
              "    </tr>\n",
              "    <tr>\n",
              "        <td>Amorphis</td>\n",
              "        <td>5.86</td>\n",
              "    </tr>\n",
              "</table>"
            ],
            "text/plain": [
              "[('Anastacia', 39.87),\n",
              " ('Aerosmith', 32.73),\n",
              " ('Lynyrd Skynyrd', 18.68),\n",
              " ('Eric Clapton', 15.47),\n",
              " ('Christina', 15.27),\n",
              " ('AC/DC', 7.87),\n",
              " ('Anthrax', 7.52),\n",
              " ('Gary Allan', 7.22),\n",
              " ('Amorphis', 5.86)]"
            ]
          },
          "execution_count": 30,
          "metadata": {},
          "output_type": "execute_result"
        }
      ],
      "source": [
        "%%sql\n",
        "SELECT ar.name AS 'Artist Name', round(sum(s.duration),2) 'Total Duration of All Songs' \n",
        "      FROM \n",
        "\t\t\tsong AS s JOIN album AS al ON s.album_id = al.id\n",
        "\t\t\tJOIN artist AS ar ON al.artist_id = ar.id\n",
        "      GROUP BY\t  \n",
        "\t\t\tar.name\n",
        "      order by sum(s.duration) desc"
      ]
    },
    {
      "attachments": {},
      "cell_type": "markdown",
      "metadata": {
        "id": "7QSNv0Ac0_Rk"
      },
      "source": [
        "<b>15.for which artist and album are there no songs less than 5 minutes long?</b>"
      ]
    },
    {
      "cell_type": "code",
      "execution_count": 31,
      "metadata": {
        "colab": {
          "base_uri": "https://localhost:8080/",
          "height": 118
        },
        "id": "oGFL6l-Gf90z",
        "outputId": "3e9d199f-da83-40c5-a196-944aa69c240c"
      },
      "outputs": [
        {
          "name": "stdout",
          "output_type": "stream",
          "text": [
            " * sqlite:///cloud1.db\n",
            "Done.\n"
          ]
        },
        {
          "data": {
            "text/html": [
              "<table>\n",
              "    <tr>\n",
              "        <th>Artist Name</th>\n",
              "        <th>Album Name</th>\n",
              "    </tr>\n",
              "    <tr>\n",
              "        <td>Aerosmith</td>\n",
              "        <td>Keeps getting better</td>\n",
              "    </tr>\n",
              "    <tr>\n",
              "        <td>Aerosmith</td>\n",
              "        <td>Master of Puppets</td>\n",
              "    </tr>\n",
              "</table>"
            ],
            "text/plain": [
              "[('Aerosmith', 'Keeps getting better'), ('Aerosmith', 'Master of Puppets')]"
            ]
          },
          "execution_count": 31,
          "metadata": {},
          "output_type": "execute_result"
        }
      ],
      "source": [
        "%%sql\n",
        "SELECT ar.name AS 'Artist Name', al.name as 'Album Name'\n",
        "      FROM \n",
        "\t\t\tsong AS s JOIN album AS al ON s.album_id = al.id\n",
        "\t\t\tJOIN artist AS ar ON al.artist_id = ar.id\n",
        "      GROUP BY al.name\n",
        "      having s.duration>5.0"
      ]
    },
    {
      "attachments": {},
      "cell_type": "markdown",
      "metadata": {
        "id": "DWqkjPnt0_Rl"
      },
      "source": [
        "<b>16. Display a table of all artists, albums, songs and song duration \n",
        "--     all ordered in ascending order by artist, album and song  </b>"
      ]
    },
    {
      "cell_type": "code",
      "execution_count": 32,
      "metadata": {
        "colab": {
          "base_uri": "https://localhost:8080/",
          "height": 866
        },
        "id": "nNv3nV0p6LQf",
        "outputId": "70bc98b6-5197-4966-c89f-e32fd83d9d6d"
      },
      "outputs": [
        {
          "name": "stdout",
          "output_type": "stream",
          "text": [
            " * sqlite:///cloud1.db\n",
            "Done.\n"
          ]
        },
        {
          "data": {
            "text/html": [
              "<table>\n",
              "    <tr>\n",
              "        <th>Artist Name</th>\n",
              "        <th>Album Name</th>\n",
              "        <th>Song</th>\n",
              "        <th>Duration</th>\n",
              "    </tr>\n",
              "    <tr>\n",
              "        <td>AC/DC</td>\n",
              "        <td>Greatest Hits</td>\n",
              "        <td>T.N.T</td>\n",
              "        <td>3.35</td>\n",
              "    </tr>\n",
              "    <tr>\n",
              "        <td>AC/DC</td>\n",
              "        <td>Greatest Hits</td>\n",
              "        <td>Thunderstruck</td>\n",
              "        <td>4.52</td>\n",
              "    </tr>\n",
              "    <tr>\n",
              "        <td>Aerosmith</td>\n",
              "        <td>Devils got a new disguise</td>\n",
              "        <td>Back in the Saddle</td>\n",
              "        <td>4.4</td>\n",
              "    </tr>\n",
              "    <tr>\n",
              "        <td>Aerosmith</td>\n",
              "        <td>Devils got a new disguise</td>\n",
              "        <td>Dream On</td>\n",
              "        <td>4.26</td>\n",
              "    </tr>\n",
              "    <tr>\n",
              "        <td>Aerosmith</td>\n",
              "        <td>Keeps getting better</td>\n",
              "        <td>Beautiful</td>\n",
              "        <td>5.29</td>\n",
              "    </tr>\n",
              "    <tr>\n",
              "        <td>Aerosmith</td>\n",
              "        <td>Keeps getting better</td>\n",
              "        <td>Genie in a Bottle</td>\n",
              "        <td>5.3</td>\n",
              "    </tr>\n",
              "    <tr>\n",
              "        <td>Aerosmith</td>\n",
              "        <td>Master of Puppets</td>\n",
              "        <td>Battery</td>\n",
              "        <td>5.13</td>\n",
              "    </tr>\n",
              "    <tr>\n",
              "        <td>Aerosmith</td>\n",
              "        <td>Master of Puppets</td>\n",
              "        <td>Master of Puppets</td>\n",
              "        <td>8.35</td>\n",
              "    </tr>\n",
              "    <tr>\n",
              "        <td>Amorphis</td>\n",
              "        <td>Greatest Hits</td>\n",
              "        <td>Eruption</td>\n",
              "        <td>1.43</td>\n",
              "    </tr>\n",
              "    <tr>\n",
              "        <td>Amorphis</td>\n",
              "        <td>Greatest Hits</td>\n",
              "        <td>Hot For Teacher</td>\n",
              "        <td>4.43</td>\n",
              "    </tr>\n",
              "    <tr>\n",
              "        <td>Anastacia</td>\n",
              "        <td>Ultimate Collection</td>\n",
              "        <td>A Day in the Life</td>\n",
              "        <td>5.65</td>\n",
              "    </tr>\n",
              "    <tr>\n",
              "        <td>Anastacia</td>\n",
              "        <td>Ultimate Collection</td>\n",
              "        <td>Being for the Benefit of Mr. Kite!</td>\n",
              "        <td>2.6166</td>\n",
              "    </tr>\n",
              "    <tr>\n",
              "        <td>Anastacia</td>\n",
              "        <td>Ultimate Collection</td>\n",
              "        <td>Fixing a Hole</td>\n",
              "        <td>2.6</td>\n",
              "    </tr>\n",
              "    <tr>\n",
              "        <td>Anastacia</td>\n",
              "        <td>Ultimate Collection</td>\n",
              "        <td>Getting Better</td>\n",
              "        <td>2.8</td>\n",
              "    </tr>\n",
              "    <tr>\n",
              "        <td>Anastacia</td>\n",
              "        <td>Ultimate Collection</td>\n",
              "        <td>Good Morning Good Morning</td>\n",
              "        <td>2.6833</td>\n",
              "    </tr>\n",
              "    <tr>\n",
              "        <td>Anastacia</td>\n",
              "        <td>Ultimate Collection</td>\n",
              "        <td>Lovely Rita</td>\n",
              "        <td>2.7</td>\n",
              "    </tr>\n",
              "    <tr>\n",
              "        <td>Anastacia</td>\n",
              "        <td>Ultimate Collection</td>\n",
              "        <td>Lucy in the Sky with Diamonds</td>\n",
              "        <td>3.4666</td>\n",
              "    </tr>\n",
              "    <tr>\n",
              "        <td>Anastacia</td>\n",
              "        <td>Ultimate Collection</td>\n",
              "        <td>Sgt. Pepper&#x27;s Lonely Hearts Club Band</td>\n",
              "        <td>2.0333</td>\n",
              "    </tr>\n",
              "    <tr>\n",
              "        <td>Anastacia</td>\n",
              "        <td>Ultimate Collection</td>\n",
              "        <td>Sgt. Pepper&#x27;s Lonely Hearts Club Band (Reprise)</td>\n",
              "        <td>1.3166</td>\n",
              "    </tr>\n",
              "    <tr>\n",
              "        <td>Anastacia</td>\n",
              "        <td>Ultimate Collection</td>\n",
              "        <td>She&#x27;s Leaving Home</td>\n",
              "        <td>3.5833</td>\n",
              "    </tr>\n",
              "    <tr>\n",
              "        <td>Anastacia</td>\n",
              "        <td>Ultimate Collection</td>\n",
              "        <td>When I&#x27;m Sixty-Four</td>\n",
              "        <td>2.6166</td>\n",
              "    </tr>\n",
              "    <tr>\n",
              "        <td>Anastacia</td>\n",
              "        <td>Ultimate Collection</td>\n",
              "        <td>With a Little Help from My Friends</td>\n",
              "        <td>2.7333</td>\n",
              "    </tr>\n",
              "    <tr>\n",
              "        <td>Anastacia</td>\n",
              "        <td>Ultimate Collection</td>\n",
              "        <td>Within You Without You</td>\n",
              "        <td>5.066</td>\n",
              "    </tr>\n",
              "    <tr>\n",
              "        <td>Anthrax</td>\n",
              "        <td>Story</td>\n",
              "        <td>Against Widows</td>\n",
              "        <td>4.04</td>\n",
              "    </tr>\n",
              "    <tr>\n",
              "        <td>Anthrax</td>\n",
              "        <td>Story</td>\n",
              "        <td>Balck Winter Day</td>\n",
              "        <td>3.48</td>\n",
              "    </tr>\n",
              "    <tr>\n",
              "        <td>Christina</td>\n",
              "        <td>Endgame</td>\n",
              "        <td>Dialectic Chaos</td>\n",
              "        <td>2.26</td>\n",
              "    </tr>\n",
              "    <tr>\n",
              "        <td>Christina</td>\n",
              "        <td>Endgame</td>\n",
              "        <td>Endgame</td>\n",
              "        <td>5.57</td>\n",
              "    </tr>\n",
              "    <tr>\n",
              "        <td>Christina</td>\n",
              "        <td>Icon</td>\n",
              "        <td>Man to Man</td>\n",
              "        <td>3.41</td>\n",
              "    </tr>\n",
              "    <tr>\n",
              "        <td>Christina</td>\n",
              "        <td>Icon</td>\n",
              "        <td>Watching Airplanes</td>\n",
              "        <td>4.03</td>\n",
              "    </tr>\n",
              "    <tr>\n",
              "        <td>Eric Clapton</td>\n",
              "        <td>Chapters</td>\n",
              "        <td>Modern Girl</td>\n",
              "        <td>4.49</td>\n",
              "    </tr>\n",
              "    <tr>\n",
              "        <td>Eric Clapton</td>\n",
              "        <td>Chapters</td>\n",
              "        <td>Reptile</td>\n",
              "        <td>3.36</td>\n",
              "    </tr>\n",
              "    <tr>\n",
              "        <td>Eric Clapton</td>\n",
              "        <td>Riding with the King</td>\n",
              "        <td>Key to the Highway</td>\n",
              "        <td>3.39</td>\n",
              "    </tr>\n",
              "    <tr>\n",
              "        <td>Eric Clapton</td>\n",
              "        <td>Riding with the King</td>\n",
              "        <td>Riding with the King</td>\n",
              "        <td>4.23</td>\n",
              "    </tr>\n",
              "    <tr>\n",
              "        <td>Gary Allan</td>\n",
              "        <td>Pieces of a Dream</td>\n",
              "        <td>Im Outta Love</td>\n",
              "        <td>4.02</td>\n",
              "    </tr>\n",
              "    <tr>\n",
              "        <td>Gary Allan</td>\n",
              "        <td>Pieces of a Dream</td>\n",
              "        <td>Not That Kind</td>\n",
              "        <td>3.2</td>\n",
              "    </tr>\n",
              "    <tr>\n",
              "        <td>Lynyrd Skynyrd</td>\n",
              "        <td>All-Time Greatest Hits</td>\n",
              "        <td>Free Bird</td>\n",
              "        <td>14.23</td>\n",
              "    </tr>\n",
              "    <tr>\n",
              "        <td>Lynyrd Skynyrd</td>\n",
              "        <td>All-Time Greatest Hits</td>\n",
              "        <td>Sweet Home Alabama</td>\n",
              "        <td>4.45</td>\n",
              "    </tr>\n",
              "</table>"
            ],
            "text/plain": [
              "[('AC/DC', 'Greatest Hits', 'T.N.T', 3.35),\n",
              " ('AC/DC', 'Greatest Hits', 'Thunderstruck', 4.52),\n",
              " ('Aerosmith', 'Devils got a new disguise', 'Back in the Saddle', 4.4),\n",
              " ('Aerosmith', 'Devils got a new disguise', 'Dream On', 4.26),\n",
              " ('Aerosmith', 'Keeps getting better', 'Beautiful', 5.29),\n",
              " ('Aerosmith', 'Keeps getting better', 'Genie in a Bottle', 5.3),\n",
              " ('Aerosmith', 'Master of Puppets', 'Battery', 5.13),\n",
              " ('Aerosmith', 'Master of Puppets', 'Master of Puppets', 8.35),\n",
              " ('Amorphis', 'Greatest Hits', 'Eruption', 1.43),\n",
              " ('Amorphis', 'Greatest Hits', 'Hot For Teacher', 4.43),\n",
              " ('Anastacia', 'Ultimate Collection', 'A Day in the Life', 5.65),\n",
              " ('Anastacia', 'Ultimate Collection', 'Being for the Benefit of Mr. Kite!', 2.6166),\n",
              " ('Anastacia', 'Ultimate Collection', 'Fixing a Hole', 2.6),\n",
              " ('Anastacia', 'Ultimate Collection', 'Getting Better', 2.8),\n",
              " ('Anastacia', 'Ultimate Collection', 'Good Morning Good Morning', 2.6833),\n",
              " ('Anastacia', 'Ultimate Collection', 'Lovely Rita', 2.7),\n",
              " ('Anastacia', 'Ultimate Collection', 'Lucy in the Sky with Diamonds', 3.4666),\n",
              " ('Anastacia', 'Ultimate Collection', \"Sgt. Pepper's Lonely Hearts Club Band\", 2.0333),\n",
              " ('Anastacia', 'Ultimate Collection', \"Sgt. Pepper's Lonely Hearts Club Band (Reprise)\", 1.3166),\n",
              " ('Anastacia', 'Ultimate Collection', \"She's Leaving Home\", 3.5833),\n",
              " ('Anastacia', 'Ultimate Collection', \"When I'm Sixty-Four\", 2.6166),\n",
              " ('Anastacia', 'Ultimate Collection', 'With a Little Help from My Friends', 2.7333),\n",
              " ('Anastacia', 'Ultimate Collection', 'Within You Without You', 5.066),\n",
              " ('Anthrax', 'Story', 'Against Widows', 4.04),\n",
              " ('Anthrax', 'Story', 'Balck Winter Day', 3.48),\n",
              " ('Christina', 'Endgame', 'Dialectic Chaos', 2.26),\n",
              " ('Christina', 'Endgame', 'Endgame', 5.57),\n",
              " ('Christina', 'Icon', 'Man to Man', 3.41),\n",
              " ('Christina', 'Icon', 'Watching Airplanes', 4.03),\n",
              " ('Eric Clapton', 'Chapters', 'Modern Girl', 4.49),\n",
              " ('Eric Clapton', 'Chapters', 'Reptile', 3.36),\n",
              " ('Eric Clapton', 'Riding with the King', 'Key to the Highway', 3.39),\n",
              " ('Eric Clapton', 'Riding with the King', 'Riding with the King', 4.23),\n",
              " ('Gary Allan', 'Pieces of a Dream', 'Im Outta Love', 4.02),\n",
              " ('Gary Allan', 'Pieces of a Dream', 'Not That Kind', 3.2),\n",
              " ('Lynyrd Skynyrd', 'All-Time Greatest Hits', 'Free Bird', 14.23),\n",
              " ('Lynyrd Skynyrd', 'All-Time Greatest Hits', 'Sweet Home Alabama', 4.45)]"
            ]
          },
          "execution_count": 32,
          "metadata": {},
          "output_type": "execute_result"
        }
      ],
      "source": [
        "%%sql\n",
        "SELECT ar.name AS 'Artist Name', al.name as 'Album Name', s.name as 'Song', s.duration as 'Duration'\n",
        "      FROM \n",
        "\t\t\tsong AS s JOIN album AS al ON s.album_id = al.id\n",
        "\t\t\tJOIN artist AS ar ON al.artist_id = ar.id\n",
        "      order BY\t  \n",
        "\t\t\tar.name,al.name,s.name"
      ]
    },
    {
      "attachments": {},
      "cell_type": "markdown",
      "metadata": {
        "id": "pppbznRF0_Rm"
      },
      "source": [
        "<b>18. Total album length for all songs on the Greatest hits album - in minutes and seconds</b>"
      ]
    },
    {
      "cell_type": "code",
      "execution_count": 52,
      "metadata": {
        "colab": {
          "base_uri": "https://localhost:8080/",
          "height": 96
        },
        "id": "ru3Cy-_PCovD",
        "outputId": "9b80b93b-c5a8-46e4-f20f-14ca231e4f02"
      },
      "outputs": [
        {
          "name": "stdout",
          "output_type": "stream",
          "text": [
            " * sqlite:///cloud1.db\n",
            "Done.\n"
          ]
        },
        {
          "data": {
            "text/html": [
              "<table>\n",
              "    <tr>\n",
              "        <th>Album Name</th>\n",
              "        <th>Minutes</th>\n",
              "        <th>Seconds</th>\n",
              "    </tr>\n",
              "    <tr>\n",
              "        <td>Greatest Hits</td>\n",
              "        <td>13</td>\n",
              "        <td>43.800000000000026</td>\n",
              "    </tr>\n",
              "</table>"
            ],
            "text/plain": [
              "[('Greatest Hits', 13, 43.800000000000026)]"
            ]
          },
          "execution_count": 52,
          "metadata": {},
          "output_type": "execute_result"
        }
      ],
      "source": [
        "%%sql\n",
        "SELECT al.name AS 'Album Name', cast(sum(s.duration) as int) - (sum(s.duration) < cast(sum(s.duration) as int)) \"Minutes\",\n",
        "((round(sum(s.duration),2) - cast(sum(s.duration) as int))*60) \"Seconds\"\n",
        "      FROM \n",
        "\t\t\tsong AS s JOIN album AS al ON s.album_id = al.id\n",
        "      where al.name= 'Greatest Hits'"
      ]
    },
    {
      "attachments": {},
      "cell_type": "markdown",
      "metadata": {
        "id": "S0XJYx5U0_Rn"
      },
      "source": [
        "<b>19. Which artists did not release an album during the decades of the 1980's and the 1990's?</b>"
      ]
    },
    {
      "cell_type": "code",
      "execution_count": 66,
      "metadata": {
        "colab": {
          "base_uri": "https://localhost:8080/",
          "height": 225
        },
        "id": "LpsPW9NNHKp-",
        "outputId": "852b00ea-ab7b-4e1b-b797-12178dca65d2"
      },
      "outputs": [
        {
          "name": "stdout",
          "output_type": "stream",
          "text": [
            " * sqlite:///cloud1.db\n",
            "Done.\n"
          ]
        },
        {
          "data": {
            "text/html": [
              "<table>\n",
              "    <tr>\n",
              "        <th>Artist Name</th>\n",
              "    </tr>\n",
              "    <tr>\n",
              "        <td>Amorphis</td>\n",
              "    </tr>\n",
              "    <tr>\n",
              "        <td>Anastacia</td>\n",
              "    </tr>\n",
              "    <tr>\n",
              "        <td>Anthrax</td>\n",
              "    </tr>\n",
              "    <tr>\n",
              "        <td>Christina</td>\n",
              "    </tr>\n",
              "    <tr>\n",
              "        <td>Eric Clapton</td>\n",
              "    </tr>\n",
              "    <tr>\n",
              "        <td>Gary Allan</td>\n",
              "    </tr>\n",
              "    <tr>\n",
              "        <td>Lynyrd Skynyrd</td>\n",
              "    </tr>\n",
              "</table>"
            ],
            "text/plain": [
              "[('Amorphis',),\n",
              " ('Anastacia',),\n",
              " ('Anthrax',),\n",
              " ('Christina',),\n",
              " ('Eric Clapton',),\n",
              " ('Gary Allan',),\n",
              " ('Lynyrd Skynyrd',)]"
            ]
          },
          "execution_count": 66,
          "metadata": {},
          "output_type": "execute_result"
        }
      ],
      "source": [
        "%%sql\n",
        "select distinct ar.name as 'Artist Name'\n",
        "from artist AS ar left JOIN album AS al ON al.artist_id = ar.id and year >= 1980 and year <= 1990\n",
        "where year is null\n",
        "order by ar.name"
      ]
    },
    {
      "attachments": {},
      "cell_type": "markdown",
      "metadata": {
        "id": "KkW8ibGO0_Ro"
      },
      "source": [
        "<b>20. Which artists did release an album during the decades of the 1980's and the 1990's?</b>"
      ]
    },
    {
      "cell_type": "code",
      "execution_count": 68,
      "metadata": {
        "colab": {
          "base_uri": "https://localhost:8080/",
          "height": 118
        },
        "id": "RKMM9d7ZLyhh",
        "outputId": "15d8799e-f735-49f7-f568-6e12171d7458"
      },
      "outputs": [
        {
          "name": "stdout",
          "output_type": "stream",
          "text": [
            " * sqlite:///cloud1.db\n",
            "Done.\n"
          ]
        },
        {
          "data": {
            "text/html": [
              "<table>\n",
              "    <tr>\n",
              "        <th>Artist Name</th>\n",
              "    </tr>\n",
              "    <tr>\n",
              "        <td>AC/DC</td>\n",
              "    </tr>\n",
              "    <tr>\n",
              "        <td>Aerosmith</td>\n",
              "    </tr>\n",
              "</table>"
            ],
            "text/plain": [
              "[('AC/DC',), ('Aerosmith',)]"
            ]
          },
          "execution_count": 68,
          "metadata": {},
          "output_type": "execute_result"
        }
      ],
      "source": [
        "%%sql\n",
        "select distinct ar.name as 'Artist Name'\n",
        "from artist AS ar inner JOIN album AS al ON al.artist_id = ar.id and year >= 1980 and year <= 1990\n",
        "order by ar.name"
      ]
    }
  ],
  "metadata": {
    "colab": {
      "provenance": []
    },
    "kernelspec": {
      "display_name": "Python 3",
      "language": "python",
      "name": "python3"
    },
    "language_info": {
      "codemirror_mode": {
        "name": "ipython",
        "version": 3
      },
      "file_extension": ".py",
      "mimetype": "text/x-python",
      "name": "python",
      "nbconvert_exporter": "python",
      "pygments_lexer": "ipython3",
      "version": "3.8.5"
    }
  },
  "nbformat": 4,
  "nbformat_minor": 0
}
