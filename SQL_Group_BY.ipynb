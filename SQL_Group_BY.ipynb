{
  "nbformat": 4,
  "nbformat_minor": 0,
  "metadata": {
    "colab": {
      "provenance": []
    },
    "kernelspec": {
      "name": "python3",
      "display_name": "Python 3"
    },
    "language_info": {
      "name": "python"
    }
  },
  "cells": [
    {
      "cell_type": "markdown",
      "source": [
        "<h1><center><b><u>Group By</h1></center></b></u>\n",
        "\n",
        "\n",
        "<h2><u>Group By:</h2></u>\n",
        "\n",
        "The SQL GROUP BY clause is used in collaboration with the SELECT statement to arrange identical data into groups. This GROUP BY clause follows the WHERE clause in a SELECT statement and precedes the ORDER BY clause.\n",
        "\n",
        "<u>Syntax:</u>\n",
        "\n",
        "SELECT column1, column2\n",
        "FROM table_name\n",
        "WHERE [ conditions ]\n",
        "GROUP BY column1, column2\n",
        "ORDER BY column1, column2\n",
        "\n",
        "![](https://learnsql.com/blog/group-by-in-sql-explained/GROUP_BY-avg.jpg)\n",
        "\n",
        "<h2><u>Aggregate functions:</h2></u>\n",
        "\n",
        "Aggregate functions are functions that are performed over one or more values and return a single value. When an aggregate function is used along with a GROUP BY clause, it can return one or more values. \n",
        "\n",
        "![](https://static.javatpoint.com/dbms/images/dbms-sql-aggregate-functio.png)\n",
        "\n",
        "The five aggregate functions that we can use with the SQL Order By statement are:\n",
        "\n",
        "AVG(): Calculates the average of the set of values.<br>\n",
        "COUNT(): Returns the count of rows.<br>\n",
        "SUM(): Calculates the arithmetic sum of the set of numeric values.<br>\n",
        "![](https://www.mysqltutorial.org/wp-content/uploads/2019/09/MySQL-Aggregate-Function.png)<br>\n",
        "MAX(): From a group of values, returns the maximum value.<br>\n",
        "MIN(): From a group of values, returns the minimum value.<br>\n",
        "\n",
        "Refer: https://www.w3schools.com/sql/sql_groupby.asp#:~:text=The%20GROUP%20BY%20statement%20groups,by%20one%20or%20more%20columns.\n"
      ],
      "metadata": {
        "id": "7Ay4Q4JNViGZ"
      }
    },
    {
      "cell_type": "markdown",
      "source": [
        "### Now lets begin with the implementation of queries.\n",
        "\n",
        "**In this assignment we will be using the DVD sales Schema having 4 tables. Given Below is the schema of the same.**\n",
        "\n",
        "!![Capture.PNG](data:image/png;base64,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)"
      ],
      "metadata": {
        "id": "FPpY_XUOWS4U"
      }
    },
    {
      "cell_type": "code",
      "source": [
        "!pip install SQLAlchemy==1.4.46"
      ],
      "metadata": {
        "colab": {
          "base_uri": "https://localhost:8080/",
          "height": 295
        },
        "id": "u3_0yMxaXJgh",
        "outputId": "95d848b5-943e-4216-cad4-4fa478715977"
      },
      "execution_count": 2,
      "outputs": [
        {
          "output_type": "stream",
          "name": "stdout",
          "text": [
            "Looking in indexes: https://pypi.org/simple, https://us-python.pkg.dev/colab-wheels/public/simple/\n",
            "Collecting SQLAlchemy==1.4.46\n",
            "  Downloading SQLAlchemy-1.4.46-cp39-cp39-manylinux_2_5_x86_64.manylinux1_x86_64.manylinux_2_17_x86_64.manylinux2014_x86_64.whl (1.6 MB)\n",
            "\u001b[2K     \u001b[90m━━━━━━━━━━━━━━━━━━━━━━━━━━━━━━━━━━━━━━━━\u001b[0m \u001b[32m1.6/1.6 MB\u001b[0m \u001b[31m28.9 MB/s\u001b[0m eta \u001b[36m0:00:00\u001b[0m\n",
            "\u001b[?25hRequirement already satisfied: greenlet!=0.4.17 in /usr/local/lib/python3.9/dist-packages (from SQLAlchemy==1.4.46) (2.0.2)\n",
            "Installing collected packages: SQLAlchemy\n",
            "  Attempting uninstall: SQLAlchemy\n",
            "    Found existing installation: SQLAlchemy 2.0.9\n",
            "    Uninstalling SQLAlchemy-2.0.9:\n",
            "      Successfully uninstalled SQLAlchemy-2.0.9\n",
            "Successfully installed SQLAlchemy-1.4.46\n"
          ]
        },
        {
          "output_type": "display_data",
          "data": {
            "application/vnd.colab-display-data+json": {
              "pip_warning": {
                "packages": [
                  "sqlalchemy"
                ]
              }
            }
          },
          "metadata": {}
        }
      ]
    },
    {
      "cell_type": "code",
      "source": [
        "import sqlite3\n",
        "sql=sqlite3.connect('group_by1.db')\n",
        "%load_ext sql\n",
        "%sql sqlite:///group_by1.db"
      ],
      "metadata": {
        "id": "zI1sBkBVapsW"
      },
      "execution_count": 1,
      "outputs": []
    },
    {
      "cell_type": "markdown",
      "source": [
        "###**NOW WE WILL CREATE TABLES AND INSERT DATA**\n",
        "##### **RUN NEXT 5 CELLS TO CREATE TABLE AND INSERT DATA**"
      ],
      "metadata": {
        "id": "uHtS3zQya2fn"
      }
    },
    {
      "cell_type": "code",
      "source": [
        "%%sql\n",
        "CREATE TABLE Actor(Actor_ID int(2),Actor_name varchar(30),Gender varchar(10),debut_year int(5));\n",
        "CREATE TABLE Director(Director_ID int(2),Director_name varchar(30),no_of_movies int(10));\n",
        "CREATE TABLE Movie(Movie_name varchar(30),release_year int(5),genre varchar(15),lead_1 int(2),lead_2 int(2),director_id int(2),box_collection int(10) );\n",
        "CREATE TABLE DVD(DVD_id int(2),Movie_name varchar(30),sale int(10));"
      ],
      "metadata": {
        "colab": {
          "base_uri": "https://localhost:8080/"
        },
        "id": "7BnQ0SAMbGr5",
        "outputId": "90c3b94a-bc2f-481b-f8d5-c36c71111954"
      },
      "execution_count": 2,
      "outputs": [
        {
          "output_type": "stream",
          "name": "stdout",
          "text": [
            " * sqlite:///group_by1.db\n",
            "Done.\n",
            "Done.\n",
            "Done.\n",
            "Done.\n"
          ]
        },
        {
          "output_type": "execute_result",
          "data": {
            "text/plain": [
              "[]"
            ]
          },
          "metadata": {},
          "execution_count": 2
        }
      ]
    },
    {
      "cell_type": "code",
      "source": [
        "%%sql\n",
        "insert into actor values(1,'Aamir Khan','male',1988);\n",
        "insert into actor values(2,'Shahrukh Khan','male',1992);\n",
        "insert into actor values(3,'Kareena Kapoor','female',2000);\n",
        "insert into actor values(4,'Kajol','female',1992);\n",
        "insert into actor values(5,'Anushka Sharma','female',2008);\n",
        "insert into actor values(6,'Ranbir Kapoor','male',2007);\n",
        "insert into actor values(7,'Alia Bhatt','female',2012);\n",
        "insert into actor values(8,'Ranveer Singh','male',2010);\n",
        "insert into actor values(9,'Deepika Padukone','female',2006);\n",
        "insert into actor values(10,'Shahid Kapoor','male',2003);\n",
        "insert into actor values(11,'Katrina Kaif','female',2003);\n",
        "insert into actor values(12,'Varun Dhawan','male',2012);\n"
      ],
      "metadata": {
        "colab": {
          "base_uri": "https://localhost:8080/"
        },
        "id": "eju44QLxfC2e",
        "outputId": "6c9abcfc-4ff7-411b-b0d0-e9fb38e58f82"
      },
      "execution_count": 3,
      "outputs": [
        {
          "output_type": "stream",
          "name": "stdout",
          "text": [
            " * sqlite:///group_by1.db\n",
            "1 rows affected.\n",
            "1 rows affected.\n",
            "1 rows affected.\n",
            "1 rows affected.\n",
            "1 rows affected.\n",
            "1 rows affected.\n",
            "1 rows affected.\n",
            "1 rows affected.\n",
            "1 rows affected.\n",
            "1 rows affected.\n",
            "1 rows affected.\n",
            "1 rows affected.\n"
          ]
        },
        {
          "output_type": "execute_result",
          "data": {
            "text/plain": [
              "[]"
            ]
          },
          "metadata": {},
          "execution_count": 3
        }
      ]
    },
    {
      "cell_type": "code",
      "source": [
        "%%sql\n",
        "insert into director values(1,'Rajkumar Hirani',10);\n",
        "insert into director values(2,'Sanjay Leela Bhansali',8);\n",
        "insert into director values(3,'Aditya Chopra',6);\n",
        "insert into director values(4,'Zoya Akhtar',3);\n",
        "insert into director values(5,'Imtiaz Ali',5);\n",
        "insert into director values(6,'Ayan Mukerji',4);\n",
        "insert into director values(7,'Santosh Sivan',9);\n",
        "insert into director values(8,'Farah Khan',4);\n"
      ],
      "metadata": {
        "colab": {
          "base_uri": "https://localhost:8080/"
        },
        "id": "O14y-RECoFT2",
        "outputId": "8e0b6b46-f9c7-4614-be8a-783f2a0adb36"
      },
      "execution_count": 4,
      "outputs": [
        {
          "output_type": "stream",
          "name": "stdout",
          "text": [
            " * sqlite:///group_by1.db\n",
            "1 rows affected.\n",
            "1 rows affected.\n",
            "1 rows affected.\n",
            "1 rows affected.\n",
            "1 rows affected.\n",
            "1 rows affected.\n",
            "1 rows affected.\n",
            "1 rows affected.\n"
          ]
        },
        {
          "output_type": "execute_result",
          "data": {
            "text/plain": [
              "[]"
            ]
          },
          "metadata": {},
          "execution_count": 4
        }
      ]
    },
    {
      "cell_type": "code",
      "source": [
        "%%sql\n",
        "insert into movie values('3 Idiots',2009,'comedy',1,3,1,989600000);\n",
        "insert into movie values('PK',2014,'satire',1,5,1,789600000);\n",
        "insert into movie values('Bajirao Mastani',2015,'historic',8,9,2,68960000);\n",
        "insert into movie values('Rab ne bana di jodi',2008,'romance',2,5,3,48960000);\n",
        "insert into movie values('Gully boy',2019,'Musical drama',8,7,4,28950000);\n",
        "insert into movie values('Jab we met',2007,'romance',10,3,5,18980000);\n",
        "insert into movie values('Padmavat',2018,'historic',8,9,2,38460000);\n",
        "insert into movie values('Yeh jawani hai deewani',2013,'romance',6,9,6,581600000);\n",
        "insert into movie values('Ashoka',2001,'historic',2,3,7,8796000);\n",
        "insert into movie values('Happy new year',2014,'comedy',2,9,8,68960000);\n"
      ],
      "metadata": {
        "colab": {
          "base_uri": "https://localhost:8080/"
        },
        "id": "7oKqZDJQhxXr",
        "outputId": "0730cf1c-7784-4369-d547-35491e25cae2"
      },
      "execution_count": 5,
      "outputs": [
        {
          "output_type": "stream",
          "name": "stdout",
          "text": [
            " * sqlite:///group_by1.db\n",
            "1 rows affected.\n",
            "1 rows affected.\n",
            "1 rows affected.\n",
            "1 rows affected.\n",
            "1 rows affected.\n",
            "1 rows affected.\n",
            "1 rows affected.\n",
            "1 rows affected.\n",
            "1 rows affected.\n",
            "1 rows affected.\n"
          ]
        },
        {
          "output_type": "execute_result",
          "data": {
            "text/plain": [
              "[]"
            ]
          },
          "metadata": {},
          "execution_count": 5
        }
      ]
    },
    {
      "cell_type": "code",
      "source": [
        "%%sql\n",
        "insert into DVD values(1,'3 Idiots',8890);\n",
        "insert into DVD values(2,'PK',8790);\n",
        "insert into DVD values(3,'Bajirao Mastani',6810);\n",
        "insert into DVD values(4,'Rab ne bana di jodi',7920);\n",
        "insert into DVD values(5,'Gully boy',870);\n",
        "insert into DVD values(6,'Jab we met',4792);\n",
        "insert into DVD values(7,'Padmavat',590);\n",
        "insert into DVD values(8,'Yeh jawani hai deewani',2890);\n",
        "insert into DVD values(9,'Ashoka',730);\n",
        "insert into DVD values(10,'Happy new year',1690);"
      ],
      "metadata": {
        "colab": {
          "base_uri": "https://localhost:8080/"
        },
        "id": "tufbMkPipeUR",
        "outputId": "65c5a908-170d-4c55-d64c-160265215ba2"
      },
      "execution_count": 6,
      "outputs": [
        {
          "output_type": "stream",
          "name": "stdout",
          "text": [
            " * sqlite:///group_by1.db\n",
            "1 rows affected.\n",
            "1 rows affected.\n",
            "1 rows affected.\n",
            "1 rows affected.\n",
            "1 rows affected.\n",
            "1 rows affected.\n",
            "1 rows affected.\n",
            "1 rows affected.\n",
            "1 rows affected.\n",
            "1 rows affected.\n"
          ]
        },
        {
          "output_type": "execute_result",
          "data": {
            "text/plain": [
              "[]"
            ]
          },
          "metadata": {},
          "execution_count": 6
        }
      ]
    },
    {
      "cell_type": "markdown",
      "source": [
        "### NOW YOU CAN BEGIN WITH THE QUERIES."
      ],
      "metadata": {
        "id": "b1KOtgMRsKTD"
      }
    },
    {
      "cell_type": "markdown",
      "source": [
        "### 1. Display the count of actors and actresses.\n",
        "\n"
      ],
      "metadata": {
        "id": "WPpMMW1DsLkM"
      }
    },
    {
      "cell_type": "code",
      "source": [
        "%%sql\n",
        "select Gender, count(Gender) as number from Actor group by Gender"
      ],
      "metadata": {
        "colab": {
          "base_uri": "https://localhost:8080/",
          "height": 118
        },
        "id": "RrtX6krprmwL",
        "outputId": "04c8e641-d7e2-4f7c-c4c6-da9b6c567798"
      },
      "execution_count": 7,
      "outputs": [
        {
          "output_type": "stream",
          "name": "stdout",
          "text": [
            " * sqlite:///group_by1.db\n",
            "Done.\n"
          ]
        },
        {
          "output_type": "execute_result",
          "data": {
            "text/plain": [
              "[('female', 6), ('male', 6)]"
            ],
            "text/html": [
              "<table>\n",
              "    <tr>\n",
              "        <th>Gender</th>\n",
              "        <th>number</th>\n",
              "    </tr>\n",
              "    <tr>\n",
              "        <td>female</td>\n",
              "        <td>6</td>\n",
              "    </tr>\n",
              "    <tr>\n",
              "        <td>male</td>\n",
              "        <td>6</td>\n",
              "    </tr>\n",
              "</table>"
            ]
          },
          "metadata": {},
          "execution_count": 7
        }
      ]
    },
    {
      "cell_type": "markdown",
      "source": [
        "### 2. Display the count of movies of each genre.\n"
      ],
      "metadata": {
        "id": "ZhZFftd3s9aB"
      }
    },
    {
      "cell_type": "code",
      "source": [
        "%%sql\n",
        "select genre,count(Movie_name) as count from Movie group by genre"
      ],
      "metadata": {
        "colab": {
          "base_uri": "https://localhost:8080/",
          "height": 182
        },
        "id": "shaKbv2ctKy6",
        "outputId": "8600e329-e327-4b0b-f908-455b02101cfe"
      },
      "execution_count": 8,
      "outputs": [
        {
          "output_type": "stream",
          "name": "stdout",
          "text": [
            " * sqlite:///group_by1.db\n",
            "Done.\n"
          ]
        },
        {
          "output_type": "execute_result",
          "data": {
            "text/plain": [
              "[('Musical drama', 1),\n",
              " ('comedy', 2),\n",
              " ('historic', 3),\n",
              " ('romance', 3),\n",
              " ('satire', 1)]"
            ],
            "text/html": [
              "<table>\n",
              "    <tr>\n",
              "        <th>genre</th>\n",
              "        <th>count</th>\n",
              "    </tr>\n",
              "    <tr>\n",
              "        <td>Musical drama</td>\n",
              "        <td>1</td>\n",
              "    </tr>\n",
              "    <tr>\n",
              "        <td>comedy</td>\n",
              "        <td>2</td>\n",
              "    </tr>\n",
              "    <tr>\n",
              "        <td>historic</td>\n",
              "        <td>3</td>\n",
              "    </tr>\n",
              "    <tr>\n",
              "        <td>romance</td>\n",
              "        <td>3</td>\n",
              "    </tr>\n",
              "    <tr>\n",
              "        <td>satire</td>\n",
              "        <td>1</td>\n",
              "    </tr>\n",
              "</table>"
            ]
          },
          "metadata": {},
          "execution_count": 8
        }
      ]
    },
    {
      "cell_type": "markdown",
      "source": [
        "### 3. Calculate the oldest released movie of each genre.\n"
      ],
      "metadata": {
        "id": "wFi98ZRvtYzB"
      }
    },
    {
      "cell_type": "code",
      "source": [
        "%%sql\n",
        "select genre,min(release_year) as 'oldest release' from Movie group by genre"
      ],
      "metadata": {
        "colab": {
          "base_uri": "https://localhost:8080/",
          "height": 182
        },
        "id": "RvfKHuimtRU1",
        "outputId": "efdcd899-066d-4ea9-e858-d906a90f8efd"
      },
      "execution_count": 9,
      "outputs": [
        {
          "output_type": "stream",
          "name": "stdout",
          "text": [
            " * sqlite:///group_by1.db\n",
            "Done.\n"
          ]
        },
        {
          "output_type": "execute_result",
          "data": {
            "text/plain": [
              "[('Musical drama', 2019),\n",
              " ('comedy', 2009),\n",
              " ('historic', 2001),\n",
              " ('romance', 2007),\n",
              " ('satire', 2014)]"
            ],
            "text/html": [
              "<table>\n",
              "    <tr>\n",
              "        <th>genre</th>\n",
              "        <th>oldest release</th>\n",
              "    </tr>\n",
              "    <tr>\n",
              "        <td>Musical drama</td>\n",
              "        <td>2019</td>\n",
              "    </tr>\n",
              "    <tr>\n",
              "        <td>comedy</td>\n",
              "        <td>2009</td>\n",
              "    </tr>\n",
              "    <tr>\n",
              "        <td>historic</td>\n",
              "        <td>2001</td>\n",
              "    </tr>\n",
              "    <tr>\n",
              "        <td>romance</td>\n",
              "        <td>2007</td>\n",
              "    </tr>\n",
              "    <tr>\n",
              "        <td>satire</td>\n",
              "        <td>2014</td>\n",
              "    </tr>\n",
              "</table>"
            ]
          },
          "metadata": {},
          "execution_count": 9
        }
      ]
    },
    {
      "cell_type": "markdown",
      "source": [
        "### 4. Calculate the total box office collection for movies of each genre.\n"
      ],
      "metadata": {
        "id": "iw7pDYlxuGMx"
      }
    },
    {
      "cell_type": "code",
      "source": [
        "%%sql\n",
        "select genre,sum(box_collection) as 'total box office collection' from Movie group by genre"
      ],
      "metadata": {
        "colab": {
          "base_uri": "https://localhost:8080/",
          "height": 182
        },
        "id": "4gYWPOluQGx5",
        "outputId": "24e440ab-d425-4ff5-c58c-ad1cbcdf56b8"
      },
      "execution_count": 10,
      "outputs": [
        {
          "output_type": "stream",
          "name": "stdout",
          "text": [
            " * sqlite:///group_by1.db\n",
            "Done.\n"
          ]
        },
        {
          "output_type": "execute_result",
          "data": {
            "text/plain": [
              "[('Musical drama', 28950000),\n",
              " ('comedy', 1058560000),\n",
              " ('historic', 116216000),\n",
              " ('romance', 649540000),\n",
              " ('satire', 789600000)]"
            ],
            "text/html": [
              "<table>\n",
              "    <tr>\n",
              "        <th>genre</th>\n",
              "        <th>total box office collection</th>\n",
              "    </tr>\n",
              "    <tr>\n",
              "        <td>Musical drama</td>\n",
              "        <td>28950000</td>\n",
              "    </tr>\n",
              "    <tr>\n",
              "        <td>comedy</td>\n",
              "        <td>1058560000</td>\n",
              "    </tr>\n",
              "    <tr>\n",
              "        <td>historic</td>\n",
              "        <td>116216000</td>\n",
              "    </tr>\n",
              "    <tr>\n",
              "        <td>romance</td>\n",
              "        <td>649540000</td>\n",
              "    </tr>\n",
              "    <tr>\n",
              "        <td>satire</td>\n",
              "        <td>789600000</td>\n",
              "    </tr>\n",
              "</table>"
            ]
          },
          "metadata": {},
          "execution_count": 10
        }
      ]
    },
    {
      "cell_type": "markdown",
      "source": [
        "### 5. Display the name of director, current count of movies and total count of movies directed by him/her."
      ],
      "metadata": {
        "id": "O36y70rTRArj"
      }
    },
    {
      "cell_type": "code",
      "source": [
        "%%sql\n",
        "select d.Director_name,count(m.director_id) as 'current count',d.no_of_movies as 'total count' from Movie as m,Director as d where d.Director_ID = m.director_id group by Director_name \n"
      ],
      "metadata": {
        "colab": {
          "base_uri": "https://localhost:8080/",
          "height": 246
        },
        "id": "piDuP9QlRKb9",
        "outputId": "f274a4bf-47ee-43ac-f17a-b486fdb6439a"
      },
      "execution_count": 22,
      "outputs": [
        {
          "output_type": "stream",
          "name": "stdout",
          "text": [
            " * sqlite:///group_by1.db\n",
            "Done.\n"
          ]
        },
        {
          "output_type": "execute_result",
          "data": {
            "text/plain": [
              "[('Aditya Chopra', 1, 6),\n",
              " ('Ayan Mukerji', 1, 4),\n",
              " ('Farah Khan', 1, 4),\n",
              " ('Imtiaz Ali', 1, 5),\n",
              " ('Rajkumar Hirani', 2, 10),\n",
              " ('Sanjay Leela Bhansali', 2, 8),\n",
              " ('Santosh Sivan', 1, 9),\n",
              " ('Zoya Akhtar', 1, 3)]"
            ],
            "text/html": [
              "<table>\n",
              "    <tr>\n",
              "        <th>Director_name</th>\n",
              "        <th>current count</th>\n",
              "        <th>total count</th>\n",
              "    </tr>\n",
              "    <tr>\n",
              "        <td>Aditya Chopra</td>\n",
              "        <td>1</td>\n",
              "        <td>6</td>\n",
              "    </tr>\n",
              "    <tr>\n",
              "        <td>Ayan Mukerji</td>\n",
              "        <td>1</td>\n",
              "        <td>4</td>\n",
              "    </tr>\n",
              "    <tr>\n",
              "        <td>Farah Khan</td>\n",
              "        <td>1</td>\n",
              "        <td>4</td>\n",
              "    </tr>\n",
              "    <tr>\n",
              "        <td>Imtiaz Ali</td>\n",
              "        <td>1</td>\n",
              "        <td>5</td>\n",
              "    </tr>\n",
              "    <tr>\n",
              "        <td>Rajkumar Hirani</td>\n",
              "        <td>2</td>\n",
              "        <td>10</td>\n",
              "    </tr>\n",
              "    <tr>\n",
              "        <td>Sanjay Leela Bhansali</td>\n",
              "        <td>2</td>\n",
              "        <td>8</td>\n",
              "    </tr>\n",
              "    <tr>\n",
              "        <td>Santosh Sivan</td>\n",
              "        <td>1</td>\n",
              "        <td>9</td>\n",
              "    </tr>\n",
              "    <tr>\n",
              "        <td>Zoya Akhtar</td>\n",
              "        <td>1</td>\n",
              "        <td>3</td>\n",
              "    </tr>\n",
              "</table>"
            ]
          },
          "metadata": {},
          "execution_count": 22
        }
      ]
    },
    {
      "cell_type": "markdown",
      "source": [
        "### 6. Display the name of lead_1 actors, their count of movies and their total DVD sales."
      ],
      "metadata": {
        "id": "299NXhmvSmUC"
      }
    },
    {
      "cell_type": "code",
      "source": [
        "%%sql\n",
        "select a.Actor_name, count(m.lead_1), sum(d.sale) as 'total sales' from Actor as a, Movie as m, DVD as d where a.Actor_ID=m.lead_1 and m.Movie_name=d.Movie_name group by a.Actor_name\n",
        "\n",
        "\n"
      ],
      "metadata": {
        "colab": {
          "base_uri": "https://localhost:8080/",
          "height": 182
        },
        "id": "NBflBqLGRodp",
        "outputId": "1b1b9cad-7e02-4d3d-f467-2fb309c89b69"
      },
      "execution_count": 27,
      "outputs": [
        {
          "output_type": "stream",
          "name": "stdout",
          "text": [
            " * sqlite:///group_by1.db\n",
            "Done.\n"
          ]
        },
        {
          "output_type": "execute_result",
          "data": {
            "text/plain": [
              "[('Aamir Khan', 2, 17680),\n",
              " ('Ranbir Kapoor', 1, 2890),\n",
              " ('Ranveer Singh', 3, 8270),\n",
              " ('Shahid Kapoor', 1, 4792),\n",
              " ('Shahrukh Khan', 3, 10340)]"
            ],
            "text/html": [
              "<table>\n",
              "    <tr>\n",
              "        <th>Actor_name</th>\n",
              "        <th>count(m.lead_1)</th>\n",
              "        <th>total sales</th>\n",
              "    </tr>\n",
              "    <tr>\n",
              "        <td>Aamir Khan</td>\n",
              "        <td>2</td>\n",
              "        <td>17680</td>\n",
              "    </tr>\n",
              "    <tr>\n",
              "        <td>Ranbir Kapoor</td>\n",
              "        <td>1</td>\n",
              "        <td>2890</td>\n",
              "    </tr>\n",
              "    <tr>\n",
              "        <td>Ranveer Singh</td>\n",
              "        <td>3</td>\n",
              "        <td>8270</td>\n",
              "    </tr>\n",
              "    <tr>\n",
              "        <td>Shahid Kapoor</td>\n",
              "        <td>1</td>\n",
              "        <td>4792</td>\n",
              "    </tr>\n",
              "    <tr>\n",
              "        <td>Shahrukh Khan</td>\n",
              "        <td>3</td>\n",
              "        <td>10340</td>\n",
              "    </tr>\n",
              "</table>"
            ]
          },
          "metadata": {},
          "execution_count": 27
        }
      ]
    },
    {
      "cell_type": "markdown",
      "source": [
        "<h2><u>Having:</h2></u>\n",
        "\n",
        "While the GROUP BY Clause groups rows that have the same values into summary rows. The having clause is used with the where clause in order to find rows with certain conditions. The having clause is always used after the group By clause.\n",
        "\n",
        "<u>Syntax:</u>\n",
        "\n",
        "SELECT column1, column2\n",
        "FROM table_name\n",
        "WHERE [ conditions ]\n",
        "GROUP BY column1, column2\n",
        "HAVING [ conditions ]\n",
        "\n",
        "![](https://www.w3resource.com/w3r_images/sql-having.png)"
      ],
      "metadata": {
        "id": "D1-rgR8uVY93"
      }
    },
    {
      "cell_type": "markdown",
      "source": [
        "### 7. Show the release year and number of movies released in each year only if more than 1 movie is released each year."
      ],
      "metadata": {
        "id": "e0hpSmBbZA0W"
      }
    },
    {
      "cell_type": "code",
      "source": [
        "%%sql\n",
        "select m.release_year, count(m.release_year) as 'no. of movies' from Movie as m group by m.release_year having count(m.release_year) > 1\n"
      ],
      "metadata": {
        "colab": {
          "base_uri": "https://localhost:8080/",
          "height": 96
        },
        "id": "xIhKlnOUUgXz",
        "outputId": "1adc38e3-e182-42c3-9ea2-44ca334797fe"
      },
      "execution_count": 29,
      "outputs": [
        {
          "output_type": "stream",
          "name": "stdout",
          "text": [
            " * sqlite:///group_by1.db\n",
            "Done.\n"
          ]
        },
        {
          "output_type": "execute_result",
          "data": {
            "text/plain": [
              "[(2014, 2)]"
            ],
            "text/html": [
              "<table>\n",
              "    <tr>\n",
              "        <th>release_year</th>\n",
              "        <th>no. of movies</th>\n",
              "    </tr>\n",
              "    <tr>\n",
              "        <td>2014</td>\n",
              "        <td>2</td>\n",
              "    </tr>\n",
              "</table>"
            ]
          },
          "metadata": {},
          "execution_count": 29
        }
      ]
    },
    {
      "cell_type": "markdown",
      "source": [
        "### 8. Display the director name and their total box office collection which should be greater than 50 crores."
      ],
      "metadata": {
        "id": "3Z_vlqnZaF_h"
      }
    },
    {
      "cell_type": "code",
      "source": [
        "%%sql\n",
        "select d.Director_name, sum(m.box_collection) as 'total box collection' from Director as d, Movie as m where m.director_id=d.Director_ID group by d.Director_name having sum(m.box_collection)>500000000\n",
        "\n"
      ],
      "metadata": {
        "colab": {
          "base_uri": "https://localhost:8080/",
          "height": 118
        },
        "id": "0gJo1nJtYwQE",
        "outputId": "a871bcd1-3adb-47ec-b062-5768bf7d4396"
      },
      "execution_count": 31,
      "outputs": [
        {
          "output_type": "stream",
          "name": "stdout",
          "text": [
            " * sqlite:///group_by1.db\n",
            "Done.\n"
          ]
        },
        {
          "output_type": "execute_result",
          "data": {
            "text/plain": [
              "[('Ayan Mukerji', 581600000), ('Rajkumar Hirani', 1779200000)]"
            ],
            "text/html": [
              "<table>\n",
              "    <tr>\n",
              "        <th>Director_name</th>\n",
              "        <th>total box collection</th>\n",
              "    </tr>\n",
              "    <tr>\n",
              "        <td>Ayan Mukerji</td>\n",
              "        <td>581600000</td>\n",
              "    </tr>\n",
              "    <tr>\n",
              "        <td>Rajkumar Hirani</td>\n",
              "        <td>1779200000</td>\n",
              "    </tr>\n",
              "</table>"
            ]
          },
          "metadata": {},
          "execution_count": 31
        }
      ]
    },
    {
      "cell_type": "markdown",
      "source": [
        "<h2><u>Order By:</h2></u>\n",
        "\n",
        "The ORDER BY keyword is used to sort the result-set in ascending or descending order.\n",
        "\n",
        "The ORDER BY keyword sorts the records in ascending order by default. To sort the records in descending order, use the DESC keyword.\n",
        "\n",
        "<u>Syntax:</u>\n",
        "\n",
        "SELECT column1, column2\n",
        "FROM table_name\n",
        "WHERE [ conditions ]\n",
        "GROUP BY column1, column2\n",
        "HAVING [ conditions ]\n",
        "ORDER BY column1,column2;\n",
        "\n",
        "![](https://cdn.educba.com/academy/wp-content/uploads/2019/09/ORDER-BY-Clause-in-SQL.png)"
      ],
      "metadata": {
        "id": "B304nnlJapa3"
      }
    },
    {
      "cell_type": "markdown",
      "source": [
        "### 9. Give the count of movies of each genre in decreasing order of count."
      ],
      "metadata": {
        "id": "Lwnh1Q6PfDQQ"
      }
    },
    {
      "cell_type": "code",
      "source": [
        "%%sql\n",
        "select genre, count(Movie_name) as 'count of movie' from Movie group by genre order by count(Movie_name) desc\n"
      ],
      "metadata": {
        "colab": {
          "base_uri": "https://localhost:8080/",
          "height": 182
        },
        "id": "-Sz-2zw6aAWA",
        "outputId": "0eb834e9-c5b8-4e05-f61b-46a4ec905090"
      },
      "execution_count": 34,
      "outputs": [
        {
          "output_type": "stream",
          "name": "stdout",
          "text": [
            " * sqlite:///group_by1.db\n",
            "Done.\n"
          ]
        },
        {
          "output_type": "execute_result",
          "data": {
            "text/plain": [
              "[('romance', 3),\n",
              " ('historic', 3),\n",
              " ('comedy', 2),\n",
              " ('satire', 1),\n",
              " ('Musical drama', 1)]"
            ],
            "text/html": [
              "<table>\n",
              "    <tr>\n",
              "        <th>genre</th>\n",
              "        <th>count of movie</th>\n",
              "    </tr>\n",
              "    <tr>\n",
              "        <td>romance</td>\n",
              "        <td>3</td>\n",
              "    </tr>\n",
              "    <tr>\n",
              "        <td>historic</td>\n",
              "        <td>3</td>\n",
              "    </tr>\n",
              "    <tr>\n",
              "        <td>comedy</td>\n",
              "        <td>2</td>\n",
              "    </tr>\n",
              "    <tr>\n",
              "        <td>satire</td>\n",
              "        <td>1</td>\n",
              "    </tr>\n",
              "    <tr>\n",
              "        <td>Musical drama</td>\n",
              "        <td>1</td>\n",
              "    </tr>\n",
              "</table>"
            ]
          },
          "metadata": {},
          "execution_count": 34
        }
      ]
    },
    {
      "cell_type": "markdown",
      "source": [
        "### 10. Sort the movie names based on director names."
      ],
      "metadata": {
        "id": "a9izPLWKgAI3"
      }
    },
    {
      "cell_type": "code",
      "source": [
        "%%sql\n",
        "select d.Director_name, m.Movie_name from Director as d, Movie as m where m.director_id=d.Director_ID order by d.Director_name\n",
        "\n"
      ],
      "metadata": {
        "colab": {
          "base_uri": "https://localhost:8080/",
          "height": 289
        },
        "id": "jANzpBHHfuBL",
        "outputId": "3de11fcb-a6b0-435b-95a6-5edb5f9c66e3"
      },
      "execution_count": 35,
      "outputs": [
        {
          "output_type": "stream",
          "name": "stdout",
          "text": [
            " * sqlite:///group_by1.db\n",
            "Done.\n"
          ]
        },
        {
          "output_type": "execute_result",
          "data": {
            "text/plain": [
              "[('Aditya Chopra', 'Rab ne bana di jodi'),\n",
              " ('Ayan Mukerji', 'Yeh jawani hai deewani'),\n",
              " ('Farah Khan', 'Happy new year'),\n",
              " ('Imtiaz Ali', 'Jab we met'),\n",
              " ('Rajkumar Hirani', '3 Idiots'),\n",
              " ('Rajkumar Hirani', 'PK'),\n",
              " ('Sanjay Leela Bhansali', 'Bajirao Mastani'),\n",
              " ('Sanjay Leela Bhansali', 'Padmavat'),\n",
              " ('Santosh Sivan', 'Ashoka'),\n",
              " ('Zoya Akhtar', 'Gully boy')]"
            ],
            "text/html": [
              "<table>\n",
              "    <tr>\n",
              "        <th>Director_name</th>\n",
              "        <th>Movie_name</th>\n",
              "    </tr>\n",
              "    <tr>\n",
              "        <td>Aditya Chopra</td>\n",
              "        <td>Rab ne bana di jodi</td>\n",
              "    </tr>\n",
              "    <tr>\n",
              "        <td>Ayan Mukerji</td>\n",
              "        <td>Yeh jawani hai deewani</td>\n",
              "    </tr>\n",
              "    <tr>\n",
              "        <td>Farah Khan</td>\n",
              "        <td>Happy new year</td>\n",
              "    </tr>\n",
              "    <tr>\n",
              "        <td>Imtiaz Ali</td>\n",
              "        <td>Jab we met</td>\n",
              "    </tr>\n",
              "    <tr>\n",
              "        <td>Rajkumar Hirani</td>\n",
              "        <td>3 Idiots</td>\n",
              "    </tr>\n",
              "    <tr>\n",
              "        <td>Rajkumar Hirani</td>\n",
              "        <td>PK</td>\n",
              "    </tr>\n",
              "    <tr>\n",
              "        <td>Sanjay Leela Bhansali</td>\n",
              "        <td>Bajirao Mastani</td>\n",
              "    </tr>\n",
              "    <tr>\n",
              "        <td>Sanjay Leela Bhansali</td>\n",
              "        <td>Padmavat</td>\n",
              "    </tr>\n",
              "    <tr>\n",
              "        <td>Santosh Sivan</td>\n",
              "        <td>Ashoka</td>\n",
              "    </tr>\n",
              "    <tr>\n",
              "        <td>Zoya Akhtar</td>\n",
              "        <td>Gully boy</td>\n",
              "    </tr>\n",
              "</table>"
            ]
          },
          "metadata": {},
          "execution_count": 35
        }
      ]
    },
    {
      "cell_type": "markdown",
      "source": [
        "## Congratulations on completing this assignment!!\n",
        "\n",
        "![](https://thumbs.dreamstime.com/b/thank-you-lettering-blurred-lights-background-thank-you-lettering-102011881.jpg)\n"
      ],
      "metadata": {
        "id": "SwbLjoywgle5"
      }
    }
  ]
}