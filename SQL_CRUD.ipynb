{
  "cells": [
    {
      "attachments": {},
      "cell_type": "markdown",
      "metadata": {
        "id": "rC5dTmT4Ljf6"
      },
      "source": [
        "# SQL - (Structured Query Language) \n",
        "It is the language that we use when we try to interact with the database or we can say that SQL is basically a standard that all relational DBMS like Mysql implement.\n",
        "\n",
        "Mysql\n",
        "\n",
        "we will be using mysql throughout these tutorial but the concepts that we will learn can be applied to pretty much any relational databases."
      ]
    },
    {
      "attachments": {},
      "cell_type": "markdown",
      "metadata": {
        "id": "Ga2axL6xLjf7"
      },
      "source": [
        "# Working with Databases\n",
        "in order to start working with databases, we first need to create them and then select them to use that databases, after that we can make table in those databases to store the various data in tabular format as per our requirement.\n",
        "- to create a database we use - \n",
        "**CREATE DATABASE mydb**(we have already created a database)\n",
        "<p>once the database is created , we can select that databases, by doing this we explicitly tell mysql that out of all the available databases which one of them we want to work upon.</p>\n",
        "- to select a database\n",
        "**\"USE mydb\"**\n"
      ]
    },
    {
      "attachments": {},
      "cell_type": "markdown",
      "metadata": {
        "id": "orGusXKvLjf7"
      },
      "source": [
        "# Why SQL is so important?\n",
        "[Why SQL is in demand](https://www.freecodecamp.org/news/why-learn-sql/)\n",
        "\n",
        "---\n",
        "[Why you Should Learn SQL](https://www.youtube.com/watch?v=wr7Qwp0cBzI)\n"
      ]
    },
    {
      "attachments": {},
      "cell_type": "markdown",
      "metadata": {
        "id": "Z6kE0veFzWfo"
      },
      "source": [
        "### **RUN NEXT 5 CELLS TO CREATE DATABASE, TABLE AND TO INSERT DATA**"
      ]
    },
    {
      "cell_type": "code",
      "execution_count": 5,
      "metadata": {
        "id": "NtA0LkJp3PfT"
      },
      "outputs": [],
      "source": [
        "## JUST RUN THIS CELL\n",
        "import sqlite3\n",
        "import pandas as pd\n",
        "\n",
        "df = pd.DataFrame({\"id\": [1, 2, 3, 4, 5],\n",
        "    \"name\": [\"David Beggam\", \"Rahul Josh\",\n",
        "                            \"Joe Kamal\", \"Micheal John\", \"Sarath Kumar\"],\n",
        "                  \"address\": [\"California\", \"Mumbai\",\n",
        "                              \"Banglore\", \"Delhi\", \"Chennai\"]})\n",
        "\n",
        "df.set_index(\"id\", inplace=True)"
      ]
    },
    {
      "cell_type": "code",
      "execution_count": 6,
      "metadata": {
        "colab": {
          "base_uri": "https://localhost:8080/",
          "height": 237
        },
        "id": "wUfxjmFq3PfV",
        "outputId": "4d4c5b26-0984-4a6b-ffe4-b9c65521346c"
      },
      "outputs": [
        {
          "data": {
            "text/html": [
              "\n",
              "  <div id=\"df-002c33d8-d39d-4950-9ab4-d12b8fe24768\">\n",
              "    <div class=\"colab-df-container\">\n",
              "      <div>\n",
              "<style scoped>\n",
              "    .dataframe tbody tr th:only-of-type {\n",
              "        vertical-align: middle;\n",
              "    }\n",
              "\n",
              "    .dataframe tbody tr th {\n",
              "        vertical-align: top;\n",
              "    }\n",
              "\n",
              "    .dataframe thead th {\n",
              "        text-align: right;\n",
              "    }\n",
              "</style>\n",
              "<table border=\"1\" class=\"dataframe\">\n",
              "  <thead>\n",
              "    <tr style=\"text-align: right;\">\n",
              "      <th></th>\n",
              "      <th>name</th>\n",
              "      <th>address</th>\n",
              "    </tr>\n",
              "    <tr>\n",
              "      <th>id</th>\n",
              "      <th></th>\n",
              "      <th></th>\n",
              "    </tr>\n",
              "  </thead>\n",
              "  <tbody>\n",
              "    <tr>\n",
              "      <th>1</th>\n",
              "      <td>David Beggam</td>\n",
              "      <td>California</td>\n",
              "    </tr>\n",
              "    <tr>\n",
              "      <th>2</th>\n",
              "      <td>Rahul Josh</td>\n",
              "      <td>Mumbai</td>\n",
              "    </tr>\n",
              "    <tr>\n",
              "      <th>3</th>\n",
              "      <td>Joe Kamal</td>\n",
              "      <td>Banglore</td>\n",
              "    </tr>\n",
              "    <tr>\n",
              "      <th>4</th>\n",
              "      <td>Micheal John</td>\n",
              "      <td>Delhi</td>\n",
              "    </tr>\n",
              "    <tr>\n",
              "      <th>5</th>\n",
              "      <td>Sarath Kumar</td>\n",
              "      <td>Chennai</td>\n",
              "    </tr>\n",
              "  </tbody>\n",
              "</table>\n",
              "</div>\n",
              "      <button class=\"colab-df-convert\" onclick=\"convertToInteractive('df-002c33d8-d39d-4950-9ab4-d12b8fe24768')\"\n",
              "              title=\"Convert this dataframe to an interactive table.\"\n",
              "              style=\"display:none;\">\n",
              "        \n",
              "  <svg xmlns=\"http://www.w3.org/2000/svg\" height=\"24px\"viewBox=\"0 0 24 24\"\n",
              "       width=\"24px\">\n",
              "    <path d=\"M0 0h24v24H0V0z\" fill=\"none\"/>\n",
              "    <path d=\"M18.56 5.44l.94 2.06.94-2.06 2.06-.94-2.06-.94-.94-2.06-.94 2.06-2.06.94zm-11 1L8.5 8.5l.94-2.06 2.06-.94-2.06-.94L8.5 2.5l-.94 2.06-2.06.94zm10 10l.94 2.06.94-2.06 2.06-.94-2.06-.94-.94-2.06-.94 2.06-2.06.94z\"/><path d=\"M17.41 7.96l-1.37-1.37c-.4-.4-.92-.59-1.43-.59-.52 0-1.04.2-1.43.59L10.3 9.45l-7.72 7.72c-.78.78-.78 2.05 0 2.83L4 21.41c.39.39.9.59 1.41.59.51 0 1.02-.2 1.41-.59l7.78-7.78 2.81-2.81c.8-.78.8-2.07 0-2.86zM5.41 20L4 18.59l7.72-7.72 1.47 1.35L5.41 20z\"/>\n",
              "  </svg>\n",
              "      </button>\n",
              "      \n",
              "  <style>\n",
              "    .colab-df-container {\n",
              "      display:flex;\n",
              "      flex-wrap:wrap;\n",
              "      gap: 12px;\n",
              "    }\n",
              "\n",
              "    .colab-df-convert {\n",
              "      background-color: #E8F0FE;\n",
              "      border: none;\n",
              "      border-radius: 50%;\n",
              "      cursor: pointer;\n",
              "      display: none;\n",
              "      fill: #1967D2;\n",
              "      height: 32px;\n",
              "      padding: 0 0 0 0;\n",
              "      width: 32px;\n",
              "    }\n",
              "\n",
              "    .colab-df-convert:hover {\n",
              "      background-color: #E2EBFA;\n",
              "      box-shadow: 0px 1px 2px rgba(60, 64, 67, 0.3), 0px 1px 3px 1px rgba(60, 64, 67, 0.15);\n",
              "      fill: #174EA6;\n",
              "    }\n",
              "\n",
              "    [theme=dark] .colab-df-convert {\n",
              "      background-color: #3B4455;\n",
              "      fill: #D2E3FC;\n",
              "    }\n",
              "\n",
              "    [theme=dark] .colab-df-convert:hover {\n",
              "      background-color: #434B5C;\n",
              "      box-shadow: 0px 1px 3px 1px rgba(0, 0, 0, 0.15);\n",
              "      filter: drop-shadow(0px 1px 2px rgba(0, 0, 0, 0.3));\n",
              "      fill: #FFFFFF;\n",
              "    }\n",
              "  </style>\n",
              "\n",
              "      <script>\n",
              "        const buttonEl =\n",
              "          document.querySelector('#df-002c33d8-d39d-4950-9ab4-d12b8fe24768 button.colab-df-convert');\n",
              "        buttonEl.style.display =\n",
              "          google.colab.kernel.accessAllowed ? 'block' : 'none';\n",
              "\n",
              "        async function convertToInteractive(key) {\n",
              "          const element = document.querySelector('#df-002c33d8-d39d-4950-9ab4-d12b8fe24768');\n",
              "          const dataTable =\n",
              "            await google.colab.kernel.invokeFunction('convertToInteractive',\n",
              "                                                     [key], {});\n",
              "          if (!dataTable) return;\n",
              "\n",
              "          const docLinkHtml = 'Like what you see? Visit the ' +\n",
              "            '<a target=\"_blank\" href=https://colab.research.google.com/notebooks/data_table.ipynb>data table notebook</a>'\n",
              "            + ' to learn more about interactive tables.';\n",
              "          element.innerHTML = '';\n",
              "          dataTable['output_type'] = 'display_data';\n",
              "          await google.colab.output.renderOutput(dataTable, element);\n",
              "          const docLink = document.createElement('div');\n",
              "          docLink.innerHTML = docLinkHtml;\n",
              "          element.appendChild(docLink);\n",
              "        }\n",
              "      </script>\n",
              "    </div>\n",
              "  </div>\n",
              "  "
            ],
            "text/plain": [
              "            name     address\n",
              "id                          \n",
              "1   David Beggam  California\n",
              "2     Rahul Josh      Mumbai\n",
              "3      Joe Kamal    Banglore\n",
              "4   Micheal John       Delhi\n",
              "5   Sarath Kumar     Chennai"
            ]
          },
          "execution_count": 6,
          "metadata": {},
          "output_type": "execute_result"
        }
      ],
      "source": [
        "# Run this and look at your dataframe which you will pass into database\n",
        "df.head()"
      ]
    },
    {
      "cell_type": "code",
      "execution_count": 7,
      "metadata": {
        "colab": {
          "base_uri": "https://localhost:8080/"
        },
        "id": "VOfSaB8_3PfW",
        "outputId": "3288f029-1ea5-4390-c549-23e64b16bd3d"
      },
      "outputs": [
        {
          "data": {
            "text/plain": [
              "5"
            ]
          },
          "execution_count": 7,
          "metadata": {},
          "output_type": "execute_result"
        }
      ],
      "source": [
        "# run this to create and connect to database\n",
        "connection = sqlite3.connect('cloud.db')\n",
        "df.to_sql('customers', connection)"
      ]
    },
    {
      "cell_type": "code",
      "execution_count": 8,
      "metadata": {
        "id": "Wf6YGN4Y3PfW"
      },
      "outputs": [],
      "source": [
        "# load sql extension\n",
        "%load_ext sql"
      ]
    },
    {
      "cell_type": "code",
      "execution_count": 13,
      "metadata": {
        "id": "XcEgvw8I3PfX"
      },
      "outputs": [],
      "source": [
        "# connecting to cloud.db\n",
        "%sql sqlite:///cloud.db"
      ]
    },
    {
      "attachments": {},
      "cell_type": "markdown",
      "metadata": {
        "id": "y0rd5DAuLjf9"
      },
      "source": [
        "## Hoorayy!!Now it's time to check your skill on sql . Write a code for below questions\n",
        "\n",
        "##### **NOTE** : Do not remove %%sql magic command as it will throw error if you run sql query without it."
      ]
    },
    {
      "attachments": {},
      "cell_type": "markdown",
      "metadata": {
        "id": "yOxU1NiNLjf9"
      },
      "source": [
        "### 1.Show all the data inside the table\"customers\""
      ]
    },
    {
      "cell_type": "code",
      "execution_count": 17,
      "metadata": {
        "colab": {
          "base_uri": "https://localhost:8080/",
          "height": 182
        },
        "id": "J9GwxDdFLjf-",
        "outputId": "a45da443-747d-4d70-c5c0-a84f56b52a23",
        "scrolled": false
      },
      "outputs": [
        {
          "name": "stdout",
          "output_type": "stream",
          "text": [
            " * sqlite:///cloud.db\n",
            "Done.\n"
          ]
        },
        {
          "data": {
            "text/html": [
              "<table>\n",
              "    <tr>\n",
              "        <th>id</th>\n",
              "        <th>name</th>\n",
              "        <th>address</th>\n",
              "    </tr>\n",
              "    <tr>\n",
              "        <td>1</td>\n",
              "        <td>David Beggam</td>\n",
              "        <td>California</td>\n",
              "    </tr>\n",
              "    <tr>\n",
              "        <td>2</td>\n",
              "        <td>Rahul Josh</td>\n",
              "        <td>Mumbai</td>\n",
              "    </tr>\n",
              "    <tr>\n",
              "        <td>3</td>\n",
              "        <td>Joe Kamal</td>\n",
              "        <td>Banglore</td>\n",
              "    </tr>\n",
              "    <tr>\n",
              "        <td>4</td>\n",
              "        <td>Micheal John</td>\n",
              "        <td>Delhi</td>\n",
              "    </tr>\n",
              "    <tr>\n",
              "        <td>5</td>\n",
              "        <td>Sarath Kumar</td>\n",
              "        <td>Chennai</td>\n",
              "    </tr>\n",
              "</table>"
            ],
            "text/plain": [
              "[(1, 'David Beggam', 'California'),\n",
              " (2, 'Rahul Josh', 'Mumbai'),\n",
              " (3, 'Joe Kamal', 'Banglore'),\n",
              " (4, 'Micheal John', 'Delhi'),\n",
              " (5, 'Sarath Kumar', 'Chennai')]"
            ]
          },
          "execution_count": 17,
          "metadata": {},
          "output_type": "execute_result"
        }
      ],
      "source": [
        "%%sql\n",
        "select * from customers\n"
      ]
    },
    {
      "attachments": {},
      "cell_type": "markdown",
      "metadata": {
        "id": "G85ZNIKQQ8AG"
      },
      "source": [
        "### **Check This link to See How to Limit Customer Data**\n",
        "\n",
        "https://www.w3schools.com/sql/sql_top.asp"
      ]
    },
    {
      "attachments": {},
      "cell_type": "markdown",
      "metadata": {
        "id": "sYDL_XYxLjf-"
      },
      "source": [
        "<b>##2. LIMIT CUSTOMERS DATA TO 3</b>"
      ]
    },
    {
      "cell_type": "code",
      "execution_count": 18,
      "metadata": {
        "colab": {
          "base_uri": "https://localhost:8080/",
          "height": 139
        },
        "id": "FnLpWeRPLjf-",
        "outputId": "7570e9c4-758e-46e9-b50f-75b4905df4d0",
        "scrolled": true
      },
      "outputs": [
        {
          "name": "stdout",
          "output_type": "stream",
          "text": [
            " * sqlite:///cloud.db\n",
            "Done.\n"
          ]
        },
        {
          "data": {
            "text/html": [
              "<table>\n",
              "    <tr>\n",
              "        <th>id</th>\n",
              "        <th>name</th>\n",
              "        <th>address</th>\n",
              "    </tr>\n",
              "    <tr>\n",
              "        <td>1</td>\n",
              "        <td>David Beggam</td>\n",
              "        <td>California</td>\n",
              "    </tr>\n",
              "    <tr>\n",
              "        <td>2</td>\n",
              "        <td>Rahul Josh</td>\n",
              "        <td>Mumbai</td>\n",
              "    </tr>\n",
              "    <tr>\n",
              "        <td>3</td>\n",
              "        <td>Joe Kamal</td>\n",
              "        <td>Banglore</td>\n",
              "    </tr>\n",
              "</table>"
            ],
            "text/plain": [
              "[(1, 'David Beggam', 'California'),\n",
              " (2, 'Rahul Josh', 'Mumbai'),\n",
              " (3, 'Joe Kamal', 'Banglore')]"
            ]
          },
          "execution_count": 18,
          "metadata": {},
          "output_type": "execute_result"
        }
      ],
      "source": [
        "%%sql\n",
        "select * from customers limit 3\n"
      ]
    },
    {
      "attachments": {},
      "cell_type": "markdown",
      "metadata": {
        "id": "Laz8Riy7Ljf_"
      },
      "source": [
        "<b>3.Select all the data of employees that work in Chennai and Mumbai </b>"
      ]
    },
    {
      "cell_type": "code",
      "execution_count": 21,
      "metadata": {
        "colab": {
          "base_uri": "https://localhost:8080/",
          "height": 118
        },
        "id": "JYtI6A7bLjf_",
        "outputId": "01109db2-302e-4d9a-e9e7-079601b32516",
        "scrolled": false
      },
      "outputs": [
        {
          "name": "stdout",
          "output_type": "stream",
          "text": [
            " * sqlite:///cloud.db\n",
            "Done.\n"
          ]
        },
        {
          "data": {
            "text/html": [
              "<table>\n",
              "    <tr>\n",
              "        <th>id</th>\n",
              "        <th>name</th>\n",
              "        <th>address</th>\n",
              "    </tr>\n",
              "    <tr>\n",
              "        <td>2</td>\n",
              "        <td>Rahul Josh</td>\n",
              "        <td>Mumbai</td>\n",
              "    </tr>\n",
              "    <tr>\n",
              "        <td>5</td>\n",
              "        <td>Sarath Kumar</td>\n",
              "        <td>Chennai</td>\n",
              "    </tr>\n",
              "</table>"
            ],
            "text/plain": [
              "[(2, 'Rahul Josh', 'Mumbai'), (5, 'Sarath Kumar', 'Chennai')]"
            ]
          },
          "execution_count": 21,
          "metadata": {},
          "output_type": "execute_result"
        }
      ],
      "source": [
        "%%sql\n",
        "select * from customers where address = 'Mumbai' or address = 'Chennai'\n",
        "\n"
      ]
    },
    {
      "attachments": {},
      "cell_type": "markdown",
      "metadata": {
        "id": "yNOnlJW0Ljf_"
      },
      "source": [
        "<b>4. select name starting with letter S</b>"
      ]
    },
    {
      "cell_type": "code",
      "execution_count": 22,
      "metadata": {
        "colab": {
          "base_uri": "https://localhost:8080/",
          "height": 96
        },
        "id": "956qOvmkLjf_",
        "outputId": "48d66524-da54-4718-8c26-4593a79e29d1",
        "scrolled": false
      },
      "outputs": [
        {
          "name": "stdout",
          "output_type": "stream",
          "text": [
            " * sqlite:///cloud.db\n",
            "Done.\n"
          ]
        },
        {
          "data": {
            "text/html": [
              "<table>\n",
              "    <tr>\n",
              "        <th>id</th>\n",
              "        <th>name</th>\n",
              "        <th>address</th>\n",
              "    </tr>\n",
              "    <tr>\n",
              "        <td>5</td>\n",
              "        <td>Sarath Kumar</td>\n",
              "        <td>Chennai</td>\n",
              "    </tr>\n",
              "</table>"
            ],
            "text/plain": [
              "[(5, 'Sarath Kumar', 'Chennai')]"
            ]
          },
          "execution_count": 22,
          "metadata": {},
          "output_type": "execute_result"
        }
      ],
      "source": [
        "%%sql\n",
        "\n",
        "select * from customers where name like 'S%'\n"
      ]
    },
    {
      "attachments": {},
      "cell_type": "markdown",
      "metadata": {
        "id": "a4F2MbGVLjf_"
      },
      "source": [
        "<b>##5. select the col\"address\" from the table\"customers\" </b>"
      ]
    },
    {
      "cell_type": "code",
      "execution_count": 23,
      "metadata": {
        "colab": {
          "base_uri": "https://localhost:8080/",
          "height": 182
        },
        "id": "DhyB5kUbLjgA",
        "outputId": "8853c9b4-3905-459d-ffb3-21a4ab5d18d4",
        "scrolled": true
      },
      "outputs": [
        {
          "name": "stdout",
          "output_type": "stream",
          "text": [
            " * sqlite:///cloud.db\n",
            "Done.\n"
          ]
        },
        {
          "data": {
            "text/html": [
              "<table>\n",
              "    <tr>\n",
              "        <th>address</th>\n",
              "    </tr>\n",
              "    <tr>\n",
              "        <td>California</td>\n",
              "    </tr>\n",
              "    <tr>\n",
              "        <td>Mumbai</td>\n",
              "    </tr>\n",
              "    <tr>\n",
              "        <td>Banglore</td>\n",
              "    </tr>\n",
              "    <tr>\n",
              "        <td>Delhi</td>\n",
              "    </tr>\n",
              "    <tr>\n",
              "        <td>Chennai</td>\n",
              "    </tr>\n",
              "</table>"
            ],
            "text/plain": [
              "[('California',), ('Mumbai',), ('Banglore',), ('Delhi',), ('Chennai',)]"
            ]
          },
          "execution_count": 23,
          "metadata": {},
          "output_type": "execute_result"
        }
      ],
      "source": [
        "%%sql\n",
        "select address from customers \n"
      ]
    },
    {
      "attachments": {},
      "cell_type": "markdown",
      "metadata": {
        "id": "2is1BoOBLjgA"
      },
      "source": [
        "<b>##6.select column \"address\" where city not in delhi</b>"
      ]
    },
    {
      "cell_type": "code",
      "execution_count": 24,
      "metadata": {
        "colab": {
          "base_uri": "https://localhost:8080/",
          "height": 161
        },
        "id": "pQ91gfkwLjgA",
        "outputId": "beb04709-4c6e-4af8-83bc-4862bc637656",
        "scrolled": true
      },
      "outputs": [
        {
          "name": "stdout",
          "output_type": "stream",
          "text": [
            " * sqlite:///cloud.db\n",
            "Done.\n"
          ]
        },
        {
          "data": {
            "text/html": [
              "<table>\n",
              "    <tr>\n",
              "        <th>id</th>\n",
              "        <th>name</th>\n",
              "        <th>address</th>\n",
              "    </tr>\n",
              "    <tr>\n",
              "        <td>1</td>\n",
              "        <td>David Beggam</td>\n",
              "        <td>California</td>\n",
              "    </tr>\n",
              "    <tr>\n",
              "        <td>2</td>\n",
              "        <td>Rahul Josh</td>\n",
              "        <td>Mumbai</td>\n",
              "    </tr>\n",
              "    <tr>\n",
              "        <td>3</td>\n",
              "        <td>Joe Kamal</td>\n",
              "        <td>Banglore</td>\n",
              "    </tr>\n",
              "    <tr>\n",
              "        <td>5</td>\n",
              "        <td>Sarath Kumar</td>\n",
              "        <td>Chennai</td>\n",
              "    </tr>\n",
              "</table>"
            ],
            "text/plain": [
              "[(1, 'David Beggam', 'California'),\n",
              " (2, 'Rahul Josh', 'Mumbai'),\n",
              " (3, 'Joe Kamal', 'Banglore'),\n",
              " (5, 'Sarath Kumar', 'Chennai')]"
            ]
          },
          "execution_count": 24,
          "metadata": {},
          "output_type": "execute_result"
        }
      ],
      "source": [
        "%%sql\n",
        "\n",
        "select * from customers where address <> 'Delhi'\n"
      ]
    },
    {
      "attachments": {},
      "cell_type": "markdown",
      "metadata": {
        "id": "y0fmnqe4Uyy3"
      },
      "source": [
        "### **Check this to see how to use asc, desc in SQL**\n",
        "\n",
        "https://www.w3schools.com/sql/sql_ref_asc.asp\n",
        "\n",
        "https://www.w3schools.com/sql/sql_ref_desc.asp"
      ]
    },
    {
      "attachments": {},
      "cell_type": "markdown",
      "metadata": {
        "id": "7OuFnJ9LLjgA"
      },
      "source": [
        "<b>7. sort the column: name in asc and addrress in desc</b>"
      ]
    },
    {
      "cell_type": "code",
      "execution_count": 25,
      "metadata": {
        "colab": {
          "base_uri": "https://localhost:8080/",
          "height": 182
        },
        "id": "9umkztFJLjgB",
        "outputId": "81010074-479c-45b8-fee0-70c5b7dd8fe0",
        "scrolled": true
      },
      "outputs": [
        {
          "name": "stdout",
          "output_type": "stream",
          "text": [
            " * sqlite:///cloud.db\n",
            "Done.\n"
          ]
        },
        {
          "data": {
            "text/html": [
              "<table>\n",
              "    <tr>\n",
              "        <th>id</th>\n",
              "        <th>name</th>\n",
              "        <th>address</th>\n",
              "    </tr>\n",
              "    <tr>\n",
              "        <td>1</td>\n",
              "        <td>David Beggam</td>\n",
              "        <td>California</td>\n",
              "    </tr>\n",
              "    <tr>\n",
              "        <td>3</td>\n",
              "        <td>Joe Kamal</td>\n",
              "        <td>Banglore</td>\n",
              "    </tr>\n",
              "    <tr>\n",
              "        <td>4</td>\n",
              "        <td>Micheal John</td>\n",
              "        <td>Delhi</td>\n",
              "    </tr>\n",
              "    <tr>\n",
              "        <td>2</td>\n",
              "        <td>Rahul Josh</td>\n",
              "        <td>Mumbai</td>\n",
              "    </tr>\n",
              "    <tr>\n",
              "        <td>5</td>\n",
              "        <td>Sarath Kumar</td>\n",
              "        <td>Chennai</td>\n",
              "    </tr>\n",
              "</table>"
            ],
            "text/plain": [
              "[(1, 'David Beggam', 'California'),\n",
              " (3, 'Joe Kamal', 'Banglore'),\n",
              " (4, 'Micheal John', 'Delhi'),\n",
              " (2, 'Rahul Josh', 'Mumbai'),\n",
              " (5, 'Sarath Kumar', 'Chennai')]"
            ]
          },
          "execution_count": 25,
          "metadata": {},
          "output_type": "execute_result"
        }
      ],
      "source": [
        "%%sql\n",
        "select * from customers order by name, address desc\n"
      ]
    },
    {
      "attachments": {},
      "cell_type": "markdown",
      "metadata": {
        "id": "qhybMo0ELjgB"
      },
      "source": [
        "<b>8.  Add an customer name  called \"Mary\" ,with address in 'Goa'</b>"
      ]
    },
    {
      "cell_type": "code",
      "execution_count": 27,
      "metadata": {
        "colab": {
          "base_uri": "https://localhost:8080/"
        },
        "id": "gEOyLV0mLjgB",
        "outputId": "09b3d2f7-ad2c-42e7-acf6-dd038b327600",
        "scrolled": true
      },
      "outputs": [
        {
          "name": "stdout",
          "output_type": "stream",
          "text": [
            " * sqlite:///cloud.db\n",
            "1 rows affected.\n"
          ]
        },
        {
          "data": {
            "text/plain": [
              "[]"
            ]
          },
          "execution_count": 27,
          "metadata": {},
          "output_type": "execute_result"
        }
      ],
      "source": [
        "%%sql\n",
        "insert into customers(name,address) values('Mary','Goa')\n",
        "\n"
      ]
    },
    {
      "attachments": {},
      "cell_type": "markdown",
      "metadata": {
        "id": "F20SEsJAV4g2"
      },
      "source": [
        "### **Check this how to use update keyword in sql**\n",
        "\n",
        "https://www.w3schools.com/sql/sql_update.asp"
      ]
    },
    {
      "attachments": {},
      "cell_type": "markdown",
      "metadata": {
        "id": "Z7CA_MLKLjgB"
      },
      "source": [
        "<b>9. update address to gujarat where id is 1</b>"
      ]
    },
    {
      "cell_type": "code",
      "execution_count": 28,
      "metadata": {
        "colab": {
          "base_uri": "https://localhost:8080/"
        },
        "id": "pLIum-Hw3Pfd",
        "outputId": "1218efa2-10a7-4f2c-dacd-fff18becbfc5"
      },
      "outputs": [
        {
          "name": "stdout",
          "output_type": "stream",
          "text": [
            " * sqlite:///cloud.db\n",
            "1 rows affected.\n"
          ]
        },
        {
          "data": {
            "text/plain": [
              "[]"
            ]
          },
          "execution_count": 28,
          "metadata": {},
          "output_type": "execute_result"
        }
      ],
      "source": [
        "%%sql\n",
        "update customers set address = 'Gujarat' where id=1\n"
      ]
    },
    {
      "cell_type": "code",
      "execution_count": 29,
      "metadata": {
        "colab": {
          "base_uri": "https://localhost:8080/",
          "height": 203
        },
        "id": "yn5CAwWmMNen",
        "outputId": "d2d13c92-6acd-4362-cee8-54034357507a"
      },
      "outputs": [
        {
          "name": "stdout",
          "output_type": "stream",
          "text": [
            " * sqlite:///cloud.db\n",
            "Done.\n"
          ]
        },
        {
          "data": {
            "text/html": [
              "<table>\n",
              "    <tr>\n",
              "        <th>id</th>\n",
              "        <th>name</th>\n",
              "        <th>address</th>\n",
              "    </tr>\n",
              "    <tr>\n",
              "        <td>1</td>\n",
              "        <td>David Beggam</td>\n",
              "        <td>Gujarat</td>\n",
              "    </tr>\n",
              "    <tr>\n",
              "        <td>2</td>\n",
              "        <td>Rahul Josh</td>\n",
              "        <td>Mumbai</td>\n",
              "    </tr>\n",
              "    <tr>\n",
              "        <td>3</td>\n",
              "        <td>Joe Kamal</td>\n",
              "        <td>Banglore</td>\n",
              "    </tr>\n",
              "    <tr>\n",
              "        <td>4</td>\n",
              "        <td>Micheal John</td>\n",
              "        <td>Delhi</td>\n",
              "    </tr>\n",
              "    <tr>\n",
              "        <td>5</td>\n",
              "        <td>Sarath Kumar</td>\n",
              "        <td>Chennai</td>\n",
              "    </tr>\n",
              "    <tr>\n",
              "        <td>None</td>\n",
              "        <td>Mary</td>\n",
              "        <td>Goa</td>\n",
              "    </tr>\n",
              "</table>"
            ],
            "text/plain": [
              "[(1, 'David Beggam', 'Gujarat'),\n",
              " (2, 'Rahul Josh', 'Mumbai'),\n",
              " (3, 'Joe Kamal', 'Banglore'),\n",
              " (4, 'Micheal John', 'Delhi'),\n",
              " (5, 'Sarath Kumar', 'Chennai'),\n",
              " (None, 'Mary', 'Goa')]"
            ]
          },
          "execution_count": 29,
          "metadata": {},
          "output_type": "execute_result"
        }
      ],
      "source": [
        "%%sql\n",
        "select * from customers"
      ]
    },
    {
      "attachments": {},
      "cell_type": "markdown",
      "metadata": {
        "id": "GcctJlvWWC-5"
      },
      "source": [
        "### **Check this how you to use delete keyword in sql**\n",
        "\n",
        "https://www.w3schools.com/sql/sql_delete.asp"
      ]
    },
    {
      "attachments": {},
      "cell_type": "markdown",
      "metadata": {
        "id": "WyKYppVDLjgC"
      },
      "source": [
        "<b>10.delete the record where address='mumbai'</b>"
      ]
    },
    {
      "cell_type": "code",
      "execution_count": 31,
      "metadata": {
        "colab": {
          "base_uri": "https://localhost:8080/"
        },
        "id": "SE5b9b2kLjgC",
        "outputId": "c9a0cf87-4d7e-4462-d604-7e2b2e20cd12",
        "scrolled": false
      },
      "outputs": [
        {
          "name": "stdout",
          "output_type": "stream",
          "text": [
            " * sqlite:///cloud.db\n",
            "1 rows affected.\n"
          ]
        },
        {
          "data": {
            "text/plain": [
              "[]"
            ]
          },
          "execution_count": 31,
          "metadata": {},
          "output_type": "execute_result"
        }
      ],
      "source": [
        "%%sql\n",
        "delete from customers where address = 'Mumbai'\n"
      ]
    },
    {
      "cell_type": "code",
      "execution_count": 32,
      "metadata": {
        "colab": {
          "base_uri": "https://localhost:8080/",
          "height": 182
        },
        "id": "YctEik9CMlQo",
        "outputId": "cc6da2c1-32e7-44de-971b-a83fcfd97fb5"
      },
      "outputs": [
        {
          "name": "stdout",
          "output_type": "stream",
          "text": [
            " * sqlite:///cloud.db\n",
            "Done.\n"
          ]
        },
        {
          "data": {
            "text/html": [
              "<table>\n",
              "    <tr>\n",
              "        <th>id</th>\n",
              "        <th>name</th>\n",
              "        <th>address</th>\n",
              "    </tr>\n",
              "    <tr>\n",
              "        <td>1</td>\n",
              "        <td>David Beggam</td>\n",
              "        <td>Gujarat</td>\n",
              "    </tr>\n",
              "    <tr>\n",
              "        <td>3</td>\n",
              "        <td>Joe Kamal</td>\n",
              "        <td>Banglore</td>\n",
              "    </tr>\n",
              "    <tr>\n",
              "        <td>4</td>\n",
              "        <td>Micheal John</td>\n",
              "        <td>Delhi</td>\n",
              "    </tr>\n",
              "    <tr>\n",
              "        <td>5</td>\n",
              "        <td>Sarath Kumar</td>\n",
              "        <td>Chennai</td>\n",
              "    </tr>\n",
              "    <tr>\n",
              "        <td>None</td>\n",
              "        <td>Mary</td>\n",
              "        <td>Goa</td>\n",
              "    </tr>\n",
              "</table>"
            ],
            "text/plain": [
              "[(1, 'David Beggam', 'Gujarat'),\n",
              " (3, 'Joe Kamal', 'Banglore'),\n",
              " (4, 'Micheal John', 'Delhi'),\n",
              " (5, 'Sarath Kumar', 'Chennai'),\n",
              " (None, 'Mary', 'Goa')]"
            ]
          },
          "execution_count": 32,
          "metadata": {},
          "output_type": "execute_result"
        }
      ],
      "source": [
        "%%sql\n",
        "select * from customers"
      ]
    },
    {
      "attachments": {},
      "cell_type": "markdown",
      "metadata": {
        "id": "KqBZGKRuVInS"
      },
      "source": [
        "### **Check this to see how you create temporary name for the column**\n",
        "\n",
        "https://www.w3schools.com/sql/sql_alias.asp#:~:text=SQL%20aliases%20are%20used%20to,created%20with%20the%20AS%20keyword."
      ]
    },
    {
      "attachments": {},
      "cell_type": "markdown",
      "metadata": {
        "id": "Bt6BCu11LjgC"
      },
      "source": [
        "<b>11.create a temporary name for the column \"name\"with 'N' and \"address\"as 'A'</b>"
      ]
    },
    {
      "cell_type": "code",
      "execution_count": 33,
      "metadata": {
        "colab": {
          "base_uri": "https://localhost:8080/",
          "height": 182
        },
        "id": "SBpN142pLjgC",
        "outputId": "83197be8-d61c-4a2c-dfb6-cad2f932e9b9",
        "scrolled": false
      },
      "outputs": [
        {
          "name": "stdout",
          "output_type": "stream",
          "text": [
            " * sqlite:///cloud.db\n",
            "Done.\n"
          ]
        },
        {
          "data": {
            "text/html": [
              "<table>\n",
              "    <tr>\n",
              "        <th>N</th>\n",
              "        <th>A</th>\n",
              "    </tr>\n",
              "    <tr>\n",
              "        <td>David Beggam</td>\n",
              "        <td>Gujarat</td>\n",
              "    </tr>\n",
              "    <tr>\n",
              "        <td>Joe Kamal</td>\n",
              "        <td>Banglore</td>\n",
              "    </tr>\n",
              "    <tr>\n",
              "        <td>Micheal John</td>\n",
              "        <td>Delhi</td>\n",
              "    </tr>\n",
              "    <tr>\n",
              "        <td>Sarath Kumar</td>\n",
              "        <td>Chennai</td>\n",
              "    </tr>\n",
              "    <tr>\n",
              "        <td>Mary</td>\n",
              "        <td>Goa</td>\n",
              "    </tr>\n",
              "</table>"
            ],
            "text/plain": [
              "[('David Beggam', 'Gujarat'),\n",
              " ('Joe Kamal', 'Banglore'),\n",
              " ('Micheal John', 'Delhi'),\n",
              " ('Sarath Kumar', 'Chennai'),\n",
              " ('Mary', 'Goa')]"
            ]
          },
          "execution_count": 33,
          "metadata": {},
          "output_type": "execute_result"
        }
      ],
      "source": [
        "%%sql \n",
        "select name as 'N',address as 'A' from customers\n"
      ]
    },
    {
      "attachments": {},
      "cell_type": "markdown",
      "metadata": {
        "id": "Lw3FBmlJVY1z"
      },
      "source": [
        "### **Check this to see how to concat in sqlite**\n",
        "\n",
        "https://www.sqlitetutorial.net/sqlite-string-functions/sqlite-concat/"
      ]
    },
    {
      "attachments": {},
      "cell_type": "markdown",
      "metadata": {
        "id": "xSYS6d1JLjgC"
      },
      "source": [
        "<b>12. concat column's \"name\" and \"address\" and name it as customerdb</b>"
      ]
    },
    {
      "cell_type": "code",
      "execution_count": 34,
      "metadata": {
        "colab": {
          "base_uri": "https://localhost:8080/",
          "height": 182
        },
        "id": "hInKNTIrLjgC",
        "outputId": "79f4d100-319c-40c8-cc7d-2cd7f8b7e664",
        "scrolled": true
      },
      "outputs": [
        {
          "name": "stdout",
          "output_type": "stream",
          "text": [
            " * sqlite:///cloud.db\n",
            "Done.\n"
          ]
        },
        {
          "data": {
            "text/html": [
              "<table>\n",
              "    <tr>\n",
              "        <th>id</th>\n",
              "        <th>customerdb</th>\n",
              "    </tr>\n",
              "    <tr>\n",
              "        <td>1</td>\n",
              "        <td>David Beggam,Gujarat</td>\n",
              "    </tr>\n",
              "    <tr>\n",
              "        <td>3</td>\n",
              "        <td>Joe Kamal,Banglore</td>\n",
              "    </tr>\n",
              "    <tr>\n",
              "        <td>4</td>\n",
              "        <td>Micheal John,Delhi</td>\n",
              "    </tr>\n",
              "    <tr>\n",
              "        <td>5</td>\n",
              "        <td>Sarath Kumar,Chennai</td>\n",
              "    </tr>\n",
              "    <tr>\n",
              "        <td>None</td>\n",
              "        <td>Mary,Goa</td>\n",
              "    </tr>\n",
              "</table>"
            ],
            "text/plain": [
              "[(1, 'David Beggam,Gujarat'),\n",
              " (3, 'Joe Kamal,Banglore'),\n",
              " (4, 'Micheal John,Delhi'),\n",
              " (5, 'Sarath Kumar,Chennai'),\n",
              " (None, 'Mary,Goa')]"
            ]
          },
          "execution_count": 34,
          "metadata": {},
          "output_type": "execute_result"
        }
      ],
      "source": [
        "%%sql\n",
        "\n",
        "select id, name ||','|| address as customerdb from customers"
      ]
    },
    {
      "cell_type": "code",
      "execution_count": 35,
      "metadata": {
        "colab": {
          "base_uri": "https://localhost:8080/"
        },
        "id": "v63I2FVeOExB",
        "outputId": "8e97aee1-c888-46af-e00e-eec4b4d7cd3a"
      },
      "outputs": [
        {
          "name": "stdout",
          "output_type": "stream",
          "text": [
            " * sqlite:///cloud.db\n",
            "1 rows affected.\n"
          ]
        },
        {
          "data": {
            "text/plain": [
              "[]"
            ]
          },
          "execution_count": 35,
          "metadata": {},
          "output_type": "execute_result"
        }
      ],
      "source": [
        "%%sql\n",
        "update customers set id = 6 where name='Mary'"
      ]
    },
    {
      "cell_type": "code",
      "execution_count": 37,
      "metadata": {
        "colab": {
          "base_uri": "https://localhost:8080/",
          "height": 182
        },
        "id": "1117SG3YOXGK",
        "outputId": "f45a9db0-893d-4835-c644-2eaa31b4e915"
      },
      "outputs": [
        {
          "name": "stdout",
          "output_type": "stream",
          "text": [
            " * sqlite:///cloud.db\n",
            "Done.\n"
          ]
        },
        {
          "data": {
            "text/html": [
              "<table>\n",
              "    <tr>\n",
              "        <th>id</th>\n",
              "        <th>name</th>\n",
              "        <th>address</th>\n",
              "    </tr>\n",
              "    <tr>\n",
              "        <td>1</td>\n",
              "        <td>David Beggam</td>\n",
              "        <td>Gujarat</td>\n",
              "    </tr>\n",
              "    <tr>\n",
              "        <td>3</td>\n",
              "        <td>Joe Kamal</td>\n",
              "        <td>Banglore</td>\n",
              "    </tr>\n",
              "    <tr>\n",
              "        <td>4</td>\n",
              "        <td>Micheal John</td>\n",
              "        <td>Delhi</td>\n",
              "    </tr>\n",
              "    <tr>\n",
              "        <td>5</td>\n",
              "        <td>Sarath Kumar</td>\n",
              "        <td>Chennai</td>\n",
              "    </tr>\n",
              "    <tr>\n",
              "        <td>6</td>\n",
              "        <td>Mary</td>\n",
              "        <td>Goa</td>\n",
              "    </tr>\n",
              "</table>"
            ],
            "text/plain": [
              "[(1, 'David Beggam', 'Gujarat'),\n",
              " (3, 'Joe Kamal', 'Banglore'),\n",
              " (4, 'Micheal John', 'Delhi'),\n",
              " (5, 'Sarath Kumar', 'Chennai'),\n",
              " (6, 'Mary', 'Goa')]"
            ]
          },
          "execution_count": 37,
          "metadata": {},
          "output_type": "execute_result"
        }
      ],
      "source": [
        "%%sql\n",
        "select * from customers"
      ]
    },
    {
      "attachments": {},
      "cell_type": "markdown",
      "metadata": {
        "id": "QPOXAevaVtzD"
      },
      "source": [
        "### **Check this how to use group by**\n",
        "\n",
        "https://www.w3schools.com/sql/sql_groupby.asp"
      ]
    },
    {
      "attachments": {},
      "cell_type": "markdown",
      "metadata": {
        "id": "mDnHPfHTLjgC"
      },
      "source": [
        "<b>##13 select address and also count the column \"name\" and group by address </b> "
      ]
    },
    {
      "cell_type": "code",
      "execution_count": 39,
      "metadata": {
        "colab": {
          "base_uri": "https://localhost:8080/",
          "height": 182
        },
        "id": "k8oUNVj6LjgD",
        "outputId": "f991e979-cdb6-469f-ab40-ba4e0739e26f",
        "scrolled": true
      },
      "outputs": [
        {
          "name": "stdout",
          "output_type": "stream",
          "text": [
            " * sqlite:///cloud.db\n",
            "Done.\n"
          ]
        },
        {
          "data": {
            "text/html": [
              "<table>\n",
              "    <tr>\n",
              "        <th>address</th>\n",
              "        <th>name</th>\n",
              "    </tr>\n",
              "    <tr>\n",
              "        <td>Banglore</td>\n",
              "        <td>1</td>\n",
              "    </tr>\n",
              "    <tr>\n",
              "        <td>Chennai</td>\n",
              "        <td>1</td>\n",
              "    </tr>\n",
              "    <tr>\n",
              "        <td>Delhi</td>\n",
              "        <td>1</td>\n",
              "    </tr>\n",
              "    <tr>\n",
              "        <td>Goa</td>\n",
              "        <td>1</td>\n",
              "    </tr>\n",
              "    <tr>\n",
              "        <td>Gujarat</td>\n",
              "        <td>1</td>\n",
              "    </tr>\n",
              "</table>"
            ],
            "text/plain": [
              "[('Banglore', 1), ('Chennai', 1), ('Delhi', 1), ('Goa', 1), ('Gujarat', 1)]"
            ]
          },
          "execution_count": 39,
          "metadata": {},
          "output_type": "execute_result"
        }
      ],
      "source": [
        "%%sql\n",
        "select address,count(name) as name from customers group by address\n"
      ]
    },
    {
      "attachments": {},
      "cell_type": "markdown",
      "metadata": {
        "id": "irGeDjEaLjgD"
      },
      "source": [
        "<b>Congratulations !! You Have Just Completed your first step towards becoming an SQL Ninja!</b>"
      ]
    }
  ],
  "metadata": {
    "colab": {
      "provenance": []
    },
    "kernelspec": {
      "display_name": "Python 3 (ipykernel)",
      "language": "python",
      "name": "python3"
    },
    "language_info": {
      "codemirror_mode": {
        "name": "ipython",
        "version": 3
      },
      "file_extension": ".py",
      "mimetype": "text/x-python",
      "name": "python",
      "nbconvert_exporter": "python",
      "pygments_lexer": "ipython3",
      "version": "3.8.8"
    }
  },
  "nbformat": 4,
  "nbformat_minor": 0
}
