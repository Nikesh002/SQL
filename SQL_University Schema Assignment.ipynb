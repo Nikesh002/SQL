{
  "cells": [
    {
      "attachments": {},
      "cell_type": "markdown",
      "metadata": {
        "id": "3oX6MvzyC71P"
      },
      "source": [
        "<h1><u><center>University Schema Assignment</center></u></h1>"
      ]
    },
    {
      "attachments": {},
      "cell_type": "markdown",
      "metadata": {
        "id": "-pmNVVD9ZEol"
      },
      "source": [
        "### **DATABASE CREATION AND CONNECTING IT**\n"
      ]
    },
    {
      "cell_type": "code",
      "execution_count": 105,
      "metadata": {
        "colab": {
          "base_uri": "https://localhost:8080/"
        },
        "id": "A8S7FmvNIfdK",
        "outputId": "a7393e0b-1061-4f8f-c4dc-0ecd1b3f4ed7"
      },
      "outputs": [
        {
          "name": "stdout",
          "output_type": "stream",
          "text": [
            "Looking in indexes: https://pypi.org/simple, https://us-python.pkg.dev/colab-wheels/public/simple/\n",
            "Requirement already satisfied: SQLAlchemy==1.4.46 in /usr/local/lib/python3.10/dist-packages (1.4.46)\n",
            "Requirement already satisfied: greenlet!=0.4.17 in /usr/local/lib/python3.10/dist-packages (from SQLAlchemy==1.4.46) (2.0.2)\n"
          ]
        }
      ],
      "source": [
        "!pip install SQLAlchemy==1.4.46"
      ]
    },
    {
      "cell_type": "code",
      "execution_count": 106,
      "metadata": {
        "id": "-OjGcCwnTmvd"
      },
      "outputs": [],
      "source": [
        "import pandas as pd\n",
        "import sqlite3\n",
        "connection=sqlite3.connect('university.db')"
      ]
    },
    {
      "cell_type": "code",
      "execution_count": 107,
      "metadata": {
        "colab": {
          "base_uri": "https://localhost:8080/"
        },
        "id": "NgIrZSlAVsgY",
        "outputId": "ec5e3e17-d6d3-43b5-a12f-c5bc1c2b7ea5"
      },
      "outputs": [
        {
          "name": "stdout",
          "output_type": "stream",
          "text": [
            "The sql extension is already loaded. To reload it, use:\n",
            "  %reload_ext sql\n"
          ]
        }
      ],
      "source": [
        "%load_ext sql\n",
        "%sql sqlite:///university.db"
      ]
    },
    {
      "attachments": {},
      "cell_type": "markdown",
      "metadata": {
        "id": "iL8Ndz-pZLsX"
      },
      "source": [
        "### NOW WE WILL CREATE TABLES AND INSERT DATA\n"
      ]
    },
    {
      "cell_type": "code",
      "execution_count": 108,
      "metadata": {
        "colab": {
          "base_uri": "https://localhost:8080/"
        },
        "id": "JljIQQtOTh7e",
        "outputId": "a31d2713-bfc8-4b51-c341-cfdbf1d64ab6"
      },
      "outputs": [
        {
          "name": "stdout",
          "output_type": "stream",
          "text": [
            " * sqlite:///university.db\n",
            "(sqlite3.OperationalError) table classroom already exists\n",
            "[SQL: create table classroom\n",
            "\t(building\t\tvarchar(15),\n",
            "\t room_number\t\tvarchar(7),\n",
            "\t capacity\t\tnumeric(4,0),\n",
            "\t primary key (building, room_number)\n",
            "\t);]\n",
            "(Background on this error at: https://sqlalche.me/e/14/e3q8)\n"
          ]
        }
      ],
      "source": [
        "%%sql\n",
        "create table classroom\n",
        "\t(building\t\tvarchar(15),\n",
        "\t room_number\t\tvarchar(7),\n",
        "\t capacity\t\tnumeric(4,0),\n",
        "\t primary key (building, room_number)\n",
        "\t);\n"
      ]
    },
    {
      "cell_type": "code",
      "execution_count": 109,
      "metadata": {
        "colab": {
          "base_uri": "https://localhost:8080/"
        },
        "id": "4FmpUgguWDNt",
        "outputId": "9f84a492-fc7e-450b-a0d1-e10c7b914e92"
      },
      "outputs": [
        {
          "name": "stdout",
          "output_type": "stream",
          "text": [
            " * sqlite:///university.db\n",
            "(sqlite3.IntegrityError) UNIQUE constraint failed: classroom.building, classroom.room_number\n",
            "[SQL: insert into classroom values ('Packard', '101', '500');]\n",
            "(Background on this error at: https://sqlalche.me/e/14/gkpj)\n"
          ]
        }
      ],
      "source": [
        "%%sql\n",
        "insert into classroom values ('Packard', '101', '500');\n",
        "insert into classroom values ('Painter', '514', '10');\n",
        "insert into classroom values ('Taylor', '3128', '70');\n",
        "insert into classroom values ('Watson', '100', '30');\n",
        "insert into classroom values ('Watson', '120', '50');\n",
        "insert into classroom values ('Taylor', '112', '30');\n",
        "insert into classroom values ('Painter', '234', '50');\n",
        "insert into classroom values ('Packard', '303', '56')"
      ]
    },
    {
      "cell_type": "code",
      "execution_count": 110,
      "metadata": {
        "colab": {
          "base_uri": "https://localhost:8080/",
          "height": 246
        },
        "id": "JNxq0DnxWidU",
        "outputId": "2040f05c-6378-4af9-a9ed-4ab6d82c94e2"
      },
      "outputs": [
        {
          "name": "stdout",
          "output_type": "stream",
          "text": [
            " * sqlite:///university.db\n",
            "Done.\n"
          ]
        },
        {
          "data": {
            "text/html": [
              "<table>\n",
              "    <tr>\n",
              "        <th>building</th>\n",
              "        <th>room_number</th>\n",
              "        <th>capacity</th>\n",
              "    </tr>\n",
              "    <tr>\n",
              "        <td>Packard</td>\n",
              "        <td>101</td>\n",
              "        <td>500</td>\n",
              "    </tr>\n",
              "    <tr>\n",
              "        <td>Painter</td>\n",
              "        <td>514</td>\n",
              "        <td>10</td>\n",
              "    </tr>\n",
              "    <tr>\n",
              "        <td>Taylor</td>\n",
              "        <td>3128</td>\n",
              "        <td>70</td>\n",
              "    </tr>\n",
              "    <tr>\n",
              "        <td>Watson</td>\n",
              "        <td>100</td>\n",
              "        <td>30</td>\n",
              "    </tr>\n",
              "    <tr>\n",
              "        <td>Watson</td>\n",
              "        <td>120</td>\n",
              "        <td>50</td>\n",
              "    </tr>\n",
              "    <tr>\n",
              "        <td>Taylor</td>\n",
              "        <td>112</td>\n",
              "        <td>30</td>\n",
              "    </tr>\n",
              "    <tr>\n",
              "        <td>Painter</td>\n",
              "        <td>234</td>\n",
              "        <td>50</td>\n",
              "    </tr>\n",
              "    <tr>\n",
              "        <td>Packard</td>\n",
              "        <td>303</td>\n",
              "        <td>56</td>\n",
              "    </tr>\n",
              "</table>"
            ],
            "text/plain": [
              "[('Packard', '101', 500),\n",
              " ('Painter', '514', 10),\n",
              " ('Taylor', '3128', 70),\n",
              " ('Watson', '100', 30),\n",
              " ('Watson', '120', 50),\n",
              " ('Taylor', '112', 30),\n",
              " ('Painter', '234', 50),\n",
              " ('Packard', '303', 56)]"
            ]
          },
          "execution_count": 110,
          "metadata": {},
          "output_type": "execute_result"
        }
      ],
      "source": [
        "%%sql\n",
        "select * from classroom"
      ]
    },
    {
      "cell_type": "code",
      "execution_count": 111,
      "metadata": {
        "colab": {
          "base_uri": "https://localhost:8080/"
        },
        "id": "-XM97WzUUHSk",
        "outputId": "6563d402-dade-42b7-a922-a92b6a93cdf7"
      },
      "outputs": [
        {
          "name": "stdout",
          "output_type": "stream",
          "text": [
            " * sqlite:///university.db\n",
            "(sqlite3.OperationalError) table department already exists\n",
            "[SQL: create table department\n",
            "\t(dept_name\t\tvarchar(20), \n",
            "\t building\t\tvarchar(15), \n",
            "\t budget\t\t        numeric(12,2) check (budget > 0),\n",
            "\t primary key (dept_name)\n",
            "\t);]\n",
            "(Background on this error at: https://sqlalche.me/e/14/e3q8)\n"
          ]
        }
      ],
      "source": [
        "%%sql\n",
        "create table department\n",
        "\t(dept_name\t\tvarchar(20), \n",
        "\t building\t\tvarchar(15), \n",
        "\t budget\t\t        numeric(12,2) check (budget > 0),\n",
        "\t primary key (dept_name)\n",
        "\t);"
      ]
    },
    {
      "cell_type": "code",
      "execution_count": 112,
      "metadata": {
        "colab": {
          "base_uri": "https://localhost:8080/"
        },
        "id": "mBnovk6nWrxT",
        "outputId": "6998cc65-0aaf-45c1-a0d8-bc90f898b537"
      },
      "outputs": [
        {
          "name": "stdout",
          "output_type": "stream",
          "text": [
            " * sqlite:///university.db\n",
            "(sqlite3.IntegrityError) UNIQUE constraint failed: department.dept_name\n",
            "[SQL: insert into department values ('Biology', 'Watson', '90000');]\n",
            "(Background on this error at: https://sqlalche.me/e/14/gkpj)\n"
          ]
        }
      ],
      "source": [
        "%%sql\n",
        "insert into department values ('Biology', 'Watson', '90000');\n",
        "insert into department values ('Comp. Sci.', 'Taylor', '100000');\n",
        "insert into department values ('Elec. Eng.', 'Taylor', '85000');\n",
        "insert into department values ('Finance', 'Painter', '120000');\n",
        "insert into department values ('History', 'Painter', '50000');\n",
        "insert into department values ('Music', 'Packard', '80000');\n",
        "insert into department values ('Physics', 'Watson', '70000');"
      ]
    },
    {
      "cell_type": "code",
      "execution_count": 113,
      "metadata": {
        "colab": {
          "base_uri": "https://localhost:8080/",
          "height": 225
        },
        "id": "WWTE5GeyWwHR",
        "outputId": "796fcc58-fb26-4b77-ae3d-bdd7a073cac0"
      },
      "outputs": [
        {
          "name": "stdout",
          "output_type": "stream",
          "text": [
            " * sqlite:///university.db\n",
            "Done.\n"
          ]
        },
        {
          "data": {
            "text/html": [
              "<table>\n",
              "    <tr>\n",
              "        <th>dept_name</th>\n",
              "        <th>building</th>\n",
              "        <th>budget</th>\n",
              "    </tr>\n",
              "    <tr>\n",
              "        <td>Biology</td>\n",
              "        <td>Watson</td>\n",
              "        <td>91000</td>\n",
              "    </tr>\n",
              "    <tr>\n",
              "        <td>Comp. Sci.</td>\n",
              "        <td>Taylor</td>\n",
              "        <td>101000</td>\n",
              "    </tr>\n",
              "    <tr>\n",
              "        <td>Elec. Eng.</td>\n",
              "        <td>Taylor</td>\n",
              "        <td>86000</td>\n",
              "    </tr>\n",
              "    <tr>\n",
              "        <td>Finance</td>\n",
              "        <td>Painter</td>\n",
              "        <td>121000</td>\n",
              "    </tr>\n",
              "    <tr>\n",
              "        <td>History</td>\n",
              "        <td>Painter</td>\n",
              "        <td>51000</td>\n",
              "    </tr>\n",
              "    <tr>\n",
              "        <td>Music</td>\n",
              "        <td>Packard</td>\n",
              "        <td>81000</td>\n",
              "    </tr>\n",
              "    <tr>\n",
              "        <td>Physics</td>\n",
              "        <td>Watson</td>\n",
              "        <td>71000</td>\n",
              "    </tr>\n",
              "</table>"
            ],
            "text/plain": [
              "[('Biology', 'Watson', 91000),\n",
              " ('Comp. Sci.', 'Taylor', 101000),\n",
              " ('Elec. Eng.', 'Taylor', 86000),\n",
              " ('Finance', 'Painter', 121000),\n",
              " ('History', 'Painter', 51000),\n",
              " ('Music', 'Packard', 81000),\n",
              " ('Physics', 'Watson', 71000)]"
            ]
          },
          "execution_count": 113,
          "metadata": {},
          "output_type": "execute_result"
        }
      ],
      "source": [
        "%%sql\n",
        "select * from department"
      ]
    },
    {
      "cell_type": "code",
      "execution_count": 114,
      "metadata": {
        "colab": {
          "base_uri": "https://localhost:8080/"
        },
        "id": "HA3lkt9oUOGq",
        "outputId": "1c2deb9a-5f06-4cb4-e8ef-a0f3100be6f2"
      },
      "outputs": [
        {
          "name": "stdout",
          "output_type": "stream",
          "text": [
            " * sqlite:///university.db\n",
            "(sqlite3.OperationalError) table course already exists\n",
            "[SQL: create table course\n",
            "\t(course_id\t\tvarchar(8), \n",
            "\t title\t\t\tvarchar(50), \n",
            "\t dept_name\t\tvarchar(20),\n",
            "\t credits\t\tnumeric(2,0) check (credits > 0),\n",
            "\t primary key (course_id),\n",
            "\t foreign key (dept_name) references department (dept_name)\n",
            "\t\ton delete set null\n",
            "\t);]\n",
            "(Background on this error at: https://sqlalche.me/e/14/e3q8)\n"
          ]
        }
      ],
      "source": [
        "%%sql\n",
        "create table course\n",
        "\t(course_id\t\tvarchar(8), \n",
        "\t title\t\t\tvarchar(50), \n",
        "\t dept_name\t\tvarchar(20),\n",
        "\t credits\t\tnumeric(2,0) check (credits > 0),\n",
        "\t primary key (course_id),\n",
        "\t foreign key (dept_name) references department (dept_name)\n",
        "\t\ton delete set null\n",
        "\t);"
      ]
    },
    {
      "cell_type": "code",
      "execution_count": 115,
      "metadata": {
        "colab": {
          "base_uri": "https://localhost:8080/"
        },
        "id": "io_yfMKsW48z",
        "outputId": "fa725447-7900-40c4-fccf-be207b7a135c"
      },
      "outputs": [
        {
          "name": "stdout",
          "output_type": "stream",
          "text": [
            " * sqlite:///university.db\n",
            "(sqlite3.IntegrityError) UNIQUE constraint failed: course.course_id\n",
            "[SQL: insert into course values ('BIO-101', 'Intro. to Biology', 'Biology', '4');]\n",
            "(Background on this error at: https://sqlalche.me/e/14/gkpj)\n"
          ]
        }
      ],
      "source": [
        "%%sql\n",
        "\n",
        "insert into course values ('BIO-101', 'Intro. to Biology', 'Biology', '4');\n",
        "insert into course values ('BIO-301', 'Genetics', 'Biology', '4');\n",
        "insert into course values ('BIO-399', 'Computational Biology', 'Biology', '3');\n",
        "insert into course values ('CS-101', 'Intro. to Computer Science', 'Comp. Sci.', '4');\n",
        "insert into course values ('CS-190', 'Game Design', 'Comp. Sci.', '4');\n",
        "insert into course values ('CS-315', 'Robotics', 'Comp. Sci.', '3');\n",
        "insert into course values ('CS-319', 'Image Processing', 'Comp. Sci.', '3');\n",
        "insert into course values ('CS-347', 'Database System Concepts', 'Comp. Sci.', '3');\n",
        "insert into course values ('EE-181', 'Intro. to Digital Systems', 'Elec. Eng.', '3');\n",
        "insert into course values ('FIN-201', 'Investment Banking', 'Finance', '3');\n",
        "insert into course values ('HIS-351', 'World History', 'History', '3');\n",
        "insert into course values ('MU-199', 'Music Video Production', 'Music', '3');\n",
        "insert into course values ('PHY-101', 'Physical Principles', 'Physics', '4');"
      ]
    },
    {
      "cell_type": "code",
      "execution_count": 116,
      "metadata": {
        "colab": {
          "base_uri": "https://localhost:8080/",
          "height": 353
        },
        "id": "ehivf58kW72w",
        "outputId": "5e2c38bd-3948-4edb-fb23-5f9190d13b2e"
      },
      "outputs": [
        {
          "name": "stdout",
          "output_type": "stream",
          "text": [
            " * sqlite:///university.db\n",
            "Done.\n"
          ]
        },
        {
          "data": {
            "text/html": [
              "<table>\n",
              "    <tr>\n",
              "        <th>course_id</th>\n",
              "        <th>title</th>\n",
              "        <th>dept_name</th>\n",
              "        <th>credits</th>\n",
              "    </tr>\n",
              "    <tr>\n",
              "        <td>BIO-101</td>\n",
              "        <td>Intro. to Biology</td>\n",
              "        <td>Biology</td>\n",
              "        <td>4</td>\n",
              "    </tr>\n",
              "    <tr>\n",
              "        <td>BIO-301</td>\n",
              "        <td>Genetics</td>\n",
              "        <td>Biology</td>\n",
              "        <td>4</td>\n",
              "    </tr>\n",
              "    <tr>\n",
              "        <td>BIO-399</td>\n",
              "        <td>Computational Biology</td>\n",
              "        <td>Biology</td>\n",
              "        <td>3</td>\n",
              "    </tr>\n",
              "    <tr>\n",
              "        <td>CS-101</td>\n",
              "        <td>Intro. to Computer Science</td>\n",
              "        <td>Comp. Sci.</td>\n",
              "        <td>4</td>\n",
              "    </tr>\n",
              "    <tr>\n",
              "        <td>CS-190</td>\n",
              "        <td>Game Design</td>\n",
              "        <td>Comp. Sci.</td>\n",
              "        <td>4</td>\n",
              "    </tr>\n",
              "    <tr>\n",
              "        <td>CS-315</td>\n",
              "        <td>Robotics</td>\n",
              "        <td>Comp. Sci.</td>\n",
              "        <td>3</td>\n",
              "    </tr>\n",
              "    <tr>\n",
              "        <td>CS-319</td>\n",
              "        <td>Image Processing</td>\n",
              "        <td>Comp. Sci.</td>\n",
              "        <td>3</td>\n",
              "    </tr>\n",
              "    <tr>\n",
              "        <td>CS-347</td>\n",
              "        <td>Database System Concepts</td>\n",
              "        <td>Comp. Sci.</td>\n",
              "        <td>3</td>\n",
              "    </tr>\n",
              "    <tr>\n",
              "        <td>EE-181</td>\n",
              "        <td>Intro. to Digital Systems</td>\n",
              "        <td>Elec. Eng.</td>\n",
              "        <td>3</td>\n",
              "    </tr>\n",
              "    <tr>\n",
              "        <td>FIN-201</td>\n",
              "        <td>Investment Banking</td>\n",
              "        <td>Finance</td>\n",
              "        <td>3</td>\n",
              "    </tr>\n",
              "    <tr>\n",
              "        <td>HIS-351</td>\n",
              "        <td>World History</td>\n",
              "        <td>History</td>\n",
              "        <td>3</td>\n",
              "    </tr>\n",
              "    <tr>\n",
              "        <td>MU-199</td>\n",
              "        <td>Music Video Production</td>\n",
              "        <td>Music</td>\n",
              "        <td>3</td>\n",
              "    </tr>\n",
              "    <tr>\n",
              "        <td>PHY-101</td>\n",
              "        <td>Physical Principles</td>\n",
              "        <td>Physics</td>\n",
              "        <td>4</td>\n",
              "    </tr>\n",
              "</table>"
            ],
            "text/plain": [
              "[('BIO-101', 'Intro. to Biology', 'Biology', 4),\n",
              " ('BIO-301', 'Genetics', 'Biology', 4),\n",
              " ('BIO-399', 'Computational Biology', 'Biology', 3),\n",
              " ('CS-101', 'Intro. to Computer Science', 'Comp. Sci.', 4),\n",
              " ('CS-190', 'Game Design', 'Comp. Sci.', 4),\n",
              " ('CS-315', 'Robotics', 'Comp. Sci.', 3),\n",
              " ('CS-319', 'Image Processing', 'Comp. Sci.', 3),\n",
              " ('CS-347', 'Database System Concepts', 'Comp. Sci.', 3),\n",
              " ('EE-181', 'Intro. to Digital Systems', 'Elec. Eng.', 3),\n",
              " ('FIN-201', 'Investment Banking', 'Finance', 3),\n",
              " ('HIS-351', 'World History', 'History', 3),\n",
              " ('MU-199', 'Music Video Production', 'Music', 3),\n",
              " ('PHY-101', 'Physical Principles', 'Physics', 4)]"
            ]
          },
          "execution_count": 116,
          "metadata": {},
          "output_type": "execute_result"
        }
      ],
      "source": [
        "%%sql\n",
        "select * from course"
      ]
    },
    {
      "cell_type": "code",
      "execution_count": 117,
      "metadata": {
        "colab": {
          "base_uri": "https://localhost:8080/"
        },
        "id": "G36TKzG3UTcl",
        "outputId": "a5de301d-5b4a-452b-9c0f-51fb1a34cbee"
      },
      "outputs": [
        {
          "name": "stdout",
          "output_type": "stream",
          "text": [
            " * sqlite:///university.db\n",
            "(sqlite3.OperationalError) table instructor already exists\n",
            "[SQL: create table instructor\n",
            "\t(ID\t\t\tvarchar(5), \n",
            "\t name\t\t\tvarchar(20) not null, \n",
            "\t dept_name\t\tvarchar(20), \n",
            "\t salary\t\t\tnumeric(8,2) check (salary > 29000),\n",
            "\t primary key (ID),\n",
            "\t foreign key (dept_name) references department (dept_name)\n",
            "\t\ton delete set null\n",
            "\t);]\n",
            "(Background on this error at: https://sqlalche.me/e/14/e3q8)\n"
          ]
        }
      ],
      "source": [
        "%%sql\n",
        "create table instructor\n",
        "\t(ID\t\t\tvarchar(5), \n",
        "\t name\t\t\tvarchar(20) not null, \n",
        "\t dept_name\t\tvarchar(20), \n",
        "\t salary\t\t\tnumeric(8,2) check (salary > 29000),\n",
        "\t primary key (ID),\n",
        "\t foreign key (dept_name) references department (dept_name)\n",
        "\t\ton delete set null\n",
        "\t);"
      ]
    },
    {
      "cell_type": "code",
      "execution_count": 118,
      "metadata": {
        "colab": {
          "base_uri": "https://localhost:8080/"
        },
        "id": "PU3KZhLzXObp",
        "outputId": "8a458e98-aa24-4986-f407-3611275a874d"
      },
      "outputs": [
        {
          "name": "stdout",
          "output_type": "stream",
          "text": [
            " * sqlite:///university.db\n",
            "(sqlite3.IntegrityError) UNIQUE constraint failed: instructor.ID\n",
            "[SQL: insert into instructor values ('10101', 'Srinivasan', 'Comp. Sci.', '65000');]\n",
            "(Background on this error at: https://sqlalche.me/e/14/gkpj)\n"
          ]
        }
      ],
      "source": [
        "%%sql\n",
        "insert into instructor values ('10101', 'Srinivasan', 'Comp. Sci.', '65000');\n",
        "insert into instructor values ('12121', 'Wu', 'Finance', '90000');\n",
        "insert into instructor values ('15151', 'Mozart', 'Music', '40000');\n",
        "insert into instructor values ('22222', 'Einstein', 'Physics', '95000');\n",
        "insert into instructor values ('32343', 'El Said', 'History', '60000');\n",
        "insert into instructor values ('33456', 'Gold', 'Physics', '87000');\n",
        "insert into instructor values ('45565', 'Katz', 'Comp. Sci.', '75000');\n",
        "insert into instructor values ('58583', 'Califieri', 'History', '62000');\n",
        "insert into instructor values ('76543', 'Singh', 'Finance', '80000');\n",
        "insert into instructor values ('76766', 'Crick', 'Biology', '72000');\n",
        "insert into instructor values ('83821', 'Brandt', 'Comp. Sci.', '92000');\n",
        "insert into instructor values ('98345', 'Kim', 'Elec. Eng.', '80000');"
      ]
    },
    {
      "cell_type": "code",
      "execution_count": 119,
      "metadata": {
        "colab": {
          "base_uri": "https://localhost:8080/",
          "height": 332
        },
        "id": "eqRak6-SXRtB",
        "outputId": "7def9b54-903f-42f5-902b-9196a293aa5d"
      },
      "outputs": [
        {
          "name": "stdout",
          "output_type": "stream",
          "text": [
            " * sqlite:///university.db\n",
            "Done.\n"
          ]
        },
        {
          "data": {
            "text/html": [
              "<table>\n",
              "    <tr>\n",
              "        <th>ID</th>\n",
              "        <th>name</th>\n",
              "        <th>dept_name</th>\n",
              "        <th>salary</th>\n",
              "    </tr>\n",
              "    <tr>\n",
              "        <td>10101</td>\n",
              "        <td>Srinivasan</td>\n",
              "        <td>Comp. Sci.</td>\n",
              "        <td>71500</td>\n",
              "    </tr>\n",
              "    <tr>\n",
              "        <td>12121</td>\n",
              "        <td>Wu</td>\n",
              "        <td>Finance</td>\n",
              "        <td>99000</td>\n",
              "    </tr>\n",
              "    <tr>\n",
              "        <td>15151</td>\n",
              "        <td>Mozart</td>\n",
              "        <td>Music</td>\n",
              "        <td>44000</td>\n",
              "    </tr>\n",
              "    <tr>\n",
              "        <td>22222</td>\n",
              "        <td>Einstein</td>\n",
              "        <td>Physics</td>\n",
              "        <td>95000</td>\n",
              "    </tr>\n",
              "    <tr>\n",
              "        <td>32343</td>\n",
              "        <td>El Said</td>\n",
              "        <td>History</td>\n",
              "        <td>66000</td>\n",
              "    </tr>\n",
              "    <tr>\n",
              "        <td>33456</td>\n",
              "        <td>Gold</td>\n",
              "        <td>Physics</td>\n",
              "        <td>95700</td>\n",
              "    </tr>\n",
              "    <tr>\n",
              "        <td>45565</td>\n",
              "        <td>Katz</td>\n",
              "        <td>Comp. Sci.</td>\n",
              "        <td>82500</td>\n",
              "    </tr>\n",
              "    <tr>\n",
              "        <td>58583</td>\n",
              "        <td>Califieri</td>\n",
              "        <td>History</td>\n",
              "        <td>68200</td>\n",
              "    </tr>\n",
              "    <tr>\n",
              "        <td>76543</td>\n",
              "        <td>Singh</td>\n",
              "        <td>Finance</td>\n",
              "        <td>88000</td>\n",
              "    </tr>\n",
              "    <tr>\n",
              "        <td>76766</td>\n",
              "        <td>Crick</td>\n",
              "        <td>Biology</td>\n",
              "        <td>79200</td>\n",
              "    </tr>\n",
              "    <tr>\n",
              "        <td>83821</td>\n",
              "        <td>Brandt</td>\n",
              "        <td>Comp. Sci.</td>\n",
              "        <td>92000</td>\n",
              "    </tr>\n",
              "    <tr>\n",
              "        <td>98345</td>\n",
              "        <td>Kim</td>\n",
              "        <td>Elec. Eng.</td>\n",
              "        <td>88000</td>\n",
              "    </tr>\n",
              "</table>"
            ],
            "text/plain": [
              "[('10101', 'Srinivasan', 'Comp. Sci.', 71500),\n",
              " ('12121', 'Wu', 'Finance', 99000),\n",
              " ('15151', 'Mozart', 'Music', 44000),\n",
              " ('22222', 'Einstein', 'Physics', 95000),\n",
              " ('32343', 'El Said', 'History', 66000),\n",
              " ('33456', 'Gold', 'Physics', 95700),\n",
              " ('45565', 'Katz', 'Comp. Sci.', 82500),\n",
              " ('58583', 'Califieri', 'History', 68200),\n",
              " ('76543', 'Singh', 'Finance', 88000),\n",
              " ('76766', 'Crick', 'Biology', 79200),\n",
              " ('83821', 'Brandt', 'Comp. Sci.', 92000),\n",
              " ('98345', 'Kim', 'Elec. Eng.', 88000)]"
            ]
          },
          "execution_count": 119,
          "metadata": {},
          "output_type": "execute_result"
        }
      ],
      "source": [
        "%%sql\n",
        "select * from instructor"
      ]
    },
    {
      "cell_type": "code",
      "execution_count": 120,
      "metadata": {
        "colab": {
          "base_uri": "https://localhost:8080/"
        },
        "id": "sWLbxNk0UYPN",
        "outputId": "0abeef19-b157-4041-f057-df1a267d1c14"
      },
      "outputs": [
        {
          "name": "stdout",
          "output_type": "stream",
          "text": [
            " * sqlite:///university.db\n",
            "(sqlite3.OperationalError) table section already exists\n",
            "[SQL: create table section\n",
            "\t(course_id\t\tvarchar(8), \n",
            "         sec_id\t\t\tvarchar(8),\n",
            "\t semester\t\tvarchar(6)\n",
            "\t\tcheck (semester in ('Fall', 'Winter', 'Spring', 'Summer')), \n",
            "\t year\t\t\tnumeric(4,0) check (year > 1701 and year < 2100), \n",
            "\t building\t\tvarchar(15),\n",
            "\t room_number\t\tvarchar(7),\n",
            "\t time_slot_id\t\tvarchar(4),\n",
            "\t primary key (course_id, sec_id, semester, year),\n",
            "\t foreign key (course_id) references course (course_id)\n",
            "\t\ton delete cascade,\n",
            "\t foreign key (building, room_number) references classroom (building, room_number)\n",
            "\t\ton delete set null\n",
            "\t);]\n",
            "(Background on this error at: https://sqlalche.me/e/14/e3q8)\n"
          ]
        }
      ],
      "source": [
        "%%sql\n",
        "create table section\n",
        "\t(course_id\t\tvarchar(8), \n",
        "         sec_id\t\t\tvarchar(8),\n",
        "\t semester\t\tvarchar(6)\n",
        "\t\tcheck (semester in ('Fall', 'Winter', 'Spring', 'Summer')), \n",
        "\t year\t\t\tnumeric(4,0) check (year > 1701 and year < 2100), \n",
        "\t building\t\tvarchar(15),\n",
        "\t room_number\t\tvarchar(7),\n",
        "\t time_slot_id\t\tvarchar(4),\n",
        "\t primary key (course_id, sec_id, semester, year),\n",
        "\t foreign key (course_id) references course (course_id)\n",
        "\t\ton delete cascade,\n",
        "\t foreign key (building, room_number) references classroom (building, room_number)\n",
        "\t\ton delete set null\n",
        "\t);\n",
        "\n"
      ]
    },
    {
      "cell_type": "code",
      "execution_count": 121,
      "metadata": {
        "colab": {
          "base_uri": "https://localhost:8080/"
        },
        "id": "54eXml7AXamZ",
        "outputId": "38925ed7-26cc-4e2f-fdce-ada0b45bd3ef"
      },
      "outputs": [
        {
          "name": "stdout",
          "output_type": "stream",
          "text": [
            " * sqlite:///university.db\n",
            "(sqlite3.IntegrityError) UNIQUE constraint failed: section.course_id, section.sec_id, section.semester, section.year\n",
            "[SQL: insert into section values ('BIO-101', '1', 'Summer', '2017', 'Painter', '514', 'B');]\n",
            "(Background on this error at: https://sqlalche.me/e/14/gkpj)\n"
          ]
        }
      ],
      "source": [
        "%%sql\n",
        "insert into section values ('BIO-101', '1', 'Summer', '2017', 'Painter', '514', 'B');\n",
        "insert into section values ('BIO-301', '1', 'Summer', '2018', 'Painter', '514', 'A');\n",
        "insert into section values ('CS-101', '1', 'Fall', '2017', 'Packard', '101', 'H');\n",
        "insert into section values ('CS-101', '1', 'Spring', '2018', 'Packard', '101', 'F');\n",
        "insert into section values ('CS-190', '1', 'Spring', '2017', 'Taylor', '3128', 'E');\n",
        "insert into section values ('CS-190', '2', 'Spring', '2017', 'Taylor', '3128', 'A');\n",
        "insert into section values ('CS-315', '1', 'Spring', '2018', 'Watson', '120', 'D');\n",
        "insert into section values ('CS-319', '1', 'Spring', '2018', 'Watson', '100', 'B');\n",
        "insert into section values ('CS-319', '2', 'Spring', '2018', 'Taylor', '3128', 'C');\n",
        "insert into section values ('CS-347', '1', 'Fall', '2017', 'Taylor', '3128', 'A');\n",
        "insert into section values ('EE-181', '1', 'Spring', '2017', 'Taylor', '3128', 'C');\n",
        "insert into section values ('FIN-201', '1', 'Spring', '2018', 'Packard', '101', 'B');\n",
        "insert into section values ('HIS-351', '1', 'Spring', '2018', 'Painter', '514', 'C');\n",
        "insert into section values ('MU-199', '1', 'Spring', '2018', 'Packard', '101', 'D');\n",
        "insert into section values ('PHY-101', '1', 'Fall', '2017', 'Watson', '100', 'A');"
      ]
    },
    {
      "cell_type": "code",
      "execution_count": 122,
      "metadata": {
        "colab": {
          "base_uri": "https://localhost:8080/",
          "height": 396
        },
        "id": "wu99luVqXeC1",
        "outputId": "24156060-96f6-40ba-fa33-4192ddac070a"
      },
      "outputs": [
        {
          "name": "stdout",
          "output_type": "stream",
          "text": [
            " * sqlite:///university.db\n",
            "Done.\n"
          ]
        },
        {
          "data": {
            "text/html": [
              "<table>\n",
              "    <tr>\n",
              "        <th>course_id</th>\n",
              "        <th>sec_id</th>\n",
              "        <th>semester</th>\n",
              "        <th>year</th>\n",
              "        <th>building</th>\n",
              "        <th>room_number</th>\n",
              "        <th>time_slot_id</th>\n",
              "    </tr>\n",
              "    <tr>\n",
              "        <td>BIO-101</td>\n",
              "        <td>1</td>\n",
              "        <td>Summer</td>\n",
              "        <td>2017</td>\n",
              "        <td>Painter</td>\n",
              "        <td>514</td>\n",
              "        <td>B</td>\n",
              "    </tr>\n",
              "    <tr>\n",
              "        <td>BIO-301</td>\n",
              "        <td>1</td>\n",
              "        <td>Summer</td>\n",
              "        <td>2018</td>\n",
              "        <td>Painter</td>\n",
              "        <td>514</td>\n",
              "        <td>A</td>\n",
              "    </tr>\n",
              "    <tr>\n",
              "        <td>CS-101</td>\n",
              "        <td>1</td>\n",
              "        <td>Fall</td>\n",
              "        <td>2017</td>\n",
              "        <td>Packard</td>\n",
              "        <td>101</td>\n",
              "        <td>H</td>\n",
              "    </tr>\n",
              "    <tr>\n",
              "        <td>CS-101</td>\n",
              "        <td>1</td>\n",
              "        <td>Spring</td>\n",
              "        <td>2018</td>\n",
              "        <td>Packard</td>\n",
              "        <td>101</td>\n",
              "        <td>F</td>\n",
              "    </tr>\n",
              "    <tr>\n",
              "        <td>CS-190</td>\n",
              "        <td>1</td>\n",
              "        <td>Spring</td>\n",
              "        <td>2017</td>\n",
              "        <td>Taylor</td>\n",
              "        <td>3128</td>\n",
              "        <td>E</td>\n",
              "    </tr>\n",
              "    <tr>\n",
              "        <td>CS-190</td>\n",
              "        <td>2</td>\n",
              "        <td>Spring</td>\n",
              "        <td>2017</td>\n",
              "        <td>Taylor</td>\n",
              "        <td>3128</td>\n",
              "        <td>A</td>\n",
              "    </tr>\n",
              "    <tr>\n",
              "        <td>CS-315</td>\n",
              "        <td>1</td>\n",
              "        <td>Spring</td>\n",
              "        <td>2018</td>\n",
              "        <td>Watson</td>\n",
              "        <td>120</td>\n",
              "        <td>D</td>\n",
              "    </tr>\n",
              "    <tr>\n",
              "        <td>CS-319</td>\n",
              "        <td>1</td>\n",
              "        <td>Spring</td>\n",
              "        <td>2018</td>\n",
              "        <td>Watson</td>\n",
              "        <td>100</td>\n",
              "        <td>B</td>\n",
              "    </tr>\n",
              "    <tr>\n",
              "        <td>CS-319</td>\n",
              "        <td>2</td>\n",
              "        <td>Spring</td>\n",
              "        <td>2018</td>\n",
              "        <td>Taylor</td>\n",
              "        <td>3128</td>\n",
              "        <td>C</td>\n",
              "    </tr>\n",
              "    <tr>\n",
              "        <td>CS-347</td>\n",
              "        <td>1</td>\n",
              "        <td>Fall</td>\n",
              "        <td>2017</td>\n",
              "        <td>Taylor</td>\n",
              "        <td>3128</td>\n",
              "        <td>A</td>\n",
              "    </tr>\n",
              "    <tr>\n",
              "        <td>EE-181</td>\n",
              "        <td>1</td>\n",
              "        <td>Spring</td>\n",
              "        <td>2017</td>\n",
              "        <td>Taylor</td>\n",
              "        <td>3128</td>\n",
              "        <td>C</td>\n",
              "    </tr>\n",
              "    <tr>\n",
              "        <td>FIN-201</td>\n",
              "        <td>1</td>\n",
              "        <td>Spring</td>\n",
              "        <td>2018</td>\n",
              "        <td>Packard</td>\n",
              "        <td>101</td>\n",
              "        <td>B</td>\n",
              "    </tr>\n",
              "    <tr>\n",
              "        <td>HIS-351</td>\n",
              "        <td>1</td>\n",
              "        <td>Spring</td>\n",
              "        <td>2018</td>\n",
              "        <td>Painter</td>\n",
              "        <td>514</td>\n",
              "        <td>C</td>\n",
              "    </tr>\n",
              "    <tr>\n",
              "        <td>MU-199</td>\n",
              "        <td>1</td>\n",
              "        <td>Spring</td>\n",
              "        <td>2018</td>\n",
              "        <td>Packard</td>\n",
              "        <td>101</td>\n",
              "        <td>D</td>\n",
              "    </tr>\n",
              "    <tr>\n",
              "        <td>PHY-101</td>\n",
              "        <td>1</td>\n",
              "        <td>Fall</td>\n",
              "        <td>2017</td>\n",
              "        <td>Watson</td>\n",
              "        <td>100</td>\n",
              "        <td>A</td>\n",
              "    </tr>\n",
              "</table>"
            ],
            "text/plain": [
              "[('BIO-101', '1', 'Summer', 2017, 'Painter', '514', 'B'),\n",
              " ('BIO-301', '1', 'Summer', 2018, 'Painter', '514', 'A'),\n",
              " ('CS-101', '1', 'Fall', 2017, 'Packard', '101', 'H'),\n",
              " ('CS-101', '1', 'Spring', 2018, 'Packard', '101', 'F'),\n",
              " ('CS-190', '1', 'Spring', 2017, 'Taylor', '3128', 'E'),\n",
              " ('CS-190', '2', 'Spring', 2017, 'Taylor', '3128', 'A'),\n",
              " ('CS-315', '1', 'Spring', 2018, 'Watson', '120', 'D'),\n",
              " ('CS-319', '1', 'Spring', 2018, 'Watson', '100', 'B'),\n",
              " ('CS-319', '2', 'Spring', 2018, 'Taylor', '3128', 'C'),\n",
              " ('CS-347', '1', 'Fall', 2017, 'Taylor', '3128', 'A'),\n",
              " ('EE-181', '1', 'Spring', 2017, 'Taylor', '3128', 'C'),\n",
              " ('FIN-201', '1', 'Spring', 2018, 'Packard', '101', 'B'),\n",
              " ('HIS-351', '1', 'Spring', 2018, 'Painter', '514', 'C'),\n",
              " ('MU-199', '1', 'Spring', 2018, 'Packard', '101', 'D'),\n",
              " ('PHY-101', '1', 'Fall', 2017, 'Watson', '100', 'A')]"
            ]
          },
          "execution_count": 122,
          "metadata": {},
          "output_type": "execute_result"
        }
      ],
      "source": [
        "%%sql\n",
        "select * from section"
      ]
    },
    {
      "cell_type": "code",
      "execution_count": 123,
      "metadata": {
        "colab": {
          "base_uri": "https://localhost:8080/"
        },
        "id": "Wu3Q_KNfUpmw",
        "outputId": "e622e5cc-8ac3-4ac9-df06-14caaf25f30b"
      },
      "outputs": [
        {
          "name": "stdout",
          "output_type": "stream",
          "text": [
            " * sqlite:///university.db\n",
            "(sqlite3.OperationalError) table teaches already exists\n",
            "[SQL: create table teaches\n",
            "\t(ID\t\t\tvarchar(5), \n",
            "\t course_id\t\tvarchar(8),\n",
            "\t sec_id\t\t\tvarchar(8), \n",
            "\t semester\t\tvarchar(6),\n",
            "\t year\t\t\tnumeric(4,0),\n",
            "\t primary key (ID, course_id, sec_id, semester, year),\n",
            "\t foreign key (course_id, sec_id, semester, year) references section (course_id, sec_id, semester, year)\n",
            "\t\ton delete cascade,\n",
            "\t foreign key (ID) references instructor (ID)\n",
            "\t\ton delete cascade\n",
            "\t);]\n",
            "(Background on this error at: https://sqlalche.me/e/14/e3q8)\n"
          ]
        }
      ],
      "source": [
        "%%sql\n",
        "create table teaches\n",
        "\t(ID\t\t\tvarchar(5), \n",
        "\t course_id\t\tvarchar(8),\n",
        "\t sec_id\t\t\tvarchar(8), \n",
        "\t semester\t\tvarchar(6),\n",
        "\t year\t\t\tnumeric(4,0),\n",
        "\t primary key (ID, course_id, sec_id, semester, year),\n",
        "\t foreign key (course_id, sec_id, semester, year) references section (course_id, sec_id, semester, year)\n",
        "\t\ton delete cascade,\n",
        "\t foreign key (ID) references instructor (ID)\n",
        "\t\ton delete cascade\n",
        "\t);"
      ]
    },
    {
      "cell_type": "code",
      "execution_count": 124,
      "metadata": {
        "colab": {
          "base_uri": "https://localhost:8080/"
        },
        "id": "qIBm-kLXXmpZ",
        "outputId": "eab2c32c-5fa5-4f94-e73b-d5f4692a4f1b"
      },
      "outputs": [
        {
          "name": "stdout",
          "output_type": "stream",
          "text": [
            " * sqlite:///university.db\n",
            "(sqlite3.IntegrityError) UNIQUE constraint failed: teaches.ID, teaches.course_id, teaches.sec_id, teaches.semester, teaches.year\n",
            "[SQL: insert into teaches values ('10101', 'CS-101', '1', 'Fall', '2017');]\n",
            "(Background on this error at: https://sqlalche.me/e/14/gkpj)\n"
          ]
        }
      ],
      "source": [
        "%%sql\n",
        "insert into teaches values ('10101', 'CS-101', '1', 'Fall', '2017');\n",
        "insert into teaches values ('10101', 'CS-315', '1', 'Spring', '2018');\n",
        "insert into teaches values ('10101', 'CS-347', '1', 'Fall', '2017');\n",
        "insert into teaches values ('12121', 'FIN-201', '1', 'Spring', '2018');\n",
        "insert into teaches values ('15151', 'MU-199', '1', 'Spring', '2018');\n",
        "insert into teaches values ('22222', 'PHY-101', '1', 'Fall', '2017');\n",
        "insert into teaches values ('32343', 'HIS-351', '1', 'Spring', '2018');\n",
        "insert into teaches values ('45565', 'CS-101', '1', 'Spring', '2018');\n",
        "insert into teaches values ('45565', 'CS-319', '1', 'Spring', '2018');\n",
        "insert into teaches values ('76766', 'BIO-101', '1', 'Summer', '2017');\n",
        "insert into teaches values ('76766', 'BIO-301', '1', 'Summer', '2018');\n",
        "insert into teaches values ('83821', 'CS-190', '1', 'Spring', '2017');\n",
        "insert into teaches values ('83821', 'CS-190', '2', 'Spring', '2017');\n",
        "insert into teaches values ('83821', 'CS-319', '2', 'Spring', '2018');\n",
        "insert into teaches values ('98345', 'EE-181', '1', 'Spring', '2017');"
      ]
    },
    {
      "cell_type": "code",
      "execution_count": 125,
      "metadata": {
        "colab": {
          "base_uri": "https://localhost:8080/",
          "height": 396
        },
        "id": "JGLuABP-XobS",
        "outputId": "fddb4454-c537-4896-8421-35db16c61bb9"
      },
      "outputs": [
        {
          "name": "stdout",
          "output_type": "stream",
          "text": [
            " * sqlite:///university.db\n",
            "Done.\n"
          ]
        },
        {
          "data": {
            "text/html": [
              "<table>\n",
              "    <tr>\n",
              "        <th>ID</th>\n",
              "        <th>course_id</th>\n",
              "        <th>sec_id</th>\n",
              "        <th>semester</th>\n",
              "        <th>year</th>\n",
              "    </tr>\n",
              "    <tr>\n",
              "        <td>10101</td>\n",
              "        <td>CS-101</td>\n",
              "        <td>1</td>\n",
              "        <td>Fall</td>\n",
              "        <td>2017</td>\n",
              "    </tr>\n",
              "    <tr>\n",
              "        <td>10101</td>\n",
              "        <td>CS-315</td>\n",
              "        <td>1</td>\n",
              "        <td>Spring</td>\n",
              "        <td>2018</td>\n",
              "    </tr>\n",
              "    <tr>\n",
              "        <td>10101</td>\n",
              "        <td>CS-347</td>\n",
              "        <td>1</td>\n",
              "        <td>Fall</td>\n",
              "        <td>2017</td>\n",
              "    </tr>\n",
              "    <tr>\n",
              "        <td>12121</td>\n",
              "        <td>FIN-201</td>\n",
              "        <td>1</td>\n",
              "        <td>Spring</td>\n",
              "        <td>2018</td>\n",
              "    </tr>\n",
              "    <tr>\n",
              "        <td>15151</td>\n",
              "        <td>MU-199</td>\n",
              "        <td>1</td>\n",
              "        <td>Spring</td>\n",
              "        <td>2018</td>\n",
              "    </tr>\n",
              "    <tr>\n",
              "        <td>22222</td>\n",
              "        <td>PHY-101</td>\n",
              "        <td>1</td>\n",
              "        <td>Fall</td>\n",
              "        <td>2017</td>\n",
              "    </tr>\n",
              "    <tr>\n",
              "        <td>32343</td>\n",
              "        <td>HIS-351</td>\n",
              "        <td>1</td>\n",
              "        <td>Spring</td>\n",
              "        <td>2018</td>\n",
              "    </tr>\n",
              "    <tr>\n",
              "        <td>45565</td>\n",
              "        <td>CS-101</td>\n",
              "        <td>1</td>\n",
              "        <td>Spring</td>\n",
              "        <td>2018</td>\n",
              "    </tr>\n",
              "    <tr>\n",
              "        <td>45565</td>\n",
              "        <td>CS-319</td>\n",
              "        <td>1</td>\n",
              "        <td>Spring</td>\n",
              "        <td>2018</td>\n",
              "    </tr>\n",
              "    <tr>\n",
              "        <td>76766</td>\n",
              "        <td>BIO-101</td>\n",
              "        <td>1</td>\n",
              "        <td>Summer</td>\n",
              "        <td>2017</td>\n",
              "    </tr>\n",
              "    <tr>\n",
              "        <td>76766</td>\n",
              "        <td>BIO-301</td>\n",
              "        <td>1</td>\n",
              "        <td>Summer</td>\n",
              "        <td>2018</td>\n",
              "    </tr>\n",
              "    <tr>\n",
              "        <td>83821</td>\n",
              "        <td>CS-190</td>\n",
              "        <td>1</td>\n",
              "        <td>Spring</td>\n",
              "        <td>2017</td>\n",
              "    </tr>\n",
              "    <tr>\n",
              "        <td>83821</td>\n",
              "        <td>CS-190</td>\n",
              "        <td>2</td>\n",
              "        <td>Spring</td>\n",
              "        <td>2017</td>\n",
              "    </tr>\n",
              "    <tr>\n",
              "        <td>83821</td>\n",
              "        <td>CS-319</td>\n",
              "        <td>2</td>\n",
              "        <td>Spring</td>\n",
              "        <td>2018</td>\n",
              "    </tr>\n",
              "    <tr>\n",
              "        <td>98345</td>\n",
              "        <td>EE-181</td>\n",
              "        <td>1</td>\n",
              "        <td>Spring</td>\n",
              "        <td>2017</td>\n",
              "    </tr>\n",
              "</table>"
            ],
            "text/plain": [
              "[('10101', 'CS-101', '1', 'Fall', 2017),\n",
              " ('10101', 'CS-315', '1', 'Spring', 2018),\n",
              " ('10101', 'CS-347', '1', 'Fall', 2017),\n",
              " ('12121', 'FIN-201', '1', 'Spring', 2018),\n",
              " ('15151', 'MU-199', '1', 'Spring', 2018),\n",
              " ('22222', 'PHY-101', '1', 'Fall', 2017),\n",
              " ('32343', 'HIS-351', '1', 'Spring', 2018),\n",
              " ('45565', 'CS-101', '1', 'Spring', 2018),\n",
              " ('45565', 'CS-319', '1', 'Spring', 2018),\n",
              " ('76766', 'BIO-101', '1', 'Summer', 2017),\n",
              " ('76766', 'BIO-301', '1', 'Summer', 2018),\n",
              " ('83821', 'CS-190', '1', 'Spring', 2017),\n",
              " ('83821', 'CS-190', '2', 'Spring', 2017),\n",
              " ('83821', 'CS-319', '2', 'Spring', 2018),\n",
              " ('98345', 'EE-181', '1', 'Spring', 2017)]"
            ]
          },
          "execution_count": 125,
          "metadata": {},
          "output_type": "execute_result"
        }
      ],
      "source": [
        "%%sql\n",
        "select * from teaches"
      ]
    },
    {
      "cell_type": "code",
      "execution_count": 126,
      "metadata": {
        "colab": {
          "base_uri": "https://localhost:8080/"
        },
        "id": "gTJcX0LXUxTR",
        "outputId": "dfb06c90-86a4-43c8-fc24-19119ecdbec5"
      },
      "outputs": [
        {
          "name": "stdout",
          "output_type": "stream",
          "text": [
            " * sqlite:///university.db\n",
            "(sqlite3.OperationalError) table student already exists\n",
            "[SQL: create table student\n",
            "\t(ID\t\t\tvarchar(5), \n",
            "\t name\t\t\tvarchar(20) not null, \n",
            "\t dept_name\t\tvarchar(20), \n",
            "\t tot_cred\t\tnumeric(3,0) check (tot_cred >= 0),\n",
            "\t primary key (ID),\n",
            "\t foreign key (dept_name) references department (dept_name)\n",
            "\t\ton delete set null\n",
            "\t);]\n",
            "(Background on this error at: https://sqlalche.me/e/14/e3q8)\n"
          ]
        }
      ],
      "source": [
        "%%sql\n",
        "create table student\n",
        "\t(ID\t\t\tvarchar(5), \n",
        "\t name\t\t\tvarchar(20) not null, \n",
        "\t dept_name\t\tvarchar(20), \n",
        "\t tot_cred\t\tnumeric(3,0) check (tot_cred >= 0),\n",
        "\t primary key (ID),\n",
        "\t foreign key (dept_name) references department (dept_name)\n",
        "\t\ton delete set null\n",
        "\t);\n",
        "\n"
      ]
    },
    {
      "cell_type": "code",
      "execution_count": 127,
      "metadata": {
        "colab": {
          "base_uri": "https://localhost:8080/"
        },
        "id": "CT8R69vHXvAu",
        "outputId": "190543a9-7339-4ddf-ee8c-621938ef6475"
      },
      "outputs": [
        {
          "name": "stdout",
          "output_type": "stream",
          "text": [
            " * sqlite:///university.db\n",
            "(sqlite3.IntegrityError) UNIQUE constraint failed: student.ID\n",
            "[SQL: insert into student values ('00128', 'Zhang', 'Comp. Sci.', '102');]\n",
            "(Background on this error at: https://sqlalche.me/e/14/gkpj)\n"
          ]
        }
      ],
      "source": [
        "%%sql\n",
        "\n",
        "insert into student values ('00128', 'Zhang', 'Comp. Sci.', '102');\n",
        "insert into student values ('12345', 'Shankar', 'Comp. Sci.', '32');\n",
        "insert into student values ('19991', 'Brandt', 'History', '80');\n",
        "insert into student values ('23121', 'Chavez', 'Finance', '110');\n",
        "insert into student values ('44553', 'Peltier', 'Physics', '56');\n",
        "insert into student values ('45678', 'Levy', 'Physics', '46');\n",
        "insert into student values ('54321', 'Williams', 'Comp. Sci.', '54');\n",
        "insert into student values ('55739', 'Sanchez', 'Music', '38');\n",
        "insert into student values ('70557', 'Snow', 'Physics', '0');\n",
        "insert into student values ('76543', 'Brown', 'Comp. Sci.', '58');\n",
        "insert into student values ('76653', 'Aoi', 'Elec. Eng.', '60');\n",
        "insert into student values ('98765', 'Bourikas', 'Elec. Eng.', '98');\n",
        "insert into student values ('98988', 'Tanaka', 'Biology', '120');"
      ]
    },
    {
      "cell_type": "code",
      "execution_count": 128,
      "metadata": {
        "colab": {
          "base_uri": "https://localhost:8080/",
          "height": 353
        },
        "id": "Qf81BKWSXwpd",
        "outputId": "5b0cb248-dff9-44e3-afb7-f539d206c2f6"
      },
      "outputs": [
        {
          "name": "stdout",
          "output_type": "stream",
          "text": [
            " * sqlite:///university.db\n",
            "Done.\n"
          ]
        },
        {
          "data": {
            "text/html": [
              "<table>\n",
              "    <tr>\n",
              "        <th>ID</th>\n",
              "        <th>name</th>\n",
              "        <th>dept_name</th>\n",
              "        <th>tot_cred</th>\n",
              "    </tr>\n",
              "    <tr>\n",
              "        <td>00128</td>\n",
              "        <td>Zhang</td>\n",
              "        <td>Comp. Sci.</td>\n",
              "        <td>102</td>\n",
              "    </tr>\n",
              "    <tr>\n",
              "        <td>12345</td>\n",
              "        <td>Shankar</td>\n",
              "        <td>Comp. Sci.</td>\n",
              "        <td>32</td>\n",
              "    </tr>\n",
              "    <tr>\n",
              "        <td>19991</td>\n",
              "        <td>Brandt</td>\n",
              "        <td>History</td>\n",
              "        <td>80</td>\n",
              "    </tr>\n",
              "    <tr>\n",
              "        <td>23121</td>\n",
              "        <td>Chavez</td>\n",
              "        <td>Finance</td>\n",
              "        <td>110</td>\n",
              "    </tr>\n",
              "    <tr>\n",
              "        <td>44553</td>\n",
              "        <td>Peltier</td>\n",
              "        <td>Physics</td>\n",
              "        <td>56</td>\n",
              "    </tr>\n",
              "    <tr>\n",
              "        <td>45678</td>\n",
              "        <td>Levy</td>\n",
              "        <td>Physics</td>\n",
              "        <td>46</td>\n",
              "    </tr>\n",
              "    <tr>\n",
              "        <td>54321</td>\n",
              "        <td>Williams</td>\n",
              "        <td>Comp. Sci.</td>\n",
              "        <td>54</td>\n",
              "    </tr>\n",
              "    <tr>\n",
              "        <td>55739</td>\n",
              "        <td>Sanchez</td>\n",
              "        <td>Music</td>\n",
              "        <td>38</td>\n",
              "    </tr>\n",
              "    <tr>\n",
              "        <td>70557</td>\n",
              "        <td>Snow</td>\n",
              "        <td>Physics</td>\n",
              "        <td>0</td>\n",
              "    </tr>\n",
              "    <tr>\n",
              "        <td>76543</td>\n",
              "        <td>Brown</td>\n",
              "        <td>Comp. Sci.</td>\n",
              "        <td>58</td>\n",
              "    </tr>\n",
              "    <tr>\n",
              "        <td>76653</td>\n",
              "        <td>Aoi</td>\n",
              "        <td>Elec. Eng.</td>\n",
              "        <td>60</td>\n",
              "    </tr>\n",
              "    <tr>\n",
              "        <td>98765</td>\n",
              "        <td>Bourikas</td>\n",
              "        <td>Elec. Eng.</td>\n",
              "        <td>98</td>\n",
              "    </tr>\n",
              "    <tr>\n",
              "        <td>98988</td>\n",
              "        <td>Tanaka</td>\n",
              "        <td>Biology</td>\n",
              "        <td>120</td>\n",
              "    </tr>\n",
              "</table>"
            ],
            "text/plain": [
              "[('00128', 'Zhang', 'Comp. Sci.', 102),\n",
              " ('12345', 'Shankar', 'Comp. Sci.', 32),\n",
              " ('19991', 'Brandt', 'History', 80),\n",
              " ('23121', 'Chavez', 'Finance', 110),\n",
              " ('44553', 'Peltier', 'Physics', 56),\n",
              " ('45678', 'Levy', 'Physics', 46),\n",
              " ('54321', 'Williams', 'Comp. Sci.', 54),\n",
              " ('55739', 'Sanchez', 'Music', 38),\n",
              " ('70557', 'Snow', 'Physics', 0),\n",
              " ('76543', 'Brown', 'Comp. Sci.', 58),\n",
              " ('76653', 'Aoi', 'Elec. Eng.', 60),\n",
              " ('98765', 'Bourikas', 'Elec. Eng.', 98),\n",
              " ('98988', 'Tanaka', 'Biology', 120)]"
            ]
          },
          "execution_count": 128,
          "metadata": {},
          "output_type": "execute_result"
        }
      ],
      "source": [
        "%%sql\n",
        "select * from student"
      ]
    },
    {
      "cell_type": "code",
      "execution_count": 129,
      "metadata": {
        "colab": {
          "base_uri": "https://localhost:8080/"
        },
        "id": "bXK9eg0BU0Q0",
        "outputId": "18290810-ec4d-4b33-f9ab-0ea611d332e1"
      },
      "outputs": [
        {
          "name": "stdout",
          "output_type": "stream",
          "text": [
            " * sqlite:///university.db\n",
            "(sqlite3.OperationalError) table takes already exists\n",
            "[SQL: create table takes\n",
            "\t(ID\t\t\tvarchar(5), \n",
            "\t course_id\t\tvarchar(8),\n",
            "\t sec_id\t\t\tvarchar(8), \n",
            "\t semester\t\tvarchar(6),\n",
            "\t year\t\t\tnumeric(4,0),\n",
            "\t grade\t\t        varchar(2),\n",
            "\t primary key (ID, course_id, sec_id, semester, year),\n",
            "\t foreign key (course_id, sec_id, semester, year) references section (course_id, sec_id, semester, year)\n",
            "\t\ton delete cascade,\n",
            "\t foreign key (ID) references student (ID)\n",
            "\t\ton delete cascade\n",
            "\t);]\n",
            "(Background on this error at: https://sqlalche.me/e/14/e3q8)\n"
          ]
        }
      ],
      "source": [
        "%%sql\n",
        "create table takes\n",
        "\t(ID\t\t\tvarchar(5), \n",
        "\t course_id\t\tvarchar(8),\n",
        "\t sec_id\t\t\tvarchar(8), \n",
        "\t semester\t\tvarchar(6),\n",
        "\t year\t\t\tnumeric(4,0),\n",
        "\t grade\t\t        varchar(2),\n",
        "\t primary key (ID, course_id, sec_id, semester, year),\n",
        "\t foreign key (course_id, sec_id, semester, year) references section (course_id, sec_id, semester, year)\n",
        "\t\ton delete cascade,\n",
        "\t foreign key (ID) references student (ID)\n",
        "\t\ton delete cascade\n",
        "\t);\n",
        "\n"
      ]
    },
    {
      "cell_type": "code",
      "execution_count": 130,
      "metadata": {
        "colab": {
          "base_uri": "https://localhost:8080/"
        },
        "id": "Oc7DfMI0X5db",
        "outputId": "9a0021a2-204c-4646-a30b-c2ae6636b0ec"
      },
      "outputs": [
        {
          "name": "stdout",
          "output_type": "stream",
          "text": [
            " * sqlite:///university.db\n",
            "(sqlite3.IntegrityError) UNIQUE constraint failed: takes.ID, takes.course_id, takes.sec_id, takes.semester, takes.year\n",
            "[SQL: insert into takes values ('00128', 'CS-101', '1', 'Fall', '2017', 'A');]\n",
            "(Background on this error at: https://sqlalche.me/e/14/gkpj)\n"
          ]
        }
      ],
      "source": [
        "%%sql\n",
        "insert into takes values ('00128', 'CS-101', '1', 'Fall', '2017', 'A');\n",
        "insert into takes values ('00128', 'CS-347', '1', 'Fall', '2017', 'A-');\n",
        "insert into takes values ('12345', 'CS-101', '1', 'Fall', '2017', 'C');\n",
        "insert into takes values ('12345', 'CS-190', '2', 'Spring', '2017', 'A');\n",
        "insert into takes values ('12345', 'CS-315', '1', 'Spring', '2018', 'A');\n",
        "insert into takes values ('12345', 'CS-347', '1', 'Fall', '2017', 'A');\n",
        "insert into takes values ('19991', 'HIS-351', '1', 'Spring', '2018', 'B');\n",
        "insert into takes values ('23121', 'FIN-201', '1', 'Spring', '2018', 'C+');\n",
        "insert into takes values ('44553', 'PHY-101', '1', 'Fall', '2017', 'B-');\n",
        "insert into takes values ('45678', 'CS-101', '1', 'Fall', '2017', 'F');\n",
        "insert into takes values ('45678', 'CS-101', '1', 'Spring', '2018', 'B+');\n",
        "insert into takes values ('45678', 'CS-319', '1', 'Spring', '2018', 'B');\n",
        "insert into takes values ('54321', 'CS-101', '1', 'Fall', '2017', 'A-');\n",
        "insert into takes values ('54321', 'CS-190', '2', 'Spring', '2017', 'B+');\n",
        "insert into takes values ('55739', 'MU-199', '1', 'Spring', '2018', 'A-');\n",
        "insert into takes values ('76543', 'CS-101', '1', 'Fall', '2017', 'A');\n",
        "insert into takes values ('76543', 'CS-319', '2', 'Spring', '2018', 'A');\n",
        "insert into takes values ('76653', 'EE-181', '1', 'Spring', '2017', 'C');\n",
        "insert into takes values ('98765', 'CS-101', '1', 'Fall', '2017', 'C-');\n",
        "insert into takes values ('98765', 'CS-315', '1', 'Spring', '2018', 'B');\n",
        "insert into takes values ('98988', 'BIO-101', '1', 'Summer', '2017', 'A');\n",
        "insert into takes values ('98988', 'BIO-301', '1', 'Summer', '2018', null);"
      ]
    },
    {
      "cell_type": "code",
      "execution_count": 131,
      "metadata": {
        "colab": {
          "base_uri": "https://localhost:8080/",
          "height": 545
        },
        "id": "N2JrisKBX8Qk",
        "outputId": "55a94234-7e0c-4e43-8ce8-9094e2a637fe"
      },
      "outputs": [
        {
          "name": "stdout",
          "output_type": "stream",
          "text": [
            " * sqlite:///university.db\n",
            "Done.\n"
          ]
        },
        {
          "data": {
            "text/html": [
              "<table>\n",
              "    <tr>\n",
              "        <th>ID</th>\n",
              "        <th>course_id</th>\n",
              "        <th>sec_id</th>\n",
              "        <th>semester</th>\n",
              "        <th>year</th>\n",
              "        <th>grade</th>\n",
              "    </tr>\n",
              "    <tr>\n",
              "        <td>00128</td>\n",
              "        <td>CS-101</td>\n",
              "        <td>1</td>\n",
              "        <td>Fall</td>\n",
              "        <td>2017</td>\n",
              "        <td>A</td>\n",
              "    </tr>\n",
              "    <tr>\n",
              "        <td>00128</td>\n",
              "        <td>CS-347</td>\n",
              "        <td>1</td>\n",
              "        <td>Fall</td>\n",
              "        <td>2017</td>\n",
              "        <td>A-</td>\n",
              "    </tr>\n",
              "    <tr>\n",
              "        <td>12345</td>\n",
              "        <td>CS-101</td>\n",
              "        <td>1</td>\n",
              "        <td>Fall</td>\n",
              "        <td>2017</td>\n",
              "        <td>C</td>\n",
              "    </tr>\n",
              "    <tr>\n",
              "        <td>12345</td>\n",
              "        <td>CS-190</td>\n",
              "        <td>2</td>\n",
              "        <td>Spring</td>\n",
              "        <td>2017</td>\n",
              "        <td>A</td>\n",
              "    </tr>\n",
              "    <tr>\n",
              "        <td>12345</td>\n",
              "        <td>CS-315</td>\n",
              "        <td>1</td>\n",
              "        <td>Spring</td>\n",
              "        <td>2018</td>\n",
              "        <td>A</td>\n",
              "    </tr>\n",
              "    <tr>\n",
              "        <td>12345</td>\n",
              "        <td>CS-347</td>\n",
              "        <td>1</td>\n",
              "        <td>Fall</td>\n",
              "        <td>2017</td>\n",
              "        <td>A</td>\n",
              "    </tr>\n",
              "    <tr>\n",
              "        <td>19991</td>\n",
              "        <td>HIS-351</td>\n",
              "        <td>1</td>\n",
              "        <td>Spring</td>\n",
              "        <td>2018</td>\n",
              "        <td>B</td>\n",
              "    </tr>\n",
              "    <tr>\n",
              "        <td>23121</td>\n",
              "        <td>FIN-201</td>\n",
              "        <td>1</td>\n",
              "        <td>Spring</td>\n",
              "        <td>2018</td>\n",
              "        <td>C+</td>\n",
              "    </tr>\n",
              "    <tr>\n",
              "        <td>44553</td>\n",
              "        <td>PHY-101</td>\n",
              "        <td>1</td>\n",
              "        <td>Fall</td>\n",
              "        <td>2017</td>\n",
              "        <td>B-</td>\n",
              "    </tr>\n",
              "    <tr>\n",
              "        <td>45678</td>\n",
              "        <td>CS-101</td>\n",
              "        <td>1</td>\n",
              "        <td>Fall</td>\n",
              "        <td>2017</td>\n",
              "        <td>F</td>\n",
              "    </tr>\n",
              "    <tr>\n",
              "        <td>45678</td>\n",
              "        <td>CS-101</td>\n",
              "        <td>1</td>\n",
              "        <td>Spring</td>\n",
              "        <td>2018</td>\n",
              "        <td>B+</td>\n",
              "    </tr>\n",
              "    <tr>\n",
              "        <td>45678</td>\n",
              "        <td>CS-319</td>\n",
              "        <td>1</td>\n",
              "        <td>Spring</td>\n",
              "        <td>2018</td>\n",
              "        <td>B</td>\n",
              "    </tr>\n",
              "    <tr>\n",
              "        <td>54321</td>\n",
              "        <td>CS-101</td>\n",
              "        <td>1</td>\n",
              "        <td>Fall</td>\n",
              "        <td>2017</td>\n",
              "        <td>A-</td>\n",
              "    </tr>\n",
              "    <tr>\n",
              "        <td>54321</td>\n",
              "        <td>CS-190</td>\n",
              "        <td>2</td>\n",
              "        <td>Spring</td>\n",
              "        <td>2017</td>\n",
              "        <td>B+</td>\n",
              "    </tr>\n",
              "    <tr>\n",
              "        <td>55739</td>\n",
              "        <td>MU-199</td>\n",
              "        <td>1</td>\n",
              "        <td>Spring</td>\n",
              "        <td>2018</td>\n",
              "        <td>A-</td>\n",
              "    </tr>\n",
              "    <tr>\n",
              "        <td>76543</td>\n",
              "        <td>CS-101</td>\n",
              "        <td>1</td>\n",
              "        <td>Fall</td>\n",
              "        <td>2017</td>\n",
              "        <td>A</td>\n",
              "    </tr>\n",
              "    <tr>\n",
              "        <td>76543</td>\n",
              "        <td>CS-319</td>\n",
              "        <td>2</td>\n",
              "        <td>Spring</td>\n",
              "        <td>2018</td>\n",
              "        <td>A</td>\n",
              "    </tr>\n",
              "    <tr>\n",
              "        <td>76653</td>\n",
              "        <td>EE-181</td>\n",
              "        <td>1</td>\n",
              "        <td>Spring</td>\n",
              "        <td>2017</td>\n",
              "        <td>C</td>\n",
              "    </tr>\n",
              "    <tr>\n",
              "        <td>98765</td>\n",
              "        <td>CS-101</td>\n",
              "        <td>1</td>\n",
              "        <td>Fall</td>\n",
              "        <td>2017</td>\n",
              "        <td>C-</td>\n",
              "    </tr>\n",
              "    <tr>\n",
              "        <td>98765</td>\n",
              "        <td>CS-315</td>\n",
              "        <td>1</td>\n",
              "        <td>Spring</td>\n",
              "        <td>2018</td>\n",
              "        <td>B</td>\n",
              "    </tr>\n",
              "    <tr>\n",
              "        <td>98988</td>\n",
              "        <td>BIO-101</td>\n",
              "        <td>1</td>\n",
              "        <td>Summer</td>\n",
              "        <td>2017</td>\n",
              "        <td>A</td>\n",
              "    </tr>\n",
              "    <tr>\n",
              "        <td>98988</td>\n",
              "        <td>BIO-301</td>\n",
              "        <td>1</td>\n",
              "        <td>Summer</td>\n",
              "        <td>2018</td>\n",
              "        <td>None</td>\n",
              "    </tr>\n",
              "</table>"
            ],
            "text/plain": [
              "[('00128', 'CS-101', '1', 'Fall', 2017, 'A'),\n",
              " ('00128', 'CS-347', '1', 'Fall', 2017, 'A-'),\n",
              " ('12345', 'CS-101', '1', 'Fall', 2017, 'C'),\n",
              " ('12345', 'CS-190', '2', 'Spring', 2017, 'A'),\n",
              " ('12345', 'CS-315', '1', 'Spring', 2018, 'A'),\n",
              " ('12345', 'CS-347', '1', 'Fall', 2017, 'A'),\n",
              " ('19991', 'HIS-351', '1', 'Spring', 2018, 'B'),\n",
              " ('23121', 'FIN-201', '1', 'Spring', 2018, 'C+'),\n",
              " ('44553', 'PHY-101', '1', 'Fall', 2017, 'B-'),\n",
              " ('45678', 'CS-101', '1', 'Fall', 2017, 'F'),\n",
              " ('45678', 'CS-101', '1', 'Spring', 2018, 'B+'),\n",
              " ('45678', 'CS-319', '1', 'Spring', 2018, 'B'),\n",
              " ('54321', 'CS-101', '1', 'Fall', 2017, 'A-'),\n",
              " ('54321', 'CS-190', '2', 'Spring', 2017, 'B+'),\n",
              " ('55739', 'MU-199', '1', 'Spring', 2018, 'A-'),\n",
              " ('76543', 'CS-101', '1', 'Fall', 2017, 'A'),\n",
              " ('76543', 'CS-319', '2', 'Spring', 2018, 'A'),\n",
              " ('76653', 'EE-181', '1', 'Spring', 2017, 'C'),\n",
              " ('98765', 'CS-101', '1', 'Fall', 2017, 'C-'),\n",
              " ('98765', 'CS-315', '1', 'Spring', 2018, 'B'),\n",
              " ('98988', 'BIO-101', '1', 'Summer', 2017, 'A'),\n",
              " ('98988', 'BIO-301', '1', 'Summer', 2018, None)]"
            ]
          },
          "execution_count": 131,
          "metadata": {},
          "output_type": "execute_result"
        }
      ],
      "source": [
        "%%sql\n",
        "select * from takes"
      ]
    },
    {
      "cell_type": "code",
      "execution_count": 132,
      "metadata": {
        "colab": {
          "base_uri": "https://localhost:8080/"
        },
        "id": "1kiIVWk-VBwY",
        "outputId": "d3433311-a7d8-498c-a06a-6d8bef41dea9"
      },
      "outputs": [
        {
          "name": "stdout",
          "output_type": "stream",
          "text": [
            " * sqlite:///university.db\n",
            "(sqlite3.OperationalError) table advisor already exists\n",
            "[SQL: create table advisor\n",
            "\t(s_ID\t\t\tvarchar(5),\n",
            "\t i_ID\t\t\tvarchar(5),\n",
            "\t primary key (s_ID),\n",
            "\t foreign key (i_ID) references instructor (ID)\n",
            "\t\ton delete set null,\n",
            "\t foreign key (s_ID) references student (ID)\n",
            "\t\ton delete cascade\n",
            "\t);]\n",
            "(Background on this error at: https://sqlalche.me/e/14/e3q8)\n"
          ]
        }
      ],
      "source": [
        "%%sql\n",
        "create table advisor\n",
        "\t(s_ID\t\t\tvarchar(5),\n",
        "\t i_ID\t\t\tvarchar(5),\n",
        "\t primary key (s_ID),\n",
        "\t foreign key (i_ID) references instructor (ID)\n",
        "\t\ton delete set null,\n",
        "\t foreign key (s_ID) references student (ID)\n",
        "\t\ton delete cascade\n",
        "\t);\n",
        "\n"
      ]
    },
    {
      "cell_type": "code",
      "execution_count": 133,
      "metadata": {
        "colab": {
          "base_uri": "https://localhost:8080/"
        },
        "id": "8tinJCDhYE-H",
        "outputId": "d8712222-a88c-4f14-d72d-c93cf8fa6d5d"
      },
      "outputs": [
        {
          "name": "stdout",
          "output_type": "stream",
          "text": [
            " * sqlite:///university.db\n",
            "(sqlite3.IntegrityError) UNIQUE constraint failed: advisor.s_ID\n",
            "[SQL: insert into advisor values ('00128', '45565');]\n",
            "(Background on this error at: https://sqlalche.me/e/14/gkpj)\n"
          ]
        }
      ],
      "source": [
        "%%sql\n",
        "insert into advisor values ('00128', '45565');\n",
        "insert into advisor values ('12345', '10101');\n",
        "insert into advisor values ('23121', '76543');\n",
        "insert into advisor values ('44553', '22222');\n",
        "insert into advisor values ('45678', '22222');\n",
        "insert into advisor values ('76543', '45565');\n",
        "insert into advisor values ('76653', '98345');\n",
        "insert into advisor values ('98765', '98345');\n",
        "insert into advisor values ('98988', '76766');"
      ]
    },
    {
      "cell_type": "code",
      "execution_count": 134,
      "metadata": {
        "colab": {
          "base_uri": "https://localhost:8080/",
          "height": 267
        },
        "id": "SwOftf1BYIQn",
        "outputId": "7f5450cb-34af-4d84-e4d1-83ea558f24b2"
      },
      "outputs": [
        {
          "name": "stdout",
          "output_type": "stream",
          "text": [
            " * sqlite:///university.db\n",
            "Done.\n"
          ]
        },
        {
          "data": {
            "text/html": [
              "<table>\n",
              "    <tr>\n",
              "        <th>s_ID</th>\n",
              "        <th>i_ID</th>\n",
              "    </tr>\n",
              "    <tr>\n",
              "        <td>00128</td>\n",
              "        <td>45565</td>\n",
              "    </tr>\n",
              "    <tr>\n",
              "        <td>12345</td>\n",
              "        <td>10101</td>\n",
              "    </tr>\n",
              "    <tr>\n",
              "        <td>23121</td>\n",
              "        <td>76543</td>\n",
              "    </tr>\n",
              "    <tr>\n",
              "        <td>44553</td>\n",
              "        <td>22222</td>\n",
              "    </tr>\n",
              "    <tr>\n",
              "        <td>45678</td>\n",
              "        <td>22222</td>\n",
              "    </tr>\n",
              "    <tr>\n",
              "        <td>76543</td>\n",
              "        <td>45565</td>\n",
              "    </tr>\n",
              "    <tr>\n",
              "        <td>76653</td>\n",
              "        <td>98345</td>\n",
              "    </tr>\n",
              "    <tr>\n",
              "        <td>98765</td>\n",
              "        <td>98345</td>\n",
              "    </tr>\n",
              "    <tr>\n",
              "        <td>98988</td>\n",
              "        <td>76766</td>\n",
              "    </tr>\n",
              "</table>"
            ],
            "text/plain": [
              "[('00128', '45565'),\n",
              " ('12345', '10101'),\n",
              " ('23121', '76543'),\n",
              " ('44553', '22222'),\n",
              " ('45678', '22222'),\n",
              " ('76543', '45565'),\n",
              " ('76653', '98345'),\n",
              " ('98765', '98345'),\n",
              " ('98988', '76766')]"
            ]
          },
          "execution_count": 134,
          "metadata": {},
          "output_type": "execute_result"
        }
      ],
      "source": [
        "%%sql\n",
        "select * from advisor"
      ]
    },
    {
      "cell_type": "code",
      "execution_count": 135,
      "metadata": {
        "colab": {
          "base_uri": "https://localhost:8080/"
        },
        "id": "juKckJEYVGoO",
        "outputId": "f7c897a5-26e7-4262-d00b-5edd382300b8"
      },
      "outputs": [
        {
          "name": "stdout",
          "output_type": "stream",
          "text": [
            " * sqlite:///university.db\n",
            "(sqlite3.OperationalError) table time_slot already exists\n",
            "[SQL: create table time_slot\n",
            "\t(time_slot_id\t\tvarchar(4),\n",
            "\t day\t\t\tvarchar(1),\n",
            "\t start_hr\t\tnumeric(2) check (start_hr >= 0 and start_hr < 24),\n",
            "\t start_min\t\tnumeric(2) check (start_min >= 0 and start_min < 60),\n",
            "\t end_hr\t\t\tnumeric(2) check (end_hr >= 0 and end_hr < 24),\n",
            "\t end_min\t\tnumeric(2) check (end_min >= 0 and end_min < 60),\n",
            "\t primary key (time_slot_id, day, start_hr, start_min)\n",
            "\t);]\n",
            "(Background on this error at: https://sqlalche.me/e/14/e3q8)\n"
          ]
        }
      ],
      "source": [
        "%%sql\n",
        "create table time_slot\n",
        "\t(time_slot_id\t\tvarchar(4),\n",
        "\t day\t\t\tvarchar(1),\n",
        "\t start_hr\t\tnumeric(2) check (start_hr >= 0 and start_hr < 24),\n",
        "\t start_min\t\tnumeric(2) check (start_min >= 0 and start_min < 60),\n",
        "\t end_hr\t\t\tnumeric(2) check (end_hr >= 0 and end_hr < 24),\n",
        "\t end_min\t\tnumeric(2) check (end_min >= 0 and end_min < 60),\n",
        "\t primary key (time_slot_id, day, start_hr, start_min)\n",
        "\t);\n",
        "\n"
      ]
    },
    {
      "cell_type": "code",
      "execution_count": 136,
      "metadata": {
        "colab": {
          "base_uri": "https://localhost:8080/"
        },
        "id": "EvR9Q-roYQdw",
        "outputId": "f6cef7fa-9afa-4b52-d588-547405b65537"
      },
      "outputs": [
        {
          "name": "stdout",
          "output_type": "stream",
          "text": [
            " * sqlite:///university.db\n",
            "(sqlite3.IntegrityError) UNIQUE constraint failed: time_slot.time_slot_id, time_slot.day, time_slot.start_hr, time_slot.start_min\n",
            "[SQL: insert into time_slot values ('A', 'M', '8', '0', '8', '50');]\n",
            "(Background on this error at: https://sqlalche.me/e/14/gkpj)\n"
          ]
        }
      ],
      "source": [
        "%%sql\n",
        "insert into time_slot values ('A', 'M', '8', '0', '8', '50');\n",
        "insert into time_slot values ('A', 'W', '8', '0', '8', '50');\n",
        "insert into time_slot values ('A', 'F', '8', '0', '8', '50');\n",
        "insert into time_slot values ('B', 'M', '9', '0', '9', '50');\n",
        "insert into time_slot values ('B', 'W', '9', '0', '9', '50');\n",
        "insert into time_slot values ('B', 'F', '9', '0', '9', '50');\n",
        "insert into time_slot values ('C', 'M', '11', '0', '11', '50');\n",
        "insert into time_slot values ('C', 'W', '11', '0', '11', '50');\n",
        "insert into time_slot values ('C', 'F', '11', '0', '11', '50');\n",
        "insert into time_slot values ('D', 'M', '13', '0', '13', '50');\n",
        "insert into time_slot values ('D', 'W', '13', '0', '13', '50');\n",
        "insert into time_slot values ('D', 'F', '13', '0', '13', '50');\n",
        "insert into time_slot values ('E', 'T', '10', '30', '11', '45 ');\n",
        "insert into time_slot values ('E', 'R', '10', '30', '11', '45 ');\n",
        "insert into time_slot values ('F', 'T', '14', '30', '15', '45 ');\n",
        "insert into time_slot values ('F', 'R', '14', '30', '15', '45 ');\n",
        "insert into time_slot values ('G', 'M', '16', '0', '16', '50');\n",
        "insert into time_slot values ('G', 'W', '16', '0', '16', '50');\n",
        "insert into time_slot values ('G', 'F', '16', '0', '16', '50');\n",
        "insert into time_slot values ('H', 'W', '10', '0', '12', '30');"
      ]
    },
    {
      "cell_type": "code",
      "execution_count": 137,
      "metadata": {
        "colab": {
          "base_uri": "https://localhost:8080/",
          "height": 502
        },
        "id": "XtkVfS6EYS5m",
        "outputId": "889db0c6-ea85-44b7-f18b-30692881f293"
      },
      "outputs": [
        {
          "name": "stdout",
          "output_type": "stream",
          "text": [
            " * sqlite:///university.db\n",
            "Done.\n"
          ]
        },
        {
          "data": {
            "text/html": [
              "<table>\n",
              "    <tr>\n",
              "        <th>time_slot_id</th>\n",
              "        <th>day</th>\n",
              "        <th>start_hr</th>\n",
              "        <th>start_min</th>\n",
              "        <th>end_hr</th>\n",
              "        <th>end_min</th>\n",
              "    </tr>\n",
              "    <tr>\n",
              "        <td>A</td>\n",
              "        <td>M</td>\n",
              "        <td>8</td>\n",
              "        <td>0</td>\n",
              "        <td>8</td>\n",
              "        <td>50</td>\n",
              "    </tr>\n",
              "    <tr>\n",
              "        <td>A</td>\n",
              "        <td>W</td>\n",
              "        <td>8</td>\n",
              "        <td>0</td>\n",
              "        <td>8</td>\n",
              "        <td>50</td>\n",
              "    </tr>\n",
              "    <tr>\n",
              "        <td>A</td>\n",
              "        <td>F</td>\n",
              "        <td>8</td>\n",
              "        <td>0</td>\n",
              "        <td>8</td>\n",
              "        <td>50</td>\n",
              "    </tr>\n",
              "    <tr>\n",
              "        <td>B</td>\n",
              "        <td>M</td>\n",
              "        <td>9</td>\n",
              "        <td>0</td>\n",
              "        <td>9</td>\n",
              "        <td>50</td>\n",
              "    </tr>\n",
              "    <tr>\n",
              "        <td>B</td>\n",
              "        <td>W</td>\n",
              "        <td>9</td>\n",
              "        <td>0</td>\n",
              "        <td>9</td>\n",
              "        <td>50</td>\n",
              "    </tr>\n",
              "    <tr>\n",
              "        <td>B</td>\n",
              "        <td>F</td>\n",
              "        <td>9</td>\n",
              "        <td>0</td>\n",
              "        <td>9</td>\n",
              "        <td>50</td>\n",
              "    </tr>\n",
              "    <tr>\n",
              "        <td>C</td>\n",
              "        <td>M</td>\n",
              "        <td>11</td>\n",
              "        <td>0</td>\n",
              "        <td>11</td>\n",
              "        <td>50</td>\n",
              "    </tr>\n",
              "    <tr>\n",
              "        <td>C</td>\n",
              "        <td>W</td>\n",
              "        <td>11</td>\n",
              "        <td>0</td>\n",
              "        <td>11</td>\n",
              "        <td>50</td>\n",
              "    </tr>\n",
              "    <tr>\n",
              "        <td>C</td>\n",
              "        <td>F</td>\n",
              "        <td>11</td>\n",
              "        <td>0</td>\n",
              "        <td>11</td>\n",
              "        <td>50</td>\n",
              "    </tr>\n",
              "    <tr>\n",
              "        <td>D</td>\n",
              "        <td>M</td>\n",
              "        <td>13</td>\n",
              "        <td>0</td>\n",
              "        <td>13</td>\n",
              "        <td>50</td>\n",
              "    </tr>\n",
              "    <tr>\n",
              "        <td>D</td>\n",
              "        <td>W</td>\n",
              "        <td>13</td>\n",
              "        <td>0</td>\n",
              "        <td>13</td>\n",
              "        <td>50</td>\n",
              "    </tr>\n",
              "    <tr>\n",
              "        <td>D</td>\n",
              "        <td>F</td>\n",
              "        <td>13</td>\n",
              "        <td>0</td>\n",
              "        <td>13</td>\n",
              "        <td>50</td>\n",
              "    </tr>\n",
              "    <tr>\n",
              "        <td>E</td>\n",
              "        <td>T</td>\n",
              "        <td>10</td>\n",
              "        <td>30</td>\n",
              "        <td>11</td>\n",
              "        <td>45</td>\n",
              "    </tr>\n",
              "    <tr>\n",
              "        <td>E</td>\n",
              "        <td>R</td>\n",
              "        <td>10</td>\n",
              "        <td>30</td>\n",
              "        <td>11</td>\n",
              "        <td>45</td>\n",
              "    </tr>\n",
              "    <tr>\n",
              "        <td>F</td>\n",
              "        <td>T</td>\n",
              "        <td>14</td>\n",
              "        <td>30</td>\n",
              "        <td>15</td>\n",
              "        <td>45</td>\n",
              "    </tr>\n",
              "    <tr>\n",
              "        <td>F</td>\n",
              "        <td>R</td>\n",
              "        <td>14</td>\n",
              "        <td>30</td>\n",
              "        <td>15</td>\n",
              "        <td>45</td>\n",
              "    </tr>\n",
              "    <tr>\n",
              "        <td>G</td>\n",
              "        <td>M</td>\n",
              "        <td>16</td>\n",
              "        <td>0</td>\n",
              "        <td>16</td>\n",
              "        <td>50</td>\n",
              "    </tr>\n",
              "    <tr>\n",
              "        <td>G</td>\n",
              "        <td>W</td>\n",
              "        <td>16</td>\n",
              "        <td>0</td>\n",
              "        <td>16</td>\n",
              "        <td>50</td>\n",
              "    </tr>\n",
              "    <tr>\n",
              "        <td>G</td>\n",
              "        <td>F</td>\n",
              "        <td>16</td>\n",
              "        <td>0</td>\n",
              "        <td>16</td>\n",
              "        <td>50</td>\n",
              "    </tr>\n",
              "    <tr>\n",
              "        <td>H</td>\n",
              "        <td>W</td>\n",
              "        <td>10</td>\n",
              "        <td>0</td>\n",
              "        <td>12</td>\n",
              "        <td>30</td>\n",
              "    </tr>\n",
              "</table>"
            ],
            "text/plain": [
              "[('A', 'M', 8, 0, 8, 50),\n",
              " ('A', 'W', 8, 0, 8, 50),\n",
              " ('A', 'F', 8, 0, 8, 50),\n",
              " ('B', 'M', 9, 0, 9, 50),\n",
              " ('B', 'W', 9, 0, 9, 50),\n",
              " ('B', 'F', 9, 0, 9, 50),\n",
              " ('C', 'M', 11, 0, 11, 50),\n",
              " ('C', 'W', 11, 0, 11, 50),\n",
              " ('C', 'F', 11, 0, 11, 50),\n",
              " ('D', 'M', 13, 0, 13, 50),\n",
              " ('D', 'W', 13, 0, 13, 50),\n",
              " ('D', 'F', 13, 0, 13, 50),\n",
              " ('E', 'T', 10, 30, 11, 45),\n",
              " ('E', 'R', 10, 30, 11, 45),\n",
              " ('F', 'T', 14, 30, 15, 45),\n",
              " ('F', 'R', 14, 30, 15, 45),\n",
              " ('G', 'M', 16, 0, 16, 50),\n",
              " ('G', 'W', 16, 0, 16, 50),\n",
              " ('G', 'F', 16, 0, 16, 50),\n",
              " ('H', 'W', 10, 0, 12, 30)]"
            ]
          },
          "execution_count": 137,
          "metadata": {},
          "output_type": "execute_result"
        }
      ],
      "source": [
        "%%sql\n",
        "select * from time_slot"
      ]
    },
    {
      "cell_type": "code",
      "execution_count": 138,
      "metadata": {
        "colab": {
          "base_uri": "https://localhost:8080/"
        },
        "id": "-8PyhxWNVJWZ",
        "outputId": "47fad501-7dcd-4b69-cfaf-347aa2bdfb37"
      },
      "outputs": [
        {
          "name": "stdout",
          "output_type": "stream",
          "text": [
            " * sqlite:///university.db\n",
            "(sqlite3.OperationalError) table prereq already exists\n",
            "[SQL: create table prereq\n",
            "\t(course_id\t\tvarchar(8), \n",
            "\t prereq_id\t\tvarchar(8),\n",
            "\t primary key (course_id, prereq_id),\n",
            "\t foreign key (course_id) references course (course_id)\n",
            "\t\ton delete cascade,\n",
            "\t foreign key (prereq_id) references course (course_id)\n",
            "\t);]\n",
            "(Background on this error at: https://sqlalche.me/e/14/e3q8)\n"
          ]
        }
      ],
      "source": [
        "%%sql\n",
        "create table prereq\n",
        "\t(course_id\t\tvarchar(8), \n",
        "\t prereq_id\t\tvarchar(8),\n",
        "\t primary key (course_id, prereq_id),\n",
        "\t foreign key (course_id) references course (course_id)\n",
        "\t\ton delete cascade,\n",
        "\t foreign key (prereq_id) references course (course_id)\n",
        "\t);"
      ]
    },
    {
      "cell_type": "code",
      "execution_count": 139,
      "metadata": {
        "colab": {
          "base_uri": "https://localhost:8080/"
        },
        "id": "K08mWdrzV8WF",
        "outputId": "9a0f7990-6c9b-43f6-9eb6-385015bda99e"
      },
      "outputs": [
        {
          "name": "stdout",
          "output_type": "stream",
          "text": [
            " * sqlite:///university.db\n",
            "(sqlite3.IntegrityError) UNIQUE constraint failed: prereq.course_id, prereq.prereq_id\n",
            "[SQL: insert into prereq values ('BIO-301', 'BIO-101');]\n",
            "(Background on this error at: https://sqlalche.me/e/14/gkpj)\n"
          ]
        }
      ],
      "source": [
        "%%sql\n",
        "insert into prereq values ('BIO-301', 'BIO-101');\n",
        "insert into prereq values ('BIO-399', 'BIO-101');\n",
        "insert into prereq values ('CS-190', 'CS-101');\n",
        "insert into prereq values ('CS-315', 'CS-101');\n",
        "insert into prereq values ('CS-319', 'CS-101');\n",
        "insert into prereq values ('CS-347', 'CS-101');\n",
        "insert into prereq values ('EE-181', 'PHY-101');\n"
      ]
    },
    {
      "cell_type": "code",
      "execution_count": 140,
      "metadata": {
        "colab": {
          "base_uri": "https://localhost:8080/",
          "height": 225
        },
        "id": "NwStlHlOYaNb",
        "outputId": "ba7ce31b-5f25-4122-e0cf-21b85637efd9"
      },
      "outputs": [
        {
          "name": "stdout",
          "output_type": "stream",
          "text": [
            " * sqlite:///university.db\n",
            "Done.\n"
          ]
        },
        {
          "data": {
            "text/html": [
              "<table>\n",
              "    <tr>\n",
              "        <th>course_id</th>\n",
              "        <th>prereq_id</th>\n",
              "    </tr>\n",
              "    <tr>\n",
              "        <td>BIO-301</td>\n",
              "        <td>BIO-101</td>\n",
              "    </tr>\n",
              "    <tr>\n",
              "        <td>BIO-399</td>\n",
              "        <td>BIO-101</td>\n",
              "    </tr>\n",
              "    <tr>\n",
              "        <td>CS-190</td>\n",
              "        <td>CS-101</td>\n",
              "    </tr>\n",
              "    <tr>\n",
              "        <td>CS-315</td>\n",
              "        <td>CS-101</td>\n",
              "    </tr>\n",
              "    <tr>\n",
              "        <td>CS-319</td>\n",
              "        <td>CS-101</td>\n",
              "    </tr>\n",
              "    <tr>\n",
              "        <td>CS-347</td>\n",
              "        <td>CS-101</td>\n",
              "    </tr>\n",
              "    <tr>\n",
              "        <td>EE-181</td>\n",
              "        <td>PHY-101</td>\n",
              "    </tr>\n",
              "</table>"
            ],
            "text/plain": [
              "[('BIO-301', 'BIO-101'),\n",
              " ('BIO-399', 'BIO-101'),\n",
              " ('CS-190', 'CS-101'),\n",
              " ('CS-315', 'CS-101'),\n",
              " ('CS-319', 'CS-101'),\n",
              " ('CS-347', 'CS-101'),\n",
              " ('EE-181', 'PHY-101')]"
            ]
          },
          "execution_count": 140,
          "metadata": {},
          "output_type": "execute_result"
        }
      ],
      "source": [
        "%%sql\n",
        "select * from prereq"
      ]
    },
    {
      "attachments": {},
      "cell_type": "markdown",
      "metadata": {
        "id": "bC6_0XCFZPXc"
      },
      "source": [
        "## **NOW LETS BEGIN WITH THE QUERIES**"
      ]
    },
    {
      "attachments": {},
      "cell_type": "markdown",
      "metadata": {
        "id": "f3OS_zs_CU2V"
      },
      "source": [
        "### 1. Display average salary given by each department."
      ]
    },
    {
      "cell_type": "code",
      "execution_count": 141,
      "metadata": {
        "colab": {
          "base_uri": "https://localhost:8080/",
          "height": 225
        },
        "id": "2TCW0VMiYe-J",
        "outputId": "1580d898-2cb4-462e-c949-d53433d5e467"
      },
      "outputs": [
        {
          "name": "stdout",
          "output_type": "stream",
          "text": [
            " * sqlite:///university.db\n",
            "Done.\n"
          ]
        },
        {
          "data": {
            "text/html": [
              "<table>\n",
              "    <tr>\n",
              "        <th>dept_name</th>\n",
              "        <th>Average salary</th>\n",
              "    </tr>\n",
              "    <tr>\n",
              "        <td>Biology</td>\n",
              "        <td>79200.0</td>\n",
              "    </tr>\n",
              "    <tr>\n",
              "        <td>Comp. Sci.</td>\n",
              "        <td>82000.0</td>\n",
              "    </tr>\n",
              "    <tr>\n",
              "        <td>Elec. Eng.</td>\n",
              "        <td>88000.0</td>\n",
              "    </tr>\n",
              "    <tr>\n",
              "        <td>Finance</td>\n",
              "        <td>93500.0</td>\n",
              "    </tr>\n",
              "    <tr>\n",
              "        <td>History</td>\n",
              "        <td>67100.0</td>\n",
              "    </tr>\n",
              "    <tr>\n",
              "        <td>Music</td>\n",
              "        <td>44000.0</td>\n",
              "    </tr>\n",
              "    <tr>\n",
              "        <td>Physics</td>\n",
              "        <td>95350.0</td>\n",
              "    </tr>\n",
              "</table>"
            ],
            "text/plain": [
              "[('Biology', 79200.0),\n",
              " ('Comp. Sci.', 82000.0),\n",
              " ('Elec. Eng.', 88000.0),\n",
              " ('Finance', 93500.0),\n",
              " ('History', 67100.0),\n",
              " ('Music', 44000.0),\n",
              " ('Physics', 95350.0)]"
            ]
          },
          "execution_count": 141,
          "metadata": {},
          "output_type": "execute_result"
        }
      ],
      "source": [
        "%%sql\n",
        "select dept_name, avg(salary) as 'Average salary'\n",
        "from instructor\n",
        "group by dept_name"
      ]
    },
    {
      "attachments": {},
      "cell_type": "markdown",
      "metadata": {
        "id": "1PIl5JNKHPMG"
      },
      "source": [
        "### 2. Display the name of students and their corresponding course IDs."
      ]
    },
    {
      "cell_type": "code",
      "execution_count": 142,
      "metadata": {
        "colab": {
          "base_uri": "https://localhost:8080/",
          "height": 737
        },
        "id": "szJOj3ivPliW",
        "outputId": "387bc04f-e312-4ea8-ac54-ec526ddb0ee6"
      },
      "outputs": [
        {
          "name": "stdout",
          "output_type": "stream",
          "text": [
            " * sqlite:///university.db\n",
            "Done.\n"
          ]
        },
        {
          "data": {
            "text/html": [
              "<table>\n",
              "    <tr>\n",
              "        <th>name</th>\n",
              "        <th>course_id</th>\n",
              "    </tr>\n",
              "    <tr>\n",
              "        <td>Aoi</td>\n",
              "        <td>EE-181</td>\n",
              "    </tr>\n",
              "    <tr>\n",
              "        <td>Bourikas</td>\n",
              "        <td>EE-181</td>\n",
              "    </tr>\n",
              "    <tr>\n",
              "        <td>Brandt</td>\n",
              "        <td>HIS-351</td>\n",
              "    </tr>\n",
              "    <tr>\n",
              "        <td>Brown</td>\n",
              "        <td>CS-101</td>\n",
              "    </tr>\n",
              "    <tr>\n",
              "        <td>Brown</td>\n",
              "        <td>CS-190</td>\n",
              "    </tr>\n",
              "    <tr>\n",
              "        <td>Brown</td>\n",
              "        <td>CS-315</td>\n",
              "    </tr>\n",
              "    <tr>\n",
              "        <td>Brown</td>\n",
              "        <td>CS-319</td>\n",
              "    </tr>\n",
              "    <tr>\n",
              "        <td>Brown</td>\n",
              "        <td>CS-347</td>\n",
              "    </tr>\n",
              "    <tr>\n",
              "        <td>Chavez</td>\n",
              "        <td>FIN-201</td>\n",
              "    </tr>\n",
              "    <tr>\n",
              "        <td>Levy</td>\n",
              "        <td>PHY-101</td>\n",
              "    </tr>\n",
              "    <tr>\n",
              "        <td>Peltier</td>\n",
              "        <td>PHY-101</td>\n",
              "    </tr>\n",
              "    <tr>\n",
              "        <td>Sanchez</td>\n",
              "        <td>MU-199</td>\n",
              "    </tr>\n",
              "    <tr>\n",
              "        <td>Shankar</td>\n",
              "        <td>CS-101</td>\n",
              "    </tr>\n",
              "    <tr>\n",
              "        <td>Shankar</td>\n",
              "        <td>CS-190</td>\n",
              "    </tr>\n",
              "    <tr>\n",
              "        <td>Shankar</td>\n",
              "        <td>CS-315</td>\n",
              "    </tr>\n",
              "    <tr>\n",
              "        <td>Shankar</td>\n",
              "        <td>CS-319</td>\n",
              "    </tr>\n",
              "    <tr>\n",
              "        <td>Shankar</td>\n",
              "        <td>CS-347</td>\n",
              "    </tr>\n",
              "    <tr>\n",
              "        <td>Snow</td>\n",
              "        <td>PHY-101</td>\n",
              "    </tr>\n",
              "    <tr>\n",
              "        <td>Tanaka</td>\n",
              "        <td>BIO-101</td>\n",
              "    </tr>\n",
              "    <tr>\n",
              "        <td>Tanaka</td>\n",
              "        <td>BIO-301</td>\n",
              "    </tr>\n",
              "    <tr>\n",
              "        <td>Tanaka</td>\n",
              "        <td>BIO-399</td>\n",
              "    </tr>\n",
              "    <tr>\n",
              "        <td>Williams</td>\n",
              "        <td>CS-101</td>\n",
              "    </tr>\n",
              "    <tr>\n",
              "        <td>Williams</td>\n",
              "        <td>CS-190</td>\n",
              "    </tr>\n",
              "    <tr>\n",
              "        <td>Williams</td>\n",
              "        <td>CS-315</td>\n",
              "    </tr>\n",
              "    <tr>\n",
              "        <td>Williams</td>\n",
              "        <td>CS-319</td>\n",
              "    </tr>\n",
              "    <tr>\n",
              "        <td>Williams</td>\n",
              "        <td>CS-347</td>\n",
              "    </tr>\n",
              "    <tr>\n",
              "        <td>Zhang</td>\n",
              "        <td>CS-101</td>\n",
              "    </tr>\n",
              "    <tr>\n",
              "        <td>Zhang</td>\n",
              "        <td>CS-190</td>\n",
              "    </tr>\n",
              "    <tr>\n",
              "        <td>Zhang</td>\n",
              "        <td>CS-315</td>\n",
              "    </tr>\n",
              "    <tr>\n",
              "        <td>Zhang</td>\n",
              "        <td>CS-319</td>\n",
              "    </tr>\n",
              "    <tr>\n",
              "        <td>Zhang</td>\n",
              "        <td>CS-347</td>\n",
              "    </tr>\n",
              "</table>"
            ],
            "text/plain": [
              "[('Aoi', 'EE-181'),\n",
              " ('Bourikas', 'EE-181'),\n",
              " ('Brandt', 'HIS-351'),\n",
              " ('Brown', 'CS-101'),\n",
              " ('Brown', 'CS-190'),\n",
              " ('Brown', 'CS-315'),\n",
              " ('Brown', 'CS-319'),\n",
              " ('Brown', 'CS-347'),\n",
              " ('Chavez', 'FIN-201'),\n",
              " ('Levy', 'PHY-101'),\n",
              " ('Peltier', 'PHY-101'),\n",
              " ('Sanchez', 'MU-199'),\n",
              " ('Shankar', 'CS-101'),\n",
              " ('Shankar', 'CS-190'),\n",
              " ('Shankar', 'CS-315'),\n",
              " ('Shankar', 'CS-319'),\n",
              " ('Shankar', 'CS-347'),\n",
              " ('Snow', 'PHY-101'),\n",
              " ('Tanaka', 'BIO-101'),\n",
              " ('Tanaka', 'BIO-301'),\n",
              " ('Tanaka', 'BIO-399'),\n",
              " ('Williams', 'CS-101'),\n",
              " ('Williams', 'CS-190'),\n",
              " ('Williams', 'CS-315'),\n",
              " ('Williams', 'CS-319'),\n",
              " ('Williams', 'CS-347'),\n",
              " ('Zhang', 'CS-101'),\n",
              " ('Zhang', 'CS-190'),\n",
              " ('Zhang', 'CS-315'),\n",
              " ('Zhang', 'CS-319'),\n",
              " ('Zhang', 'CS-347')]"
            ]
          },
          "execution_count": 142,
          "metadata": {},
          "output_type": "execute_result"
        }
      ],
      "source": [
        "%%sql\n",
        "select s.name, c.course_id from student as s\n",
        "join course as c on s.dept_name = c.dept_name\n",
        "order by s.name"
      ]
    },
    {
      "attachments": {},
      "cell_type": "markdown",
      "metadata": {
        "id": "eqzSUR6pH37f"
      },
      "source": [
        "###3. Display number of courses taken by each student."
      ]
    },
    {
      "cell_type": "code",
      "execution_count": 143,
      "metadata": {
        "colab": {
          "base_uri": "https://localhost:8080/",
          "height": 353
        },
        "id": "IKwLvgrOTg5V",
        "outputId": "d2eb7ad6-ee2e-4e09-e95a-5a6308ec642f"
      },
      "outputs": [
        {
          "name": "stdout",
          "output_type": "stream",
          "text": [
            " * sqlite:///university.db\n",
            "Done.\n"
          ]
        },
        {
          "data": {
            "text/html": [
              "<table>\n",
              "    <tr>\n",
              "        <th>name</th>\n",
              "        <th>number of courses</th>\n",
              "    </tr>\n",
              "    <tr>\n",
              "        <td>Zhang</td>\n",
              "        <td>5</td>\n",
              "    </tr>\n",
              "    <tr>\n",
              "        <td>Williams</td>\n",
              "        <td>5</td>\n",
              "    </tr>\n",
              "    <tr>\n",
              "        <td>Shankar</td>\n",
              "        <td>5</td>\n",
              "    </tr>\n",
              "    <tr>\n",
              "        <td>Brown</td>\n",
              "        <td>5</td>\n",
              "    </tr>\n",
              "    <tr>\n",
              "        <td>Tanaka</td>\n",
              "        <td>3</td>\n",
              "    </tr>\n",
              "    <tr>\n",
              "        <td>Snow</td>\n",
              "        <td>1</td>\n",
              "    </tr>\n",
              "    <tr>\n",
              "        <td>Sanchez</td>\n",
              "        <td>1</td>\n",
              "    </tr>\n",
              "    <tr>\n",
              "        <td>Peltier</td>\n",
              "        <td>1</td>\n",
              "    </tr>\n",
              "    <tr>\n",
              "        <td>Levy</td>\n",
              "        <td>1</td>\n",
              "    </tr>\n",
              "    <tr>\n",
              "        <td>Chavez</td>\n",
              "        <td>1</td>\n",
              "    </tr>\n",
              "    <tr>\n",
              "        <td>Brandt</td>\n",
              "        <td>1</td>\n",
              "    </tr>\n",
              "    <tr>\n",
              "        <td>Bourikas</td>\n",
              "        <td>1</td>\n",
              "    </tr>\n",
              "    <tr>\n",
              "        <td>Aoi</td>\n",
              "        <td>1</td>\n",
              "    </tr>\n",
              "</table>"
            ],
            "text/plain": [
              "[('Zhang', 5),\n",
              " ('Williams', 5),\n",
              " ('Shankar', 5),\n",
              " ('Brown', 5),\n",
              " ('Tanaka', 3),\n",
              " ('Snow', 1),\n",
              " ('Sanchez', 1),\n",
              " ('Peltier', 1),\n",
              " ('Levy', 1),\n",
              " ('Chavez', 1),\n",
              " ('Brandt', 1),\n",
              " ('Bourikas', 1),\n",
              " ('Aoi', 1)]"
            ]
          },
          "execution_count": 143,
          "metadata": {},
          "output_type": "execute_result"
        }
      ],
      "source": [
        "%%sql\n",
        "select s.name, count(c.course_id) as 'number of courses' from student as s\n",
        "join course as c on s.dept_name = c.dept_name\n",
        "group by s.name\n",
        "order by count(c.course_id) desc"
      ]
    },
    {
      "attachments": {},
      "cell_type": "markdown",
      "metadata": {
        "id": "RO7wZDziI4Us"
      },
      "source": [
        "### 4. Get the prerequisites courses for courses in the Spring semester."
      ]
    },
    {
      "cell_type": "code",
      "execution_count": 144,
      "metadata": {
        "colab": {
          "base_uri": "https://localhost:8080/",
          "height": 225
        },
        "id": "juZtWklyWuLA",
        "outputId": "3093107c-012b-4e2b-e90d-f99d7819c557"
      },
      "outputs": [
        {
          "name": "stdout",
          "output_type": "stream",
          "text": [
            " * sqlite:///university.db\n",
            "Done.\n"
          ]
        },
        {
          "data": {
            "text/html": [
              "<table>\n",
              "    <tr>\n",
              "        <th>semester</th>\n",
              "        <th>course_id</th>\n",
              "        <th>prereq_id</th>\n",
              "    </tr>\n",
              "    <tr>\n",
              "        <td>Spring</td>\n",
              "        <td>CS-190</td>\n",
              "        <td>CS-101</td>\n",
              "    </tr>\n",
              "    <tr>\n",
              "        <td>Spring</td>\n",
              "        <td>CS-315</td>\n",
              "        <td>CS-101</td>\n",
              "    </tr>\n",
              "    <tr>\n",
              "        <td>Spring</td>\n",
              "        <td>CS-319</td>\n",
              "        <td>CS-101</td>\n",
              "    </tr>\n",
              "    <tr>\n",
              "        <td>Spring</td>\n",
              "        <td>CS-190</td>\n",
              "        <td>CS-101</td>\n",
              "    </tr>\n",
              "    <tr>\n",
              "        <td>Spring</td>\n",
              "        <td>CS-319</td>\n",
              "        <td>CS-101</td>\n",
              "    </tr>\n",
              "    <tr>\n",
              "        <td>Spring</td>\n",
              "        <td>EE-181</td>\n",
              "        <td>PHY-101</td>\n",
              "    </tr>\n",
              "    <tr>\n",
              "        <td>Spring</td>\n",
              "        <td>CS-315</td>\n",
              "        <td>CS-101</td>\n",
              "    </tr>\n",
              "</table>"
            ],
            "text/plain": [
              "[('Spring', 'CS-190', 'CS-101'),\n",
              " ('Spring', 'CS-315', 'CS-101'),\n",
              " ('Spring', 'CS-319', 'CS-101'),\n",
              " ('Spring', 'CS-190', 'CS-101'),\n",
              " ('Spring', 'CS-319', 'CS-101'),\n",
              " ('Spring', 'EE-181', 'PHY-101'),\n",
              " ('Spring', 'CS-315', 'CS-101')]"
            ]
          },
          "execution_count": 144,
          "metadata": {},
          "output_type": "execute_result"
        }
      ],
      "source": [
        "%%sql\n",
        "select t.semester, p.course_id, p.prereq_id from prereq as p\n",
        "join takes as t on t.course_id = p.course_id\n",
        "where t.semester = 'Spring'"
      ]
    },
    {
      "attachments": {},
      "cell_type": "markdown",
      "metadata": {
        "id": "FcQScjVhfP9x"
      },
      "source": [
        "### 5. Display the instructor name who teaches student with highest 5 credits."
      ]
    },
    {
      "cell_type": "code",
      "execution_count": 145,
      "metadata": {
        "colab": {
          "base_uri": "https://localhost:8080/",
          "height": 182
        },
        "id": "65pTHpw2YATN",
        "outputId": "f940eb17-f7d3-4c81-a7b8-7c85ceda8f13"
      },
      "outputs": [
        {
          "name": "stdout",
          "output_type": "stream",
          "text": [
            " * sqlite:///university.db\n",
            "Done.\n"
          ]
        },
        {
          "data": {
            "text/html": [
              "<table>\n",
              "    <tr>\n",
              "        <th>student name</th>\n",
              "        <th>instructor name</th>\n",
              "        <th>tot_cred</th>\n",
              "    </tr>\n",
              "    <tr>\n",
              "        <td>Tanaka</td>\n",
              "        <td>Crick</td>\n",
              "        <td>120</td>\n",
              "    </tr>\n",
              "    <tr>\n",
              "        <td>Chavez</td>\n",
              "        <td>Singh</td>\n",
              "        <td>110</td>\n",
              "    </tr>\n",
              "    <tr>\n",
              "        <td>Chavez</td>\n",
              "        <td>Wu</td>\n",
              "        <td>110</td>\n",
              "    </tr>\n",
              "    <tr>\n",
              "        <td>Zhang</td>\n",
              "        <td>Brandt</td>\n",
              "        <td>102</td>\n",
              "    </tr>\n",
              "    <tr>\n",
              "        <td>Zhang</td>\n",
              "        <td>Katz</td>\n",
              "        <td>102</td>\n",
              "    </tr>\n",
              "</table>"
            ],
            "text/plain": [
              "[('Tanaka', 'Crick', 120),\n",
              " ('Chavez', 'Singh', 110),\n",
              " ('Chavez', 'Wu', 110),\n",
              " ('Zhang', 'Brandt', 102),\n",
              " ('Zhang', 'Katz', 102)]"
            ]
          },
          "execution_count": 145,
          "metadata": {},
          "output_type": "execute_result"
        }
      ],
      "source": [
        "%%sql\n",
        "select s.name as 'student name', i.name as 'instructor name', s.tot_cred \n",
        "from student as s join instructor as i on s.dept_name = i.dept_name\n",
        "order by s.tot_cred desc\n",
        "limit 5"
      ]
    },
    {
      "attachments": {},
      "cell_type": "markdown",
      "metadata": {
        "id": "eTJ5WfUFiWlG"
      },
      "source": [
        "### 6. Which semester and department offers maximum number of courses."
      ]
    },
    {
      "cell_type": "code",
      "execution_count": 146,
      "metadata": {
        "colab": {
          "base_uri": "https://localhost:8080/",
          "height": 96
        },
        "id": "Ot4bPvQTaet2",
        "outputId": "9955e906-7de3-4b60-a166-e09f1592e9d7"
      },
      "outputs": [
        {
          "name": "stdout",
          "output_type": "stream",
          "text": [
            " * sqlite:///university.db\n",
            "Done.\n"
          ]
        },
        {
          "data": {
            "text/html": [
              "<table>\n",
              "    <tr>\n",
              "        <th>semester</th>\n",
              "        <th>dept_name</th>\n",
              "        <th>number of courses</th>\n",
              "    </tr>\n",
              "    <tr>\n",
              "        <td>Spring</td>\n",
              "        <td>Comp. Sci.</td>\n",
              "        <td>6</td>\n",
              "    </tr>\n",
              "</table>"
            ],
            "text/plain": [
              "[('Spring', 'Comp. Sci.', 6)]"
            ]
          },
          "execution_count": 146,
          "metadata": {},
          "output_type": "execute_result"
        }
      ],
      "source": [
        "%%sql\n",
        "select t.semester, c.dept_name, count(c.course_id) as 'number of courses'\n",
        "from teaches as t join course as c on t.course_id = c.course_id\n",
        "group by t.semester,c.dept_name\n",
        "order by count(c.course_id) desc\n",
        "limit 1"
      ]
    },
    {
      "attachments": {},
      "cell_type": "markdown",
      "metadata": {
        "id": "zPYWRLpcj6Yg"
      },
      "source": [
        "### 7. Display course and department whose time starts at 8."
      ]
    },
    {
      "cell_type": "code",
      "execution_count": 147,
      "metadata": {
        "colab": {
          "base_uri": "https://localhost:8080/",
          "height": 161
        },
        "id": "JEuFLadtonjz",
        "outputId": "6c5279b6-5d68-4468-fb01-4118cdbd23cd"
      },
      "outputs": [
        {
          "name": "stdout",
          "output_type": "stream",
          "text": [
            " * sqlite:///university.db\n",
            "Done.\n"
          ]
        },
        {
          "data": {
            "text/html": [
              "<table>\n",
              "    <tr>\n",
              "        <th>course_id</th>\n",
              "        <th>start_hr</th>\n",
              "    </tr>\n",
              "    <tr>\n",
              "        <td>BIO-301</td>\n",
              "        <td>8</td>\n",
              "    </tr>\n",
              "    <tr>\n",
              "        <td>CS-190</td>\n",
              "        <td>8</td>\n",
              "    </tr>\n",
              "    <tr>\n",
              "        <td>CS-347</td>\n",
              "        <td>8</td>\n",
              "    </tr>\n",
              "    <tr>\n",
              "        <td>PHY-101</td>\n",
              "        <td>8</td>\n",
              "    </tr>\n",
              "</table>"
            ],
            "text/plain": [
              "[('BIO-301', 8), ('CS-190', 8), ('CS-347', 8), ('PHY-101', 8)]"
            ]
          },
          "execution_count": 147,
          "metadata": {},
          "output_type": "execute_result"
        }
      ],
      "source": [
        "%%sql\n",
        "select distinct s.course_id, t.start_hr from section as s \n",
        "join time_slot as t on t.time_slot_id = s.time_slot_id\n",
        "where start_hr = 8"
      ]
    },
    {
      "attachments": {},
      "cell_type": "markdown",
      "metadata": {
        "id": "nP9Z0ckKnqro"
      },
      "source": [
        "### 8. Display the salary of instructors from Watson building."
      ]
    },
    {
      "cell_type": "code",
      "execution_count": 148,
      "metadata": {
        "colab": {
          "base_uri": "https://localhost:8080/",
          "height": 139
        },
        "id": "Q7mjbHqto8lq",
        "outputId": "85a29c83-240c-4323-8093-585fae9676d8"
      },
      "outputs": [
        {
          "name": "stdout",
          "output_type": "stream",
          "text": [
            " * sqlite:///university.db\n",
            "Done.\n"
          ]
        },
        {
          "data": {
            "text/html": [
              "<table>\n",
              "    <tr>\n",
              "        <th>name</th>\n",
              "        <th>salary</th>\n",
              "        <th>dept_name</th>\n",
              "    </tr>\n",
              "    <tr>\n",
              "        <td>Einstein</td>\n",
              "        <td>95000</td>\n",
              "        <td>Physics</td>\n",
              "    </tr>\n",
              "    <tr>\n",
              "        <td>Gold</td>\n",
              "        <td>95700</td>\n",
              "        <td>Physics</td>\n",
              "    </tr>\n",
              "    <tr>\n",
              "        <td>Crick</td>\n",
              "        <td>79200</td>\n",
              "        <td>Biology</td>\n",
              "    </tr>\n",
              "</table>"
            ],
            "text/plain": [
              "[('Einstein', 95000, 'Physics'),\n",
              " ('Gold', 95700, 'Physics'),\n",
              " ('Crick', 79200, 'Biology')]"
            ]
          },
          "execution_count": 148,
          "metadata": {},
          "output_type": "execute_result"
        }
      ],
      "source": [
        "%%sql\n",
        "select i.name, i.salary, i.dept_name from instructor as i\n",
        "join department as d on i.dept_name = d.dept_name\n",
        "where d.building = 'Watson'"
      ]
    },
    {
      "attachments": {},
      "cell_type": "markdown",
      "metadata": {
        "id": "Uxyjuaapoi_R"
      },
      "source": [
        "### 9. Show the title of courses available on Monday."
      ]
    },
    {
      "cell_type": "code",
      "execution_count": 149,
      "metadata": {
        "colab": {
          "base_uri": "https://localhost:8080/",
          "height": 332
        },
        "id": "IRwTLd-wp_le",
        "outputId": "f46ca5ac-1544-4569-baf1-5791d6801c4f"
      },
      "outputs": [
        {
          "name": "stdout",
          "output_type": "stream",
          "text": [
            " * sqlite:///university.db\n",
            "Done.\n"
          ]
        },
        {
          "data": {
            "text/html": [
              "<table>\n",
              "    <tr>\n",
              "        <th>title</th>\n",
              "        <th>day</th>\n",
              "    </tr>\n",
              "    <tr>\n",
              "        <td>Intro. to Biology</td>\n",
              "        <td>M</td>\n",
              "    </tr>\n",
              "    <tr>\n",
              "        <td>Genetics</td>\n",
              "        <td>M</td>\n",
              "    </tr>\n",
              "    <tr>\n",
              "        <td>Game Design</td>\n",
              "        <td>M</td>\n",
              "    </tr>\n",
              "    <tr>\n",
              "        <td>Robotics</td>\n",
              "        <td>M</td>\n",
              "    </tr>\n",
              "    <tr>\n",
              "        <td>Image Processing</td>\n",
              "        <td>M</td>\n",
              "    </tr>\n",
              "    <tr>\n",
              "        <td>Image Processing</td>\n",
              "        <td>M</td>\n",
              "    </tr>\n",
              "    <tr>\n",
              "        <td>Database System Concepts</td>\n",
              "        <td>M</td>\n",
              "    </tr>\n",
              "    <tr>\n",
              "        <td>Intro. to Digital Systems</td>\n",
              "        <td>M</td>\n",
              "    </tr>\n",
              "    <tr>\n",
              "        <td>Investment Banking</td>\n",
              "        <td>M</td>\n",
              "    </tr>\n",
              "    <tr>\n",
              "        <td>World History</td>\n",
              "        <td>M</td>\n",
              "    </tr>\n",
              "    <tr>\n",
              "        <td>Music Video Production</td>\n",
              "        <td>M</td>\n",
              "    </tr>\n",
              "    <tr>\n",
              "        <td>Physical Principles</td>\n",
              "        <td>M</td>\n",
              "    </tr>\n",
              "</table>"
            ],
            "text/plain": [
              "[('Intro. to Biology', 'M'),\n",
              " ('Genetics', 'M'),\n",
              " ('Game Design', 'M'),\n",
              " ('Robotics', 'M'),\n",
              " ('Image Processing', 'M'),\n",
              " ('Image Processing', 'M'),\n",
              " ('Database System Concepts', 'M'),\n",
              " ('Intro. to Digital Systems', 'M'),\n",
              " ('Investment Banking', 'M'),\n",
              " ('World History', 'M'),\n",
              " ('Music Video Production', 'M'),\n",
              " ('Physical Principles', 'M')]"
            ]
          },
          "execution_count": 149,
          "metadata": {},
          "output_type": "execute_result"
        }
      ],
      "source": [
        "%%sql\n",
        "select c.title, t.day from course as c\n",
        "join section as s on c.course_id = s.course_id\n",
        "join time_slot as t on s.time_slot_id = t.time_slot_id\n",
        "where t.day = 'M'"
      ]
    },
    {
      "attachments": {},
      "cell_type": "markdown",
      "metadata": {
        "id": "UVFsDk6QsA2n"
      },
      "source": [
        "### 10. Find the number of courses that start at 8 and end at 8."
      ]
    },
    {
      "cell_type": "code",
      "execution_count": 150,
      "metadata": {
        "colab": {
          "base_uri": "https://localhost:8080/",
          "height": 96
        },
        "id": "1WE9KWkmq4RY",
        "outputId": "55d90461-298d-4a38-d002-79c424628b7c"
      },
      "outputs": [
        {
          "name": "stdout",
          "output_type": "stream",
          "text": [
            " * sqlite:///university.db\n",
            "Done.\n"
          ]
        },
        {
          "data": {
            "text/html": [
              "<table>\n",
              "    <tr>\n",
              "        <th>start_hr</th>\n",
              "        <th>end_hr</th>\n",
              "        <th>Number of courses</th>\n",
              "    </tr>\n",
              "    <tr>\n",
              "        <td>8</td>\n",
              "        <td>8</td>\n",
              "        <td>12</td>\n",
              "    </tr>\n",
              "</table>"
            ],
            "text/plain": [
              "[(8, 8, 12)]"
            ]
          },
          "execution_count": 150,
          "metadata": {},
          "output_type": "execute_result"
        }
      ],
      "source": [
        "%%sql\n",
        "select t.start_hr, t.end_hr, count(s.course_id) as 'Number of courses' from section as s \n",
        "join time_slot as t on t.time_slot_id = s.time_slot_id\n",
        "where t.start_hr = 8 and t.end_hr = 8\n",
        "group by t.start_hr, t.end_hr"
      ]
    },
    {
      "attachments": {},
      "cell_type": "markdown",
      "metadata": {
        "id": "hEAfLbzDD00S"
      },
      "source": [
        "### 11. Find instructors having salary more than 90000."
      ]
    },
    {
      "cell_type": "code",
      "execution_count": 151,
      "metadata": {
        "colab": {
          "base_uri": "https://localhost:8080/",
          "height": 161
        },
        "id": "RQqGlHZ1YwfI",
        "outputId": "71e2adf4-d0d9-4d2d-d506-fd8cc19404ac"
      },
      "outputs": [
        {
          "name": "stdout",
          "output_type": "stream",
          "text": [
            " * sqlite:///university.db\n",
            "Done.\n"
          ]
        },
        {
          "data": {
            "text/html": [
              "<table>\n",
              "    <tr>\n",
              "        <th>name</th>\n",
              "    </tr>\n",
              "    <tr>\n",
              "        <td>Wu</td>\n",
              "    </tr>\n",
              "    <tr>\n",
              "        <td>Einstein</td>\n",
              "    </tr>\n",
              "    <tr>\n",
              "        <td>Gold</td>\n",
              "    </tr>\n",
              "    <tr>\n",
              "        <td>Brandt</td>\n",
              "    </tr>\n",
              "</table>"
            ],
            "text/plain": [
              "[('Wu',), ('Einstein',), ('Gold',), ('Brandt',)]"
            ]
          },
          "execution_count": 151,
          "metadata": {},
          "output_type": "execute_result"
        }
      ],
      "source": [
        "%%sql\n",
        "select name from instructor\n",
        "where salary > 90000"
      ]
    },
    {
      "attachments": {},
      "cell_type": "markdown",
      "metadata": {
        "id": "hLoYBTpxECPB"
      },
      "source": [
        "### 12. Find student records taking courses before 2018."
      ]
    },
    {
      "cell_type": "code",
      "execution_count": 152,
      "metadata": {
        "colab": {
          "base_uri": "https://localhost:8080/",
          "height": 353
        },
        "id": "XVU1IjAGZdFo",
        "outputId": "29a2fba2-db42-411f-9d87-0177d7985f9a"
      },
      "outputs": [
        {
          "name": "stdout",
          "output_type": "stream",
          "text": [
            " * sqlite:///university.db\n",
            "Done.\n"
          ]
        },
        {
          "data": {
            "text/html": [
              "<table>\n",
              "    <tr>\n",
              "        <th>ID</th>\n",
              "        <th>course_id</th>\n",
              "        <th>sec_id</th>\n",
              "        <th>semester</th>\n",
              "        <th>year</th>\n",
              "        <th>grade</th>\n",
              "    </tr>\n",
              "    <tr>\n",
              "        <td>00128</td>\n",
              "        <td>CS-101</td>\n",
              "        <td>1</td>\n",
              "        <td>Fall</td>\n",
              "        <td>2017</td>\n",
              "        <td>A</td>\n",
              "    </tr>\n",
              "    <tr>\n",
              "        <td>00128</td>\n",
              "        <td>CS-347</td>\n",
              "        <td>1</td>\n",
              "        <td>Fall</td>\n",
              "        <td>2017</td>\n",
              "        <td>A-</td>\n",
              "    </tr>\n",
              "    <tr>\n",
              "        <td>12345</td>\n",
              "        <td>CS-101</td>\n",
              "        <td>1</td>\n",
              "        <td>Fall</td>\n",
              "        <td>2017</td>\n",
              "        <td>C</td>\n",
              "    </tr>\n",
              "    <tr>\n",
              "        <td>12345</td>\n",
              "        <td>CS-190</td>\n",
              "        <td>2</td>\n",
              "        <td>Spring</td>\n",
              "        <td>2017</td>\n",
              "        <td>A</td>\n",
              "    </tr>\n",
              "    <tr>\n",
              "        <td>12345</td>\n",
              "        <td>CS-347</td>\n",
              "        <td>1</td>\n",
              "        <td>Fall</td>\n",
              "        <td>2017</td>\n",
              "        <td>A</td>\n",
              "    </tr>\n",
              "    <tr>\n",
              "        <td>44553</td>\n",
              "        <td>PHY-101</td>\n",
              "        <td>1</td>\n",
              "        <td>Fall</td>\n",
              "        <td>2017</td>\n",
              "        <td>B-</td>\n",
              "    </tr>\n",
              "    <tr>\n",
              "        <td>45678</td>\n",
              "        <td>CS-101</td>\n",
              "        <td>1</td>\n",
              "        <td>Fall</td>\n",
              "        <td>2017</td>\n",
              "        <td>F</td>\n",
              "    </tr>\n",
              "    <tr>\n",
              "        <td>54321</td>\n",
              "        <td>CS-101</td>\n",
              "        <td>1</td>\n",
              "        <td>Fall</td>\n",
              "        <td>2017</td>\n",
              "        <td>A-</td>\n",
              "    </tr>\n",
              "    <tr>\n",
              "        <td>54321</td>\n",
              "        <td>CS-190</td>\n",
              "        <td>2</td>\n",
              "        <td>Spring</td>\n",
              "        <td>2017</td>\n",
              "        <td>B+</td>\n",
              "    </tr>\n",
              "    <tr>\n",
              "        <td>76543</td>\n",
              "        <td>CS-101</td>\n",
              "        <td>1</td>\n",
              "        <td>Fall</td>\n",
              "        <td>2017</td>\n",
              "        <td>A</td>\n",
              "    </tr>\n",
              "    <tr>\n",
              "        <td>76653</td>\n",
              "        <td>EE-181</td>\n",
              "        <td>1</td>\n",
              "        <td>Spring</td>\n",
              "        <td>2017</td>\n",
              "        <td>C</td>\n",
              "    </tr>\n",
              "    <tr>\n",
              "        <td>98765</td>\n",
              "        <td>CS-101</td>\n",
              "        <td>1</td>\n",
              "        <td>Fall</td>\n",
              "        <td>2017</td>\n",
              "        <td>C-</td>\n",
              "    </tr>\n",
              "    <tr>\n",
              "        <td>98988</td>\n",
              "        <td>BIO-101</td>\n",
              "        <td>1</td>\n",
              "        <td>Summer</td>\n",
              "        <td>2017</td>\n",
              "        <td>A</td>\n",
              "    </tr>\n",
              "</table>"
            ],
            "text/plain": [
              "[('00128', 'CS-101', '1', 'Fall', 2017, 'A'),\n",
              " ('00128', 'CS-347', '1', 'Fall', 2017, 'A-'),\n",
              " ('12345', 'CS-101', '1', 'Fall', 2017, 'C'),\n",
              " ('12345', 'CS-190', '2', 'Spring', 2017, 'A'),\n",
              " ('12345', 'CS-347', '1', 'Fall', 2017, 'A'),\n",
              " ('44553', 'PHY-101', '1', 'Fall', 2017, 'B-'),\n",
              " ('45678', 'CS-101', '1', 'Fall', 2017, 'F'),\n",
              " ('54321', 'CS-101', '1', 'Fall', 2017, 'A-'),\n",
              " ('54321', 'CS-190', '2', 'Spring', 2017, 'B+'),\n",
              " ('76543', 'CS-101', '1', 'Fall', 2017, 'A'),\n",
              " ('76653', 'EE-181', '1', 'Spring', 2017, 'C'),\n",
              " ('98765', 'CS-101', '1', 'Fall', 2017, 'C-'),\n",
              " ('98988', 'BIO-101', '1', 'Summer', 2017, 'A')]"
            ]
          },
          "execution_count": 152,
          "metadata": {},
          "output_type": "execute_result"
        }
      ],
      "source": [
        "%%sql\n",
        "select * from takes\n",
        "where year < 2018"
      ]
    },
    {
      "attachments": {},
      "cell_type": "markdown",
      "metadata": {
        "id": "mU3-aziEEOG4"
      },
      "source": [
        "### 13. Find student records taking courses in the fall semester and coming under first section."
      ]
    },
    {
      "cell_type": "code",
      "execution_count": 153,
      "metadata": {
        "colab": {
          "base_uri": "https://localhost:8080/",
          "height": 267
        },
        "id": "9klq4tQtsUuC",
        "outputId": "0c6ee627-47c2-4d12-f996-6bc84fd3af54"
      },
      "outputs": [
        {
          "name": "stdout",
          "output_type": "stream",
          "text": [
            " * sqlite:///university.db\n",
            "Done.\n"
          ]
        },
        {
          "data": {
            "text/html": [
              "<table>\n",
              "    <tr>\n",
              "        <th>ID</th>\n",
              "        <th>course_id</th>\n",
              "        <th>sec_id</th>\n",
              "        <th>semester</th>\n",
              "        <th>year</th>\n",
              "        <th>grade</th>\n",
              "    </tr>\n",
              "    <tr>\n",
              "        <td>00128</td>\n",
              "        <td>CS-101</td>\n",
              "        <td>1</td>\n",
              "        <td>Fall</td>\n",
              "        <td>2017</td>\n",
              "        <td>A</td>\n",
              "    </tr>\n",
              "    <tr>\n",
              "        <td>00128</td>\n",
              "        <td>CS-347</td>\n",
              "        <td>1</td>\n",
              "        <td>Fall</td>\n",
              "        <td>2017</td>\n",
              "        <td>A-</td>\n",
              "    </tr>\n",
              "    <tr>\n",
              "        <td>12345</td>\n",
              "        <td>CS-101</td>\n",
              "        <td>1</td>\n",
              "        <td>Fall</td>\n",
              "        <td>2017</td>\n",
              "        <td>C</td>\n",
              "    </tr>\n",
              "    <tr>\n",
              "        <td>12345</td>\n",
              "        <td>CS-347</td>\n",
              "        <td>1</td>\n",
              "        <td>Fall</td>\n",
              "        <td>2017</td>\n",
              "        <td>A</td>\n",
              "    </tr>\n",
              "    <tr>\n",
              "        <td>44553</td>\n",
              "        <td>PHY-101</td>\n",
              "        <td>1</td>\n",
              "        <td>Fall</td>\n",
              "        <td>2017</td>\n",
              "        <td>B-</td>\n",
              "    </tr>\n",
              "    <tr>\n",
              "        <td>45678</td>\n",
              "        <td>CS-101</td>\n",
              "        <td>1</td>\n",
              "        <td>Fall</td>\n",
              "        <td>2017</td>\n",
              "        <td>F</td>\n",
              "    </tr>\n",
              "    <tr>\n",
              "        <td>54321</td>\n",
              "        <td>CS-101</td>\n",
              "        <td>1</td>\n",
              "        <td>Fall</td>\n",
              "        <td>2017</td>\n",
              "        <td>A-</td>\n",
              "    </tr>\n",
              "    <tr>\n",
              "        <td>76543</td>\n",
              "        <td>CS-101</td>\n",
              "        <td>1</td>\n",
              "        <td>Fall</td>\n",
              "        <td>2017</td>\n",
              "        <td>A</td>\n",
              "    </tr>\n",
              "    <tr>\n",
              "        <td>98765</td>\n",
              "        <td>CS-101</td>\n",
              "        <td>1</td>\n",
              "        <td>Fall</td>\n",
              "        <td>2017</td>\n",
              "        <td>C-</td>\n",
              "    </tr>\n",
              "</table>"
            ],
            "text/plain": [
              "[('00128', 'CS-101', '1', 'Fall', 2017, 'A'),\n",
              " ('00128', 'CS-347', '1', 'Fall', 2017, 'A-'),\n",
              " ('12345', 'CS-101', '1', 'Fall', 2017, 'C'),\n",
              " ('12345', 'CS-347', '1', 'Fall', 2017, 'A'),\n",
              " ('44553', 'PHY-101', '1', 'Fall', 2017, 'B-'),\n",
              " ('45678', 'CS-101', '1', 'Fall', 2017, 'F'),\n",
              " ('54321', 'CS-101', '1', 'Fall', 2017, 'A-'),\n",
              " ('76543', 'CS-101', '1', 'Fall', 2017, 'A'),\n",
              " ('98765', 'CS-101', '1', 'Fall', 2017, 'C-')]"
            ]
          },
          "execution_count": 153,
          "metadata": {},
          "output_type": "execute_result"
        }
      ],
      "source": [
        "%%sql\n",
        "select * from takes\n",
        "where semester = 'Fall'"
      ]
    },
    {
      "attachments": {},
      "cell_type": "markdown",
      "metadata": {
        "id": "3UyQgmTxEhGp"
      },
      "source": [
        "### 14. Find student records taking courses in the fall semester and coming under second section."
      ]
    },
    {
      "cell_type": "code",
      "execution_count": 154,
      "metadata": {
        "colab": {
          "base_uri": "https://localhost:8080/",
          "height": 75
        },
        "id": "QNoDNw_F11RY",
        "outputId": "194b6f5c-6fa2-41c1-e86a-9aa2d666abc9"
      },
      "outputs": [
        {
          "name": "stdout",
          "output_type": "stream",
          "text": [
            " * sqlite:///university.db\n",
            "Done.\n"
          ]
        },
        {
          "data": {
            "text/html": [
              "<table>\n",
              "    <tr>\n",
              "        <th>ID</th>\n",
              "        <th>course_id</th>\n",
              "        <th>sec_id</th>\n",
              "        <th>semester</th>\n",
              "        <th>year</th>\n",
              "        <th>grade</th>\n",
              "    </tr>\n",
              "</table>"
            ],
            "text/plain": [
              "[]"
            ]
          },
          "execution_count": 154,
          "metadata": {},
          "output_type": "execute_result"
        }
      ],
      "source": [
        "%%sql\n",
        "select * from takes\n",
        "where semester = 'Fall' and sec_id = 2"
      ]
    },
    {
      "attachments": {},
      "cell_type": "markdown",
      "metadata": {
        "id": "v0Cd9bCTEl_U"
      },
      "source": [
        "### 15. Find student records taking courses in the summer semester, coming under first section in the year 2017."
      ]
    },
    {
      "cell_type": "code",
      "execution_count": 155,
      "metadata": {
        "colab": {
          "base_uri": "https://localhost:8080/",
          "height": 96
        },
        "id": "37iv4XP03fAc",
        "outputId": "f8d1f4a0-1033-43d0-e5b2-de9a314992b1"
      },
      "outputs": [
        {
          "name": "stdout",
          "output_type": "stream",
          "text": [
            " * sqlite:///university.db\n",
            "Done.\n"
          ]
        },
        {
          "data": {
            "text/html": [
              "<table>\n",
              "    <tr>\n",
              "        <th>ID</th>\n",
              "        <th>course_id</th>\n",
              "        <th>sec_id</th>\n",
              "        <th>semester</th>\n",
              "        <th>year</th>\n",
              "        <th>grade</th>\n",
              "    </tr>\n",
              "    <tr>\n",
              "        <td>98988</td>\n",
              "        <td>BIO-101</td>\n",
              "        <td>1</td>\n",
              "        <td>Summer</td>\n",
              "        <td>2017</td>\n",
              "        <td>A</td>\n",
              "    </tr>\n",
              "</table>"
            ],
            "text/plain": [
              "[('98988', 'BIO-101', '1', 'Summer', 2017, 'A')]"
            ]
          },
          "execution_count": 155,
          "metadata": {},
          "output_type": "execute_result"
        }
      ],
      "source": [
        "%%sql\n",
        "select * from takes\n",
        "where semester = 'Summer' and sec_id = 1 and year = 2017"
      ]
    },
    {
      "attachments": {},
      "cell_type": "markdown",
      "metadata": {
        "id": "-F5bRcRZEu1Y"
      },
      "source": [
        "### 16. Find student records taking courses in the fall semester and having A grade."
      ]
    },
    {
      "cell_type": "code",
      "execution_count": 156,
      "metadata": {
        "colab": {
          "base_uri": "https://localhost:8080/",
          "height": 139
        },
        "id": "KEW42NSl3uSm",
        "outputId": "5769c110-2703-4e19-92c5-d938b3e5d116"
      },
      "outputs": [
        {
          "name": "stdout",
          "output_type": "stream",
          "text": [
            " * sqlite:///university.db\n",
            "Done.\n"
          ]
        },
        {
          "data": {
            "text/html": [
              "<table>\n",
              "    <tr>\n",
              "        <th>ID</th>\n",
              "        <th>course_id</th>\n",
              "        <th>sec_id</th>\n",
              "        <th>semester</th>\n",
              "        <th>year</th>\n",
              "        <th>grade</th>\n",
              "    </tr>\n",
              "    <tr>\n",
              "        <td>00128</td>\n",
              "        <td>CS-101</td>\n",
              "        <td>1</td>\n",
              "        <td>Fall</td>\n",
              "        <td>2017</td>\n",
              "        <td>A</td>\n",
              "    </tr>\n",
              "    <tr>\n",
              "        <td>12345</td>\n",
              "        <td>CS-347</td>\n",
              "        <td>1</td>\n",
              "        <td>Fall</td>\n",
              "        <td>2017</td>\n",
              "        <td>A</td>\n",
              "    </tr>\n",
              "    <tr>\n",
              "        <td>76543</td>\n",
              "        <td>CS-101</td>\n",
              "        <td>1</td>\n",
              "        <td>Fall</td>\n",
              "        <td>2017</td>\n",
              "        <td>A</td>\n",
              "    </tr>\n",
              "</table>"
            ],
            "text/plain": [
              "[('00128', 'CS-101', '1', 'Fall', 2017, 'A'),\n",
              " ('12345', 'CS-347', '1', 'Fall', 2017, 'A'),\n",
              " ('76543', 'CS-101', '1', 'Fall', 2017, 'A')]"
            ]
          },
          "execution_count": 156,
          "metadata": {},
          "output_type": "execute_result"
        }
      ],
      "source": [
        "%%sql\n",
        "select * from takes\n",
        "where semester = 'Fall' and grade = 'A'"
      ]
    },
    {
      "attachments": {},
      "cell_type": "markdown",
      "metadata": {
        "id": "hK5B_kW_E32Z"
      },
      "source": [
        "### 17. Find student records taking courses in the summer semester and having A grade."
      ]
    },
    {
      "cell_type": "code",
      "execution_count": 157,
      "metadata": {
        "colab": {
          "base_uri": "https://localhost:8080/",
          "height": 96
        },
        "id": "FN_HlHiX35BJ",
        "outputId": "fa2e9ffb-9f36-4f51-b4df-e74306baa66f"
      },
      "outputs": [
        {
          "name": "stdout",
          "output_type": "stream",
          "text": [
            " * sqlite:///university.db\n",
            "Done.\n"
          ]
        },
        {
          "data": {
            "text/html": [
              "<table>\n",
              "    <tr>\n",
              "        <th>ID</th>\n",
              "        <th>course_id</th>\n",
              "        <th>sec_id</th>\n",
              "        <th>semester</th>\n",
              "        <th>year</th>\n",
              "        <th>grade</th>\n",
              "    </tr>\n",
              "    <tr>\n",
              "        <td>98988</td>\n",
              "        <td>BIO-101</td>\n",
              "        <td>1</td>\n",
              "        <td>Summer</td>\n",
              "        <td>2017</td>\n",
              "        <td>A</td>\n",
              "    </tr>\n",
              "</table>"
            ],
            "text/plain": [
              "[('98988', 'BIO-101', '1', 'Summer', 2017, 'A')]"
            ]
          },
          "execution_count": 157,
          "metadata": {},
          "output_type": "execute_result"
        }
      ],
      "source": [
        "%%sql\n",
        "select * from takes\n",
        "where semester = 'Summer' and grade = 'A'"
      ]
    },
    {
      "attachments": {},
      "cell_type": "markdown",
      "metadata": {
        "id": "VesPAlUWFESq"
      },
      "source": [
        "### 18. Display section details with B time slot, room number 514 and in the Painter building."
      ]
    },
    {
      "cell_type": "code",
      "execution_count": 158,
      "metadata": {
        "colab": {
          "base_uri": "https://localhost:8080/",
          "height": 96
        },
        "id": "vHKk6II_4DE_",
        "outputId": "a1ad725f-1023-4514-c77b-c96f039e51e2"
      },
      "outputs": [
        {
          "name": "stdout",
          "output_type": "stream",
          "text": [
            " * sqlite:///university.db\n",
            "Done.\n"
          ]
        },
        {
          "data": {
            "text/html": [
              "<table>\n",
              "    <tr>\n",
              "        <th>course_id</th>\n",
              "        <th>sec_id</th>\n",
              "        <th>semester</th>\n",
              "        <th>year</th>\n",
              "        <th>building</th>\n",
              "        <th>room_number</th>\n",
              "        <th>time_slot_id</th>\n",
              "    </tr>\n",
              "    <tr>\n",
              "        <td>BIO-101</td>\n",
              "        <td>1</td>\n",
              "        <td>Summer</td>\n",
              "        <td>2017</td>\n",
              "        <td>Painter</td>\n",
              "        <td>514</td>\n",
              "        <td>B</td>\n",
              "    </tr>\n",
              "</table>"
            ],
            "text/plain": [
              "[('BIO-101', '1', 'Summer', 2017, 'Painter', '514', 'B')]"
            ]
          },
          "execution_count": 158,
          "metadata": {},
          "output_type": "execute_result"
        }
      ],
      "source": [
        "%%sql\n",
        "select * from section\n",
        "where time_slot_id = 'B' and room_number = 514 and building = 'Painter'"
      ]
    },
    {
      "attachments": {},
      "cell_type": "markdown",
      "metadata": {
        "id": "Mo7ONfvx7t_v"
      },
      "source": [
        "### 19. Find all course titles which have a string \"Intro.\"."
      ]
    },
    {
      "cell_type": "code",
      "execution_count": 159,
      "metadata": {
        "colab": {
          "base_uri": "https://localhost:8080/",
          "height": 139
        },
        "id": "2cAHiluZ4c9S",
        "outputId": "5e47a2bc-07b4-4090-d3c9-941f16ca5b5e"
      },
      "outputs": [
        {
          "name": "stdout",
          "output_type": "stream",
          "text": [
            " * sqlite:///university.db\n",
            "Done.\n"
          ]
        },
        {
          "data": {
            "text/html": [
              "<table>\n",
              "    <tr>\n",
              "        <th>title</th>\n",
              "    </tr>\n",
              "    <tr>\n",
              "        <td>Intro. to Biology</td>\n",
              "    </tr>\n",
              "    <tr>\n",
              "        <td>Intro. to Computer Science</td>\n",
              "    </tr>\n",
              "    <tr>\n",
              "        <td>Intro. to Digital Systems</td>\n",
              "    </tr>\n",
              "</table>"
            ],
            "text/plain": [
              "[('Intro. to Biology',),\n",
              " ('Intro. to Computer Science',),\n",
              " ('Intro. to Digital Systems',)]"
            ]
          },
          "execution_count": 159,
          "metadata": {},
          "output_type": "execute_result"
        }
      ],
      "source": [
        "%%sql\n",
        "select title from course\n",
        "where title like \"Intro.%\""
      ]
    },
    {
      "attachments": {},
      "cell_type": "markdown",
      "metadata": {
        "id": "mCyqNxky9DhE"
      },
      "source": [
        "### 20. Find the titles of courses in the Computer Science department that have 3 credits."
      ]
    },
    {
      "cell_type": "code",
      "execution_count": 160,
      "metadata": {
        "colab": {
          "base_uri": "https://localhost:8080/",
          "height": 139
        },
        "id": "hd6q0dlq4wlw",
        "outputId": "efc6b4a8-16c5-4e99-f00a-96142f4189e3"
      },
      "outputs": [
        {
          "name": "stdout",
          "output_type": "stream",
          "text": [
            " * sqlite:///university.db\n",
            "Done.\n"
          ]
        },
        {
          "data": {
            "text/html": [
              "<table>\n",
              "    <tr>\n",
              "        <th>title</th>\n",
              "    </tr>\n",
              "    <tr>\n",
              "        <td>Robotics</td>\n",
              "    </tr>\n",
              "    <tr>\n",
              "        <td>Image Processing</td>\n",
              "    </tr>\n",
              "    <tr>\n",
              "        <td>Database System Concepts</td>\n",
              "    </tr>\n",
              "</table>"
            ],
            "text/plain": [
              "[('Robotics',), ('Image Processing',), ('Database System Concepts',)]"
            ]
          },
          "execution_count": 160,
          "metadata": {},
          "output_type": "execute_result"
        }
      ],
      "source": [
        "%%sql\n",
        "select title from course\n",
        "where dept_name = 'Comp. Sci.' and credits = 3"
      ]
    },
    {
      "attachments": {},
      "cell_type": "markdown",
      "metadata": {
        "id": "lAVCV57I9i6M"
      },
      "source": [
        "### 21. Find IDs and titles of all the courses which were taught by an instructor named Einstein. Make sure there are no duplicates in the result.\n",
        "\n"
      ]
    },
    {
      "cell_type": "code",
      "execution_count": 161,
      "metadata": {
        "colab": {
          "base_uri": "https://localhost:8080/",
          "height": 96
        },
        "id": "B--u6eW95Oap",
        "outputId": "5af1c8f2-f283-4fa8-a2ce-801fb3805759"
      },
      "outputs": [
        {
          "name": "stdout",
          "output_type": "stream",
          "text": [
            " * sqlite:///university.db\n",
            "Done.\n"
          ]
        },
        {
          "data": {
            "text/html": [
              "<table>\n",
              "    <tr>\n",
              "        <th>course_id</th>\n",
              "        <th>title</th>\n",
              "    </tr>\n",
              "    <tr>\n",
              "        <td>PHY-101</td>\n",
              "        <td>Physical Principles</td>\n",
              "    </tr>\n",
              "</table>"
            ],
            "text/plain": [
              "[('PHY-101', 'Physical Principles')]"
            ]
          },
          "execution_count": 161,
          "metadata": {},
          "output_type": "execute_result"
        }
      ],
      "source": [
        "%%sql\n",
        "select distinct c.course_id, c.title from course as c\n",
        "join instructor as i on c.dept_name = i.dept_name\n",
        "where i.name = 'Einstein'\n"
      ]
    },
    {
      "attachments": {},
      "cell_type": "markdown",
      "metadata": {
        "id": "VJC-TaAiIKeo"
      },
      "source": [
        "### 22. Find all course IDs which start with CS"
      ]
    },
    {
      "cell_type": "code",
      "execution_count": 162,
      "metadata": {
        "colab": {
          "base_uri": "https://localhost:8080/",
          "height": 182
        },
        "id": "2i13c4pe6UQe",
        "outputId": "5467d6f5-d86c-4d16-efcc-11c5e226bf3c"
      },
      "outputs": [
        {
          "name": "stdout",
          "output_type": "stream",
          "text": [
            " * sqlite:///university.db\n",
            "Done.\n"
          ]
        },
        {
          "data": {
            "text/html": [
              "<table>\n",
              "    <tr>\n",
              "        <th>course_id</th>\n",
              "    </tr>\n",
              "    <tr>\n",
              "        <td>CS-101</td>\n",
              "    </tr>\n",
              "    <tr>\n",
              "        <td>CS-190</td>\n",
              "    </tr>\n",
              "    <tr>\n",
              "        <td>CS-315</td>\n",
              "    </tr>\n",
              "    <tr>\n",
              "        <td>CS-319</td>\n",
              "    </tr>\n",
              "    <tr>\n",
              "        <td>CS-347</td>\n",
              "    </tr>\n",
              "</table>"
            ],
            "text/plain": [
              "[('CS-101',), ('CS-190',), ('CS-315',), ('CS-319',), ('CS-347',)]"
            ]
          },
          "execution_count": 162,
          "metadata": {},
          "output_type": "execute_result"
        }
      ],
      "source": [
        "%%sql\n",
        "select course_id from course\n",
        "where course_id like \"CS%\""
      ]
    },
    {
      "attachments": {},
      "cell_type": "markdown",
      "metadata": {
        "id": "z5QSpA_MLbKz"
      },
      "source": [
        "### 23. For each department, find the maximum salary of instructors in that department."
      ]
    },
    {
      "cell_type": "code",
      "execution_count": 163,
      "metadata": {
        "colab": {
          "base_uri": "https://localhost:8080/",
          "height": 225
        },
        "id": "d-Gkjoeu62RD",
        "outputId": "fe57269e-972c-465f-a0c9-66c951068b72"
      },
      "outputs": [
        {
          "name": "stdout",
          "output_type": "stream",
          "text": [
            " * sqlite:///university.db\n",
            "Done.\n"
          ]
        },
        {
          "data": {
            "text/html": [
              "<table>\n",
              "    <tr>\n",
              "        <th>dept_name</th>\n",
              "        <th>Maximum salary</th>\n",
              "    </tr>\n",
              "    <tr>\n",
              "        <td>Biology</td>\n",
              "        <td>79200</td>\n",
              "    </tr>\n",
              "    <tr>\n",
              "        <td>Comp. Sci.</td>\n",
              "        <td>92000</td>\n",
              "    </tr>\n",
              "    <tr>\n",
              "        <td>Elec. Eng.</td>\n",
              "        <td>88000</td>\n",
              "    </tr>\n",
              "    <tr>\n",
              "        <td>Finance</td>\n",
              "        <td>99000</td>\n",
              "    </tr>\n",
              "    <tr>\n",
              "        <td>History</td>\n",
              "        <td>68200</td>\n",
              "    </tr>\n",
              "    <tr>\n",
              "        <td>Music</td>\n",
              "        <td>44000</td>\n",
              "    </tr>\n",
              "    <tr>\n",
              "        <td>Physics</td>\n",
              "        <td>95700</td>\n",
              "    </tr>\n",
              "</table>"
            ],
            "text/plain": [
              "[('Biology', 79200),\n",
              " ('Comp. Sci.', 92000),\n",
              " ('Elec. Eng.', 88000),\n",
              " ('Finance', 99000),\n",
              " ('History', 68200),\n",
              " ('Music', 44000),\n",
              " ('Physics', 95700)]"
            ]
          },
          "execution_count": 163,
          "metadata": {},
          "output_type": "execute_result"
        }
      ],
      "source": [
        "%%sql\n",
        "select dept_name, max(salary) as 'Maximum salary' from instructor\n",
        "group by dept_name"
      ]
    },
    {
      "attachments": {},
      "cell_type": "markdown",
      "metadata": {
        "id": "M2ycswNeL3nb"
      },
      "source": [
        "### 24. Find the enrollment (number of students) of each section that was offered in Fall 2017."
      ]
    },
    {
      "cell_type": "code",
      "execution_count": 164,
      "metadata": {
        "colab": {
          "base_uri": "https://localhost:8080/",
          "height": 96
        },
        "id": "u-CyqiR77RUI",
        "outputId": "eb640d69-a7a7-4677-c4f6-fbe7f3ba3dc1"
      },
      "outputs": [
        {
          "name": "stdout",
          "output_type": "stream",
          "text": [
            " * sqlite:///university.db\n",
            "Done.\n"
          ]
        },
        {
          "data": {
            "text/html": [
              "<table>\n",
              "    <tr>\n",
              "        <th>sec_id</th>\n",
              "        <th>Number of students</th>\n",
              "        <th>semester</th>\n",
              "        <th>year</th>\n",
              "    </tr>\n",
              "    <tr>\n",
              "        <td>1</td>\n",
              "        <td>9</td>\n",
              "        <td>Fall</td>\n",
              "        <td>2017</td>\n",
              "    </tr>\n",
              "</table>"
            ],
            "text/plain": [
              "[('1', 9, 'Fall', 2017)]"
            ]
          },
          "execution_count": 164,
          "metadata": {},
          "output_type": "execute_result"
        }
      ],
      "source": [
        "%%sql\n",
        "select sec_id, count(ID) as 'Number of students', semester, year from takes\n",
        "where semester = 'Fall' and year = 2017 \n",
        "group by semester, year"
      ]
    },
    {
      "attachments": {},
      "cell_type": "markdown",
      "metadata": {
        "id": "EHmDAxSRNhoF"
      },
      "source": [
        "### 25. Increase(update) the salary of each instructor by 10% if their current salary is between 0 and 90000."
      ]
    },
    {
      "cell_type": "code",
      "execution_count": 165,
      "metadata": {
        "colab": {
          "base_uri": "https://localhost:8080/"
        },
        "id": "wZ1UKFAk8eVu",
        "outputId": "17593e95-db6f-49eb-c7ef-c5f9c38c5e34"
      },
      "outputs": [
        {
          "name": "stdout",
          "output_type": "stream",
          "text": [
            " * sqlite:///university.db\n",
            "8 rows affected.\n"
          ]
        },
        {
          "data": {
            "text/plain": [
              "[]"
            ]
          },
          "execution_count": 165,
          "metadata": {},
          "output_type": "execute_result"
        }
      ],
      "source": [
        "%%sql\n",
        "update instructor set salary = salary + salary*10/100\n",
        "where salary between 0 and 90000"
      ]
    },
    {
      "cell_type": "code",
      "execution_count": 166,
      "metadata": {
        "colab": {
          "base_uri": "https://localhost:8080/",
          "height": 332
        },
        "id": "LCbkf_df84T9",
        "outputId": "d0b0c6af-d7e8-4b23-cc75-f0f81fa09fc9"
      },
      "outputs": [
        {
          "name": "stdout",
          "output_type": "stream",
          "text": [
            " * sqlite:///university.db\n",
            "Done.\n"
          ]
        },
        {
          "data": {
            "text/html": [
              "<table>\n",
              "    <tr>\n",
              "        <th>name</th>\n",
              "        <th>salary</th>\n",
              "    </tr>\n",
              "    <tr>\n",
              "        <td>Srinivasan</td>\n",
              "        <td>78650</td>\n",
              "    </tr>\n",
              "    <tr>\n",
              "        <td>Wu</td>\n",
              "        <td>99000</td>\n",
              "    </tr>\n",
              "    <tr>\n",
              "        <td>Mozart</td>\n",
              "        <td>48400</td>\n",
              "    </tr>\n",
              "    <tr>\n",
              "        <td>Einstein</td>\n",
              "        <td>95000</td>\n",
              "    </tr>\n",
              "    <tr>\n",
              "        <td>El Said</td>\n",
              "        <td>72600</td>\n",
              "    </tr>\n",
              "    <tr>\n",
              "        <td>Gold</td>\n",
              "        <td>95700</td>\n",
              "    </tr>\n",
              "    <tr>\n",
              "        <td>Katz</td>\n",
              "        <td>90750</td>\n",
              "    </tr>\n",
              "    <tr>\n",
              "        <td>Califieri</td>\n",
              "        <td>75020</td>\n",
              "    </tr>\n",
              "    <tr>\n",
              "        <td>Singh</td>\n",
              "        <td>96800</td>\n",
              "    </tr>\n",
              "    <tr>\n",
              "        <td>Crick</td>\n",
              "        <td>87120</td>\n",
              "    </tr>\n",
              "    <tr>\n",
              "        <td>Brandt</td>\n",
              "        <td>92000</td>\n",
              "    </tr>\n",
              "    <tr>\n",
              "        <td>Kim</td>\n",
              "        <td>96800</td>\n",
              "    </tr>\n",
              "</table>"
            ],
            "text/plain": [
              "[('Srinivasan', 78650),\n",
              " ('Wu', 99000),\n",
              " ('Mozart', 48400),\n",
              " ('Einstein', 95000),\n",
              " ('El Said', 72600),\n",
              " ('Gold', 95700),\n",
              " ('Katz', 90750),\n",
              " ('Califieri', 75020),\n",
              " ('Singh', 96800),\n",
              " ('Crick', 87120),\n",
              " ('Brandt', 92000),\n",
              " ('Kim', 96800)]"
            ]
          },
          "execution_count": 166,
          "metadata": {},
          "output_type": "execute_result"
        }
      ],
      "source": [
        "%%sql\n",
        "select name, salary from instructor"
      ]
    },
    {
      "attachments": {},
      "cell_type": "markdown",
      "metadata": {
        "id": "hEuwCu_zGxqG"
      },
      "source": [
        "### 26. Find the names of instructors from Biology department having salary more than 50000."
      ]
    },
    {
      "cell_type": "code",
      "execution_count": 167,
      "metadata": {
        "colab": {
          "base_uri": "https://localhost:8080/",
          "height": 96
        },
        "id": "1XEtm_uv9TRU",
        "outputId": "a9ba3f81-2918-4731-fde8-4f6aa9767fc3"
      },
      "outputs": [
        {
          "name": "stdout",
          "output_type": "stream",
          "text": [
            " * sqlite:///university.db\n",
            "Done.\n"
          ]
        },
        {
          "data": {
            "text/html": [
              "<table>\n",
              "    <tr>\n",
              "        <th>name</th>\n",
              "        <th>salary</th>\n",
              "    </tr>\n",
              "    <tr>\n",
              "        <td>Crick</td>\n",
              "        <td>87120</td>\n",
              "    </tr>\n",
              "</table>"
            ],
            "text/plain": [
              "[('Crick', 87120)]"
            ]
          },
          "execution_count": 167,
          "metadata": {},
          "output_type": "execute_result"
        }
      ],
      "source": [
        "%%sql\n",
        "select name, salary from instructor\n",
        "where dept_name = 'Biology' and salary > 50000 "
      ]
    },
    {
      "attachments": {},
      "cell_type": "markdown",
      "metadata": {
        "id": "L04lAbm7HHjc"
      },
      "source": [
        "### 27. Find the IDs and titles of all courses taken by a student named Shankar."
      ]
    },
    {
      "cell_type": "code",
      "execution_count": 168,
      "metadata": {
        "colab": {
          "base_uri": "https://localhost:8080/",
          "height": 182
        },
        "id": "AIMiG-qgD_3P",
        "outputId": "96e3c602-c104-40a6-cf4b-c428bda5281e"
      },
      "outputs": [
        {
          "name": "stdout",
          "output_type": "stream",
          "text": [
            " * sqlite:///university.db\n",
            "Done.\n"
          ]
        },
        {
          "data": {
            "text/html": [
              "<table>\n",
              "    <tr>\n",
              "        <th>name</th>\n",
              "        <th>course_id</th>\n",
              "        <th>title</th>\n",
              "    </tr>\n",
              "    <tr>\n",
              "        <td>Shankar</td>\n",
              "        <td>CS-101</td>\n",
              "        <td>Intro. to Computer Science</td>\n",
              "    </tr>\n",
              "    <tr>\n",
              "        <td>Shankar</td>\n",
              "        <td>CS-190</td>\n",
              "        <td>Game Design</td>\n",
              "    </tr>\n",
              "    <tr>\n",
              "        <td>Shankar</td>\n",
              "        <td>CS-315</td>\n",
              "        <td>Robotics</td>\n",
              "    </tr>\n",
              "    <tr>\n",
              "        <td>Shankar</td>\n",
              "        <td>CS-319</td>\n",
              "        <td>Image Processing</td>\n",
              "    </tr>\n",
              "    <tr>\n",
              "        <td>Shankar</td>\n",
              "        <td>CS-347</td>\n",
              "        <td>Database System Concepts</td>\n",
              "    </tr>\n",
              "</table>"
            ],
            "text/plain": [
              "[('Shankar', 'CS-101', 'Intro. to Computer Science'),\n",
              " ('Shankar', 'CS-190', 'Game Design'),\n",
              " ('Shankar', 'CS-315', 'Robotics'),\n",
              " ('Shankar', 'CS-319', 'Image Processing'),\n",
              " ('Shankar', 'CS-347', 'Database System Concepts')]"
            ]
          },
          "execution_count": 168,
          "metadata": {},
          "output_type": "execute_result"
        }
      ],
      "source": [
        "%%sql\n",
        "select s.name, c.course_id, c.title from student as s\n",
        "join course as c on s.dept_name = c.dept_name\n",
        "where s.name = 'Shankar'"
      ]
    },
    {
      "attachments": {},
      "cell_type": "markdown",
      "metadata": {
        "id": "OS86n2gQJLA5"
      },
      "source": [
        "### 28. For each department, find the total credit hours of courses in that department.\n",
        "\n",
        "\n",
        "\n"
      ]
    },
    {
      "cell_type": "code",
      "execution_count": 169,
      "metadata": {
        "colab": {
          "base_uri": "https://localhost:8080/",
          "height": 225
        },
        "id": "OV5wIS2WFHAv",
        "outputId": "6cebf2bc-f251-4600-b29d-08a907cfe644"
      },
      "outputs": [
        {
          "name": "stdout",
          "output_type": "stream",
          "text": [
            " * sqlite:///university.db\n",
            "Done.\n"
          ]
        },
        {
          "data": {
            "text/html": [
              "<table>\n",
              "    <tr>\n",
              "        <th>course_id</th>\n",
              "        <th>dept_name</th>\n",
              "        <th>Total credits</th>\n",
              "    </tr>\n",
              "    <tr>\n",
              "        <td>BIO-101</td>\n",
              "        <td>Biology</td>\n",
              "        <td>11</td>\n",
              "    </tr>\n",
              "    <tr>\n",
              "        <td>CS-101</td>\n",
              "        <td>Comp. Sci.</td>\n",
              "        <td>17</td>\n",
              "    </tr>\n",
              "    <tr>\n",
              "        <td>EE-181</td>\n",
              "        <td>Elec. Eng.</td>\n",
              "        <td>3</td>\n",
              "    </tr>\n",
              "    <tr>\n",
              "        <td>FIN-201</td>\n",
              "        <td>Finance</td>\n",
              "        <td>3</td>\n",
              "    </tr>\n",
              "    <tr>\n",
              "        <td>HIS-351</td>\n",
              "        <td>History</td>\n",
              "        <td>3</td>\n",
              "    </tr>\n",
              "    <tr>\n",
              "        <td>MU-199</td>\n",
              "        <td>Music</td>\n",
              "        <td>3</td>\n",
              "    </tr>\n",
              "    <tr>\n",
              "        <td>PHY-101</td>\n",
              "        <td>Physics</td>\n",
              "        <td>4</td>\n",
              "    </tr>\n",
              "</table>"
            ],
            "text/plain": [
              "[('BIO-101', 'Biology', 11),\n",
              " ('CS-101', 'Comp. Sci.', 17),\n",
              " ('EE-181', 'Elec. Eng.', 3),\n",
              " ('FIN-201', 'Finance', 3),\n",
              " ('HIS-351', 'History', 3),\n",
              " ('MU-199', 'Music', 3),\n",
              " ('PHY-101', 'Physics', 4)]"
            ]
          },
          "execution_count": 169,
          "metadata": {},
          "output_type": "execute_result"
        }
      ],
      "source": [
        "%%sql\n",
        "select course_id, dept_name, sum(credits) as 'Total credits' from course\n",
        "group by dept_name"
      ]
    },
    {
      "attachments": {},
      "cell_type": "markdown",
      "metadata": {
        "id": "7vtWKtTmNG7N"
      },
      "source": [
        "### 29. Find the number of courses having A grade in each building."
      ]
    },
    {
      "cell_type": "code",
      "execution_count": 170,
      "metadata": {
        "colab": {
          "base_uri": "https://localhost:8080/",
          "height": 161
        },
        "id": "KCKURVQtGIEa",
        "outputId": "d2bdf667-235a-4ebd-b06e-ecc28746c378"
      },
      "outputs": [
        {
          "name": "stdout",
          "output_type": "stream",
          "text": [
            " * sqlite:///university.db\n",
            "Done.\n"
          ]
        },
        {
          "data": {
            "text/html": [
              "<table>\n",
              "    <tr>\n",
              "        <th>building</th>\n",
              "        <th>Number of courses</th>\n",
              "        <th>grade</th>\n",
              "    </tr>\n",
              "    <tr>\n",
              "        <td>Packard</td>\n",
              "        <td>4</td>\n",
              "        <td>A</td>\n",
              "    </tr>\n",
              "    <tr>\n",
              "        <td>Painter</td>\n",
              "        <td>1</td>\n",
              "        <td>A</td>\n",
              "    </tr>\n",
              "    <tr>\n",
              "        <td>Taylor</td>\n",
              "        <td>4</td>\n",
              "        <td>A</td>\n",
              "    </tr>\n",
              "    <tr>\n",
              "        <td>Watson</td>\n",
              "        <td>2</td>\n",
              "        <td>A</td>\n",
              "    </tr>\n",
              "</table>"
            ],
            "text/plain": [
              "[('Packard', 4, 'A'),\n",
              " ('Painter', 1, 'A'),\n",
              " ('Taylor', 4, 'A'),\n",
              " ('Watson', 2, 'A')]"
            ]
          },
          "execution_count": 170,
          "metadata": {},
          "output_type": "execute_result"
        }
      ],
      "source": [
        "%%sql\n",
        "select s.building, count(s.course_id) as 'Number of courses', t.grade\n",
        "from section as s join takes as t on s.course_id = t.course_id\n",
        "where grade = 'A'\n",
        "group by s.building"
      ]
    },
    {
      "attachments": {},
      "cell_type": "markdown",
      "metadata": {
        "id": "nNHjrbhbavoJ"
      },
      "source": [
        "### 30. Display number of students in each department having total credits divisible by course credits."
      ]
    },
    {
      "cell_type": "code",
      "execution_count": 171,
      "metadata": {
        "colab": {
          "base_uri": "https://localhost:8080/",
          "height": 161
        },
        "id": "DikJ-P_WIRhX",
        "outputId": "defffb72-8429-40ae-c5e1-3ebd2935dcf4"
      },
      "outputs": [
        {
          "name": "stdout",
          "output_type": "stream",
          "text": [
            " * sqlite:///university.db\n",
            "Done.\n"
          ]
        },
        {
          "data": {
            "text/html": [
              "<table>\n",
              "    <tr>\n",
              "        <th>dept_name</th>\n",
              "        <th>Number of students</th>\n",
              "    </tr>\n",
              "    <tr>\n",
              "        <td>Biology</td>\n",
              "        <td>3</td>\n",
              "    </tr>\n",
              "    <tr>\n",
              "        <td>Comp. Sci.</td>\n",
              "        <td>8</td>\n",
              "    </tr>\n",
              "    <tr>\n",
              "        <td>Elec. Eng.</td>\n",
              "        <td>1</td>\n",
              "    </tr>\n",
              "    <tr>\n",
              "        <td>Physics</td>\n",
              "        <td>2</td>\n",
              "    </tr>\n",
              "</table>"
            ],
            "text/plain": [
              "[('Biology', 3), ('Comp. Sci.', 8), ('Elec. Eng.', 1), ('Physics', 2)]"
            ]
          },
          "execution_count": 171,
          "metadata": {},
          "output_type": "execute_result"
        }
      ],
      "source": [
        "%%sql\n",
        "select c.dept_name, count(s.ID) as 'Number of students' \n",
        "from student as s, course as c\n",
        "where s.dept_name = c.dept_name and s.tot_cred % c.credits = 0\n",
        "group by c.dept_name"
      ]
    },
    {
      "attachments": {},
      "cell_type": "markdown",
      "metadata": {
        "id": "ed4USuZ-gkwo"
      },
      "source": [
        "### 31. Display number of courses available in each building."
      ]
    },
    {
      "cell_type": "code",
      "execution_count": 172,
      "metadata": {
        "colab": {
          "base_uri": "https://localhost:8080/",
          "height": 161
        },
        "id": "wJS2u9aeJ_HP",
        "outputId": "1dbab7f5-c9c6-4994-c5a1-7c68a71a3da8"
      },
      "outputs": [
        {
          "name": "stdout",
          "output_type": "stream",
          "text": [
            " * sqlite:///university.db\n",
            "Done.\n"
          ]
        },
        {
          "data": {
            "text/html": [
              "<table>\n",
              "    <tr>\n",
              "        <th>building</th>\n",
              "        <th>count(distinct c.course_id)</th>\n",
              "    </tr>\n",
              "    <tr>\n",
              "        <td>Packard</td>\n",
              "        <td>1</td>\n",
              "    </tr>\n",
              "    <tr>\n",
              "        <td>Painter</td>\n",
              "        <td>2</td>\n",
              "    </tr>\n",
              "    <tr>\n",
              "        <td>Taylor</td>\n",
              "        <td>6</td>\n",
              "    </tr>\n",
              "    <tr>\n",
              "        <td>Watson</td>\n",
              "        <td>4</td>\n",
              "    </tr>\n",
              "</table>"
            ],
            "text/plain": [
              "[('Packard', 1), ('Painter', 2), ('Taylor', 6), ('Watson', 4)]"
            ]
          },
          "execution_count": 172,
          "metadata": {},
          "output_type": "execute_result"
        }
      ],
      "source": [
        "%%sql\n",
        "select d.building, count(distinct c.course_id) from department as d, course as c\n",
        "where d.dept_name = c.dept_name\n",
        "group by building"
      ]
    },
    {
      "attachments": {},
      "cell_type": "markdown",
      "metadata": {
        "id": "cJxJQUo5iTP-"
      },
      "source": [
        "### 32. Find number of instructors in each department having 'a' and 'e' in their name."
      ]
    },
    {
      "cell_type": "code",
      "execution_count": 173,
      "metadata": {
        "colab": {
          "base_uri": "https://localhost:8080/",
          "height": 96
        },
        "id": "_wUerdpyvCcm",
        "outputId": "e7eaed38-efd6-4085-ca98-dcfac2c7d17c"
      },
      "outputs": [
        {
          "name": "stdout",
          "output_type": "stream",
          "text": [
            " * sqlite:///university.db\n",
            "Done.\n"
          ]
        },
        {
          "data": {
            "text/html": [
              "<table>\n",
              "    <tr>\n",
              "        <th>dept_name</th>\n",
              "        <th>Number of instructors</th>\n",
              "    </tr>\n",
              "    <tr>\n",
              "        <td>History</td>\n",
              "        <td>2</td>\n",
              "    </tr>\n",
              "</table>"
            ],
            "text/plain": [
              "[('History', 2)]"
            ]
          },
          "execution_count": 173,
          "metadata": {},
          "output_type": "execute_result"
        }
      ],
      "source": [
        "%%sql\n",
        "select dept_name, COUNT(name) as 'Number of instructors' from instructor\n",
        "group by dept_name\n",
        "having name like '%a%e%' or name like '%e%a%'"
      ]
    },
    {
      "attachments": {},
      "cell_type": "markdown",
      "metadata": {
        "id": "ATiQ9nK9jP2f"
      },
      "source": [
        "### 33. Display number of courses being taught in classroom having capacity more than 20."
      ]
    },
    {
      "cell_type": "code",
      "execution_count": 174,
      "metadata": {
        "colab": {
          "base_uri": "https://localhost:8080/",
          "height": 96
        },
        "id": "jie6y_Y87jb-",
        "outputId": "17e69e34-0793-4e4a-af0f-106d745555d3"
      },
      "outputs": [
        {
          "name": "stdout",
          "output_type": "stream",
          "text": [
            " * sqlite:///university.db\n",
            "Done.\n"
          ]
        },
        {
          "data": {
            "text/html": [
              "<table>\n",
              "    <tr>\n",
              "        <th>room_number</th>\n",
              "        <th>capacity</th>\n",
              "        <th>Number of courses</th>\n",
              "    </tr>\n",
              "    <tr>\n",
              "        <td>101</td>\n",
              "        <td>500</td>\n",
              "        <td>12</td>\n",
              "    </tr>\n",
              "</table>"
            ],
            "text/plain": [
              "[('101', 500, 12)]"
            ]
          },
          "execution_count": 174,
          "metadata": {},
          "output_type": "execute_result"
        }
      ],
      "source": [
        "%%sql\n",
        "select cl.room_number, cl.capacity, count(s.course_id) as 'Number of courses' from classroom as cl\n",
        "join section as s on cl.room_number = s.room_number \n",
        "where cl.capacity > 20"
      ]
    },
    {
      "attachments": {},
      "cell_type": "markdown",
      "metadata": {
        "id": "nd2NXnPQlO23"
      },
      "source": [
        "### 34. Update the budget of each department by Rs. 1000"
      ]
    },
    {
      "cell_type": "code",
      "execution_count": 175,
      "metadata": {
        "colab": {
          "base_uri": "https://localhost:8080/"
        },
        "id": "oc1NHzvDkVgY",
        "outputId": "db2278c2-53ff-4019-d920-974873895b37"
      },
      "outputs": [
        {
          "name": "stdout",
          "output_type": "stream",
          "text": [
            " * sqlite:///university.db\n",
            "7 rows affected.\n"
          ]
        },
        {
          "data": {
            "text/plain": [
              "[]"
            ]
          },
          "execution_count": 175,
          "metadata": {},
          "output_type": "execute_result"
        }
      ],
      "source": [
        "%%sql\n",
        "update department set budget = budget + 1000"
      ]
    },
    {
      "cell_type": "code",
      "execution_count": 176,
      "metadata": {
        "colab": {
          "base_uri": "https://localhost:8080/",
          "height": 225
        },
        "id": "lc253iZKl7AA",
        "outputId": "6c89540b-99ad-4925-9ac9-1e8cfe361756"
      },
      "outputs": [
        {
          "name": "stdout",
          "output_type": "stream",
          "text": [
            " * sqlite:///university.db\n",
            "Done.\n"
          ]
        },
        {
          "data": {
            "text/html": [
              "<table>\n",
              "    <tr>\n",
              "        <th>dept_name</th>\n",
              "        <th>building</th>\n",
              "        <th>budget</th>\n",
              "    </tr>\n",
              "    <tr>\n",
              "        <td>Biology</td>\n",
              "        <td>Watson</td>\n",
              "        <td>92000</td>\n",
              "    </tr>\n",
              "    <tr>\n",
              "        <td>Comp. Sci.</td>\n",
              "        <td>Taylor</td>\n",
              "        <td>102000</td>\n",
              "    </tr>\n",
              "    <tr>\n",
              "        <td>Elec. Eng.</td>\n",
              "        <td>Taylor</td>\n",
              "        <td>87000</td>\n",
              "    </tr>\n",
              "    <tr>\n",
              "        <td>Finance</td>\n",
              "        <td>Painter</td>\n",
              "        <td>122000</td>\n",
              "    </tr>\n",
              "    <tr>\n",
              "        <td>History</td>\n",
              "        <td>Painter</td>\n",
              "        <td>52000</td>\n",
              "    </tr>\n",
              "    <tr>\n",
              "        <td>Music</td>\n",
              "        <td>Packard</td>\n",
              "        <td>82000</td>\n",
              "    </tr>\n",
              "    <tr>\n",
              "        <td>Physics</td>\n",
              "        <td>Watson</td>\n",
              "        <td>72000</td>\n",
              "    </tr>\n",
              "</table>"
            ],
            "text/plain": [
              "[('Biology', 'Watson', 92000),\n",
              " ('Comp. Sci.', 'Taylor', 102000),\n",
              " ('Elec. Eng.', 'Taylor', 87000),\n",
              " ('Finance', 'Painter', 122000),\n",
              " ('History', 'Painter', 52000),\n",
              " ('Music', 'Packard', 82000),\n",
              " ('Physics', 'Watson', 72000)]"
            ]
          },
          "execution_count": 176,
          "metadata": {},
          "output_type": "execute_result"
        }
      ],
      "source": [
        "%%sql\n",
        "select * from department"
      ]
    },
    {
      "attachments": {},
      "cell_type": "markdown",
      "metadata": {
        "id": "9QBiN27UmGrF"
      },
      "source": [
        "### 35. Find number of students in each room."
      ]
    },
    {
      "cell_type": "code",
      "execution_count": 177,
      "metadata": {
        "colab": {
          "base_uri": "https://localhost:8080/",
          "height": 182
        },
        "id": "RxgN-NqpwnJr",
        "outputId": "f90b4253-af6c-482a-a823-6b2c00304a44"
      },
      "outputs": [
        {
          "name": "stdout",
          "output_type": "stream",
          "text": [
            " * sqlite:///university.db\n",
            "Done.\n"
          ]
        },
        {
          "data": {
            "text/html": [
              "<table>\n",
              "    <tr>\n",
              "        <th>room_number</th>\n",
              "        <th>Number of students</th>\n",
              "    </tr>\n",
              "    <tr>\n",
              "        <td>100</td>\n",
              "        <td>3</td>\n",
              "    </tr>\n",
              "    <tr>\n",
              "        <td>101</td>\n",
              "        <td>16</td>\n",
              "    </tr>\n",
              "    <tr>\n",
              "        <td>120</td>\n",
              "        <td>2</td>\n",
              "    </tr>\n",
              "    <tr>\n",
              "        <td>3128</td>\n",
              "        <td>9</td>\n",
              "    </tr>\n",
              "    <tr>\n",
              "        <td>514</td>\n",
              "        <td>3</td>\n",
              "    </tr>\n",
              "</table>"
            ],
            "text/plain": [
              "[('100', 3), ('101', 16), ('120', 2), ('3128', 9), ('514', 3)]"
            ]
          },
          "execution_count": 177,
          "metadata": {},
          "output_type": "execute_result"
        }
      ],
      "source": [
        "%%sql\n",
        "select s.room_number, count(t.ID) as 'Number of students' from section as s\n",
        "join takes as t on s.course_id = t.course_id\n",
        "group by s.room_number"
      ]
    },
    {
      "attachments": {},
      "cell_type": "markdown",
      "metadata": {
        "id": "pM9otSMXnwoU"
      },
      "source": [
        "### 36. Give the prerequisite course for each student."
      ]
    },
    {
      "cell_type": "code",
      "execution_count": 178,
      "metadata": {
        "colab": {
          "base_uri": "https://localhost:8080/",
          "height": 289
        },
        "id": "-tpxAvLw4r07",
        "outputId": "e41be419-c9c1-4635-e763-b8a3f3910e0d"
      },
      "outputs": [
        {
          "name": "stdout",
          "output_type": "stream",
          "text": [
            " * sqlite:///university.db\n",
            "Done.\n"
          ]
        },
        {
          "data": {
            "text/html": [
              "<table>\n",
              "    <tr>\n",
              "        <th>name</th>\n",
              "        <th>prereq_id</th>\n",
              "    </tr>\n",
              "    <tr>\n",
              "        <td>Zhang</td>\n",
              "        <td>CS-101</td>\n",
              "    </tr>\n",
              "    <tr>\n",
              "        <td>Shankar</td>\n",
              "        <td>CS-101</td>\n",
              "    </tr>\n",
              "    <tr>\n",
              "        <td>Shankar</td>\n",
              "        <td>CS-101</td>\n",
              "    </tr>\n",
              "    <tr>\n",
              "        <td>Shankar</td>\n",
              "        <td>CS-101</td>\n",
              "    </tr>\n",
              "    <tr>\n",
              "        <td>Levy</td>\n",
              "        <td>CS-101</td>\n",
              "    </tr>\n",
              "    <tr>\n",
              "        <td>Williams</td>\n",
              "        <td>CS-101</td>\n",
              "    </tr>\n",
              "    <tr>\n",
              "        <td>Brown</td>\n",
              "        <td>CS-101</td>\n",
              "    </tr>\n",
              "    <tr>\n",
              "        <td>Aoi</td>\n",
              "        <td>PHY-101</td>\n",
              "    </tr>\n",
              "    <tr>\n",
              "        <td>Bourikas</td>\n",
              "        <td>CS-101</td>\n",
              "    </tr>\n",
              "    <tr>\n",
              "        <td>Tanaka</td>\n",
              "        <td>BIO-101</td>\n",
              "    </tr>\n",
              "</table>"
            ],
            "text/plain": [
              "[('Zhang', 'CS-101'),\n",
              " ('Shankar', 'CS-101'),\n",
              " ('Shankar', 'CS-101'),\n",
              " ('Shankar', 'CS-101'),\n",
              " ('Levy', 'CS-101'),\n",
              " ('Williams', 'CS-101'),\n",
              " ('Brown', 'CS-101'),\n",
              " ('Aoi', 'PHY-101'),\n",
              " ('Bourikas', 'CS-101'),\n",
              " ('Tanaka', 'BIO-101')]"
            ]
          },
          "execution_count": 178,
          "metadata": {},
          "output_type": "execute_result"
        }
      ],
      "source": [
        "%%sql\n",
        "select s.name, p.prereq_id from student as s\n",
        "join takes as t on s.ID = t.ID\n",
        "join prereq as p on t.course_id = p.course_id\n"
      ]
    },
    {
      "attachments": {},
      "cell_type": "markdown",
      "metadata": {
        "id": "Jq6rQ15huB-e"
      },
      "source": [
        "### 37. Display number of students attending classes on Wednesday."
      ]
    },
    {
      "cell_type": "code",
      "execution_count": 179,
      "metadata": {
        "colab": {
          "base_uri": "https://localhost:8080/",
          "height": 96
        },
        "id": "FRiXNfRd9WLV",
        "outputId": "14ecb08c-44a5-4a45-ae83-e7de8b1bcf3a"
      },
      "outputs": [
        {
          "name": "stdout",
          "output_type": "stream",
          "text": [
            " * sqlite:///university.db\n",
            "Done.\n"
          ]
        },
        {
          "data": {
            "text/html": [
              "<table>\n",
              "    <tr>\n",
              "        <th>day</th>\n",
              "        <th>Number of students</th>\n",
              "    </tr>\n",
              "    <tr>\n",
              "        <td>W</td>\n",
              "        <td>24</td>\n",
              "    </tr>\n",
              "</table>"
            ],
            "text/plain": [
              "[('W', 24)]"
            ]
          },
          "execution_count": 179,
          "metadata": {},
          "output_type": "execute_result"
        }
      ],
      "source": [
        "%%sql\n",
        "select ts.day, count(t.ID) as 'Number of students' from time_slot as ts\n",
        "join section as s on ts.time_slot_id = s.time_slot_id\n",
        "join takes as t on s.course_id = t.course_id\n",
        "group by ts.day\n",
        "having ts.day='W'"
      ]
    },
    {
      "attachments": {},
      "cell_type": "markdown",
      "metadata": {
        "id": "VkDoxiPOvb9j"
      },
      "source": [
        "### 38. Display number of students and instructors in each department"
      ]
    },
    {
      "cell_type": "code",
      "execution_count": 180,
      "metadata": {
        "colab": {
          "base_uri": "https://localhost:8080/",
          "height": 374
        },
        "id": "PmTVYCTk_KSX",
        "outputId": "46ff6c12-dae3-4916-f05b-fa416b3a2880"
      },
      "outputs": [
        {
          "name": "stdout",
          "output_type": "stream",
          "text": [
            " * sqlite:///university.db\n",
            "Done.\n"
          ]
        },
        {
          "data": {
            "text/html": [
              "<table>\n",
              "    <tr>\n",
              "        <th>dept_name</th>\n",
              "        <th>Number of students and instrcutors</th>\n",
              "    </tr>\n",
              "    <tr>\n",
              "        <td>Biology</td>\n",
              "        <td>1</td>\n",
              "    </tr>\n",
              "    <tr>\n",
              "        <td>Comp. Sci.</td>\n",
              "        <td>4</td>\n",
              "    </tr>\n",
              "    <tr>\n",
              "        <td>Elec. Eng.</td>\n",
              "        <td>2</td>\n",
              "    </tr>\n",
              "    <tr>\n",
              "        <td>Finance</td>\n",
              "        <td>1</td>\n",
              "    </tr>\n",
              "    <tr>\n",
              "        <td>History</td>\n",
              "        <td>1</td>\n",
              "    </tr>\n",
              "    <tr>\n",
              "        <td>Music</td>\n",
              "        <td>1</td>\n",
              "    </tr>\n",
              "    <tr>\n",
              "        <td>Physics</td>\n",
              "        <td>3</td>\n",
              "    </tr>\n",
              "    <tr>\n",
              "        <td>Biology</td>\n",
              "        <td>1</td>\n",
              "    </tr>\n",
              "    <tr>\n",
              "        <td>Comp. Sci.</td>\n",
              "        <td>3</td>\n",
              "    </tr>\n",
              "    <tr>\n",
              "        <td>Elec. Eng.</td>\n",
              "        <td>1</td>\n",
              "    </tr>\n",
              "    <tr>\n",
              "        <td>Finance</td>\n",
              "        <td>2</td>\n",
              "    </tr>\n",
              "    <tr>\n",
              "        <td>History</td>\n",
              "        <td>2</td>\n",
              "    </tr>\n",
              "    <tr>\n",
              "        <td>Music</td>\n",
              "        <td>1</td>\n",
              "    </tr>\n",
              "    <tr>\n",
              "        <td>Physics</td>\n",
              "        <td>2</td>\n",
              "    </tr>\n",
              "</table>"
            ],
            "text/plain": [
              "[('Biology', 1),\n",
              " ('Comp. Sci.', 4),\n",
              " ('Elec. Eng.', 2),\n",
              " ('Finance', 1),\n",
              " ('History', 1),\n",
              " ('Music', 1),\n",
              " ('Physics', 3),\n",
              " ('Biology', 1),\n",
              " ('Comp. Sci.', 3),\n",
              " ('Elec. Eng.', 1),\n",
              " ('Finance', 2),\n",
              " ('History', 2),\n",
              " ('Music', 1),\n",
              " ('Physics', 2)]"
            ]
          },
          "execution_count": 180,
          "metadata": {},
          "output_type": "execute_result"
        }
      ],
      "source": [
        "%%sql\n",
        "select dept_name, count(ID) as 'Number of students and instrcutors' from student\n",
        "group by dept_name\n",
        "\n",
        "union all\n",
        "\n",
        "select dept_name, count(ID) from instructor\n",
        "group by dept_name"
      ]
    },
    {
      "attachments": {},
      "cell_type": "markdown",
      "metadata": {
        "id": "CMODbAgJ0GtK"
      },
      "source": [
        "### 39. Display number of students in each semester and their sum of credits."
      ]
    },
    {
      "cell_type": "code",
      "execution_count": 181,
      "metadata": {
        "colab": {
          "base_uri": "https://localhost:8080/",
          "height": 139
        },
        "id": "vFsG2BC_D26D",
        "outputId": "a284a94a-c742-4ea8-dffb-8f1bfe8e7bf6"
      },
      "outputs": [
        {
          "name": "stdout",
          "output_type": "stream",
          "text": [
            " * sqlite:///university.db\n",
            "Done.\n"
          ]
        },
        {
          "data": {
            "text/html": [
              "<table>\n",
              "    <tr>\n",
              "        <th>semester</th>\n",
              "        <th>Number of students</th>\n",
              "        <th>Sum of credits</th>\n",
              "    </tr>\n",
              "    <tr>\n",
              "        <td>Fall</td>\n",
              "        <td>9</td>\n",
              "        <td>580</td>\n",
              "    </tr>\n",
              "    <tr>\n",
              "        <td>Spring</td>\n",
              "        <td>11</td>\n",
              "        <td>654</td>\n",
              "    </tr>\n",
              "    <tr>\n",
              "        <td>Summer</td>\n",
              "        <td>2</td>\n",
              "        <td>240</td>\n",
              "    </tr>\n",
              "</table>"
            ],
            "text/plain": [
              "[('Fall', 9, 580), ('Spring', 11, 654), ('Summer', 2, 240)]"
            ]
          },
          "execution_count": 181,
          "metadata": {},
          "output_type": "execute_result"
        }
      ],
      "source": [
        "%%sql\n",
        "select t.semester, count(t.ID) as 'Number of students', sum(s.tot_cred) as 'Sum of credits' from takes as t\n",
        "join student as s on t.ID = s.ID\n",
        "group by t.semester"
      ]
    },
    {
      "attachments": {},
      "cell_type": "markdown",
      "metadata": {
        "id": "fyVrUxXB0tKp"
      },
      "source": [
        "### 40. Give number of instructors in each building."
      ]
    },
    {
      "cell_type": "code",
      "execution_count": 182,
      "metadata": {
        "colab": {
          "base_uri": "https://localhost:8080/",
          "height": 161
        },
        "id": "53s9uB1dGFoN",
        "outputId": "00125cac-26e8-4dee-ef70-eb3922723519"
      },
      "outputs": [
        {
          "name": "stdout",
          "output_type": "stream",
          "text": [
            " * sqlite:///university.db\n",
            "Done.\n"
          ]
        },
        {
          "data": {
            "text/html": [
              "<table>\n",
              "    <tr>\n",
              "        <th>building</th>\n",
              "        <th>Number of instructors</th>\n",
              "    </tr>\n",
              "    <tr>\n",
              "        <td>Packard</td>\n",
              "        <td>6</td>\n",
              "    </tr>\n",
              "    <tr>\n",
              "        <td>Painter</td>\n",
              "        <td>3</td>\n",
              "    </tr>\n",
              "    <tr>\n",
              "        <td>Taylor</td>\n",
              "        <td>8</td>\n",
              "    </tr>\n",
              "    <tr>\n",
              "        <td>Watson</td>\n",
              "        <td>4</td>\n",
              "    </tr>\n",
              "</table>"
            ],
            "text/plain": [
              "[('Packard', 6), ('Painter', 3), ('Taylor', 8), ('Watson', 4)]"
            ]
          },
          "execution_count": 182,
          "metadata": {},
          "output_type": "execute_result"
        }
      ],
      "source": [
        "%%sql\n",
        "select s.building, count(i.ID) 'Number of instructors' from section as s\n",
        "join teaches as t on s.course_id = t.course_id\n",
        "join instructor as i on t.ID = i.ID\n",
        "group by s.building"
      ]
    },
    {
      "attachments": {},
      "cell_type": "markdown",
      "metadata": {
        "id": "tf1AMWw48KSg"
      },
      "source": [
        "### 41. Display advisor IDs for instructors in Painter building."
      ]
    },
    {
      "cell_type": "code",
      "execution_count": 183,
      "metadata": {
        "colab": {
          "base_uri": "https://localhost:8080/",
          "height": 118
        },
        "id": "xbeFrITEDUaT",
        "outputId": "74357a90-df3b-401a-b997-515cdc17a0a6"
      },
      "outputs": [
        {
          "name": "stdout",
          "output_type": "stream",
          "text": [
            " * sqlite:///university.db\n",
            "Done.\n"
          ]
        },
        {
          "data": {
            "text/html": [
              "<table>\n",
              "    <tr>\n",
              "        <th>building</th>\n",
              "        <th>name</th>\n",
              "        <th>s_ID</th>\n",
              "    </tr>\n",
              "    <tr>\n",
              "        <td>Painter</td>\n",
              "        <td>Crick</td>\n",
              "        <td>98988</td>\n",
              "    </tr>\n",
              "    <tr>\n",
              "        <td>Painter</td>\n",
              "        <td>Crick</td>\n",
              "        <td>98988</td>\n",
              "    </tr>\n",
              "</table>"
            ],
            "text/plain": [
              "[('Painter', 'Crick', '98988'), ('Painter', 'Crick', '98988')]"
            ]
          },
          "execution_count": 183,
          "metadata": {},
          "output_type": "execute_result"
        }
      ],
      "source": [
        "%%sql\n",
        "select s.building, i.name, a.s_ID \n",
        "from instructor as i, advisor as a, teaches as t, section as s\n",
        "where a.i_ID = i.ID and t.ID = a.i_ID and t.course_id = s.course_id and s.building = 'Painter'"
      ]
    },
    {
      "attachments": {},
      "cell_type": "markdown",
      "metadata": {
        "id": "1HNmSXTZ9bTZ"
      },
      "source": [
        "### 42. Find total credits earned by students coming at 9am."
      ]
    },
    {
      "cell_type": "code",
      "execution_count": 184,
      "metadata": {
        "colab": {
          "base_uri": "https://localhost:8080/",
          "height": 332
        },
        "id": "myuvyb7tHJea",
        "outputId": "d21ffad9-97bf-48cd-9978-9c40ad9c7130"
      },
      "outputs": [
        {
          "name": "stdout",
          "output_type": "stream",
          "text": [
            " * sqlite:///university.db\n",
            "Done.\n"
          ]
        },
        {
          "data": {
            "text/html": [
              "<table>\n",
              "    <tr>\n",
              "        <th>name</th>\n",
              "        <th>start_hr</th>\n",
              "        <th>tot_cred</th>\n",
              "    </tr>\n",
              "    <tr>\n",
              "        <td>Chavez</td>\n",
              "        <td>9</td>\n",
              "        <td>110</td>\n",
              "    </tr>\n",
              "    <tr>\n",
              "        <td>Chavez</td>\n",
              "        <td>9</td>\n",
              "        <td>110</td>\n",
              "    </tr>\n",
              "    <tr>\n",
              "        <td>Chavez</td>\n",
              "        <td>9</td>\n",
              "        <td>110</td>\n",
              "    </tr>\n",
              "    <tr>\n",
              "        <td>Levy</td>\n",
              "        <td>9</td>\n",
              "        <td>46</td>\n",
              "    </tr>\n",
              "    <tr>\n",
              "        <td>Levy</td>\n",
              "        <td>9</td>\n",
              "        <td>46</td>\n",
              "    </tr>\n",
              "    <tr>\n",
              "        <td>Levy</td>\n",
              "        <td>9</td>\n",
              "        <td>46</td>\n",
              "    </tr>\n",
              "    <tr>\n",
              "        <td>Brown</td>\n",
              "        <td>9</td>\n",
              "        <td>58</td>\n",
              "    </tr>\n",
              "    <tr>\n",
              "        <td>Brown</td>\n",
              "        <td>9</td>\n",
              "        <td>58</td>\n",
              "    </tr>\n",
              "    <tr>\n",
              "        <td>Brown</td>\n",
              "        <td>9</td>\n",
              "        <td>58</td>\n",
              "    </tr>\n",
              "    <tr>\n",
              "        <td>Tanaka</td>\n",
              "        <td>9</td>\n",
              "        <td>120</td>\n",
              "    </tr>\n",
              "    <tr>\n",
              "        <td>Tanaka</td>\n",
              "        <td>9</td>\n",
              "        <td>120</td>\n",
              "    </tr>\n",
              "    <tr>\n",
              "        <td>Tanaka</td>\n",
              "        <td>9</td>\n",
              "        <td>120</td>\n",
              "    </tr>\n",
              "</table>"
            ],
            "text/plain": [
              "[('Chavez', 9, 110),\n",
              " ('Chavez', 9, 110),\n",
              " ('Chavez', 9, 110),\n",
              " ('Levy', 9, 46),\n",
              " ('Levy', 9, 46),\n",
              " ('Levy', 9, 46),\n",
              " ('Brown', 9, 58),\n",
              " ('Brown', 9, 58),\n",
              " ('Brown', 9, 58),\n",
              " ('Tanaka', 9, 120),\n",
              " ('Tanaka', 9, 120),\n",
              " ('Tanaka', 9, 120)]"
            ]
          },
          "execution_count": 184,
          "metadata": {},
          "output_type": "execute_result"
        }
      ],
      "source": [
        " %%sql\n",
        " select student.name,start_hr,tot_cred \n",
        " from student,takes,section,time_slot \n",
        " where student.id=takes.id and takes.course_id=section.course_id and section.time_slot_id=time_slot.time_slot_id and start_hr='9' "
      ]
    },
    {
      "attachments": {},
      "cell_type": "markdown",
      "metadata": {
        "id": "6z1rp-xM-GgN"
      },
      "source": [
        "### 43. Display student names ordered by room number."
      ]
    },
    {
      "cell_type": "code",
      "execution_count": 185,
      "metadata": {
        "colab": {
          "base_uri": "https://localhost:8080/",
          "height": 780
        },
        "id": "lBqR8PjEILM4",
        "outputId": "68da7323-a4c7-44a7-bbd8-0fad56f2dc03"
      },
      "outputs": [
        {
          "name": "stdout",
          "output_type": "stream",
          "text": [
            " * sqlite:///university.db\n",
            "Done.\n"
          ]
        },
        {
          "data": {
            "text/html": [
              "<table>\n",
              "    <tr>\n",
              "        <th>name</th>\n",
              "        <th>room_number</th>\n",
              "    </tr>\n",
              "    <tr>\n",
              "        <td>Peltier</td>\n",
              "        <td>100</td>\n",
              "    </tr>\n",
              "    <tr>\n",
              "        <td>Levy</td>\n",
              "        <td>100</td>\n",
              "    </tr>\n",
              "    <tr>\n",
              "        <td>Brown</td>\n",
              "        <td>100</td>\n",
              "    </tr>\n",
              "    <tr>\n",
              "        <td>Zhang</td>\n",
              "        <td>101</td>\n",
              "    </tr>\n",
              "    <tr>\n",
              "        <td>Zhang</td>\n",
              "        <td>101</td>\n",
              "    </tr>\n",
              "    <tr>\n",
              "        <td>Shankar</td>\n",
              "        <td>101</td>\n",
              "    </tr>\n",
              "    <tr>\n",
              "        <td>Shankar</td>\n",
              "        <td>101</td>\n",
              "    </tr>\n",
              "    <tr>\n",
              "        <td>Chavez</td>\n",
              "        <td>101</td>\n",
              "    </tr>\n",
              "    <tr>\n",
              "        <td>Levy</td>\n",
              "        <td>101</td>\n",
              "    </tr>\n",
              "    <tr>\n",
              "        <td>Levy</td>\n",
              "        <td>101</td>\n",
              "    </tr>\n",
              "    <tr>\n",
              "        <td>Levy</td>\n",
              "        <td>101</td>\n",
              "    </tr>\n",
              "    <tr>\n",
              "        <td>Levy</td>\n",
              "        <td>101</td>\n",
              "    </tr>\n",
              "    <tr>\n",
              "        <td>Williams</td>\n",
              "        <td>101</td>\n",
              "    </tr>\n",
              "    <tr>\n",
              "        <td>Williams</td>\n",
              "        <td>101</td>\n",
              "    </tr>\n",
              "    <tr>\n",
              "        <td>Sanchez</td>\n",
              "        <td>101</td>\n",
              "    </tr>\n",
              "    <tr>\n",
              "        <td>Brown</td>\n",
              "        <td>101</td>\n",
              "    </tr>\n",
              "    <tr>\n",
              "        <td>Brown</td>\n",
              "        <td>101</td>\n",
              "    </tr>\n",
              "    <tr>\n",
              "        <td>Bourikas</td>\n",
              "        <td>101</td>\n",
              "    </tr>\n",
              "    <tr>\n",
              "        <td>Bourikas</td>\n",
              "        <td>101</td>\n",
              "    </tr>\n",
              "    <tr>\n",
              "        <td>Shankar</td>\n",
              "        <td>120</td>\n",
              "    </tr>\n",
              "    <tr>\n",
              "        <td>Bourikas</td>\n",
              "        <td>120</td>\n",
              "    </tr>\n",
              "    <tr>\n",
              "        <td>Zhang</td>\n",
              "        <td>3128</td>\n",
              "    </tr>\n",
              "    <tr>\n",
              "        <td>Shankar</td>\n",
              "        <td>3128</td>\n",
              "    </tr>\n",
              "    <tr>\n",
              "        <td>Shankar</td>\n",
              "        <td>3128</td>\n",
              "    </tr>\n",
              "    <tr>\n",
              "        <td>Shankar</td>\n",
              "        <td>3128</td>\n",
              "    </tr>\n",
              "    <tr>\n",
              "        <td>Levy</td>\n",
              "        <td>3128</td>\n",
              "    </tr>\n",
              "    <tr>\n",
              "        <td>Williams</td>\n",
              "        <td>3128</td>\n",
              "    </tr>\n",
              "    <tr>\n",
              "        <td>Williams</td>\n",
              "        <td>3128</td>\n",
              "    </tr>\n",
              "    <tr>\n",
              "        <td>Brown</td>\n",
              "        <td>3128</td>\n",
              "    </tr>\n",
              "    <tr>\n",
              "        <td>Aoi</td>\n",
              "        <td>3128</td>\n",
              "    </tr>\n",
              "    <tr>\n",
              "        <td>Brandt</td>\n",
              "        <td>514</td>\n",
              "    </tr>\n",
              "    <tr>\n",
              "        <td>Tanaka</td>\n",
              "        <td>514</td>\n",
              "    </tr>\n",
              "    <tr>\n",
              "        <td>Tanaka</td>\n",
              "        <td>514</td>\n",
              "    </tr>\n",
              "</table>"
            ],
            "text/plain": [
              "[('Peltier', '100'),\n",
              " ('Levy', '100'),\n",
              " ('Brown', '100'),\n",
              " ('Zhang', '101'),\n",
              " ('Zhang', '101'),\n",
              " ('Shankar', '101'),\n",
              " ('Shankar', '101'),\n",
              " ('Chavez', '101'),\n",
              " ('Levy', '101'),\n",
              " ('Levy', '101'),\n",
              " ('Levy', '101'),\n",
              " ('Levy', '101'),\n",
              " ('Williams', '101'),\n",
              " ('Williams', '101'),\n",
              " ('Sanchez', '101'),\n",
              " ('Brown', '101'),\n",
              " ('Brown', '101'),\n",
              " ('Bourikas', '101'),\n",
              " ('Bourikas', '101'),\n",
              " ('Shankar', '120'),\n",
              " ('Bourikas', '120'),\n",
              " ('Zhang', '3128'),\n",
              " ('Shankar', '3128'),\n",
              " ('Shankar', '3128'),\n",
              " ('Shankar', '3128'),\n",
              " ('Levy', '3128'),\n",
              " ('Williams', '3128'),\n",
              " ('Williams', '3128'),\n",
              " ('Brown', '3128'),\n",
              " ('Aoi', '3128'),\n",
              " ('Brandt', '514'),\n",
              " ('Tanaka', '514'),\n",
              " ('Tanaka', '514')]"
            ]
          },
          "execution_count": 185,
          "metadata": {},
          "output_type": "execute_result"
        }
      ],
      "source": [
        "%%sql\n",
        "select st.name, s.room_number from student as st, section as s, takes as t\n",
        "where st.ID = t.ID and t.course_id = s.course_id\n",
        "order by s.room_number"
      ]
    },
    {
      "attachments": {},
      "cell_type": "markdown",
      "metadata": {
        "id": "Df_cpB0wpZ3Q"
      },
      "source": [
        "### 44. Find the number of capacity left after occupying all the students."
      ]
    },
    {
      "cell_type": "code",
      "execution_count": 186,
      "metadata": {
        "colab": {
          "base_uri": "https://localhost:8080/",
          "height": 182
        },
        "id": "y4_obhw_JvHp",
        "outputId": "e3fd8b8c-78e1-43f6-c76c-d094dea66f28"
      },
      "outputs": [
        {
          "name": "stdout",
          "output_type": "stream",
          "text": [
            " * sqlite:///university.db\n",
            "Done.\n"
          ]
        },
        {
          "data": {
            "text/html": [
              "<table>\n",
              "    <tr>\n",
              "        <th>room_number</th>\n",
              "        <th>Remaining capacity</th>\n",
              "    </tr>\n",
              "    <tr>\n",
              "        <td>100</td>\n",
              "        <td>27</td>\n",
              "    </tr>\n",
              "    <tr>\n",
              "        <td>101</td>\n",
              "        <td>484</td>\n",
              "    </tr>\n",
              "    <tr>\n",
              "        <td>120</td>\n",
              "        <td>48</td>\n",
              "    </tr>\n",
              "    <tr>\n",
              "        <td>3128</td>\n",
              "        <td>61</td>\n",
              "    </tr>\n",
              "    <tr>\n",
              "        <td>514</td>\n",
              "        <td>7</td>\n",
              "    </tr>\n",
              "</table>"
            ],
            "text/plain": [
              "[('100', 27), ('101', 484), ('120', 48), ('3128', 61), ('514', 7)]"
            ]
          },
          "execution_count": 186,
          "metadata": {},
          "output_type": "execute_result"
        }
      ],
      "source": [
        "%%sql\n",
        "select c.room_number, c.capacity - count(t.ID) as 'Remaining capacity'\n",
        "from classroom as c, section as s, takes as t \n",
        "where c.room_number = s.room_number and s.course_id = t.course_id\n",
        "group by c.room_number"
      ]
    },
    {
      "attachments": {},
      "cell_type": "markdown",
      "metadata": {
        "id": "yr9CvEUKrxAf"
      },
      "source": [
        "### 45. Find the duration for which each student has to attend each lecture."
      ]
    },
    {
      "cell_type": "code",
      "execution_count": 187,
      "metadata": {
        "colab": {
          "base_uri": "https://localhost:8080/",
          "height": 524
        },
        "id": "4utlq6ihLx7E",
        "outputId": "0b3258f3-9333-45d0-d2f0-99ccf83a07f3"
      },
      "outputs": [
        {
          "name": "stdout",
          "output_type": "stream",
          "text": [
            " * sqlite:///university.db\n",
            "Done.\n"
          ]
        },
        {
          "data": {
            "text/html": [
              "<table>\n",
              "    <tr>\n",
              "        <th>name</th>\n",
              "        <th>course_id</th>\n",
              "        <th>Duration in hours</th>\n",
              "        <th>Duration in minutes</th>\n",
              "    </tr>\n",
              "    <tr>\n",
              "        <td>Aoi</td>\n",
              "        <td>EE-181</td>\n",
              "        <td>0</td>\n",
              "        <td>50</td>\n",
              "    </tr>\n",
              "    <tr>\n",
              "        <td>Bourikas</td>\n",
              "        <td>CS-101</td>\n",
              "        <td>2</td>\n",
              "        <td>30</td>\n",
              "    </tr>\n",
              "    <tr>\n",
              "        <td>Bourikas</td>\n",
              "        <td>CS-315</td>\n",
              "        <td>0</td>\n",
              "        <td>50</td>\n",
              "    </tr>\n",
              "    <tr>\n",
              "        <td>Brandt</td>\n",
              "        <td>HIS-351</td>\n",
              "        <td>0</td>\n",
              "        <td>50</td>\n",
              "    </tr>\n",
              "    <tr>\n",
              "        <td>Brown</td>\n",
              "        <td>CS-101</td>\n",
              "        <td>2</td>\n",
              "        <td>30</td>\n",
              "    </tr>\n",
              "    <tr>\n",
              "        <td>Brown</td>\n",
              "        <td>CS-319</td>\n",
              "        <td>0</td>\n",
              "        <td>50</td>\n",
              "    </tr>\n",
              "    <tr>\n",
              "        <td>Chavez</td>\n",
              "        <td>FIN-201</td>\n",
              "        <td>0</td>\n",
              "        <td>50</td>\n",
              "    </tr>\n",
              "    <tr>\n",
              "        <td>Levy</td>\n",
              "        <td>CS-101</td>\n",
              "        <td>2</td>\n",
              "        <td>30</td>\n",
              "    </tr>\n",
              "    <tr>\n",
              "        <td>Levy</td>\n",
              "        <td>CS-319</td>\n",
              "        <td>0</td>\n",
              "        <td>50</td>\n",
              "    </tr>\n",
              "    <tr>\n",
              "        <td>Peltier</td>\n",
              "        <td>PHY-101</td>\n",
              "        <td>0</td>\n",
              "        <td>50</td>\n",
              "    </tr>\n",
              "    <tr>\n",
              "        <td>Sanchez</td>\n",
              "        <td>MU-199</td>\n",
              "        <td>0</td>\n",
              "        <td>50</td>\n",
              "    </tr>\n",
              "    <tr>\n",
              "        <td>Shankar</td>\n",
              "        <td>CS-101</td>\n",
              "        <td>2</td>\n",
              "        <td>30</td>\n",
              "    </tr>\n",
              "    <tr>\n",
              "        <td>Shankar</td>\n",
              "        <td>CS-190</td>\n",
              "        <td>1</td>\n",
              "        <td>15</td>\n",
              "    </tr>\n",
              "    <tr>\n",
              "        <td>Shankar</td>\n",
              "        <td>CS-315</td>\n",
              "        <td>0</td>\n",
              "        <td>50</td>\n",
              "    </tr>\n",
              "    <tr>\n",
              "        <td>Shankar</td>\n",
              "        <td>CS-347</td>\n",
              "        <td>0</td>\n",
              "        <td>50</td>\n",
              "    </tr>\n",
              "    <tr>\n",
              "        <td>Tanaka</td>\n",
              "        <td>BIO-101</td>\n",
              "        <td>0</td>\n",
              "        <td>50</td>\n",
              "    </tr>\n",
              "    <tr>\n",
              "        <td>Tanaka</td>\n",
              "        <td>BIO-301</td>\n",
              "        <td>0</td>\n",
              "        <td>50</td>\n",
              "    </tr>\n",
              "    <tr>\n",
              "        <td>Williams</td>\n",
              "        <td>CS-101</td>\n",
              "        <td>2</td>\n",
              "        <td>30</td>\n",
              "    </tr>\n",
              "    <tr>\n",
              "        <td>Williams</td>\n",
              "        <td>CS-190</td>\n",
              "        <td>1</td>\n",
              "        <td>15</td>\n",
              "    </tr>\n",
              "    <tr>\n",
              "        <td>Zhang</td>\n",
              "        <td>CS-101</td>\n",
              "        <td>2</td>\n",
              "        <td>30</td>\n",
              "    </tr>\n",
              "    <tr>\n",
              "        <td>Zhang</td>\n",
              "        <td>CS-347</td>\n",
              "        <td>0</td>\n",
              "        <td>50</td>\n",
              "    </tr>\n",
              "</table>"
            ],
            "text/plain": [
              "[('Aoi', 'EE-181', 0, 50),\n",
              " ('Bourikas', 'CS-101', 2, 30),\n",
              " ('Bourikas', 'CS-315', 0, 50),\n",
              " ('Brandt', 'HIS-351', 0, 50),\n",
              " ('Brown', 'CS-101', 2, 30),\n",
              " ('Brown', 'CS-319', 0, 50),\n",
              " ('Chavez', 'FIN-201', 0, 50),\n",
              " ('Levy', 'CS-101', 2, 30),\n",
              " ('Levy', 'CS-319', 0, 50),\n",
              " ('Peltier', 'PHY-101', 0, 50),\n",
              " ('Sanchez', 'MU-199', 0, 50),\n",
              " ('Shankar', 'CS-101', 2, 30),\n",
              " ('Shankar', 'CS-190', 1, 15),\n",
              " ('Shankar', 'CS-315', 0, 50),\n",
              " ('Shankar', 'CS-347', 0, 50),\n",
              " ('Tanaka', 'BIO-101', 0, 50),\n",
              " ('Tanaka', 'BIO-301', 0, 50),\n",
              " ('Williams', 'CS-101', 2, 30),\n",
              " ('Williams', 'CS-190', 1, 15),\n",
              " ('Zhang', 'CS-101', 2, 30),\n",
              " ('Zhang', 'CS-347', 0, 50)]"
            ]
          },
          "execution_count": 187,
          "metadata": {},
          "output_type": "execute_result"
        }
      ],
      "source": [
        "%%sql\n",
        "select st.name, t.course_id, ts.end_hr - ts.start_hr as 'Duration in hours', ts.end_min - ts.start_min as 'Duration in minutes'\n",
        "from student as st, takes as t, section as s, time_slot as ts\n",
        "where st.ID = t.ID and t.course_id = s.course_id and s.time_slot_id = ts.time_slot_id\n",
        "group by st.name, t.course_id"
      ]
    },
    {
      "attachments": {},
      "cell_type": "markdown",
      "metadata": {
        "id": "h797-BMRvRNx"
      },
      "source": [
        "### 46. Create a timetable for the university."
      ]
    },
    {
      "cell_type": "code",
      "execution_count": 188,
      "metadata": {
        "colab": {
          "base_uri": "https://localhost:8080/",
          "height": 481
        },
        "id": "Kvy_1rsURi__",
        "outputId": "2d8a8797-f4e4-4fb6-f30a-353879b21884"
      },
      "outputs": [
        {
          "name": "stdout",
          "output_type": "stream",
          "text": [
            " * sqlite:///university.db\n",
            "Done.\n"
          ]
        },
        {
          "data": {
            "text/html": [
              "<table>\n",
              "    <tr>\n",
              "        <th>day</th>\n",
              "        <th>building</th>\n",
              "        <th>room_number</th>\n",
              "        <th>course_id</th>\n",
              "    </tr>\n",
              "    <tr>\n",
              "        <td>F</td>\n",
              "        <td>Watson</td>\n",
              "        <td>100</td>\n",
              "        <td>CS-319</td>\n",
              "    </tr>\n",
              "    <tr>\n",
              "        <td>F</td>\n",
              "        <td>Packard</td>\n",
              "        <td>101</td>\n",
              "        <td>FIN-201</td>\n",
              "    </tr>\n",
              "    <tr>\n",
              "        <td>F</td>\n",
              "        <td>Watson</td>\n",
              "        <td>120</td>\n",
              "        <td>CS-315</td>\n",
              "    </tr>\n",
              "    <tr>\n",
              "        <td>F</td>\n",
              "        <td>Taylor</td>\n",
              "        <td>3128</td>\n",
              "        <td>CS-190</td>\n",
              "    </tr>\n",
              "    <tr>\n",
              "        <td>F</td>\n",
              "        <td>Painter</td>\n",
              "        <td>514</td>\n",
              "        <td>BIO-101</td>\n",
              "    </tr>\n",
              "    <tr>\n",
              "        <td>M</td>\n",
              "        <td>Watson</td>\n",
              "        <td>100</td>\n",
              "        <td>CS-319</td>\n",
              "    </tr>\n",
              "    <tr>\n",
              "        <td>M</td>\n",
              "        <td>Packard</td>\n",
              "        <td>101</td>\n",
              "        <td>FIN-201</td>\n",
              "    </tr>\n",
              "    <tr>\n",
              "        <td>M</td>\n",
              "        <td>Watson</td>\n",
              "        <td>120</td>\n",
              "        <td>CS-315</td>\n",
              "    </tr>\n",
              "    <tr>\n",
              "        <td>M</td>\n",
              "        <td>Taylor</td>\n",
              "        <td>3128</td>\n",
              "        <td>CS-190</td>\n",
              "    </tr>\n",
              "    <tr>\n",
              "        <td>M</td>\n",
              "        <td>Painter</td>\n",
              "        <td>514</td>\n",
              "        <td>BIO-101</td>\n",
              "    </tr>\n",
              "    <tr>\n",
              "        <td>R</td>\n",
              "        <td>Packard</td>\n",
              "        <td>101</td>\n",
              "        <td>CS-101</td>\n",
              "    </tr>\n",
              "    <tr>\n",
              "        <td>R</td>\n",
              "        <td>Taylor</td>\n",
              "        <td>3128</td>\n",
              "        <td>CS-190</td>\n",
              "    </tr>\n",
              "    <tr>\n",
              "        <td>T</td>\n",
              "        <td>Packard</td>\n",
              "        <td>101</td>\n",
              "        <td>CS-101</td>\n",
              "    </tr>\n",
              "    <tr>\n",
              "        <td>T</td>\n",
              "        <td>Taylor</td>\n",
              "        <td>3128</td>\n",
              "        <td>CS-190</td>\n",
              "    </tr>\n",
              "    <tr>\n",
              "        <td>W</td>\n",
              "        <td>Watson</td>\n",
              "        <td>100</td>\n",
              "        <td>CS-319</td>\n",
              "    </tr>\n",
              "    <tr>\n",
              "        <td>W</td>\n",
              "        <td>Packard</td>\n",
              "        <td>101</td>\n",
              "        <td>CS-101</td>\n",
              "    </tr>\n",
              "    <tr>\n",
              "        <td>W</td>\n",
              "        <td>Watson</td>\n",
              "        <td>120</td>\n",
              "        <td>CS-315</td>\n",
              "    </tr>\n",
              "    <tr>\n",
              "        <td>W</td>\n",
              "        <td>Taylor</td>\n",
              "        <td>3128</td>\n",
              "        <td>CS-190</td>\n",
              "    </tr>\n",
              "    <tr>\n",
              "        <td>W</td>\n",
              "        <td>Painter</td>\n",
              "        <td>514</td>\n",
              "        <td>BIO-101</td>\n",
              "    </tr>\n",
              "</table>"
            ],
            "text/plain": [
              "[('F', 'Watson', '100', 'CS-319'),\n",
              " ('F', 'Packard', '101', 'FIN-201'),\n",
              " ('F', 'Watson', '120', 'CS-315'),\n",
              " ('F', 'Taylor', '3128', 'CS-190'),\n",
              " ('F', 'Painter', '514', 'BIO-101'),\n",
              " ('M', 'Watson', '100', 'CS-319'),\n",
              " ('M', 'Packard', '101', 'FIN-201'),\n",
              " ('M', 'Watson', '120', 'CS-315'),\n",
              " ('M', 'Taylor', '3128', 'CS-190'),\n",
              " ('M', 'Painter', '514', 'BIO-101'),\n",
              " ('R', 'Packard', '101', 'CS-101'),\n",
              " ('R', 'Taylor', '3128', 'CS-190'),\n",
              " ('T', 'Packard', '101', 'CS-101'),\n",
              " ('T', 'Taylor', '3128', 'CS-190'),\n",
              " ('W', 'Watson', '100', 'CS-319'),\n",
              " ('W', 'Packard', '101', 'CS-101'),\n",
              " ('W', 'Watson', '120', 'CS-315'),\n",
              " ('W', 'Taylor', '3128', 'CS-190'),\n",
              " ('W', 'Painter', '514', 'BIO-101')]"
            ]
          },
          "execution_count": 188,
          "metadata": {},
          "output_type": "execute_result"
        }
      ],
      "source": [
        "%%sql\n",
        "select ts.day, s.building, s.room_number, s.course_id \n",
        "from time_slot as ts, section as s\n",
        "where s.time_slot_id = ts.time_slot_id\n",
        "group by ts.day,s.room_number"
      ]
    },
    {
      "attachments": {},
      "cell_type": "markdown",
      "metadata": {
        "id": "mDHjCMT_xg8G"
      },
      "source": [
        "### 47. Calculate the budget given to each course."
      ]
    },
    {
      "cell_type": "code",
      "execution_count": 189,
      "metadata": {
        "colab": {
          "base_uri": "https://localhost:8080/",
          "height": 225
        },
        "id": "HBGz_6J3U18s",
        "outputId": "2d9a3914-4440-4ee8-e70e-7b40ef7c6f77"
      },
      "outputs": [
        {
          "name": "stdout",
          "output_type": "stream",
          "text": [
            " * sqlite:///university.db\n",
            "Done.\n"
          ]
        },
        {
          "data": {
            "text/html": [
              "<table>\n",
              "    <tr>\n",
              "        <th>dept_name</th>\n",
              "        <th>course_id</th>\n",
              "        <th>budget</th>\n",
              "    </tr>\n",
              "    <tr>\n",
              "        <td>Biology</td>\n",
              "        <td>BIO-101</td>\n",
              "        <td>92000</td>\n",
              "    </tr>\n",
              "    <tr>\n",
              "        <td>Comp. Sci.</td>\n",
              "        <td>CS-101</td>\n",
              "        <td>102000</td>\n",
              "    </tr>\n",
              "    <tr>\n",
              "        <td>Elec. Eng.</td>\n",
              "        <td>EE-181</td>\n",
              "        <td>87000</td>\n",
              "    </tr>\n",
              "    <tr>\n",
              "        <td>Finance</td>\n",
              "        <td>FIN-201</td>\n",
              "        <td>122000</td>\n",
              "    </tr>\n",
              "    <tr>\n",
              "        <td>History</td>\n",
              "        <td>HIS-351</td>\n",
              "        <td>52000</td>\n",
              "    </tr>\n",
              "    <tr>\n",
              "        <td>Music</td>\n",
              "        <td>MU-199</td>\n",
              "        <td>82000</td>\n",
              "    </tr>\n",
              "    <tr>\n",
              "        <td>Physics</td>\n",
              "        <td>PHY-101</td>\n",
              "        <td>72000</td>\n",
              "    </tr>\n",
              "</table>"
            ],
            "text/plain": [
              "[('Biology', 'BIO-101', 92000),\n",
              " ('Comp. Sci.', 'CS-101', 102000),\n",
              " ('Elec. Eng.', 'EE-181', 87000),\n",
              " ('Finance', 'FIN-201', 122000),\n",
              " ('History', 'HIS-351', 52000),\n",
              " ('Music', 'MU-199', 82000),\n",
              " ('Physics', 'PHY-101', 72000)]"
            ]
          },
          "execution_count": 189,
          "metadata": {},
          "output_type": "execute_result"
        }
      ],
      "source": [
        "%%sql\n",
        "select d.dept_name, c.course_id, d.budget\n",
        "from course as c, department as d\n",
        "where d.dept_name = c.dept_name\n",
        "group by d.dept_name"
      ]
    },
    {
      "attachments": {},
      "cell_type": "markdown",
      "metadata": {
        "id": "qDicXUvBd7pg"
      },
      "source": [
        "### 48. Find the average salary that's distributed to teachers for each course and sort them in descending order"
      ]
    },
    {
      "cell_type": "code",
      "execution_count": 190,
      "metadata": {
        "colab": {
          "base_uri": "https://localhost:8080/",
          "height": 332
        },
        "id": "yS7Wf53NYghx",
        "outputId": "f6e31bce-5670-4ee1-be58-9c9d2d472e8c"
      },
      "outputs": [
        {
          "name": "stdout",
          "output_type": "stream",
          "text": [
            " * sqlite:///university.db\n",
            "Done.\n"
          ]
        },
        {
          "data": {
            "text/html": [
              "<table>\n",
              "    <tr>\n",
              "        <th>course_name</th>\n",
              "        <th>avg_salary</th>\n",
              "    </tr>\n",
              "    <tr>\n",
              "        <td>Investment Banking</td>\n",
              "        <td>99000.0</td>\n",
              "    </tr>\n",
              "    <tr>\n",
              "        <td>Intro. to Digital Systems</td>\n",
              "        <td>96800.0</td>\n",
              "    </tr>\n",
              "    <tr>\n",
              "        <td>Physical Principles</td>\n",
              "        <td>95000.0</td>\n",
              "    </tr>\n",
              "    <tr>\n",
              "        <td>Game Design</td>\n",
              "        <td>92000.0</td>\n",
              "    </tr>\n",
              "    <tr>\n",
              "        <td>Image Processing</td>\n",
              "        <td>91375.0</td>\n",
              "    </tr>\n",
              "    <tr>\n",
              "        <td>Intro. to Biology</td>\n",
              "        <td>87120.0</td>\n",
              "    </tr>\n",
              "    <tr>\n",
              "        <td>Genetics</td>\n",
              "        <td>87120.0</td>\n",
              "    </tr>\n",
              "    <tr>\n",
              "        <td>Intro. to Computer Science</td>\n",
              "        <td>84700.0</td>\n",
              "    </tr>\n",
              "    <tr>\n",
              "        <td>Robotics</td>\n",
              "        <td>78650.0</td>\n",
              "    </tr>\n",
              "    <tr>\n",
              "        <td>Database System Concepts</td>\n",
              "        <td>78650.0</td>\n",
              "    </tr>\n",
              "    <tr>\n",
              "        <td>World History</td>\n",
              "        <td>72600.0</td>\n",
              "    </tr>\n",
              "    <tr>\n",
              "        <td>Music Video Production</td>\n",
              "        <td>48400.0</td>\n",
              "    </tr>\n",
              "</table>"
            ],
            "text/plain": [
              "[('Investment Banking', 99000.0),\n",
              " ('Intro. to Digital Systems', 96800.0),\n",
              " ('Physical Principles', 95000.0),\n",
              " ('Game Design', 92000.0),\n",
              " ('Image Processing', 91375.0),\n",
              " ('Intro. to Biology', 87120.0),\n",
              " ('Genetics', 87120.0),\n",
              " ('Intro. to Computer Science', 84700.0),\n",
              " ('Robotics', 78650.0),\n",
              " ('Database System Concepts', 78650.0),\n",
              " ('World History', 72600.0),\n",
              " ('Music Video Production', 48400.0)]"
            ]
          },
          "execution_count": 190,
          "metadata": {},
          "output_type": "execute_result"
        }
      ],
      "source": [
        "%%sql\n",
        "select c.title as 'course_name', avg(i.salary) as 'avg_salary' \n",
        "from course as c, instructor as i, teaches as t\n",
        "where c.course_id = t.course_id and t.ID = i.ID\n",
        "group by  course_name\n",
        "order by avg_salary desc\n",
        "\n",
        "/*\n",
        "%%sql\n",
        "with tcd as (\n",
        "\tselect ID,title\n",
        "\tfrom teaches as t, course as c\n",
        "\twhere t.course_id = c.course_id)\n",
        "\n",
        "select tcd.title as 'course_name', avg(i.salary) as 'avg_salary' \n",
        "from instructor as i,tcd\n",
        "where tcd.ID = i.ID\n",
        "group by  course_name\n",
        "order by avg_salary desc\n",
        "*/"
      ]
    },
    {
      "attachments": {},
      "cell_type": "markdown",
      "metadata": {
        "id": "QZcLNv0VwARr"
      },
      "source": [
        "### 49. Find the average duration of classes for each course id"
      ]
    },
    {
      "cell_type": "code",
      "execution_count": 191,
      "metadata": {
        "colab": {
          "base_uri": "https://localhost:8080/",
          "height": 332
        },
        "id": "DtAJmEO3iDMc",
        "outputId": "3c1b483f-ca97-4a80-ad88-05ed41257649"
      },
      "outputs": [
        {
          "name": "stdout",
          "output_type": "stream",
          "text": [
            " * sqlite:///university.db\n",
            "Done.\n"
          ]
        },
        {
          "data": {
            "text/html": [
              "<table>\n",
              "    <tr>\n",
              "        <th>course_id</th>\n",
              "        <th>avg(duration)</th>\n",
              "    </tr>\n",
              "    <tr>\n",
              "        <td>BIO-101</td>\n",
              "        <td>50.0</td>\n",
              "    </tr>\n",
              "    <tr>\n",
              "        <td>BIO-301</td>\n",
              "        <td>50.0</td>\n",
              "    </tr>\n",
              "    <tr>\n",
              "        <td>CS-101</td>\n",
              "        <td>20.0</td>\n",
              "    </tr>\n",
              "    <tr>\n",
              "        <td>CS-190</td>\n",
              "        <td>36.0</td>\n",
              "    </tr>\n",
              "    <tr>\n",
              "        <td>CS-315</td>\n",
              "        <td>50.0</td>\n",
              "    </tr>\n",
              "    <tr>\n",
              "        <td>CS-319</td>\n",
              "        <td>50.0</td>\n",
              "    </tr>\n",
              "    <tr>\n",
              "        <td>CS-347</td>\n",
              "        <td>50.0</td>\n",
              "    </tr>\n",
              "    <tr>\n",
              "        <td>EE-181</td>\n",
              "        <td>50.0</td>\n",
              "    </tr>\n",
              "    <tr>\n",
              "        <td>FIN-201</td>\n",
              "        <td>50.0</td>\n",
              "    </tr>\n",
              "    <tr>\n",
              "        <td>HIS-351</td>\n",
              "        <td>50.0</td>\n",
              "    </tr>\n",
              "    <tr>\n",
              "        <td>MU-199</td>\n",
              "        <td>50.0</td>\n",
              "    </tr>\n",
              "    <tr>\n",
              "        <td>PHY-101</td>\n",
              "        <td>50.0</td>\n",
              "    </tr>\n",
              "</table>"
            ],
            "text/plain": [
              "[('BIO-101', 50.0),\n",
              " ('BIO-301', 50.0),\n",
              " ('CS-101', 20.0),\n",
              " ('CS-190', 36.0),\n",
              " ('CS-315', 50.0),\n",
              " ('CS-319', 50.0),\n",
              " ('CS-347', 50.0),\n",
              " ('EE-181', 50.0),\n",
              " ('FIN-201', 50.0),\n",
              " ('HIS-351', 50.0),\n",
              " ('MU-199', 50.0),\n",
              " ('PHY-101', 50.0)]"
            ]
          },
          "execution_count": 191,
          "metadata": {},
          "output_type": "execute_result"
        }
      ],
      "source": [
        "%%sql\n",
        "select s.course_id, avg(ts.end_min-ts.start_min) as 'avg(duration)'\n",
        "from time_slot as ts, section as s\n",
        "where ts.time_slot_id = s.time_slot_id\n",
        "group by s.course_id"
      ]
    },
    {
      "attachments": {},
      "cell_type": "markdown",
      "metadata": {
        "id": "sohEhLu8eprY"
      },
      "source": [
        "### 50. Get the name of the instructor with highest salary from each department."
      ]
    },
    {
      "cell_type": "code",
      "execution_count": 192,
      "metadata": {
        "colab": {
          "base_uri": "https://localhost:8080/",
          "height": 225
        },
        "id": "tKNNIMGBi_zy",
        "outputId": "48acb9ae-24ed-474c-e301-3ae5823a4a12"
      },
      "outputs": [
        {
          "name": "stdout",
          "output_type": "stream",
          "text": [
            " * sqlite:///university.db\n",
            "Done.\n"
          ]
        },
        {
          "data": {
            "text/html": [
              "<table>\n",
              "    <tr>\n",
              "        <th>dept_name</th>\n",
              "        <th>name</th>\n",
              "        <th>max(i.salary)</th>\n",
              "    </tr>\n",
              "    <tr>\n",
              "        <td>Biology</td>\n",
              "        <td>Crick</td>\n",
              "        <td>87120</td>\n",
              "    </tr>\n",
              "    <tr>\n",
              "        <td>Comp. Sci.</td>\n",
              "        <td>Brandt</td>\n",
              "        <td>92000</td>\n",
              "    </tr>\n",
              "    <tr>\n",
              "        <td>Elec. Eng.</td>\n",
              "        <td>Kim</td>\n",
              "        <td>96800</td>\n",
              "    </tr>\n",
              "    <tr>\n",
              "        <td>Finance</td>\n",
              "        <td>Wu</td>\n",
              "        <td>99000</td>\n",
              "    </tr>\n",
              "    <tr>\n",
              "        <td>History</td>\n",
              "        <td>Califieri</td>\n",
              "        <td>75020</td>\n",
              "    </tr>\n",
              "    <tr>\n",
              "        <td>Music</td>\n",
              "        <td>Mozart</td>\n",
              "        <td>48400</td>\n",
              "    </tr>\n",
              "    <tr>\n",
              "        <td>Physics</td>\n",
              "        <td>Gold</td>\n",
              "        <td>95700</td>\n",
              "    </tr>\n",
              "</table>"
            ],
            "text/plain": [
              "[('Biology', 'Crick', 87120),\n",
              " ('Comp. Sci.', 'Brandt', 92000),\n",
              " ('Elec. Eng.', 'Kim', 96800),\n",
              " ('Finance', 'Wu', 99000),\n",
              " ('History', 'Califieri', 75020),\n",
              " ('Music', 'Mozart', 48400),\n",
              " ('Physics', 'Gold', 95700)]"
            ]
          },
          "execution_count": 192,
          "metadata": {},
          "output_type": "execute_result"
        }
      ],
      "source": [
        "%%sql\n",
        "select d.dept_name, i.name, max(i.salary)\n",
        "from department as d, instructor as i\n",
        "where d.dept_name = i.dept_name\n",
        "group by d.dept_name"
      ]
    },
    {
      "attachments": {},
      "cell_type": "markdown",
      "metadata": {
        "id": "Bqxo50zyOJIi"
      },
      "source": [
        "### 51. Find out the amount that can be equally distributed to each course in the department from department budget"
      ]
    },
    {
      "cell_type": "code",
      "execution_count": 193,
      "metadata": {
        "colab": {
          "base_uri": "https://localhost:8080/",
          "height": 353
        },
        "id": "35u8sSzfjr3f",
        "outputId": "eb44ab3d-5ed3-496c-9707-ee9268068ab8"
      },
      "outputs": [
        {
          "name": "stdout",
          "output_type": "stream",
          "text": [
            " * sqlite:///university.db\n",
            "Done.\n"
          ]
        },
        {
          "data": {
            "text/html": [
              "<table>\n",
              "    <tr>\n",
              "        <th>title</th>\n",
              "        <th>ditributed_budget</th>\n",
              "    </tr>\n",
              "    <tr>\n",
              "        <td>Intro. to Biology</td>\n",
              "        <td>30666</td>\n",
              "    </tr>\n",
              "    <tr>\n",
              "        <td>Genetics</td>\n",
              "        <td>30666</td>\n",
              "    </tr>\n",
              "    <tr>\n",
              "        <td>Computational Biology</td>\n",
              "        <td>30666</td>\n",
              "    </tr>\n",
              "    <tr>\n",
              "        <td>Intro. to Computer Science</td>\n",
              "        <td>20400</td>\n",
              "    </tr>\n",
              "    <tr>\n",
              "        <td>Game Design</td>\n",
              "        <td>20400</td>\n",
              "    </tr>\n",
              "    <tr>\n",
              "        <td>Robotics</td>\n",
              "        <td>20400</td>\n",
              "    </tr>\n",
              "    <tr>\n",
              "        <td>Image Processing</td>\n",
              "        <td>20400</td>\n",
              "    </tr>\n",
              "    <tr>\n",
              "        <td>Database System Concepts</td>\n",
              "        <td>20400</td>\n",
              "    </tr>\n",
              "    <tr>\n",
              "        <td>Intro. to Digital Systems</td>\n",
              "        <td>87000</td>\n",
              "    </tr>\n",
              "    <tr>\n",
              "        <td>Investment Banking</td>\n",
              "        <td>122000</td>\n",
              "    </tr>\n",
              "    <tr>\n",
              "        <td>World History</td>\n",
              "        <td>52000</td>\n",
              "    </tr>\n",
              "    <tr>\n",
              "        <td>Music Video Production</td>\n",
              "        <td>82000</td>\n",
              "    </tr>\n",
              "    <tr>\n",
              "        <td>Physical Principles</td>\n",
              "        <td>72000</td>\n",
              "    </tr>\n",
              "</table>"
            ],
            "text/plain": [
              "[('Intro. to Biology', 30666),\n",
              " ('Genetics', 30666),\n",
              " ('Computational Biology', 30666),\n",
              " ('Intro. to Computer Science', 20400),\n",
              " ('Game Design', 20400),\n",
              " ('Robotics', 20400),\n",
              " ('Image Processing', 20400),\n",
              " ('Database System Concepts', 20400),\n",
              " ('Intro. to Digital Systems', 87000),\n",
              " ('Investment Banking', 122000),\n",
              " ('World History', 52000),\n",
              " ('Music Video Production', 82000),\n",
              " ('Physical Principles', 72000)]"
            ]
          },
          "execution_count": 193,
          "metadata": {},
          "output_type": "execute_result"
        }
      ],
      "source": [
        "%%sql\n",
        "with course_dept_data as\n",
        "   (select *\n",
        "   from course\n",
        "   join department\n",
        "   on course.dept_name=department.dept_name)\n",
        "\n",
        "\n",
        " select title, budget/course_count as ditributed_budget \n",
        " from course_dept_data as cdd\n",
        " join (\n",
        "   select dept_name, count(course_id) as course_count  \n",
        "   from course_dept_data\n",
        "   group by dept_name\n",
        " ) as dcc\n",
        " on cdd.dept_name=dcc.dept_name\n",
        "\n",
        " /*\n",
        " %%sql\n",
        "\n",
        "select title, budget/course_count as ditributed_budget \n",
        " from\n",
        "(select *\n",
        "   from course\n",
        "   join department\n",
        "   on course.dept_name=department.dept_name) as cdd,\n",
        "   \n",
        "(select dept_name, count(course_id) as course_count  \n",
        "   from (select *\n",
        "   from course\n",
        "   join department\n",
        "   on course.dept_name=department.dept_name)\n",
        "   group by dept_name) as dcc\n",
        "\n",
        "where cdd.dept_name=dcc.dept_name  \n",
        " */"
      ]
    },
    {
      "attachments": {},
      "cell_type": "markdown",
      "metadata": {
        "id": "quP7Z0SF08oB"
      },
      "source": [
        "### 52. Get the sum of the total credits of students that is dealt by the instructors along with their names "
      ]
    },
    {
      "cell_type": "code",
      "execution_count": 194,
      "metadata": {
        "colab": {
          "base_uri": "https://localhost:8080/",
          "height": 203
        },
        "id": "g4B35wpZ5D4S",
        "outputId": "3fd383ad-ee23-4718-f339-95002981fa04"
      },
      "outputs": [
        {
          "name": "stdout",
          "output_type": "stream",
          "text": [
            " * sqlite:///university.db\n",
            "Done.\n"
          ]
        },
        {
          "data": {
            "text/html": [
              "<table>\n",
              "    <tr>\n",
              "        <th>name</th>\n",
              "        <th>sum_of_credits</th>\n",
              "    </tr>\n",
              "    <tr>\n",
              "        <td>Srinivasan</td>\n",
              "        <td>32</td>\n",
              "    </tr>\n",
              "    <tr>\n",
              "        <td>Einstein</td>\n",
              "        <td>102</td>\n",
              "    </tr>\n",
              "    <tr>\n",
              "        <td>Katz</td>\n",
              "        <td>160</td>\n",
              "    </tr>\n",
              "    <tr>\n",
              "        <td>Singh</td>\n",
              "        <td>110</td>\n",
              "    </tr>\n",
              "    <tr>\n",
              "        <td>Crick</td>\n",
              "        <td>120</td>\n",
              "    </tr>\n",
              "    <tr>\n",
              "        <td>Kim</td>\n",
              "        <td>158</td>\n",
              "    </tr>\n",
              "</table>"
            ],
            "text/plain": [
              "[('Srinivasan', 32),\n",
              " ('Einstein', 102),\n",
              " ('Katz', 160),\n",
              " ('Singh', 110),\n",
              " ('Crick', 120),\n",
              " ('Kim', 158)]"
            ]
          },
          "execution_count": 194,
          "metadata": {},
          "output_type": "execute_result"
        }
      ],
      "source": [
        "%%sql\n",
        "\n",
        "select i.name, tot_cred_data.sum_of_credits \n",
        "from\n",
        " (select   i_ID, sum(tot_cred) as sum_of_credits\n",
        " from (select * from student s,advisor a\n",
        "    where s.ID = a.s_ID)\n",
        " group by\n",
        "   i_ID) as tot_cred_data\n",
        "join\n",
        " instructor i\n",
        "on tot_cred_data.i_ID=i.ID\n",
        "\f\n"
      ]
    },
    {
      "attachments": {},
      "cell_type": "markdown",
      "metadata": {
        "id": "u-0ZWt3YO-qp"
      },
      "source": [
        "### 53. Perform division between student credits and department total credits"
      ]
    },
    {
      "cell_type": "code",
      "execution_count": 195,
      "metadata": {
        "colab": {
          "base_uri": "https://localhost:8080/",
          "height": 353
        },
        "id": "0c5M0d7y89Ti",
        "outputId": "0ddc3449-f4e7-4d73-c6c2-da64158263e0"
      },
      "outputs": [
        {
          "name": "stdout",
          "output_type": "stream",
          "text": [
            " * sqlite:///university.db\n",
            "Done.\n"
          ]
        },
        {
          "data": {
            "text/html": [
              "<table>\n",
              "    <tr>\n",
              "        <th>name</th>\n",
              "        <th>s.tot_cred/dc.dept_total_creds</th>\n",
              "    </tr>\n",
              "    <tr>\n",
              "        <td>Zhang</td>\n",
              "        <td>6</td>\n",
              "    </tr>\n",
              "    <tr>\n",
              "        <td>Shankar</td>\n",
              "        <td>1</td>\n",
              "    </tr>\n",
              "    <tr>\n",
              "        <td>Brandt</td>\n",
              "        <td>26</td>\n",
              "    </tr>\n",
              "    <tr>\n",
              "        <td>Chavez</td>\n",
              "        <td>36</td>\n",
              "    </tr>\n",
              "    <tr>\n",
              "        <td>Peltier</td>\n",
              "        <td>14</td>\n",
              "    </tr>\n",
              "    <tr>\n",
              "        <td>Levy</td>\n",
              "        <td>11</td>\n",
              "    </tr>\n",
              "    <tr>\n",
              "        <td>Williams</td>\n",
              "        <td>3</td>\n",
              "    </tr>\n",
              "    <tr>\n",
              "        <td>Sanchez</td>\n",
              "        <td>12</td>\n",
              "    </tr>\n",
              "    <tr>\n",
              "        <td>Snow</td>\n",
              "        <td>0</td>\n",
              "    </tr>\n",
              "    <tr>\n",
              "        <td>Brown</td>\n",
              "        <td>3</td>\n",
              "    </tr>\n",
              "    <tr>\n",
              "        <td>Aoi</td>\n",
              "        <td>20</td>\n",
              "    </tr>\n",
              "    <tr>\n",
              "        <td>Bourikas</td>\n",
              "        <td>32</td>\n",
              "    </tr>\n",
              "    <tr>\n",
              "        <td>Tanaka</td>\n",
              "        <td>10</td>\n",
              "    </tr>\n",
              "</table>"
            ],
            "text/plain": [
              "[('Zhang', 6),\n",
              " ('Shankar', 1),\n",
              " ('Brandt', 26),\n",
              " ('Chavez', 36),\n",
              " ('Peltier', 14),\n",
              " ('Levy', 11),\n",
              " ('Williams', 3),\n",
              " ('Sanchez', 12),\n",
              " ('Snow', 0),\n",
              " ('Brown', 3),\n",
              " ('Aoi', 20),\n",
              " ('Bourikas', 32),\n",
              " ('Tanaka', 10)]"
            ]
          },
          "execution_count": 195,
          "metadata": {},
          "output_type": "execute_result"
        }
      ],
      "source": [
        "%%sql\n",
        "select s.name, s.tot_cred/dc.dept_total_creds\n",
        "from student as s, (select dept_name, sum(credits) as dept_total_creds\n",
        "                    from course\n",
        "                    group by dept_name) as dc\n",
        "where s.dept_name = dc.dept_name"
      ]
    },
    {
      "attachments": {},
      "cell_type": "markdown",
      "metadata": {
        "id": "26ez9r1RuFT9"
      },
      "source": [
        "### 54. If the department budget was to be distributed among the buildings, how much amount can be allocated to each room in a building"
      ]
    },
    {
      "cell_type": "code",
      "execution_count": 196,
      "metadata": {
        "colab": {
          "base_uri": "https://localhost:8080/",
          "height": 161
        },
        "id": "agnZMcuXGQsS",
        "outputId": "b85fa348-eda2-4b0c-a6ef-b3059be6f9c7"
      },
      "outputs": [
        {
          "name": "stdout",
          "output_type": "stream",
          "text": [
            " * sqlite:///university.db\n",
            "Done.\n"
          ]
        },
        {
          "data": {
            "text/html": [
              "<table>\n",
              "    <tr>\n",
              "        <th>building</th>\n",
              "        <th>dbb.total_budget/brc.room_count</th>\n",
              "    </tr>\n",
              "    <tr>\n",
              "        <td>Packard</td>\n",
              "        <td>41000</td>\n",
              "    </tr>\n",
              "    <tr>\n",
              "        <td>Painter</td>\n",
              "        <td>87000</td>\n",
              "    </tr>\n",
              "    <tr>\n",
              "        <td>Taylor</td>\n",
              "        <td>94500</td>\n",
              "    </tr>\n",
              "    <tr>\n",
              "        <td>Watson</td>\n",
              "        <td>82000</td>\n",
              "    </tr>\n",
              "</table>"
            ],
            "text/plain": [
              "[('Packard', 41000), ('Painter', 87000), ('Taylor', 94500), ('Watson', 82000)]"
            ]
          },
          "execution_count": 196,
          "metadata": {},
          "output_type": "execute_result"
        }
      ],
      "source": [
        "%%sql\n",
        "with brc as (select building, count(room_number) as room_count\n",
        "             from classroom\n",
        "             group by building),\n",
        "     dbb as (select building, sum(budget) as total_budget\n",
        "             from department\n",
        "             group by building)\n",
        "\n",
        "select dbb.building, dbb.total_budget/brc.room_count\n",
        "from dbb\n",
        "join brc on dbb.building = brc.building\n"
      ]
    },
    {
      "attachments": {},
      "cell_type": "markdown",
      "metadata": {
        "id": "LOkBTpbxQ09f"
      },
      "source": [
        "### 55. Get the name of the building and room number that are occupied during mondays and tuesdays"
      ]
    },
    {
      "cell_type": "code",
      "execution_count": 197,
      "metadata": {
        "colab": {
          "base_uri": "https://localhost:8080/",
          "height": 374
        },
        "id": "RRge7ZouPqW2",
        "outputId": "8a44e5dc-40dd-446a-debf-1810b90da179"
      },
      "outputs": [
        {
          "name": "stdout",
          "output_type": "stream",
          "text": [
            " * sqlite:///university.db\n",
            "Done.\n"
          ]
        },
        {
          "data": {
            "text/html": [
              "<table>\n",
              "    <tr>\n",
              "        <th>day</th>\n",
              "        <th>building</th>\n",
              "        <th>room_number</th>\n",
              "    </tr>\n",
              "    <tr>\n",
              "        <td>M</td>\n",
              "        <td>Painter</td>\n",
              "        <td>514</td>\n",
              "    </tr>\n",
              "    <tr>\n",
              "        <td>M</td>\n",
              "        <td>Painter</td>\n",
              "        <td>514</td>\n",
              "    </tr>\n",
              "    <tr>\n",
              "        <td>T</td>\n",
              "        <td>Packard</td>\n",
              "        <td>101</td>\n",
              "    </tr>\n",
              "    <tr>\n",
              "        <td>T</td>\n",
              "        <td>Taylor</td>\n",
              "        <td>3128</td>\n",
              "    </tr>\n",
              "    <tr>\n",
              "        <td>M</td>\n",
              "        <td>Taylor</td>\n",
              "        <td>3128</td>\n",
              "    </tr>\n",
              "    <tr>\n",
              "        <td>M</td>\n",
              "        <td>Watson</td>\n",
              "        <td>120</td>\n",
              "    </tr>\n",
              "    <tr>\n",
              "        <td>M</td>\n",
              "        <td>Watson</td>\n",
              "        <td>100</td>\n",
              "    </tr>\n",
              "    <tr>\n",
              "        <td>M</td>\n",
              "        <td>Taylor</td>\n",
              "        <td>3128</td>\n",
              "    </tr>\n",
              "    <tr>\n",
              "        <td>M</td>\n",
              "        <td>Taylor</td>\n",
              "        <td>3128</td>\n",
              "    </tr>\n",
              "    <tr>\n",
              "        <td>M</td>\n",
              "        <td>Taylor</td>\n",
              "        <td>3128</td>\n",
              "    </tr>\n",
              "    <tr>\n",
              "        <td>M</td>\n",
              "        <td>Packard</td>\n",
              "        <td>101</td>\n",
              "    </tr>\n",
              "    <tr>\n",
              "        <td>M</td>\n",
              "        <td>Painter</td>\n",
              "        <td>514</td>\n",
              "    </tr>\n",
              "    <tr>\n",
              "        <td>M</td>\n",
              "        <td>Packard</td>\n",
              "        <td>101</td>\n",
              "    </tr>\n",
              "    <tr>\n",
              "        <td>M</td>\n",
              "        <td>Watson</td>\n",
              "        <td>100</td>\n",
              "    </tr>\n",
              "</table>"
            ],
            "text/plain": [
              "[('M', 'Painter', '514'),\n",
              " ('M', 'Painter', '514'),\n",
              " ('T', 'Packard', '101'),\n",
              " ('T', 'Taylor', '3128'),\n",
              " ('M', 'Taylor', '3128'),\n",
              " ('M', 'Watson', '120'),\n",
              " ('M', 'Watson', '100'),\n",
              " ('M', 'Taylor', '3128'),\n",
              " ('M', 'Taylor', '3128'),\n",
              " ('M', 'Taylor', '3128'),\n",
              " ('M', 'Packard', '101'),\n",
              " ('M', 'Painter', '514'),\n",
              " ('M', 'Packard', '101'),\n",
              " ('M', 'Watson', '100')]"
            ]
          },
          "execution_count": 197,
          "metadata": {},
          "output_type": "execute_result"
        }
      ],
      "source": [
        "%%sql\n",
        "select ts.day, s.building, s.room_number from section as s\n",
        "join time_slot as ts on s.time_slot_id = ts.time_slot_id\n",
        "where ts.day ='M' or ts.day = 'T'\n",
        "\n",
        "/*\n",
        "%%sql\n",
        "select ts.day, ts.time_slot_id, c.title from section as s\n",
        "join time_slot as ts on s.time_slot_id = ts.time_slot_id\n",
        "join course as c on c.course_id = s.course_id\n",
        "where ts.day ='M' or ts.day = 'T'\n",
        "*/"
      ]
    },
    {
      "attachments": {},
      "cell_type": "markdown",
      "metadata": {
        "id": "2_J_ePCr2vQM"
      },
      "source": [
        "<b>Congratulations !! You Have Just completed an assignment!!</b>\n",
        "\n",
        "![](data:image/jpeg;base64,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)\n"
      ]
    }
  ],
  "metadata": {
    "colab": {
      "provenance": []
    },
    "kernelspec": {
      "display_name": "Python 3 (ipykernel)",
      "language": "python",
      "name": "python3"
    },
    "language_info": {
      "codemirror_mode": {
        "name": "ipython",
        "version": 3
      },
      "file_extension": ".py",
      "mimetype": "text/x-python",
      "name": "python",
      "nbconvert_exporter": "python",
      "pygments_lexer": "ipython3",
      "version": "3.9.7"
    }
  },
  "nbformat": 4,
  "nbformat_minor": 0
}
