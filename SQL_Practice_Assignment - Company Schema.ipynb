{
  "cells": [
    {
      "attachments": {},
      "cell_type": "markdown",
      "metadata": {
        "id": "xmbsPpLxxGY0"
      },
      "source": [
        "![](https://assets.datacamp.com/production/course_13367/shields/original/shield_image_course_13367_20200118-1-cwkw1p?1579372751)"
      ]
    },
    {
      "attachments": {},
      "cell_type": "markdown",
      "metadata": {
        "id": "4Nk4bLtXX-0g"
      },
      "source": [
        "## DATABASE CREATION AND CONNECTION"
      ]
    },
    {
      "cell_type": "code",
      "execution_count": 1,
      "metadata": {
        "colab": {
          "base_uri": "https://localhost:8080/"
        },
        "id": "aLNeKDAkVj41",
        "outputId": "1c133e16-ae24-4c11-cdeb-0f0c9e370c7c"
      },
      "outputs": [
        {
          "name": "stdout",
          "output_type": "stream",
          "text": [
            "Looking in indexes: https://pypi.org/simple, https://us-python.pkg.dev/colab-wheels/public/simple/\n",
            "Collecting SQLAlchemy==1.4.46\n",
            "  Downloading SQLAlchemy-1.4.46-cp39-cp39-manylinux_2_5_x86_64.manylinux1_x86_64.manylinux_2_17_x86_64.manylinux2014_x86_64.whl (1.6 MB)\n",
            "\u001b[2K     \u001b[90m━━━━━━━━━━━━━━━━━━━━━━━━━━━━━━━━━━━━━━━━\u001b[0m \u001b[32m1.6/1.6 MB\u001b[0m \u001b[31m35.1 MB/s\u001b[0m eta \u001b[36m0:00:00\u001b[0m\n",
            "\u001b[?25hRequirement already satisfied: greenlet!=0.4.17 in /usr/local/lib/python3.9/dist-packages (from SQLAlchemy==1.4.46) (2.0.2)\n",
            "Installing collected packages: SQLAlchemy\n",
            "  Attempting uninstall: SQLAlchemy\n",
            "    Found existing installation: SQLAlchemy 2.0.9\n",
            "    Uninstalling SQLAlchemy-2.0.9:\n",
            "      Successfully uninstalled SQLAlchemy-2.0.9\n",
            "Successfully installed SQLAlchemy-1.4.46\n"
          ]
        }
      ],
      "source": [
        "!pip install SQLAlchemy==1.4.46"
      ]
    },
    {
      "attachments": {},
      "cell_type": "markdown",
      "metadata": {
        "id": "F0QFZWWHHg67"
      },
      "source": [
        "JUST RUN NEXT 4 CELLS"
      ]
    },
    {
      "cell_type": "code",
      "execution_count": 2,
      "metadata": {
        "id": "DYfcUFbOX5i5"
      },
      "outputs": [],
      "source": [
        "import sqlite3\n",
        "import pandas as pd"
      ]
    },
    {
      "cell_type": "code",
      "execution_count": 3,
      "metadata": {
        "id": "QA-0FSURYH6o"
      },
      "outputs": [],
      "source": [
        "# run this to create and connect to database\n",
        "connection = sqlite3.connect('cloud.db')"
      ]
    },
    {
      "cell_type": "code",
      "execution_count": 4,
      "metadata": {
        "id": "zcoBpKo3YKFX"
      },
      "outputs": [],
      "source": [
        "# load sql extension\n",
        "%load_ext sql"
      ]
    },
    {
      "cell_type": "code",
      "execution_count": 5,
      "metadata": {
        "id": "L0McB8YoYMAh"
      },
      "outputs": [],
      "source": [
        "# connecting to cloud.db\n",
        "%sql sqlite:///cloud.db"
      ]
    },
    {
      "attachments": {},
      "cell_type": "markdown",
      "metadata": {
        "id": "8ZfyuX5KYOyQ"
      },
      "source": [
        "## CREATING TABLES"
      ]
    },
    {
      "attachments": {},
      "cell_type": "markdown",
      "metadata": {
        "id": "Tk2zEMHvHt-i"
      },
      "source": [
        "JUST RUN NEXT 3 CELLS"
      ]
    },
    {
      "cell_type": "code",
      "execution_count": 6,
      "metadata": {
        "colab": {
          "base_uri": "https://localhost:8080/"
        },
        "id": "5PGIzOgYYN5C",
        "outputId": "f1e29fa4-d944-449c-ed5f-5d7d23681b27"
      },
      "outputs": [
        {
          "name": "stdout",
          "output_type": "stream",
          "text": [
            " * sqlite:///cloud.db\n",
            "Done.\n"
          ]
        },
        {
          "data": {
            "text/plain": [
              "[]"
            ]
          },
          "execution_count": 6,
          "metadata": {},
          "output_type": "execute_result"
        }
      ],
      "source": [
        "%%sql\n",
        "\n",
        "CREATE TABLE employee (\n",
        "  emp_id INT PRIMARY KEY,\n",
        "  first_name VARCHAR(40),\n",
        "  last_name VARCHAR(40),\n",
        "  birth_day DATE,\n",
        "  sex VARCHAR(1),\n",
        "  salary INT,\n",
        "  super_id INT,\n",
        "  branch_id INT,\n",
        "  FOREIGN KEY(super_id) REFERENCES employee(emp_id) ON DELETE SET NULL,\n",
        "  FOREIGN KEY(branch_id) REFERENCES branch(branch_id) ON DELETE SET NULL\n",
        ");"
      ]
    },
    {
      "cell_type": "code",
      "execution_count": 7,
      "metadata": {
        "colab": {
          "base_uri": "https://localhost:8080/"
        },
        "id": "8oc7H5c1YepL",
        "outputId": "ad6b1d4e-65c1-4dc5-d987-c958a8e5693c"
      },
      "outputs": [
        {
          "name": "stdout",
          "output_type": "stream",
          "text": [
            " * sqlite:///cloud.db\n",
            "Done.\n"
          ]
        },
        {
          "data": {
            "text/plain": [
              "[]"
            ]
          },
          "execution_count": 7,
          "metadata": {},
          "output_type": "execute_result"
        }
      ],
      "source": [
        "%%sql\n",
        "\n",
        "CREATE TABLE branch (\n",
        "  branch_id INT PRIMARY KEY,\n",
        "  branch_name VARCHAR(40),\n",
        "  mgr_id INT,\n",
        "  mgr_start_date DATE,\n",
        "  FOREIGN KEY(mgr_id) REFERENCES employee(emp_id) ON DELETE SET NULL\n",
        ");"
      ]
    },
    {
      "cell_type": "code",
      "execution_count": 8,
      "metadata": {
        "colab": {
          "base_uri": "https://localhost:8080/"
        },
        "id": "oI3vZ5txfD2_",
        "outputId": "4187a124-1423-474e-8050-ce11ed0dab4c"
      },
      "outputs": [
        {
          "name": "stdout",
          "output_type": "stream",
          "text": [
            " * sqlite:///cloud.db\n",
            "Done.\n",
            "Done.\n",
            "Done.\n"
          ]
        },
        {
          "data": {
            "text/plain": [
              "[]"
            ]
          },
          "execution_count": 8,
          "metadata": {},
          "output_type": "execute_result"
        }
      ],
      "source": [
        "%%sql\n",
        "\n",
        "CREATE TABLE client (\n",
        "  client_id INT PRIMARY KEY,\n",
        "  client_name VARCHAR(40),\n",
        "  branch_id INT,\n",
        "  FOREIGN KEY(branch_id) REFERENCES branch(branch_id) ON DELETE SET NULL\n",
        ");\n",
        "\n",
        "CREATE TABLE works_with (\n",
        "  emp_id INT,\n",
        "  client_id INT,\n",
        "  total_sales INT,\n",
        "  PRIMARY KEY(emp_id, client_id),\n",
        "  FOREIGN KEY(emp_id) REFERENCES employee(emp_id) ON DELETE CASCADE,\n",
        "  FOREIGN KEY(client_id) REFERENCES client(client_id) ON DELETE CASCADE\n",
        ");\n",
        "\n",
        "CREATE TABLE branch_supplier (\n",
        "  branch_id INT,\n",
        "  supplier_name VARCHAR(40),\n",
        "  supply_type VARCHAR(40),\n",
        "  PRIMARY KEY(branch_id, supplier_name),\n",
        "  FOREIGN KEY(branch_id) REFERENCES branch(branch_id) ON DELETE CASCADE\n",
        ");"
      ]
    },
    {
      "attachments": {},
      "cell_type": "markdown",
      "metadata": {
        "id": "lAr0g78d9ivP"
      },
      "source": [
        "# **`Company Schema`**"
      ]
    },
    {
      "attachments": {},
      "cell_type": "markdown",
      "metadata": {
        "id": "polQoxRD9MYt"
      },
      "source": [
        "\n",
        "\n",
        "![WhatsApp Image 2022-03-30 at 8.18.03 PM.jpeg](data:image/jpeg;base64,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)"
      ]
    },
    {
      "attachments": {},
      "cell_type": "markdown",
      "metadata": {
        "id": "wfMLMi7clsO_"
      },
      "source": [
        "## INSERTING THE DATA"
      ]
    },
    {
      "attachments": {},
      "cell_type": "markdown",
      "metadata": {
        "id": "nUo_nKwzH1Fb"
      },
      "source": [
        "JUST RUN NEXT CELL"
      ]
    },
    {
      "cell_type": "code",
      "execution_count": 9,
      "metadata": {
        "colab": {
          "base_uri": "https://localhost:8080/"
        },
        "id": "LcTbbwTXlVfV",
        "outputId": "2d8d9698-0af1-46c1-a752-924458aafa16"
      },
      "outputs": [
        {
          "name": "stdout",
          "output_type": "stream",
          "text": [
            " * sqlite:///cloud.db\n",
            "Done.\n",
            "1 rows affected.\n",
            "1 rows affected.\n",
            "1 rows affected.\n",
            "Done.\n",
            "1 rows affected.\n",
            "1 rows affected.\n",
            "1 rows affected.\n",
            "1 rows affected.\n",
            "1 rows affected.\n",
            "Done.\n",
            "1 rows affected.\n",
            "1 rows affected.\n",
            "1 rows affected.\n",
            "1 rows affected.\n",
            "Done.\n",
            "1 rows affected.\n",
            "1 rows affected.\n",
            "1 rows affected.\n",
            "1 rows affected.\n",
            "1 rows affected.\n",
            "1 rows affected.\n",
            "Done.\n",
            "1 rows affected.\n",
            "1 rows affected.\n",
            "1 rows affected.\n",
            "1 rows affected.\n",
            "1 rows affected.\n",
            "1 rows affected.\n",
            "Done.\n",
            "1 rows affected.\n",
            "1 rows affected.\n",
            "1 rows affected.\n",
            "1 rows affected.\n",
            "1 rows affected.\n",
            "1 rows affected.\n",
            "1 rows affected.\n",
            "1 rows affected.\n"
          ]
        },
        {
          "data": {
            "text/plain": [
              "[]"
            ]
          },
          "execution_count": 9,
          "metadata": {},
          "output_type": "execute_result"
        }
      ],
      "source": [
        "%%sql\n",
        "\n",
        "-- Corporate\n",
        "INSERT INTO employee VALUES(100, 'David', 'Wallace', '1967-11-17', 'M', 250000, NULL, NULL);\n",
        "\n",
        "INSERT INTO branch VALUES(1, 'Corporate', 100, '2006-02-09');\n",
        "\n",
        "UPDATE employee\n",
        "SET branch_id = 1\n",
        "WHERE emp_id = 100;\n",
        "\n",
        "INSERT INTO employee VALUES(101, 'Jan', 'Levinson', '1961-05-11', 'F', 110000, 100, 1);\n",
        "\n",
        "-- Scranton\n",
        "INSERT INTO employee VALUES(102, 'Michael', 'Scott', '1964-03-15', 'M', 75000, 100, NULL);\n",
        "\n",
        "INSERT INTO branch VALUES(2, 'Scranton', 102, '1992-04-06');\n",
        "\n",
        "UPDATE employee\n",
        "SET branch_id = 2\n",
        "WHERE emp_id = 102;\n",
        "\n",
        "INSERT INTO employee VALUES(103, 'Angela', 'Martin', '1971-06-25', 'F', 63000, 102, 2);\n",
        "INSERT INTO employee VALUES(104, 'Kelly', 'Kapoor', '1980-02-05', 'F', 55000, 102, 2);\n",
        "INSERT INTO employee VALUES(105, 'Stanley', 'Hudson', '1958-02-19', 'M', 69000, 102, 2);\n",
        "\n",
        "-- Stamford\n",
        "INSERT INTO employee VALUES(106, 'Josh', 'Porter', '1969-09-05', 'M', 78000, 100, NULL);\n",
        "\n",
        "INSERT INTO branch VALUES(3, 'Stamford', 106, '1998-02-13');\n",
        "\n",
        "UPDATE employee\n",
        "SET branch_id = 3\n",
        "WHERE emp_id = 106;\n",
        "\n",
        "INSERT INTO employee VALUES(107, 'Andy', 'Bernard', '1973-07-22', 'M', 65000, 106, 3);\n",
        "INSERT INTO employee VALUES(108, 'Jim', 'Halpert', '1978-10-01', 'M', 71000, 106, 3);\n",
        "\n",
        "\n",
        "-- BRANCH SUPPLIER\n",
        "INSERT INTO branch_supplier VALUES(2, 'Hammer Mill', 'Paper');\n",
        "INSERT INTO branch_supplier VALUES(2, 'Uni-ball', 'Writing Utensils');\n",
        "INSERT INTO branch_supplier VALUES(3, 'Patriot Paper', 'Paper');\n",
        "INSERT INTO branch_supplier VALUES(2, 'J.T. Forms & Labels', 'Custom Forms');\n",
        "INSERT INTO branch_supplier VALUES(3, 'Uni-ball', 'Writing Utensils');\n",
        "INSERT INTO branch_supplier VALUES(3, 'Hammer Mill', 'Paper');\n",
        "INSERT INTO branch_supplier VALUES(3, 'Stamford Lables', 'Custom Forms');\n",
        "\n",
        "-- CLIENT\n",
        "INSERT INTO client VALUES(400, 'Dunmore Highschool', 2);\n",
        "INSERT INTO client VALUES(401, 'Lackawana Country', 2);\n",
        "INSERT INTO client VALUES(402, 'FedEx', 3);\n",
        "INSERT INTO client VALUES(403, 'John Daly Law, LLC', 3);\n",
        "INSERT INTO client VALUES(404, 'Scranton Whitepages', 2);\n",
        "INSERT INTO client VALUES(405, 'Times Newspaper', 3);\n",
        "INSERT INTO client VALUES(406, 'FedEx', 2);\n",
        "\n",
        "-- WORKS_WITH\n",
        "INSERT INTO works_with VALUES(105, 400, 55000);\n",
        "INSERT INTO works_with VALUES(102, 401, 267000);\n",
        "INSERT INTO works_with VALUES(108, 402, 22500);\n",
        "INSERT INTO works_with VALUES(107, 403, 5000);\n",
        "INSERT INTO works_with VALUES(108, 403, 12000);\n",
        "INSERT INTO works_with VALUES(105, 404, 33000);\n",
        "INSERT INTO works_with VALUES(107, 405, 26000);\n",
        "INSERT INTO works_with VALUES(102, 406, 15000);\n",
        "INSERT INTO works_with VALUES(105, 406, 130000);"
      ]
    },
    {
      "cell_type": "code",
      "execution_count": 10,
      "metadata": {
        "colab": {
          "base_uri": "https://localhost:8080/",
          "height": 267
        },
        "id": "klO8H289l4Fr",
        "outputId": "579a2242-610f-4c77-8f59-72582c9c7749"
      },
      "outputs": [
        {
          "name": "stdout",
          "output_type": "stream",
          "text": [
            " * sqlite:///cloud.db\n",
            "Done.\n"
          ]
        },
        {
          "data": {
            "text/html": [
              "<table>\n",
              "    <tr>\n",
              "        <th>emp_id</th>\n",
              "        <th>first_name</th>\n",
              "        <th>last_name</th>\n",
              "        <th>birth_day</th>\n",
              "        <th>sex</th>\n",
              "        <th>salary</th>\n",
              "        <th>super_id</th>\n",
              "        <th>branch_id</th>\n",
              "    </tr>\n",
              "    <tr>\n",
              "        <td>100</td>\n",
              "        <td>David</td>\n",
              "        <td>Wallace</td>\n",
              "        <td>1967-11-17</td>\n",
              "        <td>M</td>\n",
              "        <td>250000</td>\n",
              "        <td>None</td>\n",
              "        <td>1</td>\n",
              "    </tr>\n",
              "    <tr>\n",
              "        <td>101</td>\n",
              "        <td>Jan</td>\n",
              "        <td>Levinson</td>\n",
              "        <td>1961-05-11</td>\n",
              "        <td>F</td>\n",
              "        <td>110000</td>\n",
              "        <td>100</td>\n",
              "        <td>1</td>\n",
              "    </tr>\n",
              "    <tr>\n",
              "        <td>102</td>\n",
              "        <td>Michael</td>\n",
              "        <td>Scott</td>\n",
              "        <td>1964-03-15</td>\n",
              "        <td>M</td>\n",
              "        <td>75000</td>\n",
              "        <td>100</td>\n",
              "        <td>2</td>\n",
              "    </tr>\n",
              "    <tr>\n",
              "        <td>103</td>\n",
              "        <td>Angela</td>\n",
              "        <td>Martin</td>\n",
              "        <td>1971-06-25</td>\n",
              "        <td>F</td>\n",
              "        <td>63000</td>\n",
              "        <td>102</td>\n",
              "        <td>2</td>\n",
              "    </tr>\n",
              "    <tr>\n",
              "        <td>104</td>\n",
              "        <td>Kelly</td>\n",
              "        <td>Kapoor</td>\n",
              "        <td>1980-02-05</td>\n",
              "        <td>F</td>\n",
              "        <td>55000</td>\n",
              "        <td>102</td>\n",
              "        <td>2</td>\n",
              "    </tr>\n",
              "    <tr>\n",
              "        <td>105</td>\n",
              "        <td>Stanley</td>\n",
              "        <td>Hudson</td>\n",
              "        <td>1958-02-19</td>\n",
              "        <td>M</td>\n",
              "        <td>69000</td>\n",
              "        <td>102</td>\n",
              "        <td>2</td>\n",
              "    </tr>\n",
              "    <tr>\n",
              "        <td>106</td>\n",
              "        <td>Josh</td>\n",
              "        <td>Porter</td>\n",
              "        <td>1969-09-05</td>\n",
              "        <td>M</td>\n",
              "        <td>78000</td>\n",
              "        <td>100</td>\n",
              "        <td>3</td>\n",
              "    </tr>\n",
              "    <tr>\n",
              "        <td>107</td>\n",
              "        <td>Andy</td>\n",
              "        <td>Bernard</td>\n",
              "        <td>1973-07-22</td>\n",
              "        <td>M</td>\n",
              "        <td>65000</td>\n",
              "        <td>106</td>\n",
              "        <td>3</td>\n",
              "    </tr>\n",
              "    <tr>\n",
              "        <td>108</td>\n",
              "        <td>Jim</td>\n",
              "        <td>Halpert</td>\n",
              "        <td>1978-10-01</td>\n",
              "        <td>M</td>\n",
              "        <td>71000</td>\n",
              "        <td>106</td>\n",
              "        <td>3</td>\n",
              "    </tr>\n",
              "</table>"
            ],
            "text/plain": [
              "[(100, 'David', 'Wallace', '1967-11-17', 'M', 250000, None, 1),\n",
              " (101, 'Jan', 'Levinson', '1961-05-11', 'F', 110000, 100, 1),\n",
              " (102, 'Michael', 'Scott', '1964-03-15', 'M', 75000, 100, 2),\n",
              " (103, 'Angela', 'Martin', '1971-06-25', 'F', 63000, 102, 2),\n",
              " (104, 'Kelly', 'Kapoor', '1980-02-05', 'F', 55000, 102, 2),\n",
              " (105, 'Stanley', 'Hudson', '1958-02-19', 'M', 69000, 102, 2),\n",
              " (106, 'Josh', 'Porter', '1969-09-05', 'M', 78000, 100, 3),\n",
              " (107, 'Andy', 'Bernard', '1973-07-22', 'M', 65000, 106, 3),\n",
              " (108, 'Jim', 'Halpert', '1978-10-01', 'M', 71000, 106, 3)]"
            ]
          },
          "execution_count": 10,
          "metadata": {},
          "output_type": "execute_result"
        }
      ],
      "source": [
        "%%sql\n",
        "\n",
        "select * from employee;"
      ]
    },
    {
      "cell_type": "code",
      "execution_count": 11,
      "metadata": {
        "colab": {
          "base_uri": "https://localhost:8080/",
          "height": 139
        },
        "id": "vCQQfhgdmBfI",
        "outputId": "c9eab4de-0b2d-46c4-9058-80a8443ee67a"
      },
      "outputs": [
        {
          "name": "stdout",
          "output_type": "stream",
          "text": [
            " * sqlite:///cloud.db\n",
            "Done.\n"
          ]
        },
        {
          "data": {
            "text/html": [
              "<table>\n",
              "    <tr>\n",
              "        <th>branch_id</th>\n",
              "        <th>branch_name</th>\n",
              "        <th>mgr_id</th>\n",
              "        <th>mgr_start_date</th>\n",
              "    </tr>\n",
              "    <tr>\n",
              "        <td>1</td>\n",
              "        <td>Corporate</td>\n",
              "        <td>100</td>\n",
              "        <td>2006-02-09</td>\n",
              "    </tr>\n",
              "    <tr>\n",
              "        <td>2</td>\n",
              "        <td>Scranton</td>\n",
              "        <td>102</td>\n",
              "        <td>1992-04-06</td>\n",
              "    </tr>\n",
              "    <tr>\n",
              "        <td>3</td>\n",
              "        <td>Stamford</td>\n",
              "        <td>106</td>\n",
              "        <td>1998-02-13</td>\n",
              "    </tr>\n",
              "</table>"
            ],
            "text/plain": [
              "[(1, 'Corporate', 100, '2006-02-09'),\n",
              " (2, 'Scranton', 102, '1992-04-06'),\n",
              " (3, 'Stamford', 106, '1998-02-13')]"
            ]
          },
          "execution_count": 11,
          "metadata": {},
          "output_type": "execute_result"
        }
      ],
      "source": [
        "%%sql\n",
        "\n",
        "select * from branch;"
      ]
    },
    {
      "cell_type": "code",
      "execution_count": 12,
      "metadata": {
        "colab": {
          "base_uri": "https://localhost:8080/",
          "height": 225
        },
        "id": "jgYOibRPrYuo",
        "outputId": "6d3ccf3f-6e50-4515-fd3c-8de170c2ae7d"
      },
      "outputs": [
        {
          "name": "stdout",
          "output_type": "stream",
          "text": [
            " * sqlite:///cloud.db\n",
            "Done.\n"
          ]
        },
        {
          "data": {
            "text/html": [
              "<table>\n",
              "    <tr>\n",
              "        <th>client_id</th>\n",
              "        <th>client_name</th>\n",
              "        <th>branch_id</th>\n",
              "    </tr>\n",
              "    <tr>\n",
              "        <td>400</td>\n",
              "        <td>Dunmore Highschool</td>\n",
              "        <td>2</td>\n",
              "    </tr>\n",
              "    <tr>\n",
              "        <td>401</td>\n",
              "        <td>Lackawana Country</td>\n",
              "        <td>2</td>\n",
              "    </tr>\n",
              "    <tr>\n",
              "        <td>402</td>\n",
              "        <td>FedEx</td>\n",
              "        <td>3</td>\n",
              "    </tr>\n",
              "    <tr>\n",
              "        <td>403</td>\n",
              "        <td>John Daly Law, LLC</td>\n",
              "        <td>3</td>\n",
              "    </tr>\n",
              "    <tr>\n",
              "        <td>404</td>\n",
              "        <td>Scranton Whitepages</td>\n",
              "        <td>2</td>\n",
              "    </tr>\n",
              "    <tr>\n",
              "        <td>405</td>\n",
              "        <td>Times Newspaper</td>\n",
              "        <td>3</td>\n",
              "    </tr>\n",
              "    <tr>\n",
              "        <td>406</td>\n",
              "        <td>FedEx</td>\n",
              "        <td>2</td>\n",
              "    </tr>\n",
              "</table>"
            ],
            "text/plain": [
              "[(400, 'Dunmore Highschool', 2),\n",
              " (401, 'Lackawana Country', 2),\n",
              " (402, 'FedEx', 3),\n",
              " (403, 'John Daly Law, LLC', 3),\n",
              " (404, 'Scranton Whitepages', 2),\n",
              " (405, 'Times Newspaper', 3),\n",
              " (406, 'FedEx', 2)]"
            ]
          },
          "execution_count": 12,
          "metadata": {},
          "output_type": "execute_result"
        }
      ],
      "source": [
        "%%sql\n",
        "\n",
        "select * from client;"
      ]
    },
    {
      "cell_type": "code",
      "execution_count": 13,
      "metadata": {
        "colab": {
          "base_uri": "https://localhost:8080/",
          "height": 267
        },
        "id": "FxBExcyCraND",
        "outputId": "5106a94b-a96e-488b-983b-7780284aa63f"
      },
      "outputs": [
        {
          "name": "stdout",
          "output_type": "stream",
          "text": [
            " * sqlite:///cloud.db\n",
            "Done.\n"
          ]
        },
        {
          "data": {
            "text/html": [
              "<table>\n",
              "    <tr>\n",
              "        <th>emp_id</th>\n",
              "        <th>client_id</th>\n",
              "        <th>total_sales</th>\n",
              "    </tr>\n",
              "    <tr>\n",
              "        <td>105</td>\n",
              "        <td>400</td>\n",
              "        <td>55000</td>\n",
              "    </tr>\n",
              "    <tr>\n",
              "        <td>102</td>\n",
              "        <td>401</td>\n",
              "        <td>267000</td>\n",
              "    </tr>\n",
              "    <tr>\n",
              "        <td>108</td>\n",
              "        <td>402</td>\n",
              "        <td>22500</td>\n",
              "    </tr>\n",
              "    <tr>\n",
              "        <td>107</td>\n",
              "        <td>403</td>\n",
              "        <td>5000</td>\n",
              "    </tr>\n",
              "    <tr>\n",
              "        <td>108</td>\n",
              "        <td>403</td>\n",
              "        <td>12000</td>\n",
              "    </tr>\n",
              "    <tr>\n",
              "        <td>105</td>\n",
              "        <td>404</td>\n",
              "        <td>33000</td>\n",
              "    </tr>\n",
              "    <tr>\n",
              "        <td>107</td>\n",
              "        <td>405</td>\n",
              "        <td>26000</td>\n",
              "    </tr>\n",
              "    <tr>\n",
              "        <td>102</td>\n",
              "        <td>406</td>\n",
              "        <td>15000</td>\n",
              "    </tr>\n",
              "    <tr>\n",
              "        <td>105</td>\n",
              "        <td>406</td>\n",
              "        <td>130000</td>\n",
              "    </tr>\n",
              "</table>"
            ],
            "text/plain": [
              "[(105, 400, 55000),\n",
              " (102, 401, 267000),\n",
              " (108, 402, 22500),\n",
              " (107, 403, 5000),\n",
              " (108, 403, 12000),\n",
              " (105, 404, 33000),\n",
              " (107, 405, 26000),\n",
              " (102, 406, 15000),\n",
              " (105, 406, 130000)]"
            ]
          },
          "execution_count": 13,
          "metadata": {},
          "output_type": "execute_result"
        }
      ],
      "source": [
        "%%sql\n",
        "\n",
        "select * from works_with;"
      ]
    },
    {
      "cell_type": "code",
      "execution_count": 14,
      "metadata": {
        "colab": {
          "base_uri": "https://localhost:8080/",
          "height": 225
        },
        "id": "BRIRVnS0rdrH",
        "outputId": "6a813673-c0ef-43d8-cf07-def687807dfb"
      },
      "outputs": [
        {
          "name": "stdout",
          "output_type": "stream",
          "text": [
            " * sqlite:///cloud.db\n",
            "Done.\n"
          ]
        },
        {
          "data": {
            "text/html": [
              "<table>\n",
              "    <tr>\n",
              "        <th>branch_id</th>\n",
              "        <th>supplier_name</th>\n",
              "        <th>supply_type</th>\n",
              "    </tr>\n",
              "    <tr>\n",
              "        <td>2</td>\n",
              "        <td>Hammer Mill</td>\n",
              "        <td>Paper</td>\n",
              "    </tr>\n",
              "    <tr>\n",
              "        <td>2</td>\n",
              "        <td>Uni-ball</td>\n",
              "        <td>Writing Utensils</td>\n",
              "    </tr>\n",
              "    <tr>\n",
              "        <td>3</td>\n",
              "        <td>Patriot Paper</td>\n",
              "        <td>Paper</td>\n",
              "    </tr>\n",
              "    <tr>\n",
              "        <td>2</td>\n",
              "        <td>J.T. Forms &amp; Labels</td>\n",
              "        <td>Custom Forms</td>\n",
              "    </tr>\n",
              "    <tr>\n",
              "        <td>3</td>\n",
              "        <td>Uni-ball</td>\n",
              "        <td>Writing Utensils</td>\n",
              "    </tr>\n",
              "    <tr>\n",
              "        <td>3</td>\n",
              "        <td>Hammer Mill</td>\n",
              "        <td>Paper</td>\n",
              "    </tr>\n",
              "    <tr>\n",
              "        <td>3</td>\n",
              "        <td>Stamford Lables</td>\n",
              "        <td>Custom Forms</td>\n",
              "    </tr>\n",
              "</table>"
            ],
            "text/plain": [
              "[(2, 'Hammer Mill', 'Paper'),\n",
              " (2, 'Uni-ball', 'Writing Utensils'),\n",
              " (3, 'Patriot Paper', 'Paper'),\n",
              " (2, 'J.T. Forms & Labels', 'Custom Forms'),\n",
              " (3, 'Uni-ball', 'Writing Utensils'),\n",
              " (3, 'Hammer Mill', 'Paper'),\n",
              " (3, 'Stamford Lables', 'Custom Forms')]"
            ]
          },
          "execution_count": 14,
          "metadata": {},
          "output_type": "execute_result"
        }
      ],
      "source": [
        "%%sql\n",
        "\n",
        "select * from branch_supplier;"
      ]
    },
    {
      "attachments": {},
      "cell_type": "markdown",
      "metadata": {
        "id": "IaInRo7CIBOo"
      },
      "source": [
        "# **`TASK START FROM HERE`**"
      ]
    },
    {
      "attachments": {},
      "cell_type": "markdown",
      "metadata": {
        "id": "QzKBCd9MFwfT"
      },
      "source": [
        "# Intermediate Queries\n",
        "<hr>"
      ]
    },
    {
      "attachments": {},
      "cell_type": "markdown",
      "metadata": {
        "id": "Hppi7s2JX6Sw"
      },
      "source": [
        "<b>NOTE:</b> Some of the methods in mysql may not work in sqlite, please feel free to search for a substitute."
      ]
    },
    {
      "attachments": {},
      "cell_type": "markdown",
      "metadata": {
        "id": "zVfoUrfxIr7k"
      },
      "source": [
        "## 1. Get the average salaries of in each branch"
      ]
    },
    {
      "cell_type": "code",
      "execution_count": 15,
      "metadata": {
        "colab": {
          "base_uri": "https://localhost:8080/",
          "height": 139
        },
        "id": "uvprjjdzIXCg",
        "outputId": "883eb6a7-7d20-4cda-e53c-2e05dfcfb344"
      },
      "outputs": [
        {
          "name": "stdout",
          "output_type": "stream",
          "text": [
            " * sqlite:///cloud.db\n",
            "Done.\n"
          ]
        },
        {
          "data": {
            "text/html": [
              "<table>\n",
              "    <tr>\n",
              "        <th>branch_name</th>\n",
              "        <th>average_salary</th>\n",
              "    </tr>\n",
              "    <tr>\n",
              "        <td>Corporate</td>\n",
              "        <td>180000.0</td>\n",
              "    </tr>\n",
              "    <tr>\n",
              "        <td>Scranton</td>\n",
              "        <td>65500.0</td>\n",
              "    </tr>\n",
              "    <tr>\n",
              "        <td>Stamford</td>\n",
              "        <td>71333.33333333333</td>\n",
              "    </tr>\n",
              "</table>"
            ],
            "text/plain": [
              "[('Corporate', 180000.0),\n",
              " ('Scranton', 65500.0),\n",
              " ('Stamford', 71333.33333333333)]"
            ]
          },
          "execution_count": 15,
          "metadata": {},
          "output_type": "execute_result"
        }
      ],
      "source": [
        "%%sql\n",
        "select b.branch_name, avg(e.salary) as average_salary from\n",
        "employee as e join branch as b on e.branch_id = b.branch_id\n",
        "group by b.branch_name"
      ]
    },
    {
      "attachments": {},
      "cell_type": "markdown",
      "metadata": {
        "id": "tDRcwKpqXrnf"
      },
      "source": [
        "## 2. Print all the employee last names whose length of last name is less than 7"
      ]
    },
    {
      "cell_type": "code",
      "execution_count": 16,
      "metadata": {
        "colab": {
          "base_uri": "https://localhost:8080/",
          "height": 182
        },
        "id": "xkvbE7FCUZCY",
        "outputId": "b6717901-1d45-45c4-f4e6-13f9ffeea47f"
      },
      "outputs": [
        {
          "name": "stdout",
          "output_type": "stream",
          "text": [
            " * sqlite:///cloud.db\n",
            "Done.\n"
          ]
        },
        {
          "data": {
            "text/html": [
              "<table>\n",
              "    <tr>\n",
              "        <th>last_name</th>\n",
              "    </tr>\n",
              "    <tr>\n",
              "        <td>Scott</td>\n",
              "    </tr>\n",
              "    <tr>\n",
              "        <td>Martin</td>\n",
              "    </tr>\n",
              "    <tr>\n",
              "        <td>Kapoor</td>\n",
              "    </tr>\n",
              "    <tr>\n",
              "        <td>Hudson</td>\n",
              "    </tr>\n",
              "    <tr>\n",
              "        <td>Porter</td>\n",
              "    </tr>\n",
              "</table>"
            ],
            "text/plain": [
              "[('Scott',), ('Martin',), ('Kapoor',), ('Hudson',), ('Porter',)]"
            ]
          },
          "execution_count": 16,
          "metadata": {},
          "output_type": "execute_result"
        }
      ],
      "source": [
        "%%sql\n",
        "select last_name from employee\n",
        "where length(last_name) < 7"
      ]
    },
    {
      "attachments": {},
      "cell_type": "markdown",
      "metadata": {
        "id": "hCadcki7D3Az"
      },
      "source": [
        "## 3. Print the branch id counts from employee"
      ]
    },
    {
      "cell_type": "code",
      "execution_count": 17,
      "metadata": {
        "colab": {
          "base_uri": "https://localhost:8080/",
          "height": 139
        },
        "id": "tYT0r9ejDeN6",
        "outputId": "c7cbbc58-a818-4d46-a6dc-db9e070c536a"
      },
      "outputs": [
        {
          "name": "stdout",
          "output_type": "stream",
          "text": [
            " * sqlite:///cloud.db\n",
            "Done.\n"
          ]
        },
        {
          "data": {
            "text/html": [
              "<table>\n",
              "    <tr>\n",
              "        <th>branch_id</th>\n",
              "        <th>count</th>\n",
              "    </tr>\n",
              "    <tr>\n",
              "        <td>1</td>\n",
              "        <td>2</td>\n",
              "    </tr>\n",
              "    <tr>\n",
              "        <td>2</td>\n",
              "        <td>4</td>\n",
              "    </tr>\n",
              "    <tr>\n",
              "        <td>3</td>\n",
              "        <td>3</td>\n",
              "    </tr>\n",
              "</table>"
            ],
            "text/plain": [
              "[(1, 2), (2, 4), (3, 3)]"
            ]
          },
          "execution_count": 17,
          "metadata": {},
          "output_type": "execute_result"
        }
      ],
      "source": [
        "%%sql\n",
        "select b.branch_id, count(e.emp_id) as count from\n",
        "employee as e join branch as b on e.branch_id = b.branch_id\n",
        "group by b.branch_id"
      ]
    },
    {
      "attachments": {},
      "cell_type": "markdown",
      "metadata": {
        "id": "XLJ6-scjIGGm"
      },
      "source": [
        "## 4. Get the difference between maximum and minimum sales"
      ]
    },
    {
      "cell_type": "code",
      "execution_count": 18,
      "metadata": {
        "colab": {
          "base_uri": "https://localhost:8080/",
          "height": 96
        },
        "id": "_U_BwOaKFXPz",
        "outputId": "af104e4c-da93-44fe-fb21-3f10dd97287b"
      },
      "outputs": [
        {
          "name": "stdout",
          "output_type": "stream",
          "text": [
            " * sqlite:///cloud.db\n",
            "Done.\n"
          ]
        },
        {
          "data": {
            "text/html": [
              "<table>\n",
              "    <tr>\n",
              "        <th>difference</th>\n",
              "    </tr>\n",
              "    <tr>\n",
              "        <td>262000</td>\n",
              "    </tr>\n",
              "</table>"
            ],
            "text/plain": [
              "[(262000,)]"
            ]
          },
          "execution_count": 18,
          "metadata": {},
          "output_type": "execute_result"
        }
      ],
      "source": [
        "%%sql\n",
        "select max(total_sales) - min(total_sales) as difference from works_with"
      ]
    },
    {
      "attachments": {},
      "cell_type": "markdown",
      "metadata": {
        "id": "ZGg8r8d-DiAf"
      },
      "source": [
        "## 5. Print all employee names who were born between 1960 and 1970"
      ]
    },
    {
      "cell_type": "code",
      "execution_count": 19,
      "metadata": {
        "colab": {
          "base_uri": "https://localhost:8080/",
          "height": 161
        },
        "id": "noj2BsGT-xV9",
        "outputId": "25b28bb0-22d8-42ce-d2b0-26789d1ef029"
      },
      "outputs": [
        {
          "name": "stdout",
          "output_type": "stream",
          "text": [
            " * sqlite:///cloud.db\n",
            "Done.\n"
          ]
        },
        {
          "data": {
            "text/html": [
              "<table>\n",
              "    <tr>\n",
              "        <th>emp_id</th>\n",
              "        <th>first_name</th>\n",
              "        <th>last_name</th>\n",
              "        <th>birth_day</th>\n",
              "        <th>sex</th>\n",
              "        <th>salary</th>\n",
              "        <th>super_id</th>\n",
              "        <th>branch_id</th>\n",
              "    </tr>\n",
              "    <tr>\n",
              "        <td>100</td>\n",
              "        <td>David</td>\n",
              "        <td>Wallace</td>\n",
              "        <td>1967-11-17</td>\n",
              "        <td>M</td>\n",
              "        <td>250000</td>\n",
              "        <td>None</td>\n",
              "        <td>1</td>\n",
              "    </tr>\n",
              "    <tr>\n",
              "        <td>101</td>\n",
              "        <td>Jan</td>\n",
              "        <td>Levinson</td>\n",
              "        <td>1961-05-11</td>\n",
              "        <td>F</td>\n",
              "        <td>110000</td>\n",
              "        <td>100</td>\n",
              "        <td>1</td>\n",
              "    </tr>\n",
              "    <tr>\n",
              "        <td>102</td>\n",
              "        <td>Michael</td>\n",
              "        <td>Scott</td>\n",
              "        <td>1964-03-15</td>\n",
              "        <td>M</td>\n",
              "        <td>75000</td>\n",
              "        <td>100</td>\n",
              "        <td>2</td>\n",
              "    </tr>\n",
              "    <tr>\n",
              "        <td>106</td>\n",
              "        <td>Josh</td>\n",
              "        <td>Porter</td>\n",
              "        <td>1969-09-05</td>\n",
              "        <td>M</td>\n",
              "        <td>78000</td>\n",
              "        <td>100</td>\n",
              "        <td>3</td>\n",
              "    </tr>\n",
              "</table>"
            ],
            "text/plain": [
              "[(100, 'David', 'Wallace', '1967-11-17', 'M', 250000, None, 1),\n",
              " (101, 'Jan', 'Levinson', '1961-05-11', 'F', 110000, 100, 1),\n",
              " (102, 'Michael', 'Scott', '1964-03-15', 'M', 75000, 100, 2),\n",
              " (106, 'Josh', 'Porter', '1969-09-05', 'M', 78000, 100, 3)]"
            ]
          },
          "execution_count": 19,
          "metadata": {},
          "output_type": "execute_result"
        }
      ],
      "source": [
        "%%sql\n",
        "select * from employee \n",
        "where strftime('%Y', birth_day) between '1960' and '1970' "
      ]
    },
    {
      "attachments": {},
      "cell_type": "markdown",
      "metadata": {
        "id": "QYsTMayh1jLL"
      },
      "source": [
        "## 6. Print all the client names by replacing the spaces with \"_\""
      ]
    },
    {
      "cell_type": "code",
      "execution_count": 20,
      "metadata": {
        "colab": {
          "base_uri": "https://localhost:8080/",
          "height": 225
        },
        "id": "MSnc0r0TVgNu",
        "outputId": "cc9dbf1d-09f9-49d2-c6a9-53e0ab245e9c"
      },
      "outputs": [
        {
          "name": "stdout",
          "output_type": "stream",
          "text": [
            " * sqlite:///cloud.db\n",
            "Done.\n"
          ]
        },
        {
          "data": {
            "text/html": [
              "<table>\n",
              "    <tr>\n",
              "        <th>client_names</th>\n",
              "    </tr>\n",
              "    <tr>\n",
              "        <td>Dunmore_Highschool</td>\n",
              "    </tr>\n",
              "    <tr>\n",
              "        <td>Lackawana_Country</td>\n",
              "    </tr>\n",
              "    <tr>\n",
              "        <td>FedEx</td>\n",
              "    </tr>\n",
              "    <tr>\n",
              "        <td>John_Daly_Law,_LLC</td>\n",
              "    </tr>\n",
              "    <tr>\n",
              "        <td>Scranton_Whitepages</td>\n",
              "    </tr>\n",
              "    <tr>\n",
              "        <td>Times_Newspaper</td>\n",
              "    </tr>\n",
              "    <tr>\n",
              "        <td>FedEx</td>\n",
              "    </tr>\n",
              "</table>"
            ],
            "text/plain": [
              "[('Dunmore_Highschool',),\n",
              " ('Lackawana_Country',),\n",
              " ('FedEx',),\n",
              " ('John_Daly_Law,_LLC',),\n",
              " ('Scranton_Whitepages',),\n",
              " ('Times_Newspaper',),\n",
              " ('FedEx',)]"
            ]
          },
          "execution_count": 20,
          "metadata": {},
          "output_type": "execute_result"
        }
      ],
      "source": [
        "%%sql\n",
        "select replace(client_name,\" \",\"_\") as client_names from client\n",
        " "
      ]
    },
    {
      "attachments": {},
      "cell_type": "markdown",
      "metadata": {
        "id": "5ELpPc3LVN8j"
      },
      "source": [
        "## 7. Write a query to display 3 rows starting from 3rd row for employee table"
      ]
    },
    {
      "cell_type": "code",
      "execution_count": 21,
      "metadata": {
        "colab": {
          "base_uri": "https://localhost:8080/",
          "height": 139
        },
        "id": "_ecQHp3KUrV2",
        "outputId": "3e3b10da-a548-4f93-f373-694d6fc9bbe6"
      },
      "outputs": [
        {
          "name": "stdout",
          "output_type": "stream",
          "text": [
            " * sqlite:///cloud.db\n",
            "Done.\n"
          ]
        },
        {
          "data": {
            "text/html": [
              "<table>\n",
              "    <tr>\n",
              "        <th>emp_id</th>\n",
              "        <th>first_name</th>\n",
              "        <th>last_name</th>\n",
              "        <th>birth_day</th>\n",
              "        <th>sex</th>\n",
              "        <th>salary</th>\n",
              "        <th>super_id</th>\n",
              "        <th>branch_id</th>\n",
              "    </tr>\n",
              "    <tr>\n",
              "        <td>103</td>\n",
              "        <td>Angela</td>\n",
              "        <td>Martin</td>\n",
              "        <td>1971-06-25</td>\n",
              "        <td>F</td>\n",
              "        <td>63000</td>\n",
              "        <td>102</td>\n",
              "        <td>2</td>\n",
              "    </tr>\n",
              "    <tr>\n",
              "        <td>104</td>\n",
              "        <td>Kelly</td>\n",
              "        <td>Kapoor</td>\n",
              "        <td>1980-02-05</td>\n",
              "        <td>F</td>\n",
              "        <td>55000</td>\n",
              "        <td>102</td>\n",
              "        <td>2</td>\n",
              "    </tr>\n",
              "    <tr>\n",
              "        <td>105</td>\n",
              "        <td>Stanley</td>\n",
              "        <td>Hudson</td>\n",
              "        <td>1958-02-19</td>\n",
              "        <td>M</td>\n",
              "        <td>69000</td>\n",
              "        <td>102</td>\n",
              "        <td>2</td>\n",
              "    </tr>\n",
              "</table>"
            ],
            "text/plain": [
              "[(103, 'Angela', 'Martin', '1971-06-25', 'F', 63000, 102, 2),\n",
              " (104, 'Kelly', 'Kapoor', '1980-02-05', 'F', 55000, 102, 2),\n",
              " (105, 'Stanley', 'Hudson', '1958-02-19', 'M', 69000, 102, 2)]"
            ]
          },
          "execution_count": 21,
          "metadata": {},
          "output_type": "execute_result"
        }
      ],
      "source": [
        "%%sql\n",
        "/* select emp_id,first_name,last_name,birth_day,sex,salary,super_id,branch_id from (select row_number() over(order by emp_id) row_num,* from employee)\n",
        "where row_num in (4,5,6) */\n",
        "\n",
        "select * from employee\n",
        "where emp_id in (103,104,105)\n",
        "order by emp_id"
      ]
    },
    {
      "attachments": {},
      "cell_type": "markdown",
      "metadata": {
        "id": "OEMXTWUH7fNW"
      },
      "source": [
        "## 8. Get the full names of the employess whose last name ends with 'n'"
      ]
    },
    {
      "cell_type": "code",
      "execution_count": 22,
      "metadata": {
        "colab": {
          "base_uri": "https://localhost:8080/",
          "height": 139
        },
        "id": "9wa0JuSynTCq",
        "outputId": "be6082ef-246d-4e68-8dd5-98f6b1f2ba2d"
      },
      "outputs": [
        {
          "name": "stdout",
          "output_type": "stream",
          "text": [
            " * sqlite:///cloud.db\n",
            "Done.\n"
          ]
        },
        {
          "data": {
            "text/html": [
              "<table>\n",
              "    <tr>\n",
              "        <th>full_name</th>\n",
              "    </tr>\n",
              "    <tr>\n",
              "        <td>Jan Levinson</td>\n",
              "    </tr>\n",
              "    <tr>\n",
              "        <td>Angela Martin</td>\n",
              "    </tr>\n",
              "    <tr>\n",
              "        <td>Stanley Hudson</td>\n",
              "    </tr>\n",
              "</table>"
            ],
            "text/plain": [
              "[('Jan Levinson',), ('Angela Martin',), ('Stanley Hudson',)]"
            ]
          },
          "execution_count": 22,
          "metadata": {},
          "output_type": "execute_result"
        }
      ],
      "source": [
        "%%sql \n",
        "select first_name || \" \" || last_name as full_name from employee\n",
        "where substr(last_name,-1,1) = 'n'"
      ]
    },
    {
      "attachments": {},
      "cell_type": "markdown",
      "metadata": {
        "id": "1lVftkmKZK9u"
      },
      "source": [
        "## 9. Get the details of employees who were born in february month."
      ]
    },
    {
      "cell_type": "code",
      "execution_count": 23,
      "metadata": {
        "colab": {
          "base_uri": "https://localhost:8080/",
          "height": 118
        },
        "id": "Qa3asaz8W2Ev",
        "outputId": "1e93ff99-a092-461c-f5a5-dcf4b01e45e9"
      },
      "outputs": [
        {
          "name": "stdout",
          "output_type": "stream",
          "text": [
            " * sqlite:///cloud.db\n",
            "Done.\n"
          ]
        },
        {
          "data": {
            "text/html": [
              "<table>\n",
              "    <tr>\n",
              "        <th>emp_id</th>\n",
              "        <th>first_name</th>\n",
              "        <th>last_name</th>\n",
              "        <th>birth_day</th>\n",
              "        <th>sex</th>\n",
              "        <th>salary</th>\n",
              "        <th>super_id</th>\n",
              "        <th>branch_id</th>\n",
              "    </tr>\n",
              "    <tr>\n",
              "        <td>104</td>\n",
              "        <td>Kelly</td>\n",
              "        <td>Kapoor</td>\n",
              "        <td>1980-02-05</td>\n",
              "        <td>F</td>\n",
              "        <td>55000</td>\n",
              "        <td>102</td>\n",
              "        <td>2</td>\n",
              "    </tr>\n",
              "    <tr>\n",
              "        <td>105</td>\n",
              "        <td>Stanley</td>\n",
              "        <td>Hudson</td>\n",
              "        <td>1958-02-19</td>\n",
              "        <td>M</td>\n",
              "        <td>69000</td>\n",
              "        <td>102</td>\n",
              "        <td>2</td>\n",
              "    </tr>\n",
              "</table>"
            ],
            "text/plain": [
              "[(104, 'Kelly', 'Kapoor', '1980-02-05', 'F', 55000, 102, 2),\n",
              " (105, 'Stanley', 'Hudson', '1958-02-19', 'M', 69000, 102, 2)]"
            ]
          },
          "execution_count": 23,
          "metadata": {},
          "output_type": "execute_result"
        }
      ],
      "source": [
        "%%sql\n",
        "select * from employee \n",
        "where strftime('%m', birth_day) = '02'"
      ]
    },
    {
      "attachments": {},
      "cell_type": "markdown",
      "metadata": {
        "id": "RQXhLvuHiNSE"
      },
      "source": [
        "## 10. Get the male and female count of Scranton branch"
      ]
    },
    {
      "cell_type": "code",
      "execution_count": 24,
      "metadata": {
        "colab": {
          "base_uri": "https://localhost:8080/",
          "height": 118
        },
        "id": "rcu-lMJAhlMd",
        "outputId": "daadd917-cf99-4a2e-fed5-2cda05e3d3ea"
      },
      "outputs": [
        {
          "name": "stdout",
          "output_type": "stream",
          "text": [
            " * sqlite:///cloud.db\n",
            "Done.\n"
          ]
        },
        {
          "data": {
            "text/html": [
              "<table>\n",
              "    <tr>\n",
              "        <th>sex</th>\n",
              "        <th>count(e.sex)</th>\n",
              "    </tr>\n",
              "    <tr>\n",
              "        <td>F</td>\n",
              "        <td>2</td>\n",
              "    </tr>\n",
              "    <tr>\n",
              "        <td>M</td>\n",
              "        <td>2</td>\n",
              "    </tr>\n",
              "</table>"
            ],
            "text/plain": [
              "[('F', 2), ('M', 2)]"
            ]
          },
          "execution_count": 24,
          "metadata": {},
          "output_type": "execute_result"
        }
      ],
      "source": [
        "%%sql\n",
        "select e.sex, count(e.sex) from\n",
        "employee as e join branch as b on e.branch_id = b.branch_id\n",
        "where branch_name = 'Scranton'\n",
        "group by e.sex"
      ]
    },
    {
      "attachments": {},
      "cell_type": "markdown",
      "metadata": {
        "id": "i83U3RYOhcbx"
      },
      "source": [
        "## 11. Count the number of distinct supplier names whose names have 'll'"
      ]
    },
    {
      "cell_type": "code",
      "execution_count": 25,
      "metadata": {
        "colab": {
          "base_uri": "https://localhost:8080/",
          "height": 96
        },
        "id": "dwhm2Xg1hFdh",
        "outputId": "3f644462-4434-4a42-b845-02c8f017ee07"
      },
      "outputs": [
        {
          "name": "stdout",
          "output_type": "stream",
          "text": [
            " * sqlite:///cloud.db\n",
            "Done.\n"
          ]
        },
        {
          "data": {
            "text/html": [
              "<table>\n",
              "    <tr>\n",
              "        <th>count(distinct supplier_name)</th>\n",
              "    </tr>\n",
              "    <tr>\n",
              "        <td>2</td>\n",
              "    </tr>\n",
              "</table>"
            ],
            "text/plain": [
              "[(2,)]"
            ]
          },
          "execution_count": 25,
          "metadata": {},
          "output_type": "execute_result"
        }
      ],
      "source": [
        "%%sql\n",
        "select count(distinct supplier_name) from branch_supplier\n",
        "where supplier_name like '%ll%'"
      ]
    },
    {
      "attachments": {},
      "cell_type": "markdown",
      "metadata": {
        "id": "F-uMxdHit5cK"
      },
      "source": [
        "## 12. Get the full name of the employee with second highest salary"
      ]
    },
    {
      "cell_type": "code",
      "execution_count": 26,
      "metadata": {
        "colab": {
          "base_uri": "https://localhost:8080/",
          "height": 96
        },
        "id": "DZWGaZsRucjB",
        "outputId": "394f53dc-eaf2-41a6-f761-96e0723d0d78"
      },
      "outputs": [
        {
          "name": "stdout",
          "output_type": "stream",
          "text": [
            " * sqlite:///cloud.db\n",
            "Done.\n"
          ]
        },
        {
          "data": {
            "text/html": [
              "<table>\n",
              "    <tr>\n",
              "        <th>Full_name</th>\n",
              "    </tr>\n",
              "    <tr>\n",
              "        <td>Jan Levinson</td>\n",
              "    </tr>\n",
              "</table>"
            ],
            "text/plain": [
              "[('Jan Levinson',)]"
            ]
          },
          "execution_count": 26,
          "metadata": {},
          "output_type": "execute_result"
        }
      ],
      "source": [
        "%%sql\n",
        "select first_name || \" \" || last_name as Full_name from \n",
        "(select row_number() over(order by salary desc) row_num,* from employee)\n",
        "where row_num=2\n"
      ]
    },
    {
      "attachments": {},
      "cell_type": "markdown",
      "metadata": {
        "id": "b--_67dYdbhd"
      },
      "source": [
        "## 13. Get the employee full names who were born after 1970 and whose full name starts with 'a'"
      ]
    },
    {
      "attachments": {},
      "cell_type": "markdown",
      "metadata": {
        "id": "5ZjKSJlgFwfW"
      },
      "source": [
        "in sql we use year function to get the year from date, but in sqlite we use strftime() function: https://www.w3resource.com/sqlite/sqlite-strftime.php"
      ]
    },
    {
      "cell_type": "code",
      "execution_count": 27,
      "metadata": {
        "colab": {
          "base_uri": "https://localhost:8080/",
          "height": 118
        },
        "id": "Nr4P0d7R9Bip",
        "outputId": "354a5f79-2764-4d5e-a62c-6e0b88650949"
      },
      "outputs": [
        {
          "name": "stdout",
          "output_type": "stream",
          "text": [
            " * sqlite:///cloud.db\n",
            "Done.\n"
          ]
        },
        {
          "data": {
            "text/html": [
              "<table>\n",
              "    <tr>\n",
              "        <th>Full_name</th>\n",
              "    </tr>\n",
              "    <tr>\n",
              "        <td>Angela Martin</td>\n",
              "    </tr>\n",
              "    <tr>\n",
              "        <td>Andy Bernard</td>\n",
              "    </tr>\n",
              "</table>"
            ],
            "text/plain": [
              "[('Angela Martin',), ('Andy Bernard',)]"
            ]
          },
          "execution_count": 27,
          "metadata": {},
          "output_type": "execute_result"
        }
      ],
      "source": [
        "%%sql\n",
        "select first_name || \" \" || last_name as Full_name from employee \n",
        "where strftime('%Y', birth_day) > '1970' and Full_name like 'a%'"
      ]
    },
    {
      "cell_type": "code",
      "execution_count": 28,
      "metadata": {
        "colab": {
          "base_uri": "https://localhost:8080/",
          "height": 267
        },
        "id": "g62-sqPAag8d",
        "outputId": "9030a9ca-6402-464c-f593-7e86c358e07f"
      },
      "outputs": [
        {
          "name": "stdout",
          "output_type": "stream",
          "text": [
            " * sqlite:///cloud.db\n",
            "Done.\n"
          ]
        },
        {
          "data": {
            "text/html": [
              "<table>\n",
              "    <tr>\n",
              "        <th>emp_id</th>\n",
              "        <th>first_name</th>\n",
              "        <th>last_name</th>\n",
              "        <th>birth_day</th>\n",
              "        <th>sex</th>\n",
              "        <th>salary</th>\n",
              "        <th>super_id</th>\n",
              "        <th>branch_id</th>\n",
              "    </tr>\n",
              "    <tr>\n",
              "        <td>100</td>\n",
              "        <td>David</td>\n",
              "        <td>Wallace</td>\n",
              "        <td>1967-11-17</td>\n",
              "        <td>M</td>\n",
              "        <td>250000</td>\n",
              "        <td>None</td>\n",
              "        <td>1</td>\n",
              "    </tr>\n",
              "    <tr>\n",
              "        <td>101</td>\n",
              "        <td>Jan</td>\n",
              "        <td>Levinson</td>\n",
              "        <td>1961-05-11</td>\n",
              "        <td>F</td>\n",
              "        <td>110000</td>\n",
              "        <td>100</td>\n",
              "        <td>1</td>\n",
              "    </tr>\n",
              "    <tr>\n",
              "        <td>102</td>\n",
              "        <td>Michael</td>\n",
              "        <td>Scott</td>\n",
              "        <td>1964-03-15</td>\n",
              "        <td>M</td>\n",
              "        <td>75000</td>\n",
              "        <td>100</td>\n",
              "        <td>2</td>\n",
              "    </tr>\n",
              "    <tr>\n",
              "        <td>103</td>\n",
              "        <td>Angela</td>\n",
              "        <td>Martin</td>\n",
              "        <td>1971-06-25</td>\n",
              "        <td>F</td>\n",
              "        <td>63000</td>\n",
              "        <td>102</td>\n",
              "        <td>2</td>\n",
              "    </tr>\n",
              "    <tr>\n",
              "        <td>104</td>\n",
              "        <td>Kelly</td>\n",
              "        <td>Kapoor</td>\n",
              "        <td>1980-02-05</td>\n",
              "        <td>F</td>\n",
              "        <td>55000</td>\n",
              "        <td>102</td>\n",
              "        <td>2</td>\n",
              "    </tr>\n",
              "    <tr>\n",
              "        <td>105</td>\n",
              "        <td>Stanley</td>\n",
              "        <td>Hudson</td>\n",
              "        <td>1958-02-19</td>\n",
              "        <td>M</td>\n",
              "        <td>69000</td>\n",
              "        <td>102</td>\n",
              "        <td>2</td>\n",
              "    </tr>\n",
              "    <tr>\n",
              "        <td>106</td>\n",
              "        <td>Josh</td>\n",
              "        <td>Porter</td>\n",
              "        <td>1969-09-05</td>\n",
              "        <td>M</td>\n",
              "        <td>78000</td>\n",
              "        <td>100</td>\n",
              "        <td>3</td>\n",
              "    </tr>\n",
              "    <tr>\n",
              "        <td>107</td>\n",
              "        <td>Andy</td>\n",
              "        <td>Bernard</td>\n",
              "        <td>1973-07-22</td>\n",
              "        <td>M</td>\n",
              "        <td>65000</td>\n",
              "        <td>106</td>\n",
              "        <td>3</td>\n",
              "    </tr>\n",
              "    <tr>\n",
              "        <td>108</td>\n",
              "        <td>Jim</td>\n",
              "        <td>Halpert</td>\n",
              "        <td>1978-10-01</td>\n",
              "        <td>M</td>\n",
              "        <td>71000</td>\n",
              "        <td>106</td>\n",
              "        <td>3</td>\n",
              "    </tr>\n",
              "</table>"
            ],
            "text/plain": [
              "[(100, 'David', 'Wallace', '1967-11-17', 'M', 250000, None, 1),\n",
              " (101, 'Jan', 'Levinson', '1961-05-11', 'F', 110000, 100, 1),\n",
              " (102, 'Michael', 'Scott', '1964-03-15', 'M', 75000, 100, 2),\n",
              " (103, 'Angela', 'Martin', '1971-06-25', 'F', 63000, 102, 2),\n",
              " (104, 'Kelly', 'Kapoor', '1980-02-05', 'F', 55000, 102, 2),\n",
              " (105, 'Stanley', 'Hudson', '1958-02-19', 'M', 69000, 102, 2),\n",
              " (106, 'Josh', 'Porter', '1969-09-05', 'M', 78000, 100, 3),\n",
              " (107, 'Andy', 'Bernard', '1973-07-22', 'M', 65000, 106, 3),\n",
              " (108, 'Jim', 'Halpert', '1978-10-01', 'M', 71000, 106, 3)]"
            ]
          },
          "execution_count": 28,
          "metadata": {},
          "output_type": "execute_result"
        }
      ],
      "source": [
        "%%sql\n",
        "select * from employee"
      ]
    },
    {
      "attachments": {},
      "cell_type": "markdown",
      "metadata": {
        "id": "hVTILNjgig-D"
      },
      "source": [
        "## 14. Get the number of unique female employee names who have worked with atleast one client"
      ]
    },
    {
      "cell_type": "code",
      "execution_count": 29,
      "metadata": {
        "colab": {
          "base_uri": "https://localhost:8080/",
          "height": 75
        },
        "id": "_cbUPySPiSGo",
        "outputId": "4f212746-5e46-4eef-85f4-a4a20f44e737"
      },
      "outputs": [
        {
          "name": "stdout",
          "output_type": "stream",
          "text": [
            " * sqlite:///cloud.db\n",
            "Done.\n"
          ]
        },
        {
          "data": {
            "text/html": [
              "<table>\n",
              "    <tr>\n",
              "        <th>Full_name</th>\n",
              "    </tr>\n",
              "</table>"
            ],
            "text/plain": [
              "[]"
            ]
          },
          "execution_count": 29,
          "metadata": {},
          "output_type": "execute_result"
        }
      ],
      "source": [
        "%%sql\n",
        "select distinct e.first_name || \" \" || e.last_name as Full_name  \n",
        "from employee as e left join works_with as w on e.emp_id = w.emp_id\n",
        "where e.sex = 'F' and e.emp_id in (select distinct w.emp_id from works_with  as w group by w.emp_id having count(w.client_id) >=1)\n"
      ]
    },
    {
      "attachments": {},
      "cell_type": "markdown",
      "metadata": {
        "id": "VskxoHs_GAhn"
      },
      "source": [
        "## 15. Get the female employee first name who was born on 25th day"
      ]
    },
    {
      "cell_type": "code",
      "execution_count": 30,
      "metadata": {
        "colab": {
          "base_uri": "https://localhost:8080/",
          "height": 96
        },
        "id": "0Yu8QZz3E4RN",
        "outputId": "dd8a66be-23bc-43c2-bd85-81e582bb4e6e"
      },
      "outputs": [
        {
          "name": "stdout",
          "output_type": "stream",
          "text": [
            " * sqlite:///cloud.db\n",
            "Done.\n"
          ]
        },
        {
          "data": {
            "text/html": [
              "<table>\n",
              "    <tr>\n",
              "        <th>first_name</th>\n",
              "    </tr>\n",
              "    <tr>\n",
              "        <td>Angela</td>\n",
              "    </tr>\n",
              "</table>"
            ],
            "text/plain": [
              "[('Angela',)]"
            ]
          },
          "execution_count": 30,
          "metadata": {},
          "output_type": "execute_result"
        }
      ],
      "source": [
        "%%sql\n",
        "select first_name from employee \n",
        "where strftime('%d', birth_day) = '25' and sex = 'F'"
      ]
    },
    {
      "attachments": {},
      "cell_type": "markdown",
      "metadata": {
        "id": "O0ePfdAHK3FZ"
      },
      "source": [
        "## 16. Get all the branch names with their supplier name and supply type"
      ]
    },
    {
      "cell_type": "code",
      "execution_count": 31,
      "metadata": {
        "colab": {
          "base_uri": "https://localhost:8080/",
          "height": 246
        },
        "id": "N4TP7kXJHEt9",
        "outputId": "937ba717-870b-4a56-cc3f-a2dbc8e8b837"
      },
      "outputs": [
        {
          "name": "stdout",
          "output_type": "stream",
          "text": [
            " * sqlite:///cloud.db\n",
            "Done.\n"
          ]
        },
        {
          "data": {
            "text/html": [
              "<table>\n",
              "    <tr>\n",
              "        <th>branch_name</th>\n",
              "        <th>supplier_name</th>\n",
              "        <th>supply_type</th>\n",
              "    </tr>\n",
              "    <tr>\n",
              "        <td>Corporate</td>\n",
              "        <td>None</td>\n",
              "        <td>None</td>\n",
              "    </tr>\n",
              "    <tr>\n",
              "        <td>Scranton</td>\n",
              "        <td>Hammer Mill</td>\n",
              "        <td>Paper</td>\n",
              "    </tr>\n",
              "    <tr>\n",
              "        <td>Scranton</td>\n",
              "        <td>J.T. Forms &amp; Labels</td>\n",
              "        <td>Custom Forms</td>\n",
              "    </tr>\n",
              "    <tr>\n",
              "        <td>Scranton</td>\n",
              "        <td>Uni-ball</td>\n",
              "        <td>Writing Utensils</td>\n",
              "    </tr>\n",
              "    <tr>\n",
              "        <td>Stamford</td>\n",
              "        <td>Hammer Mill</td>\n",
              "        <td>Paper</td>\n",
              "    </tr>\n",
              "    <tr>\n",
              "        <td>Stamford</td>\n",
              "        <td>Patriot Paper</td>\n",
              "        <td>Paper</td>\n",
              "    </tr>\n",
              "    <tr>\n",
              "        <td>Stamford</td>\n",
              "        <td>Stamford Lables</td>\n",
              "        <td>Custom Forms</td>\n",
              "    </tr>\n",
              "    <tr>\n",
              "        <td>Stamford</td>\n",
              "        <td>Uni-ball</td>\n",
              "        <td>Writing Utensils</td>\n",
              "    </tr>\n",
              "</table>"
            ],
            "text/plain": [
              "[('Corporate', None, None),\n",
              " ('Scranton', 'Hammer Mill', 'Paper'),\n",
              " ('Scranton', 'J.T. Forms & Labels', 'Custom Forms'),\n",
              " ('Scranton', 'Uni-ball', 'Writing Utensils'),\n",
              " ('Stamford', 'Hammer Mill', 'Paper'),\n",
              " ('Stamford', 'Patriot Paper', 'Paper'),\n",
              " ('Stamford', 'Stamford Lables', 'Custom Forms'),\n",
              " ('Stamford', 'Uni-ball', 'Writing Utensils')]"
            ]
          },
          "execution_count": 31,
          "metadata": {},
          "output_type": "execute_result"
        }
      ],
      "source": [
        "%%sql\n",
        "select b.branch_name, bs.supplier_name, bs.supply_type \n",
        "from branch as b left join branch_supplier as bs on b.branch_id = bs.branch_id\n"
      ]
    },
    {
      "attachments": {},
      "cell_type": "markdown",
      "metadata": {
        "id": "uAZVpkBaMG6s"
      },
      "source": [
        "## 17. Get the Male and Female employees average salaries"
      ]
    },
    {
      "cell_type": "code",
      "execution_count": 32,
      "metadata": {
        "colab": {
          "base_uri": "https://localhost:8080/",
          "height": 118
        },
        "id": "yoce_c6PLzge",
        "outputId": "2b7beab5-9431-4dfd-daec-9044ef3cfe14"
      },
      "outputs": [
        {
          "name": "stdout",
          "output_type": "stream",
          "text": [
            " * sqlite:///cloud.db\n",
            "Done.\n"
          ]
        },
        {
          "data": {
            "text/html": [
              "<table>\n",
              "    <tr>\n",
              "        <th>Gender</th>\n",
              "        <th>average_salary</th>\n",
              "    </tr>\n",
              "    <tr>\n",
              "        <td>F</td>\n",
              "        <td>76000.0</td>\n",
              "    </tr>\n",
              "    <tr>\n",
              "        <td>M</td>\n",
              "        <td>101333.33333333333</td>\n",
              "    </tr>\n",
              "</table>"
            ],
            "text/plain": [
              "[('F', 76000.0), ('M', 101333.33333333333)]"
            ]
          },
          "execution_count": 32,
          "metadata": {},
          "output_type": "execute_result"
        }
      ],
      "source": [
        "%%sql\n",
        "select sex as Gender, avg(salary) as average_salary from employee\n",
        "group by Gender"
      ]
    },
    {
      "cell_type": "code",
      "execution_count": 33,
      "metadata": {
        "colab": {
          "base_uri": "https://localhost:8080/",
          "height": 267
        },
        "id": "L-cIrzK0psVJ",
        "outputId": "ca9ac0b9-6a52-4c62-e6ca-4676917f055d"
      },
      "outputs": [
        {
          "name": "stdout",
          "output_type": "stream",
          "text": [
            " * sqlite:///cloud.db\n",
            "Done.\n"
          ]
        },
        {
          "data": {
            "text/html": [
              "<table>\n",
              "    <tr>\n",
              "        <th>emp_id</th>\n",
              "        <th>client_id</th>\n",
              "        <th>total_sales</th>\n",
              "    </tr>\n",
              "    <tr>\n",
              "        <td>105</td>\n",
              "        <td>400</td>\n",
              "        <td>55000</td>\n",
              "    </tr>\n",
              "    <tr>\n",
              "        <td>102</td>\n",
              "        <td>401</td>\n",
              "        <td>267000</td>\n",
              "    </tr>\n",
              "    <tr>\n",
              "        <td>108</td>\n",
              "        <td>402</td>\n",
              "        <td>22500</td>\n",
              "    </tr>\n",
              "    <tr>\n",
              "        <td>107</td>\n",
              "        <td>403</td>\n",
              "        <td>5000</td>\n",
              "    </tr>\n",
              "    <tr>\n",
              "        <td>108</td>\n",
              "        <td>403</td>\n",
              "        <td>12000</td>\n",
              "    </tr>\n",
              "    <tr>\n",
              "        <td>105</td>\n",
              "        <td>404</td>\n",
              "        <td>33000</td>\n",
              "    </tr>\n",
              "    <tr>\n",
              "        <td>107</td>\n",
              "        <td>405</td>\n",
              "        <td>26000</td>\n",
              "    </tr>\n",
              "    <tr>\n",
              "        <td>102</td>\n",
              "        <td>406</td>\n",
              "        <td>15000</td>\n",
              "    </tr>\n",
              "    <tr>\n",
              "        <td>105</td>\n",
              "        <td>406</td>\n",
              "        <td>130000</td>\n",
              "    </tr>\n",
              "</table>"
            ],
            "text/plain": [
              "[(105, 400, 55000),\n",
              " (102, 401, 267000),\n",
              " (108, 402, 22500),\n",
              " (107, 403, 5000),\n",
              " (108, 403, 12000),\n",
              " (105, 404, 33000),\n",
              " (107, 405, 26000),\n",
              " (102, 406, 15000),\n",
              " (105, 406, 130000)]"
            ]
          },
          "execution_count": 33,
          "metadata": {},
          "output_type": "execute_result"
        }
      ],
      "source": [
        "%%sql\n",
        "select * from works_with"
      ]
    },
    {
      "attachments": {},
      "cell_type": "markdown",
      "metadata": {
        "id": "_pgMnwfSTjM_"
      },
      "source": [
        "## 18. Get the client names who had made total sales greater than 1 lakh"
      ]
    },
    {
      "cell_type": "code",
      "execution_count": 34,
      "metadata": {
        "colab": {
          "base_uri": "https://localhost:8080/",
          "height": 118
        },
        "id": "Oy73k2blR5jS",
        "outputId": "4b7a5874-1a73-418d-e9da-6b43fdcefd66"
      },
      "outputs": [
        {
          "name": "stdout",
          "output_type": "stream",
          "text": [
            " * sqlite:///cloud.db\n",
            "Done.\n"
          ]
        },
        {
          "data": {
            "text/html": [
              "<table>\n",
              "    <tr>\n",
              "        <th>client_name</th>\n",
              "        <th>sum(total_sales)</th>\n",
              "    </tr>\n",
              "    <tr>\n",
              "        <td>Lackawana Country</td>\n",
              "        <td>267000</td>\n",
              "    </tr>\n",
              "    <tr>\n",
              "        <td>FedEx</td>\n",
              "        <td>167500</td>\n",
              "    </tr>\n",
              "</table>"
            ],
            "text/plain": [
              "[('Lackawana Country', 267000), ('FedEx', 167500)]"
            ]
          },
          "execution_count": 34,
          "metadata": {},
          "output_type": "execute_result"
        }
      ],
      "source": [
        "%%sql\n",
        "select client_name, sum(total_sales) from works_with as ww join client as c on ww.client_id = c.client_id\n",
        "group by client_name\n",
        "having sum(total_sales) > 100000\n",
        "order by sum(total_sales) desc"
      ]
    },
    {
      "attachments": {},
      "cell_type": "markdown",
      "metadata": {
        "id": "oSQt5NsJXeqv"
      },
      "source": [
        "## 19. How many employees don't have super id's"
      ]
    },
    {
      "cell_type": "code",
      "execution_count": 35,
      "metadata": {
        "colab": {
          "base_uri": "https://localhost:8080/",
          "height": 96
        },
        "id": "JxxhYwXml5P1",
        "outputId": "14e09057-8177-48a9-be1a-c45aaae1f007"
      },
      "outputs": [
        {
          "name": "stdout",
          "output_type": "stream",
          "text": [
            " * sqlite:///cloud.db\n",
            "Done.\n"
          ]
        },
        {
          "data": {
            "text/html": [
              "<table>\n",
              "    <tr>\n",
              "        <th>employee_count</th>\n",
              "    </tr>\n",
              "    <tr>\n",
              "        <td>1</td>\n",
              "    </tr>\n",
              "</table>"
            ],
            "text/plain": [
              "[(1,)]"
            ]
          },
          "execution_count": 35,
          "metadata": {},
          "output_type": "execute_result"
        }
      ],
      "source": [
        "%%sql\n",
        "select count(*) as employee_count from employee\n",
        "where super_id is null"
      ]
    },
    {
      "attachments": {},
      "cell_type": "markdown",
      "metadata": {
        "id": "2hKrlywESSLu"
      },
      "source": [
        "## 20. Write an query to print the first three characters of first name and last name of an employee"
      ]
    },
    {
      "cell_type": "code",
      "execution_count": 36,
      "metadata": {
        "colab": {
          "base_uri": "https://localhost:8080/",
          "height": 267
        },
        "id": "5sX0PMikXrBK",
        "outputId": "8c61548a-cb75-4dec-b877-051aa5d62350"
      },
      "outputs": [
        {
          "name": "stdout",
          "output_type": "stream",
          "text": [
            " * sqlite:///cloud.db\n",
            "Done.\n"
          ]
        },
        {
          "data": {
            "text/html": [
              "<table>\n",
              "    <tr>\n",
              "        <th>first_name</th>\n",
              "        <th>last_name</th>\n",
              "    </tr>\n",
              "    <tr>\n",
              "        <td>Dav</td>\n",
              "        <td>Wal</td>\n",
              "    </tr>\n",
              "    <tr>\n",
              "        <td>Jan</td>\n",
              "        <td>Lev</td>\n",
              "    </tr>\n",
              "    <tr>\n",
              "        <td>Mic</td>\n",
              "        <td>Sco</td>\n",
              "    </tr>\n",
              "    <tr>\n",
              "        <td>Ang</td>\n",
              "        <td>Mar</td>\n",
              "    </tr>\n",
              "    <tr>\n",
              "        <td>Kel</td>\n",
              "        <td>Kap</td>\n",
              "    </tr>\n",
              "    <tr>\n",
              "        <td>Sta</td>\n",
              "        <td>Hud</td>\n",
              "    </tr>\n",
              "    <tr>\n",
              "        <td>Jos</td>\n",
              "        <td>Por</td>\n",
              "    </tr>\n",
              "    <tr>\n",
              "        <td>And</td>\n",
              "        <td>Ber</td>\n",
              "    </tr>\n",
              "    <tr>\n",
              "        <td>Jim</td>\n",
              "        <td>Hal</td>\n",
              "    </tr>\n",
              "</table>"
            ],
            "text/plain": [
              "[('Dav', 'Wal'),\n",
              " ('Jan', 'Lev'),\n",
              " ('Mic', 'Sco'),\n",
              " ('Ang', 'Mar'),\n",
              " ('Kel', 'Kap'),\n",
              " ('Sta', 'Hud'),\n",
              " ('Jos', 'Por'),\n",
              " ('And', 'Ber'),\n",
              " ('Jim', 'Hal')]"
            ]
          },
          "execution_count": 36,
          "metadata": {},
          "output_type": "execute_result"
        }
      ],
      "source": [
        "%%sql\n",
        "select substr(first_name,1,3) as first_name, substr(last_name,1,3) as last_name from employee"
      ]
    },
    {
      "attachments": {},
      "cell_type": "markdown",
      "metadata": {
        "id": "OmB2g-VdTKw6"
      },
      "source": [
        "## 21. Write a query to print all employee id and full names with odd employee id's"
      ]
    },
    {
      "cell_type": "code",
      "execution_count": 37,
      "metadata": {
        "colab": {
          "base_uri": "https://localhost:8080/",
          "height": 161
        },
        "id": "fpGl_ShfSmS1",
        "outputId": "08a647ce-8318-4b04-8314-1be68d676d77"
      },
      "outputs": [
        {
          "name": "stdout",
          "output_type": "stream",
          "text": [
            " * sqlite:///cloud.db\n",
            "Done.\n"
          ]
        },
        {
          "data": {
            "text/html": [
              "<table>\n",
              "    <tr>\n",
              "        <th>emp_id</th>\n",
              "        <th>Full_name</th>\n",
              "    </tr>\n",
              "    <tr>\n",
              "        <td>101</td>\n",
              "        <td>Jan Levinson</td>\n",
              "    </tr>\n",
              "    <tr>\n",
              "        <td>103</td>\n",
              "        <td>Angela Martin</td>\n",
              "    </tr>\n",
              "    <tr>\n",
              "        <td>105</td>\n",
              "        <td>Stanley Hudson</td>\n",
              "    </tr>\n",
              "    <tr>\n",
              "        <td>107</td>\n",
              "        <td>Andy Bernard</td>\n",
              "    </tr>\n",
              "</table>"
            ],
            "text/plain": [
              "[(101, 'Jan Levinson'),\n",
              " (103, 'Angela Martin'),\n",
              " (105, 'Stanley Hudson'),\n",
              " (107, 'Andy Bernard')]"
            ]
          },
          "execution_count": 37,
          "metadata": {},
          "output_type": "execute_result"
        }
      ],
      "source": [
        "%%sql\n",
        "select emp_id, first_name || \" \" || last_name as Full_name from employee\n",
        "where emp_id % 2 <> 0"
      ]
    },
    {
      "attachments": {},
      "cell_type": "markdown",
      "metadata": {
        "id": "V010nTh54MqY"
      },
      "source": [
        "## 22. Count the number of 'a' in the full name of a employee irrespective of their case i.e. 'a' and 'A' should be counted"
      ]
    },
    {
      "cell_type": "code",
      "execution_count": 38,
      "metadata": {
        "colab": {
          "base_uri": "https://localhost:8080/",
          "height": 267
        },
        "id": "wBm69s-IVtfS",
        "outputId": "8666cfac-c894-438f-e5de-fe43df950498"
      },
      "outputs": [
        {
          "name": "stdout",
          "output_type": "stream",
          "text": [
            " * sqlite:///cloud.db\n",
            "Done.\n"
          ]
        },
        {
          "data": {
            "text/html": [
              "<table>\n",
              "    <tr>\n",
              "        <th>Full_name</th>\n",
              "        <th>count</th>\n",
              "    </tr>\n",
              "    <tr>\n",
              "        <td>David Wallace</td>\n",
              "        <td>3</td>\n",
              "    </tr>\n",
              "    <tr>\n",
              "        <td>Jan Levinson</td>\n",
              "        <td>1</td>\n",
              "    </tr>\n",
              "    <tr>\n",
              "        <td>Michael Scott</td>\n",
              "        <td>1</td>\n",
              "    </tr>\n",
              "    <tr>\n",
              "        <td>Angela Martin</td>\n",
              "        <td>2</td>\n",
              "    </tr>\n",
              "    <tr>\n",
              "        <td>Kelly Kapoor</td>\n",
              "        <td>1</td>\n",
              "    </tr>\n",
              "    <tr>\n",
              "        <td>Stanley Hudson</td>\n",
              "        <td>1</td>\n",
              "    </tr>\n",
              "    <tr>\n",
              "        <td>Josh Porter</td>\n",
              "        <td>0</td>\n",
              "    </tr>\n",
              "    <tr>\n",
              "        <td>Andy Bernard</td>\n",
              "        <td>1</td>\n",
              "    </tr>\n",
              "    <tr>\n",
              "        <td>Jim Halpert</td>\n",
              "        <td>1</td>\n",
              "    </tr>\n",
              "</table>"
            ],
            "text/plain": [
              "[('David Wallace', 3),\n",
              " ('Jan Levinson', 1),\n",
              " ('Michael Scott', 1),\n",
              " ('Angela Martin', 2),\n",
              " ('Kelly Kapoor', 1),\n",
              " ('Stanley Hudson', 1),\n",
              " ('Josh Porter', 0),\n",
              " ('Andy Bernard', 1),\n",
              " ('Jim Halpert', 1)]"
            ]
          },
          "execution_count": 38,
          "metadata": {},
          "output_type": "execute_result"
        }
      ],
      "source": [
        "%%sql\n",
        "select first_name || \" \" || last_name as Full_name, \n",
        "(length(first_name || \" \" || last_name) - length(replace(first_name || \" \" || last_name,'a','')))/length('a')  as count\n",
        "from employee\n"
      ]
    },
    {
      "attachments": {},
      "cell_type": "markdown",
      "metadata": {
        "id": "Gp-Oeg5o9zdw"
      },
      "source": [
        "## 23. Print all the employee details along with an email column which contains values as first_name@gmail.com as values with first_name lower cased"
      ]
    },
    {
      "cell_type": "code",
      "execution_count": 39,
      "metadata": {
        "colab": {
          "base_uri": "https://localhost:8080/",
          "height": 267
        },
        "id": "MCDsBBPy5NKk",
        "outputId": "9f42c3b2-b049-4e58-d1fa-bd3d758d43fe"
      },
      "outputs": [
        {
          "name": "stdout",
          "output_type": "stream",
          "text": [
            " * sqlite:///cloud.db\n",
            "Done.\n"
          ]
        },
        {
          "data": {
            "text/html": [
              "<table>\n",
              "    <tr>\n",
              "        <th>emp_id</th>\n",
              "        <th>first_name</th>\n",
              "        <th>last_name</th>\n",
              "        <th>birth_day</th>\n",
              "        <th>sex</th>\n",
              "        <th>salary</th>\n",
              "        <th>super_id</th>\n",
              "        <th>branch_id</th>\n",
              "        <th>email</th>\n",
              "    </tr>\n",
              "    <tr>\n",
              "        <td>100</td>\n",
              "        <td>David</td>\n",
              "        <td>Wallace</td>\n",
              "        <td>1967-11-17</td>\n",
              "        <td>M</td>\n",
              "        <td>250000</td>\n",
              "        <td>None</td>\n",
              "        <td>1</td>\n",
              "        <td>david@gmail.com</td>\n",
              "    </tr>\n",
              "    <tr>\n",
              "        <td>101</td>\n",
              "        <td>Jan</td>\n",
              "        <td>Levinson</td>\n",
              "        <td>1961-05-11</td>\n",
              "        <td>F</td>\n",
              "        <td>110000</td>\n",
              "        <td>100</td>\n",
              "        <td>1</td>\n",
              "        <td>jan@gmail.com</td>\n",
              "    </tr>\n",
              "    <tr>\n",
              "        <td>102</td>\n",
              "        <td>Michael</td>\n",
              "        <td>Scott</td>\n",
              "        <td>1964-03-15</td>\n",
              "        <td>M</td>\n",
              "        <td>75000</td>\n",
              "        <td>100</td>\n",
              "        <td>2</td>\n",
              "        <td>michael@gmail.com</td>\n",
              "    </tr>\n",
              "    <tr>\n",
              "        <td>103</td>\n",
              "        <td>Angela</td>\n",
              "        <td>Martin</td>\n",
              "        <td>1971-06-25</td>\n",
              "        <td>F</td>\n",
              "        <td>63000</td>\n",
              "        <td>102</td>\n",
              "        <td>2</td>\n",
              "        <td>angela@gmail.com</td>\n",
              "    </tr>\n",
              "    <tr>\n",
              "        <td>104</td>\n",
              "        <td>Kelly</td>\n",
              "        <td>Kapoor</td>\n",
              "        <td>1980-02-05</td>\n",
              "        <td>F</td>\n",
              "        <td>55000</td>\n",
              "        <td>102</td>\n",
              "        <td>2</td>\n",
              "        <td>kelly@gmail.com</td>\n",
              "    </tr>\n",
              "    <tr>\n",
              "        <td>105</td>\n",
              "        <td>Stanley</td>\n",
              "        <td>Hudson</td>\n",
              "        <td>1958-02-19</td>\n",
              "        <td>M</td>\n",
              "        <td>69000</td>\n",
              "        <td>102</td>\n",
              "        <td>2</td>\n",
              "        <td>stanley@gmail.com</td>\n",
              "    </tr>\n",
              "    <tr>\n",
              "        <td>106</td>\n",
              "        <td>Josh</td>\n",
              "        <td>Porter</td>\n",
              "        <td>1969-09-05</td>\n",
              "        <td>M</td>\n",
              "        <td>78000</td>\n",
              "        <td>100</td>\n",
              "        <td>3</td>\n",
              "        <td>josh@gmail.com</td>\n",
              "    </tr>\n",
              "    <tr>\n",
              "        <td>107</td>\n",
              "        <td>Andy</td>\n",
              "        <td>Bernard</td>\n",
              "        <td>1973-07-22</td>\n",
              "        <td>M</td>\n",
              "        <td>65000</td>\n",
              "        <td>106</td>\n",
              "        <td>3</td>\n",
              "        <td>andy@gmail.com</td>\n",
              "    </tr>\n",
              "    <tr>\n",
              "        <td>108</td>\n",
              "        <td>Jim</td>\n",
              "        <td>Halpert</td>\n",
              "        <td>1978-10-01</td>\n",
              "        <td>M</td>\n",
              "        <td>71000</td>\n",
              "        <td>106</td>\n",
              "        <td>3</td>\n",
              "        <td>jim@gmail.com</td>\n",
              "    </tr>\n",
              "</table>"
            ],
            "text/plain": [
              "[(100, 'David', 'Wallace', '1967-11-17', 'M', 250000, None, 1, 'david@gmail.com'),\n",
              " (101, 'Jan', 'Levinson', '1961-05-11', 'F', 110000, 100, 1, 'jan@gmail.com'),\n",
              " (102, 'Michael', 'Scott', '1964-03-15', 'M', 75000, 100, 2, 'michael@gmail.com'),\n",
              " (103, 'Angela', 'Martin', '1971-06-25', 'F', 63000, 102, 2, 'angela@gmail.com'),\n",
              " (104, 'Kelly', 'Kapoor', '1980-02-05', 'F', 55000, 102, 2, 'kelly@gmail.com'),\n",
              " (105, 'Stanley', 'Hudson', '1958-02-19', 'M', 69000, 102, 2, 'stanley@gmail.com'),\n",
              " (106, 'Josh', 'Porter', '1969-09-05', 'M', 78000, 100, 3, 'josh@gmail.com'),\n",
              " (107, 'Andy', 'Bernard', '1973-07-22', 'M', 65000, 106, 3, 'andy@gmail.com'),\n",
              " (108, 'Jim', 'Halpert', '1978-10-01', 'M', 71000, 106, 3, 'jim@gmail.com')]"
            ]
          },
          "execution_count": 39,
          "metadata": {},
          "output_type": "execute_result"
        }
      ],
      "source": [
        "%%sql\n",
        "select *,lower(first_name) || \"@gmail.com\"as email from employee"
      ]
    },
    {
      "attachments": {},
      "cell_type": "markdown",
      "metadata": {
        "id": "AbYYstuPFwfY"
      },
      "source": [
        "# Advanced\n",
        "<hr>"
      ]
    },
    {
      "attachments": {},
      "cell_type": "markdown",
      "metadata": {
        "id": "SnTwoBE2w0Jz"
      },
      "source": [
        "## 24. Get the client id and  names of the clients who worked male employees whose salary was greater than 70000"
      ]
    },
    {
      "cell_type": "code",
      "execution_count": 40,
      "metadata": {
        "colab": {
          "base_uri": "https://localhost:8080/",
          "height": 161
        },
        "id": "vUlGS2tIwBYP",
        "outputId": "7881f5ac-f670-426c-b0d4-b101da769428"
      },
      "outputs": [
        {
          "name": "stdout",
          "output_type": "stream",
          "text": [
            " * sqlite:///cloud.db\n",
            "Done.\n"
          ]
        },
        {
          "data": {
            "text/html": [
              "<table>\n",
              "    <tr>\n",
              "        <th>client_id</th>\n",
              "        <th>client_name</th>\n",
              "    </tr>\n",
              "    <tr>\n",
              "        <td>401</td>\n",
              "        <td>Lackawana Country</td>\n",
              "    </tr>\n",
              "    <tr>\n",
              "        <td>406</td>\n",
              "        <td>FedEx</td>\n",
              "    </tr>\n",
              "    <tr>\n",
              "        <td>402</td>\n",
              "        <td>FedEx</td>\n",
              "    </tr>\n",
              "    <tr>\n",
              "        <td>403</td>\n",
              "        <td>John Daly Law, LLC</td>\n",
              "    </tr>\n",
              "</table>"
            ],
            "text/plain": [
              "[(401, 'Lackawana Country'),\n",
              " (406, 'FedEx'),\n",
              " (402, 'FedEx'),\n",
              " (403, 'John Daly Law, LLC')]"
            ]
          },
          "execution_count": 40,
          "metadata": {},
          "output_type": "execute_result"
        }
      ],
      "source": [
        "%%sql\n",
        "select c.client_id, c.client_name \n",
        "from client as c join works_with as ww on c.client_id = ww.client_id\n",
        "where ww.emp_id in (select emp_id from employee where sex = 'M' and salary > 70000)"
      ]
    },
    {
      "attachments": {},
      "cell_type": "markdown",
      "metadata": {
        "id": "fn4sJXdS67Ul"
      },
      "source": [
        "## 25. Get the employee id and full name whose average sales were greater than 70000 "
      ]
    },
    {
      "cell_type": "code",
      "execution_count": 41,
      "metadata": {
        "colab": {
          "base_uri": "https://localhost:8080/",
          "height": 118
        },
        "id": "51UUAswRzIc6",
        "outputId": "c19f94a1-e881-4f68-84c0-3c7d950dcced"
      },
      "outputs": [
        {
          "name": "stdout",
          "output_type": "stream",
          "text": [
            " * sqlite:///cloud.db\n",
            "Done.\n"
          ]
        },
        {
          "data": {
            "text/html": [
              "<table>\n",
              "    <tr>\n",
              "        <th>emp_id</th>\n",
              "        <th>Full_name</th>\n",
              "    </tr>\n",
              "    <tr>\n",
              "        <td>102</td>\n",
              "        <td>Michael Scott</td>\n",
              "    </tr>\n",
              "    <tr>\n",
              "        <td>105</td>\n",
              "        <td>Stanley Hudson</td>\n",
              "    </tr>\n",
              "</table>"
            ],
            "text/plain": [
              "[(102, 'Michael Scott'), (105, 'Stanley Hudson')]"
            ]
          },
          "execution_count": 41,
          "metadata": {},
          "output_type": "execute_result"
        }
      ],
      "source": [
        "%%sql\n",
        "select emp_id, first_name || \" \" || last_name as Full_name \n",
        "from employee \n",
        "where emp_id in (select emp_id from works_with \n",
        "                  group by emp_id \n",
        "                  having avg(total_sales)>70000)"
      ]
    },
    {
      "attachments": {},
      "cell_type": "markdown",
      "metadata": {
        "id": "Y542-mxT-Fc0"
      },
      "source": [
        "## 26. Get the employee id, name of the client for each employee who made maximum sales for the employee. Get the max sales as well, if no client or max sale were present then show none."
      ]
    },
    {
      "cell_type": "code",
      "execution_count": 42,
      "metadata": {
        "colab": {
          "base_uri": "https://localhost:8080/",
          "height": 267
        },
        "id": "Vc4eQ6t26ahr",
        "outputId": "49f0811d-7b7b-41a6-b935-f97b2344547d"
      },
      "outputs": [
        {
          "name": "stdout",
          "output_type": "stream",
          "text": [
            " * sqlite:///cloud.db\n",
            "Done.\n"
          ]
        },
        {
          "data": {
            "text/html": [
              "<table>\n",
              "    <tr>\n",
              "        <th>emp_id</th>\n",
              "        <th>client_name</th>\n",
              "        <th>max_sales</th>\n",
              "    </tr>\n",
              "    <tr>\n",
              "        <td>100</td>\n",
              "        <td>None</td>\n",
              "        <td>None</td>\n",
              "    </tr>\n",
              "    <tr>\n",
              "        <td>101</td>\n",
              "        <td>None</td>\n",
              "        <td>None</td>\n",
              "    </tr>\n",
              "    <tr>\n",
              "        <td>102</td>\n",
              "        <td>Lackawana Country</td>\n",
              "        <td>267000</td>\n",
              "    </tr>\n",
              "    <tr>\n",
              "        <td>103</td>\n",
              "        <td>None</td>\n",
              "        <td>None</td>\n",
              "    </tr>\n",
              "    <tr>\n",
              "        <td>104</td>\n",
              "        <td>None</td>\n",
              "        <td>None</td>\n",
              "    </tr>\n",
              "    <tr>\n",
              "        <td>105</td>\n",
              "        <td>FedEx</td>\n",
              "        <td>130000</td>\n",
              "    </tr>\n",
              "    <tr>\n",
              "        <td>106</td>\n",
              "        <td>None</td>\n",
              "        <td>None</td>\n",
              "    </tr>\n",
              "    <tr>\n",
              "        <td>107</td>\n",
              "        <td>Times Newspaper</td>\n",
              "        <td>26000</td>\n",
              "    </tr>\n",
              "    <tr>\n",
              "        <td>108</td>\n",
              "        <td>FedEx</td>\n",
              "        <td>22500</td>\n",
              "    </tr>\n",
              "</table>"
            ],
            "text/plain": [
              "[(100, None, None),\n",
              " (101, None, None),\n",
              " (102, 'Lackawana Country', 267000),\n",
              " (103, None, None),\n",
              " (104, None, None),\n",
              " (105, 'FedEx', 130000),\n",
              " (106, None, None),\n",
              " (107, 'Times Newspaper', 26000),\n",
              " (108, 'FedEx', 22500)]"
            ]
          },
          "execution_count": 42,
          "metadata": {},
          "output_type": "execute_result"
        }
      ],
      "source": [
        "%%sql\n",
        "\n",
        "with max_sales_data as \n",
        "\t(select emp_id, client_id, max(total_sales) as max_sales\n",
        "\tfrom works_with\n",
        "\tgroup by emp_id)\n",
        "\t\n",
        "select e.emp_id, mscd.client_name, mscd.max_sales\n",
        "from employee as e\n",
        "left join (\n",
        "\t\t\tselect * from max_sales_data as msd\n",
        "\t\t\tinner join client as c\n",
        "\t\t\ton msd.client_id = c.client_id) as mscd\n",
        "          on e.emp_id = mscd.emp_id"
      ]
    },
    {
      "attachments": {},
      "cell_type": "markdown",
      "metadata": {
        "id": "uK-Ms0WigDZ_"
      },
      "source": [
        "## 27. Get the unique branch names whose supply type Paper"
      ]
    },
    {
      "cell_type": "code",
      "execution_count": 44,
      "metadata": {
        "colab": {
          "base_uri": "https://localhost:8080/",
          "height": 118
        },
        "id": "qlg-rfhaeMJA",
        "outputId": "0cb89e16-c7e2-47dc-a6c2-abe8029b2564"
      },
      "outputs": [
        {
          "name": "stdout",
          "output_type": "stream",
          "text": [
            " * sqlite:///cloud.db\n",
            "Done.\n"
          ]
        },
        {
          "data": {
            "text/html": [
              "<table>\n",
              "    <tr>\n",
              "        <th>branch_name</th>\n",
              "    </tr>\n",
              "    <tr>\n",
              "        <td>Scranton</td>\n",
              "    </tr>\n",
              "    <tr>\n",
              "        <td>Stamford</td>\n",
              "    </tr>\n",
              "</table>"
            ],
            "text/plain": [
              "[('Scranton',), ('Stamford',)]"
            ]
          },
          "execution_count": 44,
          "metadata": {},
          "output_type": "execute_result"
        }
      ],
      "source": [
        "%%sql\n",
        "select distinct b.branch_name from branch as b  \n",
        "join branch_supplier as bs on b.branch_id = bs.branch_id\n",
        "where supply_type = 'Paper'"
      ]
    },
    {
      "attachments": {},
      "cell_type": "markdown",
      "metadata": {
        "id": "jEs8ndLfkmBN"
      },
      "source": [
        "## 28. Get the supply types with total sales less than 40000"
      ]
    },
    {
      "cell_type": "code",
      "execution_count": 46,
      "metadata": {
        "colab": {
          "base_uri": "https://localhost:8080/",
          "height": 139
        },
        "id": "NEU8ZVeSjfq3",
        "outputId": "6e3f9e04-3fa5-40bf-b713-332e5eff8c17"
      },
      "outputs": [
        {
          "name": "stdout",
          "output_type": "stream",
          "text": [
            " * sqlite:///cloud.db\n",
            "Done.\n"
          ]
        },
        {
          "data": {
            "text/html": [
              "<table>\n",
              "    <tr>\n",
              "        <th>supply_type</th>\n",
              "    </tr>\n",
              "    <tr>\n",
              "        <td>Paper</td>\n",
              "    </tr>\n",
              "    <tr>\n",
              "        <td>Custom Forms</td>\n",
              "    </tr>\n",
              "    <tr>\n",
              "        <td>Writing Utensils</td>\n",
              "    </tr>\n",
              "</table>"
            ],
            "text/plain": [
              "[('Paper',), ('Custom Forms',), ('Writing Utensils',)]"
            ]
          },
          "execution_count": 46,
          "metadata": {},
          "output_type": "execute_result"
        }
      ],
      "source": [
        "%%sql\n",
        "select distinct bs.supply_type from branch_supplier as bs\n",
        "join client as c on bs.branch_id = c.branch_id\n",
        "join works_with as ww on c.client_id = ww.client_id\n",
        "where ww.total_sales < 40000"
      ]
    },
    {
      "attachments": {},
      "cell_type": "markdown",
      "metadata": {
        "id": "MCMVmfdx7hcm"
      },
      "source": [
        "## 29. Get the employee full names with their average sales"
      ]
    },
    {
      "cell_type": "code",
      "execution_count": 51,
      "metadata": {
        "colab": {
          "base_uri": "https://localhost:8080/",
          "height": 161
        },
        "id": "1JQFcm7U7hnP",
        "outputId": "2407bc00-603c-43c8-c9e3-76d6d0b8d9f1"
      },
      "outputs": [
        {
          "name": "stdout",
          "output_type": "stream",
          "text": [
            " * sqlite:///cloud.db\n",
            "Done.\n"
          ]
        },
        {
          "data": {
            "text/html": [
              "<table>\n",
              "    <tr>\n",
              "        <th>full_name</th>\n",
              "        <th>average_sales</th>\n",
              "    </tr>\n",
              "    <tr>\n",
              "        <td>Andy Bernard</td>\n",
              "        <td>15500.0</td>\n",
              "    </tr>\n",
              "    <tr>\n",
              "        <td>Jim Halpert</td>\n",
              "        <td>17250.0</td>\n",
              "    </tr>\n",
              "    <tr>\n",
              "        <td>Michael Scott</td>\n",
              "        <td>141000.0</td>\n",
              "    </tr>\n",
              "    <tr>\n",
              "        <td>Stanley Hudson</td>\n",
              "        <td>72666.66666666667</td>\n",
              "    </tr>\n",
              "</table>"
            ],
            "text/plain": [
              "[('Andy Bernard', 15500.0),\n",
              " ('Jim Halpert', 17250.0),\n",
              " ('Michael Scott', 141000.0),\n",
              " ('Stanley Hudson', 72666.66666666667)]"
            ]
          },
          "execution_count": 51,
          "metadata": {},
          "output_type": "execute_result"
        }
      ],
      "source": [
        "%%sql\n",
        "select e.first_name || \" \" || e.last_name as full_name, avg(ww.total_sales) as average_sales from employee as e  \n",
        "join works_with as ww on e.emp_id = ww.emp_id\n",
        "group by full_name"
      ]
    },
    {
      "attachments": {},
      "cell_type": "markdown",
      "metadata": {
        "id": "27RFUprROHFA"
      },
      "source": [
        "## 30. Categorize the employees based on salaries into High if the salary is > 1 lakh, Medium id salary is between 60k and 1 lakh and Low if salary is below 60k.\n",
        "\n",
        "#### Note: The output should have employee full name with their salary category."
      ]
    },
    {
      "cell_type": "code",
      "execution_count": 54,
      "metadata": {
        "colab": {
          "base_uri": "https://localhost:8080/",
          "height": 267
        },
        "id": "J-9buPkxMczU",
        "outputId": "4c362e0d-ef12-4faf-bcaa-ed7371f7f34f"
      },
      "outputs": [
        {
          "name": "stdout",
          "output_type": "stream",
          "text": [
            " * sqlite:///cloud.db\n",
            "Done.\n"
          ]
        },
        {
          "data": {
            "text/html": [
              "<table>\n",
              "    <tr>\n",
              "        <th>full_name</th>\n",
              "        <th>Salary_category</th>\n",
              "    </tr>\n",
              "    <tr>\n",
              "        <td>David Wallace</td>\n",
              "        <td>HIGH</td>\n",
              "    </tr>\n",
              "    <tr>\n",
              "        <td>Jan Levinson</td>\n",
              "        <td>HIGH</td>\n",
              "    </tr>\n",
              "    <tr>\n",
              "        <td>Michael Scott</td>\n",
              "        <td>MEDIUM</td>\n",
              "    </tr>\n",
              "    <tr>\n",
              "        <td>Angela Martin</td>\n",
              "        <td>MEDIUM</td>\n",
              "    </tr>\n",
              "    <tr>\n",
              "        <td>Kelly Kapoor</td>\n",
              "        <td>LOW</td>\n",
              "    </tr>\n",
              "    <tr>\n",
              "        <td>Stanley Hudson</td>\n",
              "        <td>MEDIUM</td>\n",
              "    </tr>\n",
              "    <tr>\n",
              "        <td>Josh Porter</td>\n",
              "        <td>MEDIUM</td>\n",
              "    </tr>\n",
              "    <tr>\n",
              "        <td>Andy Bernard</td>\n",
              "        <td>MEDIUM</td>\n",
              "    </tr>\n",
              "    <tr>\n",
              "        <td>Jim Halpert</td>\n",
              "        <td>MEDIUM</td>\n",
              "    </tr>\n",
              "</table>"
            ],
            "text/plain": [
              "[('David Wallace', 'HIGH'),\n",
              " ('Jan Levinson', 'HIGH'),\n",
              " ('Michael Scott', 'MEDIUM'),\n",
              " ('Angela Martin', 'MEDIUM'),\n",
              " ('Kelly Kapoor', 'LOW'),\n",
              " ('Stanley Hudson', 'MEDIUM'),\n",
              " ('Josh Porter', 'MEDIUM'),\n",
              " ('Andy Bernard', 'MEDIUM'),\n",
              " ('Jim Halpert', 'MEDIUM')]"
            ]
          },
          "execution_count": 54,
          "metadata": {},
          "output_type": "execute_result"
        }
      ],
      "source": [
        "%%sql\n",
        "select e.first_name || \" \" || e.last_name as full_name, \n",
        "       case\n",
        "            when e.salary > 100000 then upper('High')\n",
        "            when e.salary between 60000 and 100000 then upper('Medium')\n",
        "            else upper('Low')\n",
        "       end as Salary_category\n",
        "from employee as e  \n"
      ]
    },
    {
      "attachments": {},
      "cell_type": "markdown",
      "metadata": {
        "id": "_c1CmKz1bvXq"
      },
      "source": [
        "## 31. Increment the salaries of employees whole had made sales. Increment by 5% of the total sales made by the employee.\n",
        "#### Note: Dont modify the table, write a select query and put the updated salaries in updated_salaries column and print the employee full name with updated and previous salaries, if no increment is made, show previous salaries."
      ]
    },
    {
      "cell_type": "code",
      "execution_count": 67,
      "metadata": {
        "colab": {
          "base_uri": "https://localhost:8080/",
          "height": 267
        },
        "id": "MiTXvZK1bUBH",
        "outputId": "0c617558-4ad6-40fa-de88-f5e3884286a7"
      },
      "outputs": [
        {
          "name": "stdout",
          "output_type": "stream",
          "text": [
            " * sqlite:///cloud.db\n",
            "Done.\n"
          ]
        },
        {
          "data": {
            "text/html": [
              "<table>\n",
              "    <tr>\n",
              "        <th>full_name</th>\n",
              "        <th>salary</th>\n",
              "        <th>updated_salary</th>\n",
              "    </tr>\n",
              "    <tr>\n",
              "        <td>David Wallace</td>\n",
              "        <td>250000</td>\n",
              "        <td>250000</td>\n",
              "    </tr>\n",
              "    <tr>\n",
              "        <td>Jan Levinson</td>\n",
              "        <td>110000</td>\n",
              "        <td>110000</td>\n",
              "    </tr>\n",
              "    <tr>\n",
              "        <td>Michael Scott</td>\n",
              "        <td>75000</td>\n",
              "        <td>216000.0</td>\n",
              "    </tr>\n",
              "    <tr>\n",
              "        <td>Angela Martin</td>\n",
              "        <td>63000</td>\n",
              "        <td>63000</td>\n",
              "    </tr>\n",
              "    <tr>\n",
              "        <td>Kelly Kapoor</td>\n",
              "        <td>55000</td>\n",
              "        <td>55000</td>\n",
              "    </tr>\n",
              "    <tr>\n",
              "        <td>Stanley Hudson</td>\n",
              "        <td>69000</td>\n",
              "        <td>178000.0</td>\n",
              "    </tr>\n",
              "    <tr>\n",
              "        <td>Josh Porter</td>\n",
              "        <td>78000</td>\n",
              "        <td>78000</td>\n",
              "    </tr>\n",
              "    <tr>\n",
              "        <td>Andy Bernard</td>\n",
              "        <td>65000</td>\n",
              "        <td>80500.0</td>\n",
              "    </tr>\n",
              "    <tr>\n",
              "        <td>Jim Halpert</td>\n",
              "        <td>71000</td>\n",
              "        <td>88250.0</td>\n",
              "    </tr>\n",
              "</table>"
            ],
            "text/plain": [
              "[('David Wallace', 250000, 250000),\n",
              " ('Jan Levinson', 110000, 110000),\n",
              " ('Michael Scott', 75000, 216000.0),\n",
              " ('Angela Martin', 63000, 63000),\n",
              " ('Kelly Kapoor', 55000, 55000),\n",
              " ('Stanley Hudson', 69000, 178000.0),\n",
              " ('Josh Porter', 78000, 78000),\n",
              " ('Andy Bernard', 65000, 80500.0),\n",
              " ('Jim Halpert', 71000, 88250.0)]"
            ]
          },
          "execution_count": 67,
          "metadata": {},
          "output_type": "execute_result"
        }
      ],
      "source": [
        "%%sql \n",
        "select first_name || \" \" || last_name as full_name, salary, \n",
        "case \n",
        "\twhen sales_details.total_emp_sales is not NULL then salary+(0.5*sales_details.total_emp_sales) \n",
        "\telse salary \n",
        "end as updated_salary \n",
        "from employee \n",
        "left join ( \n",
        "\tselect emp_id, sum(total_sales) as total_emp_sales \n",
        "\tfrom works_with \n",
        "\tgroup by emp_id \n",
        ") as sales_details \n",
        "on employee.emp_id = sales_details.emp_id \t"
      ]
    },
    {
      "attachments": {},
      "cell_type": "markdown",
      "metadata": {
        "id": "T5V510gQf_ah"
      },
      "source": [
        "## 32. Get the id and names of the employees who made no sales"
      ]
    },
    {
      "cell_type": "code",
      "execution_count": 61,
      "metadata": {
        "colab": {
          "base_uri": "https://localhost:8080/",
          "height": 182
        },
        "id": "qyz0Dp_4eeSG",
        "outputId": "5f4361c4-3cd9-4d56-d981-1789df82e324"
      },
      "outputs": [
        {
          "name": "stdout",
          "output_type": "stream",
          "text": [
            " * sqlite:///cloud.db\n",
            "Done.\n"
          ]
        },
        {
          "data": {
            "text/html": [
              "<table>\n",
              "    <tr>\n",
              "        <th>emp_id</th>\n",
              "        <th>first_name</th>\n",
              "        <th>last_name</th>\n",
              "    </tr>\n",
              "    <tr>\n",
              "        <td>100</td>\n",
              "        <td>David</td>\n",
              "        <td>Wallace</td>\n",
              "    </tr>\n",
              "    <tr>\n",
              "        <td>101</td>\n",
              "        <td>Jan</td>\n",
              "        <td>Levinson</td>\n",
              "    </tr>\n",
              "    <tr>\n",
              "        <td>103</td>\n",
              "        <td>Angela</td>\n",
              "        <td>Martin</td>\n",
              "    </tr>\n",
              "    <tr>\n",
              "        <td>104</td>\n",
              "        <td>Kelly</td>\n",
              "        <td>Kapoor</td>\n",
              "    </tr>\n",
              "    <tr>\n",
              "        <td>106</td>\n",
              "        <td>Josh</td>\n",
              "        <td>Porter</td>\n",
              "    </tr>\n",
              "</table>"
            ],
            "text/plain": [
              "[(100, 'David', 'Wallace'),\n",
              " (101, 'Jan', 'Levinson'),\n",
              " (103, 'Angela', 'Martin'),\n",
              " (104, 'Kelly', 'Kapoor'),\n",
              " (106, 'Josh', 'Porter')]"
            ]
          },
          "execution_count": 61,
          "metadata": {},
          "output_type": "execute_result"
        }
      ],
      "source": [
        "%%sql\n",
        "select e.emp_id, e.first_name, e.last_name from employee as e  \n",
        "where not e.emp_id in (select distinct emp_id from works_with)"
      ]
    }
  ],
  "metadata": {
    "colab": {
      "provenance": []
    },
    "kernelspec": {
      "display_name": "Python 3 (ipykernel)",
      "language": "python",
      "name": "python3"
    },
    "language_info": {
      "codemirror_mode": {
        "name": "ipython",
        "version": 3
      },
      "file_extension": ".py",
      "mimetype": "text/x-python",
      "name": "python",
      "nbconvert_exporter": "python",
      "pygments_lexer": "ipython3",
      "version": "3.9.7"
    }
  },
  "nbformat": 4,
  "nbformat_minor": 0
}
