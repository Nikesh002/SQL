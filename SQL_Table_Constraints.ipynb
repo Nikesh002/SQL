{
  "cells": [
    {
      "attachments": {},
      "cell_type": "markdown",
      "metadata": {
        "id": "3oX6MvzyC71P"
      },
      "source": [
        "<h1><u><center>Table Constraints</h1></u></center>\n",
        "\n",
        "Constraints are the rules that we can apply on the type of data in a table. That is, we can specify the limit on the type of data that can be stored in a particular column in a table using constraints. \n",
        "\n",
        "![](https://cdn.educba.com/academy/wp-content/uploads/2019/10/SQL-Constraints.png)"
      ]
    },
    {
      "attachments": {},
      "cell_type": "markdown",
      "metadata": {
        "id": "9sbOj4TBccTN"
      },
      "source": [
        "1. <b><u>NOT NULL:</b></u>\n",
        "\n",
        "This constraint tells that we cannot store a null value in a column. That is, if a column is specified as NOT NULL then we will not be able to store null in this particular column any more.\n",
        "\n",
        "Example:<br>\n",
        "CREATE TABLE Student<br>\n",
        "(<br>\n",
        "ID int(6) NOT NULL,<br>\n",
        "ADDRESS varchar(20)<br>\n",
        ");<br>"
      ]
    },
    {
      "attachments": {},
      "cell_type": "markdown",
      "metadata": {
        "id": "DltVAWJOETyl"
      },
      "source": [
        "# `CHECK THIS FOR MORE EXAMPLES`: https://www.w3schools.com/sql/sql_notnull.asp"
      ]
    },
    {
      "attachments": {},
      "cell_type": "markdown",
      "metadata": {
        "id": "-pmNVVD9ZEol"
      },
      "source": [
        "### **DATABASE CREATION AND CONNECTING IT**\n",
        "\n",
        "Run the cell given below for creating a database and connecting it.\n",
        "\n",
        "\n",
        "\n"
      ]
    },
    {
      "cell_type": "code",
      "execution_count": 1,
      "metadata": {
        "colab": {
          "base_uri": "https://localhost:8080/"
        },
        "id": "5jShQbkgu_2Y",
        "outputId": "7eae1ef4-28fc-483e-a581-4219683fbf31"
      },
      "outputs": [
        {
          "name": "stdout",
          "output_type": "stream",
          "text": [
            "Looking in indexes: https://pypi.org/simple, https://us-python.pkg.dev/colab-wheels/public/simple/\n",
            "Collecting SQLAlchemy==1.4.46\n",
            "  Downloading SQLAlchemy-1.4.46-cp39-cp39-manylinux_2_5_x86_64.manylinux1_x86_64.manylinux_2_17_x86_64.manylinux2014_x86_64.whl (1.6 MB)\n",
            "\u001b[2K     \u001b[90m━━━━━━━━━━━━━━━━━━━━━━━━━━━━━━━━━━━━━━━━\u001b[0m \u001b[32m1.6/1.6 MB\u001b[0m \u001b[31m18.9 MB/s\u001b[0m eta \u001b[36m0:00:00\u001b[0m\n",
            "\u001b[?25hRequirement already satisfied: greenlet!=0.4.17 in /usr/local/lib/python3.9/dist-packages (from SQLAlchemy==1.4.46) (2.0.2)\n",
            "Installing collected packages: SQLAlchemy\n",
            "  Attempting uninstall: SQLAlchemy\n",
            "    Found existing installation: SQLAlchemy 2.0.9\n",
            "    Uninstalling SQLAlchemy-2.0.9:\n",
            "      Successfully uninstalled SQLAlchemy-2.0.9\n",
            "Successfully installed SQLAlchemy-1.4.46\n"
          ]
        }
      ],
      "source": [
        "!pip install SQLAlchemy==1.4.46"
      ]
    },
    {
      "cell_type": "code",
      "execution_count": 2,
      "metadata": {
        "id": "-OjGcCwnTmvd"
      },
      "outputs": [],
      "source": [
        "import pandas as pd\n",
        "import sqlite3\n",
        "sql=sqlite3.connect('table_constraints1.db')\n",
        "%reload_ext sql\n",
        "%sql sqlite:///table_constraints1.db"
      ]
    },
    {
      "attachments": {},
      "cell_type": "markdown",
      "metadata": {
        "id": "KQYrCrVH_yXZ"
      },
      "source": [
        "# **`Let's Learn Constraints Now`**"
      ]
    },
    {
      "attachments": {},
      "cell_type": "markdown",
      "metadata": {
        "id": "wuYggkv0djLQ"
      },
      "source": [
        "### 1. Create a table \"Students\" having columns like ID, Name, Class, DOB, etc. using the not null constraint on ID, Name and DOB Column."
      ]
    },
    {
      "cell_type": "code",
      "execution_count": 3,
      "metadata": {
        "colab": {
          "base_uri": "https://localhost:8080/"
        },
        "id": "0XNh-_0vd3Ku",
        "outputId": "a63f8f8c-4a96-4508-e550-32dea8560208"
      },
      "outputs": [
        {
          "name": "stdout",
          "output_type": "stream",
          "text": [
            " * sqlite:///table_constraints1.db\n",
            "Done.\n"
          ]
        },
        {
          "data": {
            "text/plain": [
              "[]"
            ]
          },
          "execution_count": 3,
          "metadata": {},
          "output_type": "execute_result"
        }
      ],
      "source": [
        "%%sql\n",
        "create table Students(ID int(4) not null, Name varchar(30), Class varchar(10), DOB DATE not null)"
      ]
    },
    {
      "attachments": {},
      "cell_type": "markdown",
      "metadata": {
        "id": "18lnkzpKeffX"
      },
      "source": [
        "### 2. Add records in Students table with ID as NULL."
      ]
    },
    {
      "cell_type": "code",
      "execution_count": 4,
      "metadata": {
        "colab": {
          "base_uri": "https://localhost:8080/"
        },
        "id": "99HdNzm6en69",
        "outputId": "6b47cfb5-bc48-4646-b379-aa20ac046ae6"
      },
      "outputs": [
        {
          "name": "stdout",
          "output_type": "stream",
          "text": [
            " * sqlite:///table_constraints1.db\n",
            "(sqlite3.IntegrityError) NOT NULL constraint failed: Students.ID\n",
            "[SQL: insert into Students values(null,'Ajay','8th',22-12-2016)]\n",
            "(Background on this error at: https://sqlalche.me/e/14/gkpj)\n"
          ]
        }
      ],
      "source": [
        "%%sql\n",
        "insert into Students values(null,'Ajay','8th',22-12-2016)"
      ]
    },
    {
      "attachments": {},
      "cell_type": "markdown",
      "metadata": {
        "id": "FlBSui3wgCL3"
      },
      "source": [
        "Hence, you get the error as IntegrityError: (sqlite3.IntegrityError) NOT NULL constraint failed: students.ID\n",
        "\n",
        "### 3. Now add certain records in the students table."
      ]
    },
    {
      "cell_type": "code",
      "execution_count": 5,
      "metadata": {
        "colab": {
          "base_uri": "https://localhost:8080/"
        },
        "id": "VXBbYb8ugRtt",
        "outputId": "30b18c1a-f0aa-42b5-8e5f-4df94bed365c"
      },
      "outputs": [
        {
          "name": "stdout",
          "output_type": "stream",
          "text": [
            " * sqlite:///table_constraints1.db\n",
            "3 rows affected.\n"
          ]
        },
        {
          "data": {
            "text/plain": [
              "[]"
            ]
          },
          "execution_count": 5,
          "metadata": {},
          "output_type": "execute_result"
        }
      ],
      "source": [
        "%%sql\n",
        "insert into students values(1,'Ajay','8th',22-12-2016),(2,\"Mohan\",\"8th\",20-10-2016),(3,\"Teja\",\"8th\",02-12-2016)"
      ]
    },
    {
      "attachments": {},
      "cell_type": "markdown",
      "metadata": {
        "id": "Lpa4sv-Jg3qL"
      },
      "source": [
        "2. <b><u>UNIQUE:</b></u>\n",
        "\n",
        "This constraint helps to uniquely identify each row in the table. i.e. for a particular column, all the rows should have unique values.\n",
        "\n",
        "Example:<br>\n",
        "CREATE TABLE Student<br>\n",
        "(<br>\n",
        "ID int(6) NOT NULL UNIQUE,<br>\n",
        "NAME varchar(10),<br>\n",
        ");<br>"
      ]
    },
    {
      "attachments": {},
      "cell_type": "markdown",
      "metadata": {
        "id": "OU6f3swME6p0"
      },
      "source": [
        "# `CHECK THIS FOR UNIQUE CONSTRAINT`: https://www.w3schools.com/sql/sql_unique.asp"
      ]
    },
    {
      "attachments": {},
      "cell_type": "markdown",
      "metadata": {
        "id": "wBGvfCG1hVl_"
      },
      "source": [
        "### 4. Create a table Teachers having columns ID, Name, Salary, Address by applying the unique constraint on ID and Address Columns."
      ]
    },
    {
      "cell_type": "code",
      "execution_count": 31,
      "metadata": {
        "colab": {
          "base_uri": "https://localhost:8080/"
        },
        "id": "I80F8dLghoz0",
        "outputId": "e2d674a5-546e-4290-c1c4-b917baef0b5f"
      },
      "outputs": [
        {
          "name": "stdout",
          "output_type": "stream",
          "text": [
            " * sqlite:///table_constraints1.db\n",
            "Done.\n"
          ]
        },
        {
          "data": {
            "text/plain": [
              "[]"
            ]
          },
          "execution_count": 31,
          "metadata": {},
          "output_type": "execute_result"
        }
      ],
      "source": [
        "%%sql\n",
        "create table Teachers(ID int(4) unique, Name varchar(30), Salary int(7), Address varchar(30))"
      ]
    },
    {
      "attachments": {},
      "cell_type": "markdown",
      "metadata": {
        "id": "Py9UxUjch9Vb"
      },
      "source": [
        "### 5. Add any record in the teachers table having ID 001."
      ]
    },
    {
      "cell_type": "code",
      "execution_count": 32,
      "metadata": {
        "colab": {
          "base_uri": "https://localhost:8080/"
        },
        "id": "EVLLQ71siF2v",
        "outputId": "e5236454-66f1-43fb-d376-29e56b8daf01"
      },
      "outputs": [
        {
          "name": "stdout",
          "output_type": "stream",
          "text": [
            " * sqlite:///table_constraints1.db\n",
            "1 rows affected.\n"
          ]
        },
        {
          "data": {
            "text/plain": [
              "[]"
            ]
          },
          "execution_count": 32,
          "metadata": {},
          "output_type": "execute_result"
        }
      ],
      "source": [
        "%%sql\n",
        "insert into Teachers values(001,\"Smita\",40000,\"40 Mumbai\")"
      ]
    },
    {
      "attachments": {},
      "cell_type": "markdown",
      "metadata": {
        "id": "9U6eV336iR6D"
      },
      "source": [
        "### 6. Add record having the same ID 001 in teachers table."
      ]
    },
    {
      "cell_type": "code",
      "execution_count": 33,
      "metadata": {
        "colab": {
          "base_uri": "https://localhost:8080/"
        },
        "id": "Nwj-pnC8iXVV",
        "outputId": "65a118ed-51a3-4e19-ca97-31b8ebd2067f"
      },
      "outputs": [
        {
          "name": "stdout",
          "output_type": "stream",
          "text": [
            " * sqlite:///table_constraints1.db\n",
            "(sqlite3.IntegrityError) UNIQUE constraint failed: Teachers.ID\n",
            "[SQL: insert into Teachers values(001,\"Sagar\",35000,\"70 Pune\")]\n",
            "(Background on this error at: https://sqlalche.me/e/14/gkpj)\n"
          ]
        }
      ],
      "source": [
        "%%sql\n",
        "insert into Teachers values(001,\"Sagar\",35000,\"70 Pune\")"
      ]
    },
    {
      "attachments": {},
      "cell_type": "markdown",
      "metadata": {
        "id": "DsBqa5WAie5B"
      },
      "source": [
        "Hence you get the error as IntegrityError: (sqlite3.IntegrityError) UNIQUE constraint failed: teachers.ID which means that non unique values are being inserted in the ID column of teachers table.\n"
      ]
    },
    {
      "attachments": {},
      "cell_type": "markdown",
      "metadata": {
        "id": "BNzrRq0Hi85h"
      },
      "source": [
        "3. <b><u>PRIMARY KEY:</b></u>\n",
        "\n",
        "Primary Key is a field which uniquely identifies each row in the table. If a field in a table as primary key, then the field will not be able to contain NULL values as well as all the rows should have unique values for this field. So, in other words we can say that this is combination of NOT NULL and UNIQUE constraints. \n",
        "A table can have only one field as primary key. \n",
        "\n",
        "Example:<br>\n",
        "CREATE TABLE Student<br>\n",
        "(<br>\n",
        "ID int(6) NOT NULL UNIQUE,<br>\n",
        "NAME varchar(10),<br>\n",
        "PRIMARY KEY(ID)<br>\n",
        ");<br>"
      ]
    },
    {
      "attachments": {},
      "cell_type": "markdown",
      "metadata": {
        "id": "_VrJ04dMFPT6"
      },
      "source": [
        "# `CHECK THIS FOR PRIMARY KEY`: https://www.w3schools.com/sql/sql_primarykey.ASP"
      ]
    },
    {
      "attachments": {},
      "cell_type": "markdown",
      "metadata": {
        "id": "8iXN25G7jvL8"
      },
      "source": [
        "### 7. Create a table Employee having ID, Name, Salary, Designation and ID as the primary key."
      ]
    },
    {
      "cell_type": "code",
      "execution_count": 18,
      "metadata": {
        "colab": {
          "base_uri": "https://localhost:8080/"
        },
        "id": "rkx8JDSEj52q",
        "outputId": "6d3c48ff-47a9-4333-bb62-4767c734ea8a"
      },
      "outputs": [
        {
          "name": "stdout",
          "output_type": "stream",
          "text": [
            " * sqlite:///table_constraints1.db\n",
            "Done.\n"
          ]
        },
        {
          "data": {
            "text/plain": [
              "[]"
            ]
          },
          "execution_count": 18,
          "metadata": {},
          "output_type": "execute_result"
        }
      ],
      "source": [
        "%%sql\n",
        "create table Employee(ID int(4) not null unique, Name varchar(30), Salary int(8), Designation varchar(15), primary key(ID))"
      ]
    },
    {
      "attachments": {},
      "cell_type": "markdown",
      "metadata": {
        "id": "TFpQ9zugkjGj"
      },
      "source": [
        "### 8. Insert any records in the Employee table."
      ]
    },
    {
      "cell_type": "code",
      "execution_count": 19,
      "metadata": {
        "colab": {
          "base_uri": "https://localhost:8080/"
        },
        "id": "sJOWn-HOknO5",
        "outputId": "1af8a4a7-db58-44d1-cfd4-e3bc5461b07d"
      },
      "outputs": [
        {
          "name": "stdout",
          "output_type": "stream",
          "text": [
            " * sqlite:///table_constraints1.db\n",
            "3 rows affected.\n"
          ]
        },
        {
          "data": {
            "text/plain": [
              "[]"
            ]
          },
          "execution_count": 19,
          "metadata": {},
          "output_type": "execute_result"
        }
      ],
      "source": [
        "%%sql\n",
        "insert into Employee values(001,\"Shurti\",40000,\"Data scientist\"),(002,\"Abhishek\",70000,\"Manager\"),(003,\"Vedant\",60000,\"Software engineer\")"
      ]
    },
    {
      "attachments": {},
      "cell_type": "markdown",
      "metadata": {
        "id": "b92Uejukk9SX"
      },
      "source": [
        "### 9. Try inserting null record in ID column."
      ]
    },
    {
      "cell_type": "code",
      "execution_count": 20,
      "metadata": {
        "colab": {
          "base_uri": "https://localhost:8080/"
        },
        "id": "MbzeKON1lEog",
        "outputId": "1c2f768d-e1a5-4a1f-b76e-145852371197"
      },
      "outputs": [
        {
          "name": "stdout",
          "output_type": "stream",
          "text": [
            " * sqlite:///table_constraints1.db\n",
            "(sqlite3.IntegrityError) NOT NULL constraint failed: Employee.ID\n",
            "[SQL: insert into Employee values(NULL,\"Rohit\",40000,\"WEb developer\")]\n",
            "(Background on this error at: https://sqlalche.me/e/14/gkpj)\n"
          ]
        }
      ],
      "source": [
        "%%sql\n",
        "insert into Employee values(NULL,\"Rohit\",40000,\"WEb developer\")"
      ]
    },
    {
      "attachments": {},
      "cell_type": "markdown",
      "metadata": {
        "id": "zuCIqYHrmJF2"
      },
      "source": [
        "Hence an error message popped up saying IntegrityError: (sqlite3.IntegrityError) NOT NULL constraint failed: employee.ID\n"
      ]
    },
    {
      "attachments": {},
      "cell_type": "markdown",
      "metadata": {
        "id": "MfQjC0ButL_S"
      },
      "source": [
        "4. <b><u>FOREIGN KEY:</b></u>\n",
        "\n",
        "Foreign Key is a field in a table which uniquely identifies each row of a another table. That is, this field points to primary key of another table.\n",
        "\n",
        "\n"
      ]
    },
    {
      "attachments": {},
      "cell_type": "markdown",
      "metadata": {
        "id": "ruaDNIlcFjb3"
      },
      "source": [
        "# `CHECK THIS FOR FOREIGN KEY`: https://www.w3schools.com/sql/sql_foreignkey.asp"
      ]
    },
    {
      "attachments": {},
      "cell_type": "markdown",
      "metadata": {
        "id": "EGNnzYGbF3GF"
      },
      "source": [
        "### 10. Create a table teacher1 having various columns t_ID, Name, Subject, Salary and t_ID as Primary key."
      ]
    },
    {
      "cell_type": "code",
      "execution_count": 21,
      "metadata": {
        "colab": {
          "base_uri": "https://localhost:8080/"
        },
        "id": "V7GAB9sAtv7q",
        "outputId": "4d96a4c5-d80d-4cf3-9ec9-0d4fe0208d6a"
      },
      "outputs": [
        {
          "name": "stdout",
          "output_type": "stream",
          "text": [
            " * sqlite:///table_constraints1.db\n",
            "Done.\n"
          ]
        },
        {
          "data": {
            "text/plain": [
              "[]"
            ]
          },
          "execution_count": 21,
          "metadata": {},
          "output_type": "execute_result"
        }
      ],
      "source": [
        "%%sql\n",
        "create table teacher1(t_ID int(4) not null unique, Name varchar(30), Subject varchar(10), Salary int(7), primary key(t_ID))"
      ]
    },
    {
      "attachments": {},
      "cell_type": "markdown",
      "metadata": {
        "id": "YwTjgt_Ku4if"
      },
      "source": [
        "### 11. Create a table students1 having columns s_ID, Name, class, t_ID and keep s_ID as Primary key."
      ]
    },
    {
      "cell_type": "code",
      "execution_count": 22,
      "metadata": {
        "colab": {
          "base_uri": "https://localhost:8080/"
        },
        "id": "7RniVKR5u_fr",
        "outputId": "2783aef0-a6f3-4e04-cd29-c4da5487b3e9"
      },
      "outputs": [
        {
          "name": "stdout",
          "output_type": "stream",
          "text": [
            " * sqlite:///table_constraints1.db\n",
            "Done.\n"
          ]
        },
        {
          "data": {
            "text/plain": [
              "[]"
            ]
          },
          "execution_count": 22,
          "metadata": {},
          "output_type": "execute_result"
        }
      ],
      "source": [
        "%%sql\n",
        "create table students1(s_ID int(4), Name varchar(30), Class varchar(10), t_ID int(4), primary key(s_ID))"
      ]
    },
    {
      "attachments": {},
      "cell_type": "markdown",
      "metadata": {
        "id": "5lVyqM9MvW9U"
      },
      "source": [
        "From the above tables we can observe that the teacher's ID is also a column in the students table. Hence teacher's ID is a foreign key in the students table as it is the primary key in the teachers table and has been referenced in students table."
      ]
    },
    {
      "attachments": {},
      "cell_type": "markdown",
      "metadata": {
        "id": "-xP1SiqWwEkZ"
      },
      "source": [
        "5. <b><u>CHECK:</b></u>\n",
        "\n",
        "Using the CHECK constraint we can specify a condition for a field, which should be satisfied at the time of entering values for this field.\n",
        "\n",
        "Example:<br>\n",
        "CREATE TABLE Student<br>\n",
        "(<br>\n",
        "ID int(6) NOT NULL,<br>\n",
        "AGE int NOT NULL CHECK (AGE >= 18)<br>\n",
        ");"
      ]
    },
    {
      "attachments": {},
      "cell_type": "markdown",
      "metadata": {
        "id": "40BsS2cZGBcQ"
      },
      "source": [
        "# `CHECK THIS FOR CHECK CONSTRAINT`: https://www.w3schools.com/sql/sql_check.asp"
      ]
    },
    {
      "attachments": {},
      "cell_type": "markdown",
      "metadata": {
        "id": "M6eHqaacwjER"
      },
      "source": [
        "### 12. Create a table students2 having columns s_ID, Name, Marks. Use check constraint in marks column, restrict marks to 35."
      ]
    },
    {
      "cell_type": "code",
      "execution_count": 23,
      "metadata": {
        "colab": {
          "base_uri": "https://localhost:8080/"
        },
        "id": "M-igrQRbw1ku",
        "outputId": "e9547f18-f7f5-48fb-d2b0-da6fff686295"
      },
      "outputs": [
        {
          "name": "stdout",
          "output_type": "stream",
          "text": [
            " * sqlite:///table_constraints1.db\n",
            "Done.\n"
          ]
        },
        {
          "data": {
            "text/plain": [
              "[]"
            ]
          },
          "execution_count": 23,
          "metadata": {},
          "output_type": "execute_result"
        }
      ],
      "source": [
        "%%sql\n",
        "create table students2(s_ID int(4) not null unique, Name varchar(30), Marks int(4) check(Marks>=35))"
      ]
    },
    {
      "attachments": {},
      "cell_type": "markdown",
      "metadata": {
        "id": "if_FwnTKxMrr"
      },
      "source": [
        "Here we created a table that accepts values of marks column only whose value is greater than equal to 35. \n",
        "\n",
        "### 13. Insert record into the students2 table by violating the check constraint (enter 25 marks)."
      ]
    },
    {
      "cell_type": "code",
      "execution_count": 24,
      "metadata": {
        "colab": {
          "base_uri": "https://localhost:8080/"
        },
        "id": "vsLUMTIPxfG3",
        "outputId": "a8072d5b-ec31-4215-efdc-0b2c49c2a94b"
      },
      "outputs": [
        {
          "name": "stdout",
          "output_type": "stream",
          "text": [
            " * sqlite:///table_constraints1.db\n",
            "(sqlite3.IntegrityError) CHECK constraint failed: students2\n",
            "[SQL: insert into students2 values(111,\"Simran\",25)]\n",
            "(Background on this error at: https://sqlalche.me/e/14/gkpj)\n"
          ]
        }
      ],
      "source": [
        "%%sql\n",
        "insert into students2 values(111,\"Simran\",25)"
      ]
    },
    {
      "attachments": {},
      "cell_type": "markdown",
      "metadata": {
        "id": "v1BISio-xtH3"
      },
      "source": [
        "Hence you get ann error which says IntegrityError: (sqlite3.IntegrityError) CHECK constraint failed: students2 this means that the value passed in the marks column is not as specified in the check constraint.\n",
        "\n",
        "### 14. Insert correct records in the students2 table (having marks greater than 35).\n"
      ]
    },
    {
      "cell_type": "code",
      "execution_count": 25,
      "metadata": {
        "colab": {
          "base_uri": "https://localhost:8080/"
        },
        "id": "tO_YGLLYx8eE",
        "outputId": "403f043e-9317-4e0d-9e57-4c65266783da"
      },
      "outputs": [
        {
          "name": "stdout",
          "output_type": "stream",
          "text": [
            " * sqlite:///table_constraints1.db\n",
            "3 rows affected.\n"
          ]
        },
        {
          "data": {
            "text/plain": [
              "[]"
            ]
          },
          "execution_count": 25,
          "metadata": {},
          "output_type": "execute_result"
        }
      ],
      "source": [
        "%%sql\n",
        "insert into students2 values(112,\"Harsh\",70),(113,\"Tanuja\",50),(114,\"Vedant\",45)"
      ]
    },
    {
      "attachments": {},
      "cell_type": "markdown",
      "metadata": {
        "id": "sm9zyNUSyIjC"
      },
      "source": [
        "6. <b><u>DEFAULT</b></u>\n",
        "\n",
        "This constraint is used to provide a default value for the fields. \n",
        "\n",
        "\n",
        "Example:<br>\n",
        "CREATE TABLE Student<br>\n",
        "(<br>\n",
        "ID int(6) NOT NULL,<br>\n",
        "AGE int DEFAULT 18<br>\n",
        ");\n",
        "\n"
      ]
    },
    {
      "attachments": {},
      "cell_type": "markdown",
      "metadata": {
        "id": "fw9qNfBcGILv"
      },
      "source": [
        "# `CHECK THIS FOR DEFAULT CONSTRAINT`: https://www.w3schools.com/sql/sql_check.asp"
      ]
    },
    {
      "attachments": {},
      "cell_type": "markdown",
      "metadata": {
        "id": "FPuCdC16GRSM"
      },
      "source": [
        "### 15. Create a table customer having c_ID, Name, Country with default country name as \"India\"."
      ]
    },
    {
      "cell_type": "code",
      "execution_count": 26,
      "metadata": {
        "colab": {
          "base_uri": "https://localhost:8080/"
        },
        "id": "1c_X9GR_yrNv",
        "outputId": "dda8d2d6-aa0b-482b-c387-af155101e8be"
      },
      "outputs": [
        {
          "name": "stdout",
          "output_type": "stream",
          "text": [
            " * sqlite:///table_constraints1.db\n",
            "Done.\n"
          ]
        },
        {
          "data": {
            "text/plain": [
              "[]"
            ]
          },
          "execution_count": 26,
          "metadata": {},
          "output_type": "execute_result"
        }
      ],
      "source": [
        "%%sql\n",
        "create table customer(c_ID int, Name varchar(30), Country varchar(15) default \"India\")"
      ]
    },
    {
      "attachments": {},
      "cell_type": "markdown",
      "metadata": {
        "id": "48Jy2nNky31w"
      },
      "source": [
        "### 16. Insert record in customer table leaving the country value empty and visualize the record using select statement."
      ]
    },
    {
      "cell_type": "code",
      "execution_count": 28,
      "metadata": {
        "colab": {
          "base_uri": "https://localhost:8080/"
        },
        "id": "mp_GHEH1y-1U",
        "outputId": "2e7cf726-e309-4c89-a2b5-3dd14ea54f07"
      },
      "outputs": [
        {
          "name": "stdout",
          "output_type": "stream",
          "text": [
            " * sqlite:///table_constraints1.db\n",
            "1 rows affected.\n"
          ]
        },
        {
          "data": {
            "text/plain": [
              "[]"
            ]
          },
          "execution_count": 28,
          "metadata": {},
          "output_type": "execute_result"
        }
      ],
      "source": [
        "%%sql\n",
        "insert into customer(c_ID,Name) values(5,\"Rakesh\")"
      ]
    },
    {
      "cell_type": "code",
      "execution_count": 29,
      "metadata": {
        "colab": {
          "base_uri": "https://localhost:8080/",
          "height": 96
        },
        "id": "iuSYYl_QzHQl",
        "outputId": "0fc079ea-a7f3-4b75-f79f-102650b20f10"
      },
      "outputs": [
        {
          "name": "stdout",
          "output_type": "stream",
          "text": [
            " * sqlite:///table_constraints1.db\n",
            "Done.\n"
          ]
        },
        {
          "data": {
            "text/html": [
              "<table>\n",
              "    <tr>\n",
              "        <th>c_ID</th>\n",
              "        <th>Name</th>\n",
              "        <th>Country</th>\n",
              "    </tr>\n",
              "    <tr>\n",
              "        <td>5</td>\n",
              "        <td>Rakesh</td>\n",
              "        <td>India</td>\n",
              "    </tr>\n",
              "</table>"
            ],
            "text/plain": [
              "[(5, 'Rakesh', 'India')]"
            ]
          },
          "execution_count": 29,
          "metadata": {},
          "output_type": "execute_result"
        }
      ],
      "source": [
        "%%sql\n",
        "select * from customer"
      ]
    },
    {
      "attachments": {},
      "cell_type": "markdown",
      "metadata": {
        "id": "Vou254IIzyGX"
      },
      "source": [
        "Hence yoy can see that even when the country name is not inserted in the query, it is by default added to the table."
      ]
    },
    {
      "attachments": {},
      "cell_type": "markdown",
      "metadata": {
        "id": "2_J_ePCr2vQM"
      },
      "source": [
        "<b>Congratulations !! You Have Just completed an assignment!!</b>\n",
        "\n",
        "![](https://sayingimages.com/wp-content/uploads/a-man-like-a-gay-congratulations-meme.jpg)\n",
        "\n",
        "# **FEEDBACK FORM**"
      ]
    }
  ],
  "metadata": {
    "colab": {
      "provenance": []
    },
    "kernelspec": {
      "display_name": "Python 3",
      "name": "python3"
    },
    "language_info": {
      "name": "python"
    }
  },
  "nbformat": 4,
  "nbformat_minor": 0
}
